{
    "cells": [
        {
            "cell_type": "markdown",
            "metadata": {},
            "source": [
                "# Importing Libraries"
            ]
        },
        {
            "cell_type": "code",
            "execution_count": 6,
            "metadata": {},
            "outputs": [],
            "source": [
                "import pandas as pd\n",
                "import numpy as np\n",
                "import seaborn as sns\n",
                "import matplotlib.pyplot as plt\n",
                "\n",
                "import warnings \n",
                "warnings.filterwarnings('ignore')\n",
                "\n",
                "import os"
            ]
        },
        {
            "cell_type": "code",
            "execution_count": 7,
            "metadata": {},
            "outputs": [
                {
                    "data": {
                        "text/html": [
                            "<div>\n",
                            "<style scoped>\n",
                            "    .dataframe tbody tr th:only-of-type {\n",
                            "        vertical-align: middle;\n",
                            "    }\n",
                            "\n",
                            "    .dataframe tbody tr th {\n",
                            "        vertical-align: top;\n",
                            "    }\n",
                            "\n",
                            "    .dataframe thead th {\n",
                            "        text-align: right;\n",
                            "    }\n",
                            "</style>\n",
                            "<table border=\"1\" class=\"dataframe\">\n",
                            "  <thead>\n",
                            "    <tr style=\"text-align: right;\">\n",
                            "      <th></th>\n",
                            "      <th>Serial No.</th>\n",
                            "      <th>GRE Score</th>\n",
                            "      <th>TOEFL Score</th>\n",
                            "      <th>University Rating</th>\n",
                            "      <th>SOP</th>\n",
                            "      <th>LOR</th>\n",
                            "      <th>CGPA</th>\n",
                            "      <th>Research</th>\n",
                            "      <th>Chance of Admit</th>\n",
                            "    </tr>\n",
                            "  </thead>\n",
                            "  <tbody>\n",
                            "    <tr>\n",
                            "      <th>0</th>\n",
                            "      <td>1</td>\n",
                            "      <td>337</td>\n",
                            "      <td>118</td>\n",
                            "      <td>4</td>\n",
                            "      <td>4.5</td>\n",
                            "      <td>4.5</td>\n",
                            "      <td>9.65</td>\n",
                            "      <td>1</td>\n",
                            "      <td>0.92</td>\n",
                            "    </tr>\n",
                            "    <tr>\n",
                            "      <th>1</th>\n",
                            "      <td>2</td>\n",
                            "      <td>324</td>\n",
                            "      <td>107</td>\n",
                            "      <td>4</td>\n",
                            "      <td>4.0</td>\n",
                            "      <td>4.5</td>\n",
                            "      <td>8.87</td>\n",
                            "      <td>1</td>\n",
                            "      <td>0.76</td>\n",
                            "    </tr>\n",
                            "    <tr>\n",
                            "      <th>2</th>\n",
                            "      <td>3</td>\n",
                            "      <td>316</td>\n",
                            "      <td>104</td>\n",
                            "      <td>3</td>\n",
                            "      <td>3.0</td>\n",
                            "      <td>3.5</td>\n",
                            "      <td>8.00</td>\n",
                            "      <td>1</td>\n",
                            "      <td>0.72</td>\n",
                            "    </tr>\n",
                            "    <tr>\n",
                            "      <th>3</th>\n",
                            "      <td>4</td>\n",
                            "      <td>322</td>\n",
                            "      <td>110</td>\n",
                            "      <td>3</td>\n",
                            "      <td>3.5</td>\n",
                            "      <td>2.5</td>\n",
                            "      <td>8.67</td>\n",
                            "      <td>1</td>\n",
                            "      <td>0.80</td>\n",
                            "    </tr>\n",
                            "    <tr>\n",
                            "      <th>4</th>\n",
                            "      <td>5</td>\n",
                            "      <td>314</td>\n",
                            "      <td>103</td>\n",
                            "      <td>2</td>\n",
                            "      <td>2.0</td>\n",
                            "      <td>3.0</td>\n",
                            "      <td>8.21</td>\n",
                            "      <td>0</td>\n",
                            "      <td>0.65</td>\n",
                            "    </tr>\n",
                            "  </tbody>\n",
                            "</table>\n",
                            "</div>"
                        ],
                        "text/plain": [
                            "   Serial No.  GRE Score  TOEFL Score  University Rating  SOP  LOR   CGPA  \\\n",
                            "0           1        337          118                  4  4.5   4.5  9.65   \n",
                            "1           2        324          107                  4  4.0   4.5  8.87   \n",
                            "2           3        316          104                  3  3.0   3.5  8.00   \n",
                            "3           4        322          110                  3  3.5   2.5  8.67   \n",
                            "4           5        314          103                  2  2.0   3.0  8.21   \n",
                            "\n",
                            "   Research  Chance of Admit   \n",
                            "0         1              0.92  \n",
                            "1         1              0.76  \n",
                            "2         1              0.72  \n",
                            "3         1              0.80  \n",
                            "4         0              0.65  "
                        ]
                    },
                    "execution_count": 7,
                    "metadata": {},
                    "output_type": "execute_result"
                }
            ],
            "source": [
                "df = pd.read_csv('https://d2beiqkhq929f0.cloudfront.net/public_assets/assets/000/001/839/original/Jamboree_Admission.csv')\n",
                "df.head()"
            ]
        },
        {
            "cell_type": "markdown",
            "metadata": {},
            "source": [
                "## Descriptive Stats"
            ]
        },
        {
            "cell_type": "code",
            "execution_count": 8,
            "metadata": {},
            "outputs": [
                {
                    "name": "stdout",
                    "output_type": "stream",
                    "text": [
                        "<class 'pandas.core.frame.DataFrame'>\n",
                        "RangeIndex: 500 entries, 0 to 499\n",
                        "Data columns (total 9 columns):\n",
                        " #   Column             Non-Null Count  Dtype  \n",
                        "---  ------             --------------  -----  \n",
                        " 0   Serial No.         500 non-null    int64  \n",
                        " 1   GRE Score          500 non-null    int64  \n",
                        " 2   TOEFL Score        500 non-null    int64  \n",
                        " 3   University Rating  500 non-null    int64  \n",
                        " 4   SOP                500 non-null    float64\n",
                        " 5   LOR                500 non-null    float64\n",
                        " 6   CGPA               500 non-null    float64\n",
                        " 7   Research           500 non-null    int64  \n",
                        " 8   Chance of Admit    500 non-null    float64\n",
                        "dtypes: float64(4), int64(5)\n",
                        "memory usage: 35.3 KB\n"
                    ]
                }
            ],
            "source": [
                "df.info()"
            ]
        },
        {
            "cell_type": "code",
            "execution_count": 9,
            "metadata": {},
            "outputs": [
                {
                    "data": {
                        "text/html": [
                            "<div>\n",
                            "<style scoped>\n",
                            "    .dataframe tbody tr th:only-of-type {\n",
                            "        vertical-align: middle;\n",
                            "    }\n",
                            "\n",
                            "    .dataframe tbody tr th {\n",
                            "        vertical-align: top;\n",
                            "    }\n",
                            "\n",
                            "    .dataframe thead th {\n",
                            "        text-align: right;\n",
                            "    }\n",
                            "</style>\n",
                            "<table border=\"1\" class=\"dataframe\">\n",
                            "  <thead>\n",
                            "    <tr style=\"text-align: right;\">\n",
                            "      <th></th>\n",
                            "      <th>Serial No.</th>\n",
                            "      <th>GRE Score</th>\n",
                            "      <th>TOEFL Score</th>\n",
                            "      <th>University Rating</th>\n",
                            "      <th>SOP</th>\n",
                            "      <th>LOR</th>\n",
                            "      <th>CGPA</th>\n",
                            "      <th>Research</th>\n",
                            "      <th>Chance of Admit</th>\n",
                            "    </tr>\n",
                            "  </thead>\n",
                            "  <tbody>\n",
                            "    <tr>\n",
                            "      <th>count</th>\n",
                            "      <td>500.000000</td>\n",
                            "      <td>500.000000</td>\n",
                            "      <td>500.000000</td>\n",
                            "      <td>500.000000</td>\n",
                            "      <td>500.000000</td>\n",
                            "      <td>500.00000</td>\n",
                            "      <td>500.000000</td>\n",
                            "      <td>500.000000</td>\n",
                            "      <td>500.00000</td>\n",
                            "    </tr>\n",
                            "    <tr>\n",
                            "      <th>mean</th>\n",
                            "      <td>250.500000</td>\n",
                            "      <td>316.472000</td>\n",
                            "      <td>107.192000</td>\n",
                            "      <td>3.114000</td>\n",
                            "      <td>3.374000</td>\n",
                            "      <td>3.48400</td>\n",
                            "      <td>8.576440</td>\n",
                            "      <td>0.560000</td>\n",
                            "      <td>0.72174</td>\n",
                            "    </tr>\n",
                            "    <tr>\n",
                            "      <th>std</th>\n",
                            "      <td>144.481833</td>\n",
                            "      <td>11.295148</td>\n",
                            "      <td>6.081868</td>\n",
                            "      <td>1.143512</td>\n",
                            "      <td>0.991004</td>\n",
                            "      <td>0.92545</td>\n",
                            "      <td>0.604813</td>\n",
                            "      <td>0.496884</td>\n",
                            "      <td>0.14114</td>\n",
                            "    </tr>\n",
                            "    <tr>\n",
                            "      <th>min</th>\n",
                            "      <td>1.000000</td>\n",
                            "      <td>290.000000</td>\n",
                            "      <td>92.000000</td>\n",
                            "      <td>1.000000</td>\n",
                            "      <td>1.000000</td>\n",
                            "      <td>1.00000</td>\n",
                            "      <td>6.800000</td>\n",
                            "      <td>0.000000</td>\n",
                            "      <td>0.34000</td>\n",
                            "    </tr>\n",
                            "    <tr>\n",
                            "      <th>25%</th>\n",
                            "      <td>125.750000</td>\n",
                            "      <td>308.000000</td>\n",
                            "      <td>103.000000</td>\n",
                            "      <td>2.000000</td>\n",
                            "      <td>2.500000</td>\n",
                            "      <td>3.00000</td>\n",
                            "      <td>8.127500</td>\n",
                            "      <td>0.000000</td>\n",
                            "      <td>0.63000</td>\n",
                            "    </tr>\n",
                            "    <tr>\n",
                            "      <th>50%</th>\n",
                            "      <td>250.500000</td>\n",
                            "      <td>317.000000</td>\n",
                            "      <td>107.000000</td>\n",
                            "      <td>3.000000</td>\n",
                            "      <td>3.500000</td>\n",
                            "      <td>3.50000</td>\n",
                            "      <td>8.560000</td>\n",
                            "      <td>1.000000</td>\n",
                            "      <td>0.72000</td>\n",
                            "    </tr>\n",
                            "    <tr>\n",
                            "      <th>75%</th>\n",
                            "      <td>375.250000</td>\n",
                            "      <td>325.000000</td>\n",
                            "      <td>112.000000</td>\n",
                            "      <td>4.000000</td>\n",
                            "      <td>4.000000</td>\n",
                            "      <td>4.00000</td>\n",
                            "      <td>9.040000</td>\n",
                            "      <td>1.000000</td>\n",
                            "      <td>0.82000</td>\n",
                            "    </tr>\n",
                            "    <tr>\n",
                            "      <th>max</th>\n",
                            "      <td>500.000000</td>\n",
                            "      <td>340.000000</td>\n",
                            "      <td>120.000000</td>\n",
                            "      <td>5.000000</td>\n",
                            "      <td>5.000000</td>\n",
                            "      <td>5.00000</td>\n",
                            "      <td>9.920000</td>\n",
                            "      <td>1.000000</td>\n",
                            "      <td>0.97000</td>\n",
                            "    </tr>\n",
                            "  </tbody>\n",
                            "</table>\n",
                            "</div>"
                        ],
                        "text/plain": [
                            "       Serial No.   GRE Score  TOEFL Score  University Rating         SOP  \\\n",
                            "count  500.000000  500.000000   500.000000         500.000000  500.000000   \n",
                            "mean   250.500000  316.472000   107.192000           3.114000    3.374000   \n",
                            "std    144.481833   11.295148     6.081868           1.143512    0.991004   \n",
                            "min      1.000000  290.000000    92.000000           1.000000    1.000000   \n",
                            "25%    125.750000  308.000000   103.000000           2.000000    2.500000   \n",
                            "50%    250.500000  317.000000   107.000000           3.000000    3.500000   \n",
                            "75%    375.250000  325.000000   112.000000           4.000000    4.000000   \n",
                            "max    500.000000  340.000000   120.000000           5.000000    5.000000   \n",
                            "\n",
                            "            LOR         CGPA    Research  Chance of Admit   \n",
                            "count  500.00000  500.000000  500.000000         500.00000  \n",
                            "mean     3.48400    8.576440    0.560000           0.72174  \n",
                            "std      0.92545    0.604813    0.496884           0.14114  \n",
                            "min      1.00000    6.800000    0.000000           0.34000  \n",
                            "25%      3.00000    8.127500    0.000000           0.63000  \n",
                            "50%      3.50000    8.560000    1.000000           0.72000  \n",
                            "75%      4.00000    9.040000    1.000000           0.82000  \n",
                            "max      5.00000    9.920000    1.000000           0.97000  "
                        ]
                    },
                    "execution_count": 9,
                    "metadata": {},
                    "output_type": "execute_result"
                }
            ],
            "source": [
                "df.describe()"
            ]
        },
        {
            "cell_type": "code",
            "execution_count": 10,
            "metadata": {},
            "outputs": [
                {
                    "data": {
                        "text/plain": [
                            "Serial No.           0\n",
                            "GRE Score            0\n",
                            "TOEFL Score          0\n",
                            "University Rating    0\n",
                            "SOP                  0\n",
                            "LOR                  0\n",
                            "CGPA                 0\n",
                            "Research             0\n",
                            "Chance of Admit      0\n",
                            "dtype: int64"
                        ]
                    },
                    "execution_count": 10,
                    "metadata": {},
                    "output_type": "execute_result"
                }
            ],
            "source": [
                "df.isnull().sum()"
            ]
        },
        {
            "cell_type": "code",
            "execution_count": 11,
            "metadata": {},
            "outputs": [],
            "source": [
                "## Univariate Analysis"
            ]
        },
        {
            "cell_type": "code",
            "execution_count": 37,
            "metadata": {},
            "outputs": [],
            "source": [
                "def plot_histogram(df):\n",
                "    \"\"\"To Plot the histogram of the continuous feature\"\"\"\n",
                "    print(df.describe())\n",
                "    plt.figure(figsize=(10,6))\n",
                "    plt.title(f'Datapoint distribution of {df.name}')\n",
                "    sns.distplot(df)\n",
                "\n",
                "\n",
                "def plot_countplot(df):\n",
                "    \"\"\"To plot bargraph to get the count of each score feature\"\"\"\n",
                "    print(df.describe())\n",
                "    plt.figure(figsize=(10,6))\n",
                "    plt.title(f'Datapoint distribution of {df.name}')\n",
                "    sns.countplot(df)"
            ]
        },
        {
            "cell_type": "code",
            "execution_count": 32,
            "metadata": {},
            "outputs": [
                {
                    "name": "stdout",
                    "output_type": "stream",
                    "text": [
                        "count    500.000000\n",
                        "mean     316.472000\n",
                        "std       11.295148\n",
                        "min      290.000000\n",
                        "25%      308.000000\n",
                        "50%      317.000000\n",
                        "75%      325.000000\n",
                        "max      340.000000\n",
                        "Name: GRE Score, dtype: float64\n"
                    ]
                },
                {
                    "data": {
                        "image/png": "[encoded data removed]",
                        "text/plain": [
                            "<Figure size 720x432 with 1 Axes>"
                        ]
                    },
                    "metadata": {
                        "needs_background": "light"
                    },
                    "output_type": "display_data"
                }
            ],
            "source": [
                "plot_histogram(df['GRE Score'])"
            ]
        },
        {
            "cell_type": "code",
            "execution_count": 33,
            "metadata": {},
            "outputs": [
                {
                    "data": {
                        "text/html": [
                            "<div>\n",
                            "<style scoped>\n",
                            "    .dataframe tbody tr th:only-of-type {\n",
                            "        vertical-align: middle;\n",
                            "    }\n",
                            "\n",
                            "    .dataframe tbody tr th {\n",
                            "        vertical-align: top;\n",
                            "    }\n",
                            "\n",
                            "    .dataframe thead th {\n",
                            "        text-align: right;\n",
                            "    }\n",
                            "</style>\n",
                            "<table border=\"1\" class=\"dataframe\">\n",
                            "  <thead>\n",
                            "    <tr style=\"text-align: right;\">\n",
                            "      <th></th>\n",
                            "      <th>Serial No.</th>\n",
                            "      <th>GRE Score</th>\n",
                            "      <th>TOEFL Score</th>\n",
                            "      <th>University Rating</th>\n",
                            "      <th>SOP</th>\n",
                            "      <th>LOR</th>\n",
                            "      <th>CGPA</th>\n",
                            "      <th>Research</th>\n",
                            "      <th>Chance of Admit</th>\n",
                            "    </tr>\n",
                            "  </thead>\n",
                            "  <tbody>\n",
                            "    <tr>\n",
                            "      <th>0</th>\n",
                            "      <td>1</td>\n",
                            "      <td>337</td>\n",
                            "      <td>118</td>\n",
                            "      <td>4</td>\n",
                            "      <td>4.5</td>\n",
                            "      <td>4.5</td>\n",
                            "      <td>9.65</td>\n",
                            "      <td>1</td>\n",
                            "      <td>0.92</td>\n",
                            "    </tr>\n",
                            "    <tr>\n",
                            "      <th>1</th>\n",
                            "      <td>2</td>\n",
                            "      <td>324</td>\n",
                            "      <td>107</td>\n",
                            "      <td>4</td>\n",
                            "      <td>4.0</td>\n",
                            "      <td>4.5</td>\n",
                            "      <td>8.87</td>\n",
                            "      <td>1</td>\n",
                            "      <td>0.76</td>\n",
                            "    </tr>\n",
                            "    <tr>\n",
                            "      <th>2</th>\n",
                            "      <td>3</td>\n",
                            "      <td>316</td>\n",
                            "      <td>104</td>\n",
                            "      <td>3</td>\n",
                            "      <td>3.0</td>\n",
                            "      <td>3.5</td>\n",
                            "      <td>8.00</td>\n",
                            "      <td>1</td>\n",
                            "      <td>0.72</td>\n",
                            "    </tr>\n",
                            "    <tr>\n",
                            "      <th>3</th>\n",
                            "      <td>4</td>\n",
                            "      <td>322</td>\n",
                            "      <td>110</td>\n",
                            "      <td>3</td>\n",
                            "      <td>3.5</td>\n",
                            "      <td>2.5</td>\n",
                            "      <td>8.67</td>\n",
                            "      <td>1</td>\n",
                            "      <td>0.80</td>\n",
                            "    </tr>\n",
                            "    <tr>\n",
                            "      <th>4</th>\n",
                            "      <td>5</td>\n",
                            "      <td>314</td>\n",
                            "      <td>103</td>\n",
                            "      <td>2</td>\n",
                            "      <td>2.0</td>\n",
                            "      <td>3.0</td>\n",
                            "      <td>8.21</td>\n",
                            "      <td>0</td>\n",
                            "      <td>0.65</td>\n",
                            "    </tr>\n",
                            "  </tbody>\n",
                            "</table>\n",
                            "</div>"
                        ],
                        "text/plain": [
                            "   Serial No.  GRE Score  TOEFL Score  University Rating  SOP  LOR   CGPA  \\\n",
                            "0           1        337          118                  4  4.5   4.5  9.65   \n",
                            "1           2        324          107                  4  4.0   4.5  8.87   \n",
                            "2           3        316          104                  3  3.0   3.5  8.00   \n",
                            "3           4        322          110                  3  3.5   2.5  8.67   \n",
                            "4           5        314          103                  2  2.0   3.0  8.21   \n",
                            "\n",
                            "   Research  Chance of Admit   \n",
                            "0         1              0.92  \n",
                            "1         1              0.76  \n",
                            "2         1              0.72  \n",
                            "3         1              0.80  \n",
                            "4         0              0.65  "
                        ]
                    },
                    "execution_count": 33,
                    "metadata": {},
                    "output_type": "execute_result"
                }
            ],
            "source": []
        },
        {
            "cell_type": "code",
            "execution_count": 34,
            "metadata": {},
            "outputs": [
                {
                    "name": "stdout",
                    "output_type": "stream",
                    "text": [
                        "count    500.000000\n",
                        "mean     107.192000\n",
                        "std        6.081868\n",
                        "min       92.000000\n",
                        "25%      103.000000\n",
                        "50%      107.000000\n",
                        "75%      112.000000\n",
                        "max      120.000000\n",
                        "Name: TOEFL Score, dtype: float64\n"
                    ]
                },
                {
                    "data": {
                        "image/png": "[encoded data removed]",
                        "text/plain": [
                            "<Figure size 720x432 with 1 Axes>"
                        ]
                    },
                    "metadata": {
                        "needs_background": "light"
                    },
                    "output_type": "display_data"
                }
            ],
            "source": [
                "plot_histogram(df['TOEFL Score'])"
            ]
        },
        {
            "cell_type": "code",
            "execution_count": 38,
            "metadata": {},
            "outputs": [
                {
                    "name": "stdout",
                    "output_type": "stream",
                    "text": [
                        "count    500.000000\n",
                        "mean       3.114000\n",
                        "std        1.143512\n",
                        "min        1.000000\n",
                        "25%        2.000000\n",
                        "50%        3.000000\n",
                        "75%        4.000000\n",
                        "max        5.000000\n",
                        "Name: University Rating, dtype: float64\n"
                    ]
                },
                {
                    "data": {
                        "image/png": "[encoded data removed]",
                        "text/plain": [
                            "<Figure size 720x432 with 1 Axes>"
                        ]
                    },
                    "metadata": {
                        "needs_background": "light"
                    },
                    "output_type": "display_data"
                }
            ],
            "source": [
                "plot_countplot(df['University Rating'])"
            ]
        },
        {
            "cell_type": "code",
            "execution_count": 39,
            "metadata": {},
            "outputs": [
                {
                    "name": "stdout",
                    "output_type": "stream",
                    "text": [
                        "count    500.000000\n",
                        "mean       0.560000\n",
                        "std        0.496884\n",
                        "min        0.000000\n",
                        "25%        0.000000\n",
                        "50%        1.000000\n",
                        "75%        1.000000\n",
                        "max        1.000000\n",
                        "Name: Research, dtype: float64\n"
                    ]
                },
                {
                    "data": {
                        "image/png": "[encoded data removed]",
                        "text/plain": [
                            "<Figure size 720x432 with 1 Axes>"
                        ]
                    },
                    "metadata": {
                        "needs_background": "light"
                    },
                    "output_type": "display_data"
                }
            ],
            "source": [
                "plot_countplot(df['Research'])"
            ]
        },
        {
            "cell_type": "code",
            "execution_count": null,
            "metadata": {},
            "outputs": [],
            "source": []
        }
    ],
    "metadata": {
        "kernelspec": {
            "display_name": "Python 3.8.8 ('base')",
            "language": "python",
            "name": "python3"
        },
        "language_info": {
            "codemirror_mode": {
                "name": "ipython",
                "version": 3
            },
            "file_extension": ".py",
            "mimetype": "text/x-python",
            "name": "python",
            "nbconvert_exporter": "python",
            "pygments_lexer": "ipython3",
            "version": "3.8.8"
        },
        "orig_nbformat": 4,
        "vscode": {
            "interpreter": {
                "hash": "1e287c795756e004cbc239a0cd2370360bfb1c5c74b3b718d3796ac64793fd0d"
            }
        }
    },
    "nbformat": 4,
    "nbformat_minor": 2
}
