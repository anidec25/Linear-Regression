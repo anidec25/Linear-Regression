{
 "cells": [
  {
   "cell_type": "code",
   "execution_count": 2,
   "metadata": {},
   "outputs": [],
   "source": [
    "import pandas as pd\n",
    "import numpy as np\n",
    "import matplotlib.pyplot as plt\n",
    "import seaborn as sns"
   ]
  },
  {
   "cell_type": "code",
   "execution_count": 6,
   "metadata": {},
   "outputs": [
    {
     "data": {
      "text/html": [
       "<div>\n",
       "<style scoped>\n",
       "    .dataframe tbody tr th:only-of-type {\n",
       "        vertical-align: middle;\n",
       "    }\n",
       "\n",
       "    .dataframe tbody tr th {\n",
       "        vertical-align: top;\n",
       "    }\n",
       "\n",
       "    .dataframe thead th {\n",
       "        text-align: right;\n",
       "    }\n",
       "</style>\n",
       "<table border=\"1\" class=\"dataframe\">\n",
       "  <thead>\n",
       "    <tr style=\"text-align: right;\">\n",
       "      <th></th>\n",
       "      <th>selling_price</th>\n",
       "      <th>year</th>\n",
       "      <th>km_driven</th>\n",
       "      <th>mileage</th>\n",
       "      <th>engine</th>\n",
       "      <th>max_power</th>\n",
       "      <th>age</th>\n",
       "      <th>make</th>\n",
       "      <th>model</th>\n",
       "      <th>Individual</th>\n",
       "      <th>Trustmark Dealer</th>\n",
       "      <th>Diesel</th>\n",
       "      <th>Electric</th>\n",
       "      <th>LPG</th>\n",
       "      <th>Petrol</th>\n",
       "      <th>Manual</th>\n",
       "      <th>5</th>\n",
       "      <th>&gt;5</th>\n",
       "    </tr>\n",
       "  </thead>\n",
       "  <tbody>\n",
       "    <tr>\n",
       "      <th>0</th>\n",
       "      <td>-1.111046</td>\n",
       "      <td>-0.801317</td>\n",
       "      <td>1.195828</td>\n",
       "      <td>0.045745</td>\n",
       "      <td>-1.310754</td>\n",
       "      <td>-1.157780</td>\n",
       "      <td>0.801317</td>\n",
       "      <td>-0.433854</td>\n",
       "      <td>-1.125683</td>\n",
       "      <td>1.248892</td>\n",
       "      <td>-0.098382</td>\n",
       "      <td>-0.985275</td>\n",
       "      <td>-0.020095</td>\n",
       "      <td>-0.056917</td>\n",
       "      <td>1.024622</td>\n",
       "      <td>0.495818</td>\n",
       "      <td>0.444503</td>\n",
       "      <td>-0.424728</td>\n",
       "    </tr>\n",
       "    <tr>\n",
       "      <th>1</th>\n",
       "      <td>-0.223944</td>\n",
       "      <td>0.450030</td>\n",
       "      <td>-0.737872</td>\n",
       "      <td>-0.140402</td>\n",
       "      <td>-0.537456</td>\n",
       "      <td>-0.360203</td>\n",
       "      <td>-0.450030</td>\n",
       "      <td>-0.327501</td>\n",
       "      <td>-0.333227</td>\n",
       "      <td>1.248892</td>\n",
       "      <td>-0.098382</td>\n",
       "      <td>-0.985275</td>\n",
       "      <td>-0.020095</td>\n",
       "      <td>-0.056917</td>\n",
       "      <td>1.024622</td>\n",
       "      <td>0.495818</td>\n",
       "      <td>0.444503</td>\n",
       "      <td>-0.424728</td>\n",
       "    </tr>\n",
       "    <tr>\n",
       "      <th>2</th>\n",
       "      <td>-0.915058</td>\n",
       "      <td>-1.426990</td>\n",
       "      <td>0.035608</td>\n",
       "      <td>-0.582501</td>\n",
       "      <td>-0.537456</td>\n",
       "      <td>-0.404885</td>\n",
       "      <td>1.426990</td>\n",
       "      <td>-0.327501</td>\n",
       "      <td>-0.789807</td>\n",
       "      <td>1.248892</td>\n",
       "      <td>-0.098382</td>\n",
       "      <td>-0.985275</td>\n",
       "      <td>-0.020095</td>\n",
       "      <td>-0.056917</td>\n",
       "      <td>1.024622</td>\n",
       "      <td>0.495818</td>\n",
       "      <td>0.444503</td>\n",
       "      <td>-0.424728</td>\n",
       "    </tr>\n",
       "    <tr>\n",
       "      <th>3</th>\n",
       "      <td>-0.892365</td>\n",
       "      <td>-0.801317</td>\n",
       "      <td>-0.409143</td>\n",
       "      <td>0.329620</td>\n",
       "      <td>-0.921213</td>\n",
       "      <td>-0.693085</td>\n",
       "      <td>0.801317</td>\n",
       "      <td>-0.433854</td>\n",
       "      <td>-0.905265</td>\n",
       "      <td>1.248892</td>\n",
       "      <td>-0.098382</td>\n",
       "      <td>-0.985275</td>\n",
       "      <td>-0.020095</td>\n",
       "      <td>-0.056917</td>\n",
       "      <td>1.024622</td>\n",
       "      <td>0.495818</td>\n",
       "      <td>0.444503</td>\n",
       "      <td>-0.424728</td>\n",
       "    </tr>\n",
       "    <tr>\n",
       "      <th>4</th>\n",
       "      <td>-0.182683</td>\n",
       "      <td>0.137194</td>\n",
       "      <td>-0.544502</td>\n",
       "      <td>0.760085</td>\n",
       "      <td>0.042999</td>\n",
       "      <td>0.010435</td>\n",
       "      <td>-0.137194</td>\n",
       "      <td>-0.246579</td>\n",
       "      <td>-0.013096</td>\n",
       "      <td>-0.800710</td>\n",
       "      <td>-0.098382</td>\n",
       "      <td>1.014945</td>\n",
       "      <td>-0.020095</td>\n",
       "      <td>-0.056917</td>\n",
       "      <td>-0.975970</td>\n",
       "      <td>0.495818</td>\n",
       "      <td>0.444503</td>\n",
       "      <td>-0.424728</td>\n",
       "    </tr>\n",
       "  </tbody>\n",
       "</table>\n",
       "</div>"
      ],
      "text/plain": [
       "   selling_price      year  km_driven   mileage    engine  max_power  \\\n",
       "0      -1.111046 -0.801317   1.195828  0.045745 -1.310754  -1.157780   \n",
       "1      -0.223944  0.450030  -0.737872 -0.140402 -0.537456  -0.360203   \n",
       "2      -0.915058 -1.426990   0.035608 -0.582501 -0.537456  -0.404885   \n",
       "3      -0.892365 -0.801317  -0.409143  0.329620 -0.921213  -0.693085   \n",
       "4      -0.182683  0.137194  -0.544502  0.760085  0.042999   0.010435   \n",
       "\n",
       "        age      make     model  Individual  Trustmark Dealer    Diesel  \\\n",
       "0  0.801317 -0.433854 -1.125683    1.248892         -0.098382 -0.985275   \n",
       "1 -0.450030 -0.327501 -0.333227    1.248892         -0.098382 -0.985275   \n",
       "2  1.426990 -0.327501 -0.789807    1.248892         -0.098382 -0.985275   \n",
       "3  0.801317 -0.433854 -0.905265    1.248892         -0.098382 -0.985275   \n",
       "4 -0.137194 -0.246579 -0.013096   -0.800710         -0.098382  1.014945   \n",
       "\n",
       "   Electric       LPG    Petrol    Manual         5        >5  \n",
       "0 -0.020095 -0.056917  1.024622  0.495818  0.444503 -0.424728  \n",
       "1 -0.020095 -0.056917  1.024622  0.495818  0.444503 -0.424728  \n",
       "2 -0.020095 -0.056917  1.024622  0.495818  0.444503 -0.424728  \n",
       "3 -0.020095 -0.056917  1.024622  0.495818  0.444503 -0.424728  \n",
       "4 -0.020095 -0.056917 -0.975970  0.495818  0.444503 -0.424728  "
      ]
     },
     "execution_count": 6,
     "metadata": {},
     "output_type": "execute_result"
    }
   ],
   "source": [
    "df = pd.read_csv('../data/cars24-car-price-clean.csv')\n",
    "df.head()\n",
    "# #print(df.shape)"
   ]
  },
  {
   "cell_type": "code",
   "execution_count": 7,
   "metadata": {},
   "outputs": [],
   "source": [
    "## Univariate Linear Regression"
   ]
  },
  {
   "cell_type": "code",
   "execution_count": 8,
   "metadata": {},
   "outputs": [],
   "source": [
    "X = df[\"model\"].values\n",
    "Y = df[\"selling_price\"].values"
   ]
  },
  {
   "cell_type": "code",
   "execution_count": 9,
   "metadata": {},
   "outputs": [],
   "source": [
    "def predict(x,weight):\n",
    "    y_hat = weight[0] + weight[1]*x\n",
    "    return y_hat"
   ]
  },
  {
   "cell_type": "code",
   "execution_count": 10,
   "metadata": {},
   "outputs": [],
   "source": [
    "#Calculating error\n",
    "\n",
    "def error(X,Y,weight):\n",
    "    m = X.shape[0]\n",
    "    total_error = 0.0\n",
    "    for i in range(m):\n",
    "        y_hat = predict(X[i],weight)\n",
    "        total_error += (y_hat - Y[i])**2    \n",
    "    return (total_error/m)"
   ]
  },
  {
   "cell_type": "code",
   "execution_count": 11,
   "metadata": {},
   "outputs": [],
   "source": [
    "def gradient(X,Y,weight):\n",
    "    m = X.shape[0]\n",
    "    # print(m)\n",
    "    grad = np.zeros((2,)) #initializing gradient from 0\n",
    "    # print(grad)\n",
    "    for i in range(200): #iterate over all points\n",
    "        x = X[i]\n",
    "        y_hat = predict(x,weight)\n",
    "        y = Y[i]\n",
    "\n",
    "        grad[0] += -2*(y - y_hat) \n",
    "        grad[1] += -2*(y - y_hat)*x\n",
    "        # print(x, y)\n",
    "        # print(2*(y - y_hat) , -2*(y - y_hat)*x)\n",
    "        # print(grad)\n",
    "    return grad/m"
   ]
  },
  {
   "cell_type": "code",
   "execution_count": 12,
   "metadata": {},
   "outputs": [],
   "source": [
    "def gradient_descent(X,Y, epochs=20,learning_rate =1):\n",
    "    weight = np.zeros((2,))\n",
    "    error_list = []\n",
    "    weight_list = []\n",
    "    \n",
    "    for i in range(epochs):\n",
    "        # Compute grad\n",
    "        grad = gradient(X,Y,weight)\n",
    "        # print(grad)\n",
    "        e = error(X,Y,weight)\n",
    "        \n",
    "        #Update weights\n",
    "        weight[0] = weight[0] - learning_rate*grad[0]\n",
    "        weight[1] = weight[1] - learning_rate*grad[1]\n",
    "        # Storing the weight values during updates\n",
    "        weight_list.append((weight[0],weight[1]))\n",
    "        error_list.append(e)\n",
    "\n",
    "    return weight,error_list,weight_list"
   ]
  },
  {
   "cell_type": "code",
   "execution_count": 14,
   "metadata": {},
   "outputs": [
    {
     "name": "stdout",
     "output_type": "stream",
     "text": [
      "[-0.06672972  0.68488657]\n"
     ]
    }
   ],
   "source": [
    "weight, error_list, weight_list = gradient_descent(X,Y,epochs=100)\n",
    "\n",
    "# Weights after 800 epochs \n",
    "print(weight)"
   ]
  },
  {
   "cell_type": "code",
   "execution_count": 15,
   "metadata": {},
   "outputs": [
    {
     "data": {
      "image/png": "[encoded data removed]",
      "text/plain": [
       "<Figure size 432x288 with 1 Axes>"
      ]
     },
     "metadata": {
      "needs_background": "light"
     },
     "output_type": "display_data"
    }
   ],
   "source": [
    "#How does the error changes with time?\n",
    "\n",
    "fig = plt.figure()\n",
    "plt.plot(error_list)\n",
    "plt.title(\"Reduction in error over time\")\n",
    "plt.xlabel(\"iteration\")\n",
    "plt.ylabel(\"Error\")\n",
    "plt.grid()\n",
    "plt.show()"
   ]
  },
  {
   "cell_type": "code",
   "execution_count": 16,
   "metadata": {},
   "outputs": [
    {
     "data": {
      "image/png": "[encoded data removed]",
      "text/plain": [
       "<Figure size 432x288 with 1 Axes>"
      ]
     },
     "metadata": {
      "needs_background": "light"
     },
     "output_type": "display_data"
    }
   ],
   "source": [
    "#How do the parameters changes during the training process?\n",
    "\n",
    "fig = plt.figure()\n",
    "ax = fig.add_subplot(111)\n",
    "weight_list = np.array(weight_list)\n",
    "plt.plot(weight_list[:,0],label=\"w0\")\n",
    "plt.plot(weight_list[:,1],label=\"w1\")\n",
    "plt.legend()\n",
    "plt.show()"
   ]
  },
  {
   "cell_type": "code",
   "execution_count": 17,
   "metadata": {},
   "outputs": [
    {
     "data": {
      "image/png": "[encoded data removed]",
      "text/plain": [
       "<Figure size 432x288 with 1 Axes>"
      ]
     },
     "metadata": {
      "needs_background": "light"
     },
     "output_type": "display_data"
    }
   ],
   "source": [
    "#Predcition of the model\n",
    "\n",
    "fig = plt.figure()\n",
    "Y_hat = predict(X,weight)\n",
    "plt.scatter(X,Y)\n",
    "plt.plot(X,Y_hat,color='orange',label=\"Prediction\")\n",
    "plt.legend()\n",
    "plt.show()"
   ]
  },
  {
   "cell_type": "code",
   "execution_count": 80,
   "metadata": {},
   "outputs": [],
   "source": [
    "# For multivariate \n",
    "\n",
    "X = [[66, 10, 51], [93, 18, 56], [63, 20, 91], [81, 98, 88], [26, 36, 47], [74, 43, 98], [80, 36, 26], [19, 61, 58], [69, 26, 78], [15, 61, 38], [84, 1, 95], [45, 40, 36], [79, 53, 74], [7, 90, 5], [15, 56, 83], [41, 12, 34], [72, 61, 60], [22, 82, 4], [13, 22, 59], [8, 60, 92]]\n",
    "Y = [208, 291, 74, 84, 391, 436, 140, 22, 79, 471, 350, 387, 89, 48, 70, 492, 256, 314, 189, 275]\n",
    "W = [0.5, 2.5, 3.1]"
   ]
  },
  {
   "cell_type": "code",
   "execution_count": 81,
   "metadata": {},
   "outputs": [],
   "source": [
    "def predict_multi(x,weight):\n",
    "    return np.dot(X,W)"
   ]
  },
  {
   "cell_type": "code",
   "execution_count": 82,
   "metadata": {},
   "outputs": [
    {
     "data": {
      "text/plain": [
       "array([216.1, 265.1, 363.6, 558.3, 248.7, 448.3, 210.6, 341.8, 341.3,\n",
       "       277.8, 339. , 234.1, 401.4, 244. , 404.8, 155.9, 374.5, 228.4,\n",
       "       244.4, 439.2])"
      ]
     },
     "execution_count": 82,
     "metadata": {},
     "output_type": "execute_result"
    }
   ],
   "source": [
    "predict_multi(X,W)"
   ]
  },
  {
   "cell_type": "code",
   "execution_count": 85,
   "metadata": {},
   "outputs": [
    {
     "data": {
      "text/plain": [
       "24482.84"
      ]
     },
     "execution_count": 85,
     "metadata": {},
     "output_type": "execute_result"
    }
   ],
   "source": [
    "def cost_multi(x,y,w):\n",
    "\n",
    "    x = np.asarray(x)\n",
    "    w = np.asarray(w)\n",
    "    y = np.asarray(y)\n",
    "\n",
    "    y_hat = predict_multi(x,w)\n",
    "    m = len(x)\n",
    "    loss = 0\n",
    "\n",
    "    for i in range(m):\n",
    "        loss += (y[i] - y_hat[i])**2\n",
    "    \n",
    "    return round((loss/(2*m)),2)\n",
    "\n",
    "cost_multi(X,Y,W)"
   ]
  },
  {
   "cell_type": "code",
   "execution_count": 119,
   "metadata": {},
   "outputs": [
    {
     "name": "stdout",
     "output_type": "stream",
     "text": [
      "10\n",
      "10 2\n",
      "[1.14066562 1.63761729]\n"
     ]
    }
   ],
   "source": [
    "import numpy as np\n",
    "import random\n",
    "\n",
    "# m denotes the number of examples here, not the number of features\n",
    "def gradientDescent(x, y, w, alpha, m, numIterations):\n",
    "    x = np.asarray(x)\n",
    "    y = np.asarray(y)\n",
    "    w = np.asarray(w)\n",
    "    \n",
    "    xTrans = x.transpose()\n",
    "\n",
    "    for i in range(0, numIterations):\n",
    "        y_pred = np.dot(x, w)\n",
    "        loss = y_pred - y\n",
    "        gradient = np.dot(xTrans, loss) / m\n",
    "        w = w - alpha * gradient\n",
    "    return w\n",
    "\n",
    "\n",
    "x = [[1.0, 0.0], [1.0, 1.0], [1.0, 2.0], [1.0, 3.0], [1.0, 4.0], [1.0, 5.0], [1.0, 6.0], [1.0, 7.0], [1.0, 8.0], [1.0, 9.0]]\n",
    "print(len(x))\n",
    "y = [26.75, 29.12, 36.46, 32.82, 30.46, 39.7, 35.52, 39.84, 36.83, 42.74]\n",
    "w = [1.0, 1.0]\n",
    "m, n = np.shape(x)\n",
    "print(m,n)\n",
    "numIterations= 10\n",
    "alpha = 0.0005\n",
    "w = gradientDescent(x, y, w, alpha, m, numIterations)\n",
    "print(w)"
   ]
  },
  {
   "cell_type": "code",
   "execution_count": null,
   "metadata": {},
   "outputs": [],
   "source": []
  }
 ],
 "metadata": {
  "kernelspec": {
   "display_name": "Python 3.8.8 ('base')",
   "language": "python",
   "name": "python3"
  },
  "language_info": {
   "codemirror_mode": {
    "name": "ipython",
    "version": 3
   },
   "file_extension": ".py",
   "mimetype": "text/x-python",
   "name": "python",
   "nbconvert_exporter": "python",
   "pygments_lexer": "ipython3",
   "version": "3.8.8"
  },
  "orig_nbformat": 4,
  "vscode": {
   "interpreter": {
    "hash": "1e287c795756e004cbc239a0cd2370360bfb1c5c74b3b718d3796ac64793fd0d"
   }
  }
 },
 "nbformat": 4,
 "nbformat_minor": 2
}
