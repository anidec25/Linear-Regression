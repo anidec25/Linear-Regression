{
 "cells": [
  {
   "cell_type": "markdown",
   "source": [
    "## Evaluation metrics"
   ],
   "metadata": {}
  },
  {
   "cell_type": "code",
   "execution_count": 4,
   "source": [
    "y_true = [1, 2, 3, 1, 2, 3, 1, 2, 3]\r\n",
    "y_pred = [2, 1, 3, 1, 2, 3, 3, 1, 2]"
   ],
   "outputs": [],
   "metadata": {}
  },
  {
   "cell_type": "code",
   "execution_count": 2,
   "source": [
    "import numpy as np\r\n",
    "import pandas as pd\r\n",
    "from sklearn.metrics import mean_absolute_error, mean_squared_error, r2_score"
   ],
   "outputs": [],
   "metadata": {}
  },
  {
   "cell_type": "markdown",
   "source": [
    "### Mean Absolute Error from scratch"
   ],
   "metadata": {}
  },
  {
   "cell_type": "code",
   "execution_count": 20,
   "source": [
    "def mean_absolute_error(y_true, y_pred):\r\n",
    "\r\n",
    "    \"\"\"\r\n",
    "    This function calculates mae\r\n",
    "    :param y_true: list of real numbers , true values\r\n",
    "    :param y_pred: list of real numbers, predicted values\r\n",
    "    :return: mean absolute error\r\n",
    "    \"\"\"\r\n",
    "\r\n",
    "    error = 0\r\n",
    "\r\n",
    "    for yt, yp in zip(y_true, y_pred):\r\n",
    "        error += np.abs(yt - yp)\r\n",
    "    \r\n",
    "    return error/len(y_true)"
   ],
   "outputs": [],
   "metadata": {}
  },
  {
   "cell_type": "code",
   "execution_count": 27,
   "source": [
    "mean_absolute_error(y_true,y_pred)"
   ],
   "outputs": [
    {
     "output_type": "execute_result",
     "data": {
      "text/plain": [
       "0.6666666666666666"
      ]
     },
     "metadata": {},
     "execution_count": 27
    }
   ],
   "metadata": {}
  },
  {
   "cell_type": "markdown",
   "source": [
    "### Mean Absolute Error Using Sklearn"
   ],
   "metadata": {}
  },
  {
   "cell_type": "code",
   "execution_count": 5,
   "source": [
    "mean_absolute_error(y_true,y_pred)"
   ],
   "outputs": [
    {
     "output_type": "execute_result",
     "data": {
      "text/plain": [
       "0.6666666666666666"
      ]
     },
     "metadata": {},
     "execution_count": 5
    }
   ],
   "metadata": {}
  },
  {
   "cell_type": "code",
   "execution_count": 22,
   "source": [
    "def mean_squared_error(y_true, y_pred):\r\n",
    "    \"\"\"\r\n",
    "    This function calculates MSE\r\n",
    "    :param y-true: list of real numbers, true values\r\n",
    "    :param y_pred: list of real numbers, predicted values\r\n",
    "    :return: mean squared error\r\n",
    "    \"\"\"\r\n",
    "    error = 0\r\n",
    "\r\n",
    "    for yt,yp in zip(y_true,y_pred):\r\n",
    "        error += (yt-yp) ** 2\r\n",
    "\r\n",
    "    return error/len(y_true)"
   ],
   "outputs": [],
   "metadata": {}
  },
  {
   "cell_type": "code",
   "execution_count": 23,
   "source": [
    "mean_squared_error(y_true, y_pred)"
   ],
   "outputs": [
    {
     "output_type": "execute_result",
     "data": {
      "text/plain": [
       "0.8888888888888888"
      ]
     },
     "metadata": {},
     "execution_count": 23
    }
   ],
   "metadata": {}
  },
  {
   "cell_type": "code",
   "execution_count": 24,
   "source": [
    "def r2(y_true, y_pred):\r\n",
    "    \"\"\"\r\n",
    "    This function calculates r-squared score\r\n",
    "    :param y_true: list of real numbers, true values\r\n",
    "    :param y_pred: list of real numbers, predicted values\r\n",
    "    :return: r2 score\r\n",
    "    \"\"\"\r\n",
    "\r\n",
    "    # calculate the mean value of true values\r\n",
    "    mean_true_value = np.mean(y_true)\r\n",
    "\r\n",
    "    # initialize numerator with 0\r\n",
    "    numerator = 0\r\n",
    "    # initialize denominator with 0\r\n",
    "    denominator = 0\r\n",
    "\r\n",
    "    # loop over all true and predicted values\r\n",
    "    for yt, yp in zip(y_true, y_pred):\r\n",
    "        # update numerator\r\n",
    "        numerator += (yt - yp) ** 2\r\n",
    "        # update denominator\r\n",
    "        denominator += (yt - mean_true_value) ** 2\r\n",
    "        # calculate the ratio\r\n",
    "        ratio = numerator / denominator\r\n",
    "        # return 1 - ratio\r\n",
    "    return 1 - ratio"
   ],
   "outputs": [],
   "metadata": {}
  },
  {
   "cell_type": "code",
   "execution_count": 26,
   "source": [
    "r2(y_true, y_pred)"
   ],
   "outputs": [
    {
     "output_type": "execute_result",
     "data": {
      "text/plain": [
       "-0.33333333333333326"
      ]
     },
     "metadata": {},
     "execution_count": 26
    }
   ],
   "metadata": {}
  }
 ],
 "metadata": {
  "kernelspec": {
   "name": "python3",
   "display_name": "Python 3.7.4 64-bit ('base': conda)"
  },
  "language_info": {
   "codemirror_mode": {
    "name": "ipython",
    "version": 3
   },
   "file_extension": ".py",
   "mimetype": "text/x-python",
   "name": "python",
   "nbconvert_exporter": "python",
   "pygments_lexer": "ipython3",
   "version": "3.7.4"
  },
  "orig_nbformat": 4,
  "vscode": {
   "interpreter": {
    "hash": "1e287c795756e004cbc239a0cd2370360bfb1c5c74b3b718d3796ac64793fd0d"
   }
  },
  "interpreter": {
   "hash": "a812c55bce3c407bf29cdfef5b6aac384d8b6347ace0878b4444009fcafd7071"
  }
 },
 "nbformat": 4,
 "nbformat_minor": 2
}