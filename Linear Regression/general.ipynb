{
 "cells": [
  {
   "cell_type": "markdown",
   "metadata": {},
   "source": [
    "#### Closed form Linear Regression\n",
    "\n",
    "Given two NumPy arrays, X representing the features and Y representing the target variables of shape (n, d) and (n, ) respectively, implement the closed-form solution of linear regression to return an array consisting of the values of parameters rounded up to two decimal places. The shape of the returned parameter array should be (d,).\n",
    "\n",
    "Input Format:\n",
    "- Two lists are taken as input.\n",
    "- First one is x which represents features \n",
    "- Second one is y which represents the target variable \n",
    "\n",
    "\n",
    "Output Format:\n",
    "- A NumPy array with the values of parameters rounded up to two decimal places"
   ]
  },
  {
   "cell_type": "code",
   "execution_count": 4,
   "metadata": {},
   "outputs": [],
   "source": [
    "# Sample Input:\n",
    "X = [[1.0, -0.17460021059294129], [1.0, 0.2655115856921195], [1.0, 0.004291430934033236], [1.0, 0.10854852571496944], [1.0, 1.331586504129518], [1.0, -0.7200855607188968], [1.0, -1.5454002921112682], [1.0, -0.008383849928522256], [1.0, 0.6213359738904805], [1.0, 0.7152789743984055]]\n",
    "y = [4.79924308448553, 18.073015871023042, -5.993810986613133, -1.0756153061725424, 123.11324692336042, -40.6786526684709, -120.88605790017033, -3.020915122578166, 54.02764304916954, 65.68873810531909]\n",
    "\n",
    "\n",
    "# Sample output\n",
    "output = [4.55,81.14]"
   ]
  },
  {
   "cell_type": "code",
   "execution_count": null,
   "metadata": {},
   "outputs": [],
   "source": []
  }
 ],
 "metadata": {
  "kernelspec": {
   "display_name": "Python 3.8.8 ('base')",
   "language": "python",
   "name": "python3"
  },
  "language_info": {
   "codemirror_mode": {
    "name": "ipython",
    "version": 3
   },
   "file_extension": ".py",
   "mimetype": "text/x-python",
   "name": "python",
   "nbconvert_exporter": "python",
   "pygments_lexer": "ipython3",
   "version": "3.8.8"
  },
  "orig_nbformat": 4,
  "vscode": {
   "interpreter": {
    "hash": "1e287c795756e004cbc239a0cd2370360bfb1c5c74b3b718d3796ac64793fd0d"
   }
  }
 },
 "nbformat": 4,
 "nbformat_minor": 2
}
