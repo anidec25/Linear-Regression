{
 "cells": [
  {
   "attachments": {},
   "cell_type": "markdown",
   "metadata": {},
   "source": [
    "## What is Cross Validation?"
   ]
  },
  {
   "attachments": {},
   "cell_type": "markdown",
   "metadata": {},
   "source": [
    "Cross-validation is a technique used in machine learning to evaluate the performance of a model and assess its ability to generalize to new, unseen data. It involves partitioning the available data into subsets, performing training and testing on these subsets iteratively, and then aggregating the evaluation results to obtain an overall performance estimate.\n",
    "\n",
    "The main idea behind cross-validation is to simulate the model's performance on unseen data by using different subsets of the available data for training and testing. This helps to provide a more reliable estimate of the model's performance and reduces the risk of overfitting or underfitting.\n",
    "\n",
    "Here's a step-by-step overview of the cross-validation process:\n",
    "\n",
    "- Partition the data: The available data is divided into K equally sized or stratified subsets called \"folds\" (usually referred to as K-fold cross-validation).\n",
    "\n",
    "- Train and test: Perform K iterations, where in each iteration, one fold is used as the test set and the remaining K-1 folds are used as the training set.\n",
    "\n",
    "- Model training: Train the model on the training set, using the specified algorithm and hyperparameters.\n",
    "\n",
    "- Model evaluation: Evaluate the trained model on the test set and calculate the chosen performance metric(s) (e.g., accuracy, mean squared error, etc.).\n",
    "\n",
    "- Repeat and aggregate: Repeat steps 2-4 for each fold, using a different fold as the test set in each iteration. Aggregate the performance metrics from each iteration to obtain an overall performance estimate.\n",
    "\n",
    "By performing cross-validation, you gain insights into how well the model generalizes to unseen data and can assess its stability and robustness. It helps to provide a more comprehensive evaluation of the model's performance compared to a single train-test split. Additionally, cross-validation can assist in hyperparameter tuning and model selection by comparing the performance of different models or parameter settings.\n",
    "\n",
    "Common cross-validation techniques include `K-fold cross-validation`, `stratified K-fold cross-validation` (when dealing with imbalanced datasets), leave-one-out cross-validation (K = number of samples), and `holdout validation` (a single train-test split). The choice of the appropriate cross-validation technique depends on the dataset characteristics, available computational resources, and the specific requirements of the problem at hand."
   ]
  },
  {
   "cell_type": "code",
   "execution_count": 1,
   "metadata": {},
   "outputs": [],
   "source": [
    "from sklearn.linear_model import LinearRegression\n",
    "from sklearn.datasets import make_regression\n",
    "from sklearn.model_selection import cross_val_score, KFold, StratifiedKFold, LeaveOneOut, train_test_split"
   ]
  },
  {
   "cell_type": "code",
   "execution_count": 2,
   "metadata": {},
   "outputs": [],
   "source": [
    "# Generate a synthetic dataset for regression\n",
    "X, y = make_regression(n_samples=100, n_features=10, random_state=42)"
   ]
  },
  {
   "cell_type": "code",
   "execution_count": 7,
   "metadata": {},
   "outputs": [
    {
     "data": {
      "text/plain": [
       "array([ 0.15039379,  0.95042384, -0.75913266, -2.12389572, -0.57690366,\n",
       "       -0.59939265, -0.52575502, -0.83972184,  0.34175598,  1.87617084])"
      ]
     },
     "execution_count": 7,
     "metadata": {},
     "output_type": "execute_result"
    }
   ],
   "source": [
    "X[0]"
   ]
  },
  {
   "cell_type": "code",
   "execution_count": 9,
   "metadata": {},
   "outputs": [
    {
     "data": {
      "text/plain": [
       "-60.4869547841584"
      ]
     },
     "execution_count": 9,
     "metadata": {},
     "output_type": "execute_result"
    }
   ],
   "source": [
    "y[0]"
   ]
  },
  {
   "cell_type": "code",
   "execution_count": 3,
   "metadata": {},
   "outputs": [],
   "source": [
    "def apply_cross_validation(X, y, cv_type):\n",
    "    if cv_type == 'kfold':\n",
    "        cv = KFold(n_splits=5, shuffle=True, random_state=42)\n",
    "    elif cv_type == 'stratified':\n",
    "        cv = StratifiedKFold(n_splits=5, shuffle=True, random_state=42)\n",
    "    elif cv_type == 'leaveoneout':\n",
    "        cv = LeaveOneOut()\n",
    "    elif cv_type == 'holdout':\n",
    "        X_train, X_test, y_train, y_test = train_test_split(X, y, test_size=0.2, random_state=42)\n",
    "        model = LinearRegression()\n",
    "        model.fit(X_train, y_train)\n",
    "        score = model.score(X_test, y_test)\n",
    "        print(f'Holdout validation score: {score}')\n",
    "        return\n",
    "    else:\n",
    "        raise ValueError(\"Invalid cross-validation type.\")\n",
    "\n",
    "    model = LinearRegression()\n",
    "    scores = cross_val_score(model, X, y, scoring='r2', cv=cv)\n",
    "\n",
    "    print(f'{cv_type.capitalize()} validation scores: {scores}')\n",
    "    print(f'{cv_type.capitalize()} validation mean score: {scores.mean()}')\n",
    "    print(f'{cv_type.capitalize()} validation standard deviation: {scores.std()}')"
   ]
  },
  {
   "cell_type": "code",
   "execution_count": 5,
   "metadata": {},
   "outputs": [
    {
     "name": "stdout",
     "output_type": "stream",
     "text": [
      "Kfold validation scores: [1. 1. 1. 1. 1.]\n",
      "Kfold validation mean score: 1.0\n",
      "Kfold validation standard deviation: 0.0\n"
     ]
    }
   ],
   "source": [
    "# Apply K-fold cross-validation\n",
    "apply_cross_validation(X, y, 'kfold')\n",
    "\n",
    "# # Apply Stratified K-fold cross-validation\n",
    "# apply_cross_validation(X, y, 'stratified')\n",
    "\n",
    "# # Apply Leave-One-Out cross-validation\n",
    "# apply_cross_validation(X, y, 'leaveoneout')\n",
    "\n",
    "# # Apply Holdout validation\n",
    "# apply_cross_validation(X, y, 'holdout')"
   ]
  },
  {
   "cell_type": "code",
   "execution_count": null,
   "metadata": {},
   "outputs": [],
   "source": []
  }
 ],
 "metadata": {
  "kernelspec": {
   "display_name": "Python 3.8.8 ('base')",
   "language": "python",
   "name": "python3"
  },
  "language_info": {
   "codemirror_mode": {
    "name": "ipython",
    "version": 3
   },
   "file_extension": ".py",
   "mimetype": "text/x-python",
   "name": "python",
   "nbconvert_exporter": "python",
   "pygments_lexer": "ipython3",
   "version": "3.10.9"
  },
  "orig_nbformat": 4,
  "vscode": {
   "interpreter": {
    "hash": "1e287c795756e004cbc239a0cd2370360bfb1c5c74b3b718d3796ac64793fd0d"
   }
  }
 },
 "nbformat": 4,
 "nbformat_minor": 2
}
