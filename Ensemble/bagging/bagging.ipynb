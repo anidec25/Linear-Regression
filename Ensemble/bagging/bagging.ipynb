{
 "cells": [
  {
   "attachments": {},
   "cell_type": "markdown",
   "metadata": {},
   "source": [
    "#### Bootstraping\n",
    "\n",
    "Problem Description:\n",
    "- Given a list of random numbers representing a dataset, complete the program to perform the bootstrap sampling with sizes 1, 10, and 100.\n",
    "- Print the mean of all the bootstrapped samples, after performing bootstrapping a certain number of times.\n",
    "- Input Format: [5, 8, 9, 5, 0, 0, 1, 7, 6, 9, 2, 4, 5, 2, 4, 2, 4, 7, 7, 9]\n",
    "\n",
    "- **Output Format:** \n",
    "- True Mean: 4.800\n",
    "- Samples=1, Estimated Mean: 2.000\n",
    "- Samples=10, Estimated Mean: 4.450\n",
    "- Samples=100, Estimated Mean: 4.880"
   ]
  },
  {
   "cell_type": "code",
   "execution_count": 41,
   "metadata": {},
   "outputs": [
    {
     "name": "stdout",
     "output_type": "stream",
     "text": [
      "True Mean: 4.800\n",
      "Samples=1, Estimated Mean: 2.000\n",
      "Samples=10, Estimated Mean: 5.050\n",
      "Samples=100, Estimated Mean: 4.825\n"
     ]
    },
    {
     "data": {
      "text/plain": [
       "[0, 5, 7, 9, 5, 6, 4, 0, 4, 9, 2, 9, 0, 5, 5, 2, 5, 7, 1, 4]"
      ]
     },
     "execution_count": 41,
     "metadata": {},
     "output_type": "execute_result"
    }
   ],
   "source": [
    "import numpy as np\n",
    "import random\n",
    "\n",
    "dataset = [5, 8, 9, 5, 0, 0, 1, 7, 6, 9, 2, 4, 5, 2, 4, 2, 4, 7, 7, 9]\n",
    "\n",
    "#It returns the mean of numbers list\n",
    "def mean(numbers):\n",
    "\treturn sum(numbers) / float(len(numbers))\n",
    "\n",
    "#printing the mean of the dataset\n",
    "print('True Mean: %.3f' % mean(dataset))\n",
    "\n",
    "#It returns a 2d list consisting of the observations from the dataset representing the subsamples used in bootstrap sampling\n",
    "def subsample(dataset, ratio=1.0):\n",
    "    sample = list()\n",
    "    n_sample = int(len(dataset) * ratio) #number of observations to draw from the dataset for the subsample according to dataset and ratio. It should be the rounded off integer.\n",
    "    while len(sample) < n_sample:\n",
    "      index = dataset.index(random.choice(dataset))  #pick a random index of observation from the dataset\n",
    "      sample.append(dataset[index]) #append the observation to the list sample\n",
    "    return sample\n",
    "    \n",
    "np.random.seed(1)\n",
    "\n",
    "#ratio of the dataset we will be using to create to bootstrap samples\n",
    "ratio = 0.10\n",
    "for n_bootstrap in [1,10,100]:\n",
    "\tsample_means = list() #list consisting of the mean of the bootstrap samples\n",
    "\tfor i in range(n_bootstrap):\n",
    "\t\tsample = subsample(dataset, ratio) #draw a sample from the dataset\n",
    "\t\tsample_mean = np.mean(sample)    #find the mean of the sample\n",
    "\t\tsample_means.append(sample_mean)\n",
    "\t\n",
    "\t#printing the means of each bootstrap sample\t\n",
    "\tprint('Samples=%d, Estimated Mean: %.3f' % (n_bootstrap, mean(sample_means)))\n",
    "\n",
    "\n",
    "subsample(dataset, ratio=1.0)"
   ]
  },
  {
   "cell_type": "code",
   "execution_count": 35,
   "metadata": {},
   "outputs": [
    {
     "data": {
      "text/plain": [
       "11"
      ]
     },
     "execution_count": 35,
     "metadata": {},
     "output_type": "execute_result"
    }
   ],
   "source": [
    "import random\n",
    "\n",
    "dataset.index(random.choice(dataset))"
   ]
  },
  {
   "cell_type": "code",
   "execution_count": 20,
   "metadata": {},
   "outputs": [
    {
     "data": {
      "text/plain": [
       "2.0"
      ]
     },
     "execution_count": 20,
     "metadata": {},
     "output_type": "execute_result"
    }
   ],
   "source": [
    "len(dataset) * ratio"
   ]
  },
  {
   "cell_type": "code",
   "execution_count": 21,
   "metadata": {},
   "outputs": [
    {
     "data": {
      "text/plain": [
       "0.1"
      ]
     },
     "execution_count": 21,
     "metadata": {},
     "output_type": "execute_result"
    }
   ],
   "source": [
    "ratio"
   ]
  },
  {
   "cell_type": "code",
   "execution_count": null,
   "metadata": {},
   "outputs": [],
   "source": []
  }
 ],
 "metadata": {
  "kernelspec": {
   "display_name": "base",
   "language": "python",
   "name": "python3"
  },
  "language_info": {
   "codemirror_mode": {
    "name": "ipython",
    "version": 3
   },
   "file_extension": ".py",
   "mimetype": "text/x-python",
   "name": "python",
   "nbconvert_exporter": "python",
   "pygments_lexer": "ipython3",
   "version": "3.8.8 (default, Apr 13 2021, 15:08:03) [MSC v.1916 64 bit (AMD64)]"
  },
  "orig_nbformat": 4,
  "vscode": {
   "interpreter": {
    "hash": "47d371b4742cd89b1799070f0610db6227645f4346d7c15bff02f7c4df437ecf"
   }
  }
 },
 "nbformat": 4,
 "nbformat_minor": 2
}
