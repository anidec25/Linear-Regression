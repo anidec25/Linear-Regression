{
 "cells": [
  {
   "attachments": {},
   "cell_type": "markdown",
   "metadata": {},
   "source": [
    "Problem Statement:\n",
    "\n",
    "Given the following:-\n",
    "\n",
    "A list of transactions, in dictionary format, with transaction_id as key and a list of items bought as value,\n",
    "2 query items: A and B\n",
    "Return A if confidence{A->B} is higher than confidence{B->A}, otherwise, return B. In case both confidence values are the same, return \"same\"."
   ]
  },
  {
   "cell_type": "code",
   "execution_count": 2,
   "metadata": {},
   "outputs": [],
   "source": [
    "items = {'id1': ['Bread', 'Milk', 'Butter'], \n",
    "        'id2': ['Bread', 'Eggs', 'Butter'],\n",
    "        'id3': ['Eggs', 'Milk', 'Cola', 'Butter', 'Beer'],\n",
    "        'id4': ['Bread', 'Beer'],\n",
    "        'id5': ['Diapers', 'Beer', 'Shampoo', 'Cola', 'Bread']} \n",
    "\n",
    "query = ['Bread', 'Butter']"
   ]
  },
  {
   "cell_type": "code",
   "execution_count": 33,
   "metadata": {},
   "outputs": [
    {
     "data": {
      "text/plain": [
       "'Butter'"
      ]
     },
     "execution_count": 33,
     "metadata": {},
     "output_type": "execute_result"
    }
   ],
   "source": [
    "def item_select(trans, query):\n",
    "    '''\n",
    "    input:\n",
    "    items -> dictionary of items, with id as the key and list of items as the value\n",
    "    query -> list of 2 values\n",
    "    output:\n",
    "    item_name -> name of the item with higher confidence value, showing it drives the growth of the other item\n",
    "    '''\n",
    "    item_name = \"\"\n",
    "    num = 0\n",
    "    den_a = 0\n",
    "    den_b = 0\n",
    "    prob_a = 0\n",
    "    prob_b = 0\n",
    "\n",
    "    for key,value in trans.items():\n",
    "        if query[0] in value and query[1] in value:\n",
    "            num += 1\n",
    "    \n",
    "    for key,value in trans.items():\n",
    "            if query[0] in value:\n",
    "                den_a += 1\n",
    "\n",
    "    for key,value in trans.items():\n",
    "        if query[1] in value:\n",
    "            den_b += 1\n",
    "    \n",
    "    prob_a = num/den_a\n",
    "    prob_b = num/den_b\n",
    "\n",
    "    if prob_a > prob_b:\n",
    "        return query[0]\n",
    "    elif prob_a < prob_b:\n",
    "        return query[1]\n",
    "    else:\n",
    "        return 'same'\n",
    "\n",
    "\n",
    "\n",
    "item_select(items,query)"
   ]
  },
  {
   "cell_type": "code",
   "execution_count": 11,
   "metadata": {},
   "outputs": [
    {
     "data": {
      "text/plain": [
       "['Bread', 'Butter']"
      ]
     },
     "execution_count": 11,
     "metadata": {},
     "output_type": "execute_result"
    }
   ],
   "source": [
    "query"
   ]
  },
  {
   "cell_type": "code",
   "execution_count": 14,
   "metadata": {},
   "outputs": [
    {
     "name": "stdout",
     "output_type": "stream",
     "text": [
      "True\n"
     ]
    }
   ],
   "source": [
    "if query[0] in ['Bread', 'Milk', 'Butter'] and query[1] in ['Bread', 'Milk', 'Butter']:\n",
    "    count += 1"
   ]
  },
  {
   "cell_type": "code",
   "execution_count": null,
   "metadata": {},
   "outputs": [],
   "source": []
  }
 ],
 "metadata": {
  "kernelspec": {
   "display_name": "base",
   "language": "python",
   "name": "python3"
  },
  "language_info": {
   "codemirror_mode": {
    "name": "ipython",
    "version": 3
   },
   "file_extension": ".py",
   "mimetype": "text/x-python",
   "name": "python",
   "nbconvert_exporter": "python",
   "pygments_lexer": "ipython3",
   "version": "3.8.8"
  },
  "orig_nbformat": 4,
  "vscode": {
   "interpreter": {
    "hash": "47d371b4742cd89b1799070f0610db6227645f4346d7c15bff02f7c4df437ecf"
   }
  }
 },
 "nbformat": 4,
 "nbformat_minor": 2
}
