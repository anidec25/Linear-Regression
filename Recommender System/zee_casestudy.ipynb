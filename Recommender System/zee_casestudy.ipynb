{
 "cells": [
  {
   "attachments": {},
   "cell_type": "markdown",
   "metadata": {},
   "source": [
    "### Problem Statement: Create a Recommender System to show personalized movie recommendations based on ratings given by a user and other users similar to them in order to improve user experience."
   ]
  },
  {
   "attachments": {},
   "cell_type": "markdown",
   "metadata": {},
   "source": [
    "## Data_Dictionary\n",
    "\n",
    "=========================================================================\n",
    "\n",
    "RATINGS FILE DESCRIPTION\n",
    "\n",
    "=========================================================================\n",
    "\n",
    "All ratings are contained in the file \"ratings.dat\" and are in the following format:\n",
    "\n",
    "UserID::MovieID::Rating::Timestamp\n",
    "\n",
    "UserIDs range between 1 and 6040\n",
    "\n",
    "MovieIDs range between 1 and 3952\n",
    "\n",
    "Ratings are made on a 5-star scale (whole-star ratings only)\n",
    "\n",
    "Timestamp is represented in seconds\n",
    "\n",
    "Each user has at least 20 ratings\n",
    "\n",
    "=========================================================================\n",
    "\n",
    "USERS FILE DESCRIPTION\n",
    "\n",
    "=========================================================================\n",
    "\n",
    "User information is in the file \"users.dat\" and is in the following format:\n",
    "\n",
    "UserID::Gender::Age::Occupation::Zip-code\n",
    "\n",
    "All demographic information is provided voluntarily by the users and is not checked for accuracy.\n",
    "Only users who have provided some demographic information are included in this data set.\n",
    "\n",
    "Gender is denoted by a \"M\" for male and \"F\" for female\n",
    "\n",
    "Age is chosen from the following ranges:\n",
    "\n",
    "1: \"Under 18\"\n",
    "\n",
    "18: \"18-24\"\n",
    "\n",
    "25: \"25-34\"\n",
    "\n",
    "35: \"35-44\"\n",
    "\n",
    "45: \"45-49\"\n",
    "\n",
    "50: \"50-55\"\n",
    "\n",
    "56: \"56+\"\n",
    "\n",
    "\n",
    "Occupation is chosen from the following choices:\n",
    "\n",
    "0: \"other\" or not specified\n",
    "\n",
    "1: \"academic/educator\"\n",
    "\n",
    "2: \"artist\"\n",
    "\n",
    "3: \"clerical/admin\"\n",
    "\n",
    "4: \"college/grad student\"\n",
    "\n",
    "5: \"customer service\"\n",
    "\n",
    "6: \"doctor/health care\"\n",
    "\n",
    "7: \"executive/managerial\"\n",
    "\n",
    "8: \"farmer\"\n",
    "\n",
    "9: \"homemaker\"\n",
    "\n",
    "10: \"K-12 student\"\n",
    "\n",
    "11: \"lawyer\"\n",
    "\n",
    "12: \"programmer\"\n",
    "\n",
    "13: \"retired\"\n",
    "\n",
    "14: \"sales/marketing\"\n",
    "\n",
    "15: \"scientist\"\n",
    "\n",
    "16: \"self-employed\"\n",
    "\n",
    "17: \"technician/engineer\"\n",
    "\n",
    "18: \"tradesman/craftsman\"\n",
    "\n",
    "19: \"unemployed\"\n",
    "\n",
    "20: \"writer\"\n",
    "\n",
    "\n",
    "=========================================================================\n",
    "\n",
    "MOVIES FILE DESCRIPTION\n",
    "\n",
    "=========================================================================\n",
    "\n",
    "Movie information is in the file \"movies.dat\" and is in the following format:\n",
    "\n",
    "MovieID::Title::Genres\n",
    "\n",
    "Titles are identical to titles provided by the IMDB (including year of release)\n",
    "\n",
    "Genres are pipe-separated and are selected from the following genres:\n",
    "\n",
    "- Action\n",
    "- Adventure\n",
    "- Animation\n",
    "- Children's\n",
    "- Comedy\n",
    "- Crime\n",
    "- Documentary\n",
    "- Drama\n",
    "- Fantasy\n",
    "- Film-Noir\n",
    "- Horror\n",
    "- Musical\n",
    "- Mystery\n",
    "- Romance\n",
    "- Sci-Fi\n",
    "- Thriller\n",
    "- War\n",
    "- Western"
   ]
  },
  {
   "attachments": {},
   "cell_type": "markdown",
   "metadata": {},
   "source": [
    "## Importing_Libraries"
   ]
  },
  {
   "cell_type": "code",
   "execution_count": 2,
   "metadata": {},
   "outputs": [
    {
     "data": {
      "text/plain": [
       "<Figure size 720x432 with 0 Axes>"
      ]
     },
     "execution_count": 2,
     "metadata": {},
     "output_type": "execute_result"
    },
    {
     "data": {
      "text/plain": [
       "<Figure size 720x432 with 0 Axes>"
      ]
     },
     "metadata": {},
     "output_type": "display_data"
    }
   ],
   "source": [
    "#import all required libraries\n",
    "\n",
    "import pandas as pd\n",
    "import numpy as np\n",
    "import matplotlib.pyplot as plt\n",
    "import seaborn as sns\n",
    "\n",
    "import warnings\n",
    "warnings.filterwarnings('ignore')\n",
    "\n",
    "plt.figure(figsize=(10,6))"
   ]
  },
  {
   "cell_type": "code",
   "execution_count": 3,
   "metadata": {},
   "outputs": [],
   "source": [
    "df_movies = pd.read_table('zee-movies.dat', sep='::')\n",
    "df_ratings = pd.read_table('zee-ratings.dat', sep='::')\n",
    "df_users = pd.read_table('zee-users.dat', sep='::')"
   ]
  },
  {
   "cell_type": "code",
   "execution_count": 4,
   "metadata": {},
   "outputs": [
    {
     "data": {
      "text/html": [
       "<div>\n",
       "<style scoped>\n",
       "    .dataframe tbody tr th:only-of-type {\n",
       "        vertical-align: middle;\n",
       "    }\n",
       "\n",
       "    .dataframe tbody tr th {\n",
       "        vertical-align: top;\n",
       "    }\n",
       "\n",
       "    .dataframe thead th {\n",
       "        text-align: right;\n",
       "    }\n",
       "</style>\n",
       "<table border=\"1\" class=\"dataframe\">\n",
       "  <thead>\n",
       "    <tr style=\"text-align: right;\">\n",
       "      <th></th>\n",
       "      <th>Movie ID</th>\n",
       "      <th>Title</th>\n",
       "      <th>Genres</th>\n",
       "    </tr>\n",
       "  </thead>\n",
       "  <tbody>\n",
       "    <tr>\n",
       "      <th>0</th>\n",
       "      <td>1</td>\n",
       "      <td>Toy Story (1995)</td>\n",
       "      <td>Animation|Children's|Comedy</td>\n",
       "    </tr>\n",
       "    <tr>\n",
       "      <th>1</th>\n",
       "      <td>2</td>\n",
       "      <td>Jumanji (1995)</td>\n",
       "      <td>Adventure|Children's|Fantasy</td>\n",
       "    </tr>\n",
       "    <tr>\n",
       "      <th>2</th>\n",
       "      <td>3</td>\n",
       "      <td>Grumpier Old Men (1995)</td>\n",
       "      <td>Comedy|Romance</td>\n",
       "    </tr>\n",
       "    <tr>\n",
       "      <th>3</th>\n",
       "      <td>4</td>\n",
       "      <td>Waiting to Exhale (1995)</td>\n",
       "      <td>Comedy|Drama</td>\n",
       "    </tr>\n",
       "    <tr>\n",
       "      <th>4</th>\n",
       "      <td>5</td>\n",
       "      <td>Father of the Bride Part II (1995)</td>\n",
       "      <td>Comedy</td>\n",
       "    </tr>\n",
       "  </tbody>\n",
       "</table>\n",
       "</div>"
      ],
      "text/plain": [
       "   Movie ID                               Title                        Genres\n",
       "0         1                    Toy Story (1995)   Animation|Children's|Comedy\n",
       "1         2                      Jumanji (1995)  Adventure|Children's|Fantasy\n",
       "2         3             Grumpier Old Men (1995)                Comedy|Romance\n",
       "3         4            Waiting to Exhale (1995)                  Comedy|Drama\n",
       "4         5  Father of the Bride Part II (1995)                        Comedy"
      ]
     },
     "execution_count": 4,
     "metadata": {},
     "output_type": "execute_result"
    }
   ],
   "source": [
    "df_movies.head()"
   ]
  },
  {
   "cell_type": "code",
   "execution_count": 5,
   "metadata": {},
   "outputs": [
    {
     "data": {
      "text/html": [
       "<div>\n",
       "<style scoped>\n",
       "    .dataframe tbody tr th:only-of-type {\n",
       "        vertical-align: middle;\n",
       "    }\n",
       "\n",
       "    .dataframe tbody tr th {\n",
       "        vertical-align: top;\n",
       "    }\n",
       "\n",
       "    .dataframe thead th {\n",
       "        text-align: right;\n",
       "    }\n",
       "</style>\n",
       "<table border=\"1\" class=\"dataframe\">\n",
       "  <thead>\n",
       "    <tr style=\"text-align: right;\">\n",
       "      <th></th>\n",
       "      <th>UserID</th>\n",
       "      <th>MovieID</th>\n",
       "      <th>Rating</th>\n",
       "      <th>Timestamp</th>\n",
       "    </tr>\n",
       "  </thead>\n",
       "  <tbody>\n",
       "    <tr>\n",
       "      <th>0</th>\n",
       "      <td>1</td>\n",
       "      <td>1193</td>\n",
       "      <td>5</td>\n",
       "      <td>978300760</td>\n",
       "    </tr>\n",
       "    <tr>\n",
       "      <th>1</th>\n",
       "      <td>1</td>\n",
       "      <td>661</td>\n",
       "      <td>3</td>\n",
       "      <td>978302109</td>\n",
       "    </tr>\n",
       "    <tr>\n",
       "      <th>2</th>\n",
       "      <td>1</td>\n",
       "      <td>914</td>\n",
       "      <td>3</td>\n",
       "      <td>978301968</td>\n",
       "    </tr>\n",
       "    <tr>\n",
       "      <th>3</th>\n",
       "      <td>1</td>\n",
       "      <td>3408</td>\n",
       "      <td>4</td>\n",
       "      <td>978300275</td>\n",
       "    </tr>\n",
       "    <tr>\n",
       "      <th>4</th>\n",
       "      <td>1</td>\n",
       "      <td>2355</td>\n",
       "      <td>5</td>\n",
       "      <td>978824291</td>\n",
       "    </tr>\n",
       "  </tbody>\n",
       "</table>\n",
       "</div>"
      ],
      "text/plain": [
       "   UserID  MovieID  Rating  Timestamp\n",
       "0       1     1193       5  978300760\n",
       "1       1      661       3  978302109\n",
       "2       1      914       3  978301968\n",
       "3       1     3408       4  978300275\n",
       "4       1     2355       5  978824291"
      ]
     },
     "execution_count": 5,
     "metadata": {},
     "output_type": "execute_result"
    }
   ],
   "source": [
    "df_ratings.head()"
   ]
  },
  {
   "cell_type": "code",
   "execution_count": 6,
   "metadata": {},
   "outputs": [
    {
     "data": {
      "text/html": [
       "<div>\n",
       "<style scoped>\n",
       "    .dataframe tbody tr th:only-of-type {\n",
       "        vertical-align: middle;\n",
       "    }\n",
       "\n",
       "    .dataframe tbody tr th {\n",
       "        vertical-align: top;\n",
       "    }\n",
       "\n",
       "    .dataframe thead th {\n",
       "        text-align: right;\n",
       "    }\n",
       "</style>\n",
       "<table border=\"1\" class=\"dataframe\">\n",
       "  <thead>\n",
       "    <tr style=\"text-align: right;\">\n",
       "      <th></th>\n",
       "      <th>UserID</th>\n",
       "      <th>Gender</th>\n",
       "      <th>Age</th>\n",
       "      <th>Occupation</th>\n",
       "      <th>Zip-code</th>\n",
       "    </tr>\n",
       "  </thead>\n",
       "  <tbody>\n",
       "    <tr>\n",
       "      <th>0</th>\n",
       "      <td>1</td>\n",
       "      <td>F</td>\n",
       "      <td>1</td>\n",
       "      <td>10</td>\n",
       "      <td>48067</td>\n",
       "    </tr>\n",
       "    <tr>\n",
       "      <th>1</th>\n",
       "      <td>2</td>\n",
       "      <td>M</td>\n",
       "      <td>56</td>\n",
       "      <td>16</td>\n",
       "      <td>70072</td>\n",
       "    </tr>\n",
       "    <tr>\n",
       "      <th>2</th>\n",
       "      <td>3</td>\n",
       "      <td>M</td>\n",
       "      <td>25</td>\n",
       "      <td>15</td>\n",
       "      <td>55117</td>\n",
       "    </tr>\n",
       "    <tr>\n",
       "      <th>3</th>\n",
       "      <td>4</td>\n",
       "      <td>M</td>\n",
       "      <td>45</td>\n",
       "      <td>7</td>\n",
       "      <td>02460</td>\n",
       "    </tr>\n",
       "    <tr>\n",
       "      <th>4</th>\n",
       "      <td>5</td>\n",
       "      <td>M</td>\n",
       "      <td>25</td>\n",
       "      <td>20</td>\n",
       "      <td>55455</td>\n",
       "    </tr>\n",
       "  </tbody>\n",
       "</table>\n",
       "</div>"
      ],
      "text/plain": [
       "   UserID Gender  Age  Occupation Zip-code\n",
       "0       1      F    1          10    48067\n",
       "1       2      M   56          16    70072\n",
       "2       3      M   25          15    55117\n",
       "3       4      M   45           7    02460\n",
       "4       5      M   25          20    55455"
      ]
     },
     "execution_count": 6,
     "metadata": {},
     "output_type": "execute_result"
    }
   ],
   "source": [
    "df_users.head()"
   ]
  },
  {
   "cell_type": "code",
   "execution_count": 7,
   "metadata": {},
   "outputs": [
    {
     "data": {
      "text/plain": [
       "53"
      ]
     },
     "execution_count": 7,
     "metadata": {},
     "output_type": "execute_result"
    }
   ],
   "source": [
    "df_ratings[df_ratings['UserID'] == 1]['MovieID'].nunique()"
   ]
  },
  {
   "cell_type": "code",
   "execution_count": 8,
   "metadata": {},
   "outputs": [
    {
     "data": {
      "text/plain": [
       "UserID       53\n",
       "MovieID      53\n",
       "Rating       53\n",
       "Timestamp    53\n",
       "dtype: int64"
      ]
     },
     "execution_count": 8,
     "metadata": {},
     "output_type": "execute_result"
    }
   ],
   "source": [
    "df_ratings[df_ratings['UserID'] == 1].count()"
   ]
  },
  {
   "cell_type": "code",
   "execution_count": 9,
   "metadata": {},
   "outputs": [
    {
     "name": "stdout",
     "output_type": "stream",
     "text": [
      "<class 'pandas.core.frame.DataFrame'>\n",
      "RangeIndex: 3883 entries, 0 to 3882\n",
      "Data columns (total 3 columns):\n",
      " #   Column    Non-Null Count  Dtype \n",
      "---  ------    --------------  ----- \n",
      " 0   Movie ID  3883 non-null   int64 \n",
      " 1   Title     3883 non-null   object\n",
      " 2   Genres    3883 non-null   object\n",
      "dtypes: int64(1), object(2)\n",
      "memory usage: 91.1+ KB\n"
     ]
    }
   ],
   "source": [
    "df_movies.info()"
   ]
  },
  {
   "cell_type": "code",
   "execution_count": 10,
   "metadata": {},
   "outputs": [
    {
     "name": "stdout",
     "output_type": "stream",
     "text": [
      "<class 'pandas.core.frame.DataFrame'>\n",
      "RangeIndex: 1000209 entries, 0 to 1000208\n",
      "Data columns (total 4 columns):\n",
      " #   Column     Non-Null Count    Dtype\n",
      "---  ------     --------------    -----\n",
      " 0   UserID     1000209 non-null  int64\n",
      " 1   MovieID    1000209 non-null  int64\n",
      " 2   Rating     1000209 non-null  int64\n",
      " 3   Timestamp  1000209 non-null  int64\n",
      "dtypes: int64(4)\n",
      "memory usage: 30.5 MB\n"
     ]
    }
   ],
   "source": [
    "df_ratings.info()"
   ]
  },
  {
   "cell_type": "code",
   "execution_count": 11,
   "metadata": {},
   "outputs": [
    {
     "name": "stdout",
     "output_type": "stream",
     "text": [
      "<class 'pandas.core.frame.DataFrame'>\n",
      "RangeIndex: 6040 entries, 0 to 6039\n",
      "Data columns (total 5 columns):\n",
      " #   Column      Non-Null Count  Dtype \n",
      "---  ------      --------------  ----- \n",
      " 0   UserID      6040 non-null   int64 \n",
      " 1   Gender      6040 non-null   object\n",
      " 2   Age         6040 non-null   int64 \n",
      " 3   Occupation  6040 non-null   int64 \n",
      " 4   Zip-code    6040 non-null   object\n",
      "dtypes: int64(3), object(2)\n",
      "memory usage: 236.1+ KB\n"
     ]
    }
   ],
   "source": [
    "df_users.info()"
   ]
  },
  {
   "attachments": {},
   "cell_type": "markdown",
   "metadata": {},
   "source": [
    "##### Good. There are no null values in our dataset"
   ]
  },
  {
   "cell_type": "code",
   "execution_count": 12,
   "metadata": {},
   "outputs": [
    {
     "data": {
      "text/html": [
       "<div>\n",
       "<style scoped>\n",
       "    .dataframe tbody tr th:only-of-type {\n",
       "        vertical-align: middle;\n",
       "    }\n",
       "\n",
       "    .dataframe tbody tr th {\n",
       "        vertical-align: top;\n",
       "    }\n",
       "\n",
       "    .dataframe thead th {\n",
       "        text-align: right;\n",
       "    }\n",
       "</style>\n",
       "<table border=\"1\" class=\"dataframe\">\n",
       "  <thead>\n",
       "    <tr style=\"text-align: right;\">\n",
       "      <th></th>\n",
       "      <th>Movie ID</th>\n",
       "      <th>Title</th>\n",
       "      <th>Genres</th>\n",
       "    </tr>\n",
       "  </thead>\n",
       "  <tbody>\n",
       "    <tr>\n",
       "      <th>0</th>\n",
       "      <td>1</td>\n",
       "      <td>Toy Story (1995)</td>\n",
       "      <td>Animation|Children's|Comedy</td>\n",
       "    </tr>\n",
       "    <tr>\n",
       "      <th>1</th>\n",
       "      <td>2</td>\n",
       "      <td>Jumanji (1995)</td>\n",
       "      <td>Adventure|Children's|Fantasy</td>\n",
       "    </tr>\n",
       "    <tr>\n",
       "      <th>2</th>\n",
       "      <td>3</td>\n",
       "      <td>Grumpier Old Men (1995)</td>\n",
       "      <td>Comedy|Romance</td>\n",
       "    </tr>\n",
       "    <tr>\n",
       "      <th>3</th>\n",
       "      <td>4</td>\n",
       "      <td>Waiting to Exhale (1995)</td>\n",
       "      <td>Comedy|Drama</td>\n",
       "    </tr>\n",
       "    <tr>\n",
       "      <th>4</th>\n",
       "      <td>5</td>\n",
       "      <td>Father of the Bride Part II (1995)</td>\n",
       "      <td>Comedy</td>\n",
       "    </tr>\n",
       "  </tbody>\n",
       "</table>\n",
       "</div>"
      ],
      "text/plain": [
       "   Movie ID                               Title                        Genres\n",
       "0         1                    Toy Story (1995)   Animation|Children's|Comedy\n",
       "1         2                      Jumanji (1995)  Adventure|Children's|Fantasy\n",
       "2         3             Grumpier Old Men (1995)                Comedy|Romance\n",
       "3         4            Waiting to Exhale (1995)                  Comedy|Drama\n",
       "4         5  Father of the Bride Part II (1995)                        Comedy"
      ]
     },
     "execution_count": 12,
     "metadata": {},
     "output_type": "execute_result"
    }
   ],
   "source": [
    "#Let us first explore the movies dataset, them followed by ratings and users\n",
    "\n",
    "\n",
    "df_movies.head()"
   ]
  },
  {
   "cell_type": "code",
   "execution_count": 13,
   "metadata": {},
   "outputs": [
    {
     "data": {
      "text/html": [
       "<div>\n",
       "<style scoped>\n",
       "    .dataframe tbody tr th:only-of-type {\n",
       "        vertical-align: middle;\n",
       "    }\n",
       "\n",
       "    .dataframe tbody tr th {\n",
       "        vertical-align: top;\n",
       "    }\n",
       "\n",
       "    .dataframe thead th {\n",
       "        text-align: right;\n",
       "    }\n",
       "</style>\n",
       "<table border=\"1\" class=\"dataframe\">\n",
       "  <thead>\n",
       "    <tr style=\"text-align: right;\">\n",
       "      <th></th>\n",
       "      <th>Movie ID</th>\n",
       "      <th>Title</th>\n",
       "      <th>Genres</th>\n",
       "    </tr>\n",
       "  </thead>\n",
       "  <tbody>\n",
       "    <tr>\n",
       "      <th>0</th>\n",
       "      <td>1</td>\n",
       "      <td>Toy Story (1995)</td>\n",
       "      <td>Animation|Children's|Comedy</td>\n",
       "    </tr>\n",
       "  </tbody>\n",
       "</table>\n",
       "</div>"
      ],
      "text/plain": [
       "   Movie ID             Title                       Genres\n",
       "0         1  Toy Story (1995)  Animation|Children's|Comedy"
      ]
     },
     "execution_count": 13,
     "metadata": {},
     "output_type": "execute_result"
    }
   ],
   "source": [
    "df_movies[df_movies['Movie ID'] == 1]"
   ]
  },
  {
   "cell_type": "code",
   "execution_count": 14,
   "metadata": {},
   "outputs": [],
   "source": [
    "df_movies['Genres'] = df_movies['Genres'].apply(lambda x : x.split('|'))"
   ]
  },
  {
   "cell_type": "code",
   "execution_count": 15,
   "metadata": {},
   "outputs": [],
   "source": [
    "df_movies = df_movies.explode('Genres')"
   ]
  },
  {
   "cell_type": "code",
   "execution_count": 16,
   "metadata": {},
   "outputs": [
    {
     "data": {
      "text/html": [
       "<div>\n",
       "<style scoped>\n",
       "    .dataframe tbody tr th:only-of-type {\n",
       "        vertical-align: middle;\n",
       "    }\n",
       "\n",
       "    .dataframe tbody tr th {\n",
       "        vertical-align: top;\n",
       "    }\n",
       "\n",
       "    .dataframe thead th {\n",
       "        text-align: right;\n",
       "    }\n",
       "</style>\n",
       "<table border=\"1\" class=\"dataframe\">\n",
       "  <thead>\n",
       "    <tr style=\"text-align: right;\">\n",
       "      <th></th>\n",
       "      <th>Movie ID</th>\n",
       "      <th>Title</th>\n",
       "      <th>Genres</th>\n",
       "    </tr>\n",
       "  </thead>\n",
       "  <tbody>\n",
       "    <tr>\n",
       "      <th>0</th>\n",
       "      <td>1</td>\n",
       "      <td>Toy Story (1995)</td>\n",
       "      <td>Animation</td>\n",
       "    </tr>\n",
       "    <tr>\n",
       "      <th>0</th>\n",
       "      <td>1</td>\n",
       "      <td>Toy Story (1995)</td>\n",
       "      <td>Children's</td>\n",
       "    </tr>\n",
       "    <tr>\n",
       "      <th>0</th>\n",
       "      <td>1</td>\n",
       "      <td>Toy Story (1995)</td>\n",
       "      <td>Comedy</td>\n",
       "    </tr>\n",
       "  </tbody>\n",
       "</table>\n",
       "</div>"
      ],
      "text/plain": [
       "   Movie ID             Title      Genres\n",
       "0         1  Toy Story (1995)   Animation\n",
       "0         1  Toy Story (1995)  Children's\n",
       "0         1  Toy Story (1995)      Comedy"
      ]
     },
     "execution_count": 16,
     "metadata": {},
     "output_type": "execute_result"
    }
   ],
   "source": [
    "df_movies[df_movies['Movie ID'] == 1]"
   ]
  },
  {
   "cell_type": "code",
   "execution_count": 17,
   "metadata": {},
   "outputs": [
    {
     "data": {
      "text/html": [
       "<div>\n",
       "<style scoped>\n",
       "    .dataframe tbody tr th:only-of-type {\n",
       "        vertical-align: middle;\n",
       "    }\n",
       "\n",
       "    .dataframe tbody tr th {\n",
       "        vertical-align: top;\n",
       "    }\n",
       "\n",
       "    .dataframe thead th {\n",
       "        text-align: right;\n",
       "    }\n",
       "</style>\n",
       "<table border=\"1\" class=\"dataframe\">\n",
       "  <thead>\n",
       "    <tr style=\"text-align: right;\">\n",
       "      <th></th>\n",
       "      <th>index</th>\n",
       "      <th>Title</th>\n",
       "    </tr>\n",
       "  </thead>\n",
       "  <tbody>\n",
       "    <tr>\n",
       "      <th>0</th>\n",
       "      <td>0</td>\n",
       "      <td>Toy Story (1995)</td>\n",
       "    </tr>\n",
       "    <tr>\n",
       "      <th>1</th>\n",
       "      <td>0</td>\n",
       "      <td>Toy Story (1995)</td>\n",
       "    </tr>\n",
       "    <tr>\n",
       "      <th>2</th>\n",
       "      <td>0</td>\n",
       "      <td>Toy Story (1995)</td>\n",
       "    </tr>\n",
       "    <tr>\n",
       "      <th>3</th>\n",
       "      <td>1</td>\n",
       "      <td>Jumanji (1995)</td>\n",
       "    </tr>\n",
       "    <tr>\n",
       "      <th>4</th>\n",
       "      <td>1</td>\n",
       "      <td>Jumanji (1995)</td>\n",
       "    </tr>\n",
       "    <tr>\n",
       "      <th>...</th>\n",
       "      <td>...</td>\n",
       "      <td>...</td>\n",
       "    </tr>\n",
       "    <tr>\n",
       "      <th>6403</th>\n",
       "      <td>3879</td>\n",
       "      <td>Requiem for a Dream (2000)</td>\n",
       "    </tr>\n",
       "    <tr>\n",
       "      <th>6404</th>\n",
       "      <td>3880</td>\n",
       "      <td>Tigerland (2000)</td>\n",
       "    </tr>\n",
       "    <tr>\n",
       "      <th>6405</th>\n",
       "      <td>3881</td>\n",
       "      <td>Two Family House (2000)</td>\n",
       "    </tr>\n",
       "    <tr>\n",
       "      <th>6406</th>\n",
       "      <td>3882</td>\n",
       "      <td>Contender, The (2000)</td>\n",
       "    </tr>\n",
       "    <tr>\n",
       "      <th>6407</th>\n",
       "      <td>3882</td>\n",
       "      <td>Contender, The (2000)</td>\n",
       "    </tr>\n",
       "  </tbody>\n",
       "</table>\n",
       "<p>6408 rows × 2 columns</p>\n",
       "</div>"
      ],
      "text/plain": [
       "      index                       Title\n",
       "0         0            Toy Story (1995)\n",
       "1         0            Toy Story (1995)\n",
       "2         0            Toy Story (1995)\n",
       "3         1              Jumanji (1995)\n",
       "4         1              Jumanji (1995)\n",
       "...     ...                         ...\n",
       "6403   3879  Requiem for a Dream (2000)\n",
       "6404   3880            Tigerland (2000)\n",
       "6405   3881     Two Family House (2000)\n",
       "6406   3882       Contender, The (2000)\n",
       "6407   3882       Contender, The (2000)\n",
       "\n",
       "[6408 rows x 2 columns]"
      ]
     },
     "execution_count": 17,
     "metadata": {},
     "output_type": "execute_result"
    }
   ],
   "source": [
    "df_movies['Title'].reset_index()"
   ]
  },
  {
   "cell_type": "markdown",
   "metadata": {},
   "source": [
    "## movies_eda"
   ]
  },
  {
   "cell_type": "code",
   "execution_count": 18,
   "metadata": {},
   "outputs": [
    {
     "data": {
      "image/png": "[encoded data removed]",
      "text/plain": [
       "<Figure size 720x432 with 1 Axes>"
      ]
     },
     "metadata": {
      "needs_background": "light"
     },
     "output_type": "display_data"
    }
   ],
   "source": [
    "def top_genres(df,N=5):\n",
    "    plt.figure(figsize=(10,6))\n",
    "    plt.xlabel('Genres')\n",
    "    sns.countplot(df[df.isin(df.value_counts().head(N).reset_index()['index'])])\n",
    "    plt.show()\n",
    "\n",
    "\n",
    "#Top 10 genres\n",
    "top_genres(df_movies['Genres'],N= 10)"
   ]
  },
  {
   "attachments": {},
   "cell_type": "markdown",
   "metadata": {},
   "source": [
    "#### Feature Engineering: Getting the release year from movies"
   ]
  },
  {
   "cell_type": "code",
   "execution_count": 19,
   "metadata": {},
   "outputs": [
    {
     "data": {
      "text/plain": [
       "array(['1995', 'Yao a yao yao dao waipo qiao)', 'Se7en)', '1994',\n",
       "       'The Postman)', 'Le Confessionnal)', '1996', 'Gazon maudit)',\n",
       "       'Badkonake Sefid )', 'Antonia)', 'Haine, La)',\n",
       "       'Keiner liebt mich)', '1976', '1993', '1992',\n",
       "       \"Uomo delle stelle, L')\", 'Saimt el Qusur)', 'Cienie)', '1967',\n",
       "       'Parapluies de Cherbourg, Les)', 'Utomlyonnye solntsem)',\n",
       "       'Pred dozhdot)', '1977', 'Como agua para chocolate)',\n",
       "       'Mi vida loca)', 'a.k.a. Leon: The Professional)',\n",
       "       'La Reine Margot)', 'Pret-A-Porter)', 'Fresa y chocolate)',\n",
       "       'Huozhe)', 'Die Macht der Bilder)', '1965', 'Ai no corrida)',\n",
       "       'Nuits fauves, Les)', '1982', '1962', 'Bulletproof Heart)',\n",
       "       'K�disbellan )', 'Io speriamo che me la cavo )', 'Caf� au Lait)',\n",
       "       'Caro Diario)', 'De eso no se habla)', '1990', '1991', '1989',\n",
       "       '1937', '1940', '1969', 'Wu Kui)', '1981', 'Pane e cioccolata)',\n",
       "       '1970', 'La Flor de Mi Secreto)', 'Schrei aus Stein)',\n",
       "       'Tierra y libertad)', 'Un indien dans la ville)',\n",
       "       '� k�ldum klaka)', '1960', '1955', '1956', 'Apur Sansar)', '1968',\n",
       "       'Coup de Torchon)', \"Oeil de Vichy, L')\", '1980',\n",
       "       'Versprechen, Das)', 'Etz Hadomim Tafus)', '1988',\n",
       "       'Hussard sur le toit, Le)', '1975', 'Boca a boca)',\n",
       "       'Les Visiteurs)', 'Paul Bowles - Halbmond)', '1986',\n",
       "       'Dellamorte Dellamore)', 'Kokaku kidotai)', '1948', '1943', '1963',\n",
       "       '1950', 'Khomreh)', 'a.k.a. Summer Fling)', '1946',\n",
       "       'Life is Rosey)', 'Journey of the Hyena)', \"God's Gift)\",\n",
       "       'Tre Passi nel Delirio)', '1997', 'ID4)', 'Yo, la peor de todas)',\n",
       "       '1987', \"En compagnie d'Antonin Artaud)\", 'Sibak)', '1974',\n",
       "       'Vieille qui marchait dans la mer, La)',\n",
       "       'Rendez-vous de Paris, Les)', 'Mort en ce jardin, La)',\n",
       "       'Convento, O)', '1959', 'Tianguo niezi)', 'Narayama Bushiko)',\n",
       "       '1949', '1972', 'Bewegte Mann, Der)', 'Schatten der Engel)',\n",
       "       'Chao ji ji hua)', '1998', '1933', '1952', '1951', '1957', '1961',\n",
       "       '1958', '1954', '1934', '1944', '1942', '1941', '1964', '1953',\n",
       "       '1939', 'a.k.a. Sunset Boulevard)', '1947', '1945', '1938', '1935',\n",
       "       '1936', '1926', '1932', 'Blaue Engel, Der)', 'Brother of Sleep)',\n",
       "       \"L'Associe\", '1971', 'Azucar Amargo)', '1973', '1979',\n",
       "       \"Microcosmos: Le peuple de l'herbe)\", 'La Fille Seule)',\n",
       "       'Le Huiti�me jour )', 'Manon des sources)',\n",
       "       'Retour de Martin Guerre, Le)', 'Zaproszenie)',\n",
       "       'Bambini ci guardano, I)', 'Blechtrommel, Die)', '1966',\n",
       "       'La Double Vie de V�ronique)', '1978', '1985', '1983',\n",
       "       'Der Himmel �ber Berlin)', 'Le Grand Bleu)',\n",
       "       'Die xue shuang xiong)', '1984', 'Das Boot)',\n",
       "       'Sjunde inseglet, Det)', 'La Femme Nikita)', '1931',\n",
       "       'Dead By Dawn)', 'Mitt liv som hund)', 'Bis ans Ende der Welt)',\n",
       "       \"Andy Warhol's Dracula)\", 'Nosferatu, eine Symphonie des Grauens)',\n",
       "       'Identificazione di una donna)', 'Giardino dei Finzi-Contini, Il)',\n",
       "       'Kj�rlighetens kj�tere)', 'Cristo proibito, Il)',\n",
       "       \"J'ai pas sommeil)\", 'Voleurs, Les)', 'Kavkazsky Plennik)',\n",
       "       'a.k.a. Jungle 2 Jungle)', 'Feng Yue)', 'La Promesse)',\n",
       "       'Shall We Dansu?)', 'For Roseanna)', 'Chacun cherche son chat)',\n",
       "       'Le M�pris)', 'a.k.a. Alive & Kicking)',\n",
       "       'Her Majesty, Mrs. Brown)', 'Ma vie en rose)',\n",
       "       'Callej�n de los milagros, El)', 'Karakter)', 'Bacheha-Ye Aseman)',\n",
       "       '1927', '1929', '1930', 'The Magnificent Seven)',\n",
       "       'Dong gong xi gong)', 'Le Septi�me ciel)', 'Il Portiere di notte)',\n",
       "       'H�stsonaten )', 'Il Testimone dello sposo)',\n",
       "       'a.k.a. All I Wanna Do, The Hairy Bird)', 'Regarde la mer)',\n",
       "       '1928', '1925', '1923', '1999', 'Pasqualino Settebellezze)',\n",
       "       \"Travolti da un insolito destino nell'azzurro mare d'Agosto)\",\n",
       "       'Die Siebtelbauern)', 'La Vita � bella)', 'Le Notti di Cabiria)',\n",
       "       'Central do Brasil)', 'Festen)', 'Gojira)',\n",
       "       'Kingukongu tai Gojira)', 'Hamam)', 'Nettoyage � sec)',\n",
       "       'El D�a de la bestia)', 'La Plan�te sauvage)', 'Sib)',\n",
       "       \"L' �cole de la chair)\", 'Seul contre tous)',\n",
       "       'La Vie r�v�e des anges)', 'Shuang long hui)',\n",
       "       'Los Amantes del C�rculo Polar)',\n",
       "       'Jeanne et le gar�on formidable)', 'Il Mostro)', 'Abre los ojos)',\n",
       "       'Fotoamator)', 'Hsing hsing wang)', 'Bian Lian)',\n",
       "       'a.k.a. Killbots)', 'Tian yu)', 'Hak hap)', \"L' Assedio)\",\n",
       "       'Rekopis znaleziony w Saragossie)', 'Mia eoniotita ke mia mera )',\n",
       "       'Le Nain rouge)', 'Le Violon rouge)',\n",
       "       \"Leggenda del pianista sull'oceano)\", 'Lola rennt)',\n",
       "       'Le D�ner de cons)', 'Les Amants du Pont-Neuf)',\n",
       "       'Fin ao�t, d�but septembre)', \"Conte d'automne)\",\n",
       "       'Les Quatre cents coups)', 'Jules et Jim)', 'Tenue de soir�e)',\n",
       "       'A J�t�kos)', 'Alice et Martin)',\n",
       "       'a.k.a. Omen III: The Final Conflict)', 'a.k.a. Oscar & Lucinda)',\n",
       "       '1919', 'Die Spinnen, 1. Teil: Der Goldene See)', 'Bure Baruta)',\n",
       "       'West Beyrouth)', 'Crna macka, beli macor)',\n",
       "       'a.k.a. Alice, Sweet Alice/Holy Terror)', 'La S�paration)',\n",
       "       'Feiying gaiwak)', 'Longxiong hudi)', 'E la nave va)',\n",
       "       'El Abuelo)', 'Les enfants du paradis)',\n",
       "       'a.k.a. Handle with Care)', 'Zui quan)', 'Il Conformista)',\n",
       "       'Dom za vesanje)', 'Le Feu Follet)', 'El Amor Brujo)',\n",
       "       'Hombre Mirando al Sudeste)', 'a.k.a. Sydney, a.k.a. Hard Eight)',\n",
       "       'Un Homme et une Femme)', 'Hong Gao Liang)', 'Mononoke Hime)',\n",
       "       'Mein liebster Feind)', 'Train De Vie)',\n",
       "       'Zbogum na dvadesetiot vek)', 'Todo Sobre Mi Madre)',\n",
       "       'La Morte Vivante)', 'a.k.a. Laurel & Hardy in Toyland)',\n",
       "       'Ladri di biciclette)', 'Reazione a catena)', 'a.k.a. Lauderdale)',\n",
       "       'Grande illusion, La)', 'Jing ke ci qin wang)', 'Ulisse)', '2000',\n",
       "       'Malli)', '1922', 'Auch Zwerge haben klein angefangen)',\n",
       "       'La Maschera Del Demonio)', 'Las Vampiras)', 'Suna no onna)',\n",
       "       'M�s que amor, frenes�)', '1920', 'Falkens �ga)', 'Ph�rpa)',\n",
       "       'Soy Cuba/Ya Kuba)', 'Lashou shentan)',\n",
       "       \"C'est arriv� pr�s de chez vous)\", 'Amigo/Amado)',\n",
       "       'Yi ge dou bu neng shao)', '1921', 'Mifunes sidste sang)',\n",
       "       'Est-ouest)', 'M�lodie en sous-sol )', 'La Nuit Fantastique)',\n",
       "       'Der Unhold)', 'Les Convoyeurs Attendent)', 'Zerkalo)',\n",
       "       'Le Proc�s)', 'Rang-e Khoda)', 'Sangre y Arena)',\n",
       "       'a.k.a. The City of the Dead)', 'Macchie Solari)',\n",
       "       'Corpi Presentano Tracce di Violenza Carnale)', 'Solyaris)',\n",
       "       'Sacco e Vanzetti)', '� nous la libert� )', 'Yukinojo Henge)',\n",
       "       'Le Legge)', 'Ai No Borei)', 'Idioterne)', 'Les Collants Noirs)',\n",
       "       'Operazione Paura)', 'Les Ma�tres du Temps)',\n",
       "       \"La Casa dell'esorcismo)\", \"Ceux qui m'aiment prendront le train)\",\n",
       "       'Sans toit ni loi)', 'Cl�o de 5 � 7)', 'Angustia)',\n",
       "       'La Novia Ensangrentada)', 'Paura nella citt� dei morti viventi)',\n",
       "       'La Grande Bouffe)', 'a.k.a. The Road Warrior)',\n",
       "       'Bronenosets Potyomkin)', 'La Lengua de las Mariposas)',\n",
       "       'Le Temps Retrouv�)', 'a.k.a. Bound by Honor)',\n",
       "       'Rosso Segno Della Follia)', 'Xizhao)', 'a.k.a. Immortality)',\n",
       "       'Les Amants Criminels)', 'La Ciociara)', 'La Historia Oficial)',\n",
       "       'S�ndagsengler)', 'La Fille sur le Pont)',\n",
       "       'Tre Volti Della Paura, I)', 'Cannibal Ferox)',\n",
       "       'Et Dieu&#8230;Cr�a la Femme)', 'Une Liaison Pornographique)',\n",
       "       'Gojira ni-sen mireniamu)', \"a.k.a. It's the Rage)\", 'Anatomie)',\n",
       "       'Goya en Bodeos)', 'In Weiter Ferne, So Nah!)'], dtype=object)"
      ]
     },
     "execution_count": 19,
     "metadata": {},
     "output_type": "execute_result"
    }
   ],
   "source": [
    "df_movies['Title'].apply(lambda x: x.split('(')[1][:-1]).unique()"
   ]
  },
  {
   "cell_type": "code",
   "execution_count": 20,
   "metadata": {},
   "outputs": [
    {
     "data": {
      "text/html": [
       "<div>\n",
       "<style scoped>\n",
       "    .dataframe tbody tr th:only-of-type {\n",
       "        vertical-align: middle;\n",
       "    }\n",
       "\n",
       "    .dataframe tbody tr th {\n",
       "        vertical-align: top;\n",
       "    }\n",
       "\n",
       "    .dataframe thead th {\n",
       "        text-align: right;\n",
       "    }\n",
       "</style>\n",
       "<table border=\"1\" class=\"dataframe\">\n",
       "  <thead>\n",
       "    <tr style=\"text-align: right;\">\n",
       "      <th></th>\n",
       "      <th>Movie ID</th>\n",
       "      <th>Title</th>\n",
       "      <th>Genres</th>\n",
       "    </tr>\n",
       "  </thead>\n",
       "  <tbody>\n",
       "    <tr>\n",
       "      <th>46</th>\n",
       "      <td>47</td>\n",
       "      <td>Seven (Se7en) (1995)</td>\n",
       "      <td>Crime</td>\n",
       "    </tr>\n",
       "    <tr>\n",
       "      <th>46</th>\n",
       "      <td>47</td>\n",
       "      <td>Seven (Se7en) (1995)</td>\n",
       "      <td>Thriller</td>\n",
       "    </tr>\n",
       "  </tbody>\n",
       "</table>\n",
       "</div>"
      ],
      "text/plain": [
       "    Movie ID                 Title    Genres\n",
       "46        47  Seven (Se7en) (1995)     Crime\n",
       "46        47  Seven (Se7en) (1995)  Thriller"
      ]
     },
     "execution_count": 20,
     "metadata": {},
     "output_type": "execute_result"
    }
   ],
   "source": [
    "df_movies[df_movies['Title'].str.contains('Se7en')]"
   ]
  },
  {
   "cell_type": "code",
   "execution_count": 21,
   "metadata": {},
   "outputs": [
    {
     "data": {
      "text/html": [
       "<div>\n",
       "<style scoped>\n",
       "    .dataframe tbody tr th:only-of-type {\n",
       "        vertical-align: middle;\n",
       "    }\n",
       "\n",
       "    .dataframe tbody tr th {\n",
       "        vertical-align: top;\n",
       "    }\n",
       "\n",
       "    .dataframe thead th {\n",
       "        text-align: right;\n",
       "    }\n",
       "</style>\n",
       "<table border=\"1\" class=\"dataframe\">\n",
       "  <thead>\n",
       "    <tr style=\"text-align: right;\">\n",
       "      <th></th>\n",
       "      <th>Movie ID</th>\n",
       "      <th>Title</th>\n",
       "      <th>Genres</th>\n",
       "    </tr>\n",
       "  </thead>\n",
       "  <tbody>\n",
       "    <tr>\n",
       "      <th>58</th>\n",
       "      <td>59</td>\n",
       "      <td>Confessional, The (Le Confessionnal) (1995)</td>\n",
       "      <td>Drama</td>\n",
       "    </tr>\n",
       "    <tr>\n",
       "      <th>58</th>\n",
       "      <td>59</td>\n",
       "      <td>Confessional, The (Le Confessionnal) (1995)</td>\n",
       "      <td>Mystery</td>\n",
       "    </tr>\n",
       "  </tbody>\n",
       "</table>\n",
       "</div>"
      ],
      "text/plain": [
       "    Movie ID                                        Title   Genres\n",
       "58        59  Confessional, The (Le Confessionnal) (1995)    Drama\n",
       "58        59  Confessional, The (Le Confessionnal) (1995)  Mystery"
      ]
     },
     "execution_count": 21,
     "metadata": {},
     "output_type": "execute_result"
    }
   ],
   "source": [
    "df_movies[df_movies['Title'].str.contains('Le Confessionnal')]"
   ]
  },
  {
   "cell_type": "code",
   "execution_count": 22,
   "metadata": {},
   "outputs": [
    {
     "data": {
      "text/html": [
       "<div>\n",
       "<style scoped>\n",
       "    .dataframe tbody tr th:only-of-type {\n",
       "        vertical-align: middle;\n",
       "    }\n",
       "\n",
       "    .dataframe tbody tr th {\n",
       "        vertical-align: top;\n",
       "    }\n",
       "\n",
       "    .dataframe thead th {\n",
       "        text-align: right;\n",
       "    }\n",
       "</style>\n",
       "<table border=\"1\" class=\"dataframe\">\n",
       "  <thead>\n",
       "    <tr style=\"text-align: right;\">\n",
       "      <th></th>\n",
       "      <th>Movie ID</th>\n",
       "      <th>Title</th>\n",
       "      <th>Genres</th>\n",
       "    </tr>\n",
       "  </thead>\n",
       "  <tbody>\n",
       "    <tr>\n",
       "      <th>3752</th>\n",
       "      <td>3822</td>\n",
       "      <td>Girl on the Bridge, The (La Fille sur le Pont)...</td>\n",
       "      <td>Drama</td>\n",
       "    </tr>\n",
       "    <tr>\n",
       "      <th>3752</th>\n",
       "      <td>3822</td>\n",
       "      <td>Girl on the Bridge, The (La Fille sur le Pont)...</td>\n",
       "      <td>Romance</td>\n",
       "    </tr>\n",
       "  </tbody>\n",
       "</table>\n",
       "</div>"
      ],
      "text/plain": [
       "      Movie ID                                              Title   Genres\n",
       "3752      3822  Girl on the Bridge, The (La Fille sur le Pont)...    Drama\n",
       "3752      3822  Girl on the Bridge, The (La Fille sur le Pont)...  Romance"
      ]
     },
     "execution_count": 22,
     "metadata": {},
     "output_type": "execute_result"
    }
   ],
   "source": [
    "df_movies[df_movies['Title'].str.contains('La Fille sur le Pont')]"
   ]
  },
  {
   "cell_type": "code",
   "execution_count": 23,
   "metadata": {},
   "outputs": [
    {
     "data": {
      "text/plain": [
       "array(['1995', '1994', '1996', '1976', '1993', '1992', '1988', '1967',\n",
       "       '1964', '1977', '1965', '1982', '1962', '1990', '1991', '1989',\n",
       "       '1937', '1940', '1969', '1981', '1973', '1970', '1960', '1955',\n",
       "       '1956', '1959', '1968', '1980', '1975', '1986', '1948', '1943',\n",
       "       '1963', '1950', '1946', '1987', '1997', '1974', '1958', '1949',\n",
       "       '1972', '1998', '1933', '1952', '1951', '1957', '1961', '1954',\n",
       "       '1934', '1944', '1942', '1941', '1953', '1939', '1947', '1945',\n",
       "       '1938', '1935', '1936', '1926', '1932', '1930', \"L'Associe\",\n",
       "       '1971', '1979', '1966', '1978', '1985', '1983', '1984', '1931',\n",
       "       '1922', '1927', '1929', '1928', '1925', '1923', '1999', '1919',\n",
       "       '2000', '1920', '1921'], dtype=object)"
      ]
     },
     "execution_count": 23,
     "metadata": {},
     "output_type": "execute_result"
    }
   ],
   "source": [
    "df_movies['Title'].apply(lambda x: x.split(' ')[-1].split('(')[1].split(')')[0]).unique()"
   ]
  },
  {
   "cell_type": "code",
   "execution_count": 24,
   "metadata": {},
   "outputs": [
    {
     "data": {
      "text/plain": [
       "'1982'"
      ]
     },
     "execution_count": 24,
     "metadata": {},
     "output_type": "execute_result"
    }
   ],
   "source": [
    "df_movies[df_movies['Title'].str.contains(\"L'Associe\")]['Title'].str.split(' ').values[0][-1].split('(')[-1].split(')')[0]"
   ]
  },
  {
   "cell_type": "code",
   "execution_count": 25,
   "metadata": {},
   "outputs": [],
   "source": [
    "df_movies['ReleaseYear'] = df_movies['Title'].apply(lambda x: x.split(' ')[-1].split('(')[1].split(')')[0])"
   ]
  },
  {
   "cell_type": "code",
   "execution_count": 26,
   "metadata": {},
   "outputs": [],
   "source": [
    "df_movies[df_movies['ReleaseYear'] == \"L'Associe\"]['ReleaseYear'] = 1982"
   ]
  },
  {
   "cell_type": "code",
   "execution_count": 27,
   "metadata": {},
   "outputs": [
    {
     "data": {
      "text/plain": [
       "array(['1995', '1994', '1996', '1976', '1993', '1992', '1988', '1967',\n",
       "       '1964', '1977', '1965', '1982', '1962', '1990', '1991', '1989',\n",
       "       '1937', '1940', '1969', '1981', '1973', '1970', '1960', '1955',\n",
       "       '1956', '1959', '1968', '1980', '1975', '1986', '1948', '1943',\n",
       "       '1963', '1950', '1946', '1987', '1997', '1974', '1958', '1949',\n",
       "       '1972', '1998', '1933', '1952', '1951', '1957', '1961', '1954',\n",
       "       '1934', '1944', '1942', '1941', '1953', '1939', '1947', '1945',\n",
       "       '1938', '1935', '1936', '1926', '1932', '1930', \"L'Associe\",\n",
       "       '1971', '1979', '1966', '1978', '1985', '1983', '1984', '1931',\n",
       "       '1922', '1927', '1929', '1928', '1925', '1923', '1999', '1919',\n",
       "       '2000', '1920', '1921'], dtype=object)"
      ]
     },
     "execution_count": 27,
     "metadata": {},
     "output_type": "execute_result"
    }
   ],
   "source": [
    "df_movies['ReleaseYear'].unique()"
   ]
  },
  {
   "cell_type": "code",
   "execution_count": 28,
   "metadata": {},
   "outputs": [],
   "source": [
    "df_movies['ReleaseYear'].replace(\"L'Associe\",\"1982\",inplace=True)"
   ]
  },
  {
   "cell_type": "code",
   "execution_count": 29,
   "metadata": {},
   "outputs": [],
   "source": [
    "df_movies['ReleaseYear'] = df_movies['ReleaseYear'].astype('int64')"
   ]
  },
  {
   "cell_type": "code",
   "execution_count": 30,
   "metadata": {},
   "outputs": [
    {
     "data": {
      "image/png": "[encoded data removed]",
      "text/plain": [
       "<Figure size 720x432 with 1 Axes>"
      ]
     },
     "metadata": {
      "needs_background": "light"
     },
     "output_type": "display_data"
    }
   ],
   "source": [
    "plt.figure(figsize=(10,6))\n",
    "sns.distplot(df_movies['ReleaseYear'], kde=True, bins= 30, color='green')\n",
    "plt.show()"
   ]
  },
  {
   "cell_type": "code",
   "execution_count": 31,
   "metadata": {},
   "outputs": [],
   "source": [
    "df_movies.reset_index(inplace=True, drop='index')"
   ]
  },
  {
   "cell_type": "code",
   "execution_count": 32,
   "metadata": {},
   "outputs": [],
   "source": [
    "df_movies.rename(columns={'Movie ID': 'MovieID'}, inplace=True)"
   ]
  },
  {
   "cell_type": "code",
   "execution_count": 33,
   "metadata": {},
   "outputs": [
    {
     "data": {
      "text/html": [
       "<div>\n",
       "<style scoped>\n",
       "    .dataframe tbody tr th:only-of-type {\n",
       "        vertical-align: middle;\n",
       "    }\n",
       "\n",
       "    .dataframe tbody tr th {\n",
       "        vertical-align: top;\n",
       "    }\n",
       "\n",
       "    .dataframe thead th {\n",
       "        text-align: right;\n",
       "    }\n",
       "</style>\n",
       "<table border=\"1\" class=\"dataframe\">\n",
       "  <thead>\n",
       "    <tr style=\"text-align: right;\">\n",
       "      <th></th>\n",
       "      <th>MovieID</th>\n",
       "      <th>Title</th>\n",
       "      <th>Genres</th>\n",
       "      <th>ReleaseYear</th>\n",
       "    </tr>\n",
       "  </thead>\n",
       "  <tbody>\n",
       "    <tr>\n",
       "      <th>0</th>\n",
       "      <td>1</td>\n",
       "      <td>Toy Story (1995)</td>\n",
       "      <td>Animation</td>\n",
       "      <td>1995</td>\n",
       "    </tr>\n",
       "    <tr>\n",
       "      <th>1</th>\n",
       "      <td>1</td>\n",
       "      <td>Toy Story (1995)</td>\n",
       "      <td>Children's</td>\n",
       "      <td>1995</td>\n",
       "    </tr>\n",
       "    <tr>\n",
       "      <th>2</th>\n",
       "      <td>1</td>\n",
       "      <td>Toy Story (1995)</td>\n",
       "      <td>Comedy</td>\n",
       "      <td>1995</td>\n",
       "    </tr>\n",
       "    <tr>\n",
       "      <th>3</th>\n",
       "      <td>2</td>\n",
       "      <td>Jumanji (1995)</td>\n",
       "      <td>Adventure</td>\n",
       "      <td>1995</td>\n",
       "    </tr>\n",
       "    <tr>\n",
       "      <th>4</th>\n",
       "      <td>2</td>\n",
       "      <td>Jumanji (1995)</td>\n",
       "      <td>Children's</td>\n",
       "      <td>1995</td>\n",
       "    </tr>\n",
       "    <tr>\n",
       "      <th>...</th>\n",
       "      <td>...</td>\n",
       "      <td>...</td>\n",
       "      <td>...</td>\n",
       "      <td>...</td>\n",
       "    </tr>\n",
       "    <tr>\n",
       "      <th>6403</th>\n",
       "      <td>3949</td>\n",
       "      <td>Requiem for a Dream (2000)</td>\n",
       "      <td>Drama</td>\n",
       "      <td>2000</td>\n",
       "    </tr>\n",
       "    <tr>\n",
       "      <th>6404</th>\n",
       "      <td>3950</td>\n",
       "      <td>Tigerland (2000)</td>\n",
       "      <td>Drama</td>\n",
       "      <td>2000</td>\n",
       "    </tr>\n",
       "    <tr>\n",
       "      <th>6405</th>\n",
       "      <td>3951</td>\n",
       "      <td>Two Family House (2000)</td>\n",
       "      <td>Drama</td>\n",
       "      <td>2000</td>\n",
       "    </tr>\n",
       "    <tr>\n",
       "      <th>6406</th>\n",
       "      <td>3952</td>\n",
       "      <td>Contender, The (2000)</td>\n",
       "      <td>Drama</td>\n",
       "      <td>2000</td>\n",
       "    </tr>\n",
       "    <tr>\n",
       "      <th>6407</th>\n",
       "      <td>3952</td>\n",
       "      <td>Contender, The (2000)</td>\n",
       "      <td>Thriller</td>\n",
       "      <td>2000</td>\n",
       "    </tr>\n",
       "  </tbody>\n",
       "</table>\n",
       "<p>6408 rows × 4 columns</p>\n",
       "</div>"
      ],
      "text/plain": [
       "      MovieID                       Title      Genres  ReleaseYear\n",
       "0           1            Toy Story (1995)   Animation         1995\n",
       "1           1            Toy Story (1995)  Children's         1995\n",
       "2           1            Toy Story (1995)      Comedy         1995\n",
       "3           2              Jumanji (1995)   Adventure         1995\n",
       "4           2              Jumanji (1995)  Children's         1995\n",
       "...       ...                         ...         ...          ...\n",
       "6403     3949  Requiem for a Dream (2000)       Drama         2000\n",
       "6404     3950            Tigerland (2000)       Drama         2000\n",
       "6405     3951     Two Family House (2000)       Drama         2000\n",
       "6406     3952       Contender, The (2000)       Drama         2000\n",
       "6407     3952       Contender, The (2000)    Thriller         2000\n",
       "\n",
       "[6408 rows x 4 columns]"
      ]
     },
     "execution_count": 33,
     "metadata": {},
     "output_type": "execute_result"
    }
   ],
   "source": [
    "df_movies"
   ]
  },
  {
   "attachments": {},
   "cell_type": "markdown",
   "metadata": {},
   "source": [
    "### ratings eda"
   ]
  },
  {
   "cell_type": "code",
   "execution_count": 34,
   "metadata": {},
   "outputs": [
    {
     "name": "stdout",
     "output_type": "stream",
     "text": [
      "<class 'pandas.core.frame.DataFrame'>\n",
      "RangeIndex: 1000209 entries, 0 to 1000208\n",
      "Data columns (total 4 columns):\n",
      " #   Column     Non-Null Count    Dtype\n",
      "---  ------     --------------    -----\n",
      " 0   UserID     1000209 non-null  int64\n",
      " 1   MovieID    1000209 non-null  int64\n",
      " 2   Rating     1000209 non-null  int64\n",
      " 3   Timestamp  1000209 non-null  int64\n",
      "dtypes: int64(4)\n",
      "memory usage: 30.5 MB\n"
     ]
    }
   ],
   "source": [
    "df_ratings.info()"
   ]
  },
  {
   "cell_type": "code",
   "execution_count": 35,
   "metadata": {},
   "outputs": [
    {
     "data": {
      "text/html": [
       "<div>\n",
       "<style scoped>\n",
       "    .dataframe tbody tr th:only-of-type {\n",
       "        vertical-align: middle;\n",
       "    }\n",
       "\n",
       "    .dataframe tbody tr th {\n",
       "        vertical-align: top;\n",
       "    }\n",
       "\n",
       "    .dataframe thead th {\n",
       "        text-align: right;\n",
       "    }\n",
       "</style>\n",
       "<table border=\"1\" class=\"dataframe\">\n",
       "  <thead>\n",
       "    <tr style=\"text-align: right;\">\n",
       "      <th></th>\n",
       "      <th>UserID</th>\n",
       "      <th>MovieID</th>\n",
       "      <th>Rating</th>\n",
       "      <th>Timestamp</th>\n",
       "    </tr>\n",
       "  </thead>\n",
       "  <tbody>\n",
       "    <tr>\n",
       "      <th>0</th>\n",
       "      <td>1</td>\n",
       "      <td>1193</td>\n",
       "      <td>5</td>\n",
       "      <td>978300760</td>\n",
       "    </tr>\n",
       "    <tr>\n",
       "      <th>1</th>\n",
       "      <td>1</td>\n",
       "      <td>661</td>\n",
       "      <td>3</td>\n",
       "      <td>978302109</td>\n",
       "    </tr>\n",
       "    <tr>\n",
       "      <th>2</th>\n",
       "      <td>1</td>\n",
       "      <td>914</td>\n",
       "      <td>3</td>\n",
       "      <td>978301968</td>\n",
       "    </tr>\n",
       "    <tr>\n",
       "      <th>3</th>\n",
       "      <td>1</td>\n",
       "      <td>3408</td>\n",
       "      <td>4</td>\n",
       "      <td>978300275</td>\n",
       "    </tr>\n",
       "    <tr>\n",
       "      <th>4</th>\n",
       "      <td>1</td>\n",
       "      <td>2355</td>\n",
       "      <td>5</td>\n",
       "      <td>978824291</td>\n",
       "    </tr>\n",
       "  </tbody>\n",
       "</table>\n",
       "</div>"
      ],
      "text/plain": [
       "   UserID  MovieID  Rating  Timestamp\n",
       "0       1     1193       5  978300760\n",
       "1       1      661       3  978302109\n",
       "2       1      914       3  978301968\n",
       "3       1     3408       4  978300275\n",
       "4       1     2355       5  978824291"
      ]
     },
     "execution_count": 35,
     "metadata": {},
     "output_type": "execute_result"
    }
   ],
   "source": [
    "df_ratings.head()"
   ]
  },
  {
   "cell_type": "code",
   "execution_count": 36,
   "metadata": {},
   "outputs": [
    {
     "name": "stdout",
     "output_type": "stream",
     "text": [
      "01-01-2001\n"
     ]
    }
   ],
   "source": [
    "import datetime\n",
    "epoch_time = 978300760\n",
    "date_conv = datetime.datetime.fromtimestamp(epoch_time)\n",
    "print(date_conv.strftime('%d-%m-%Y'))"
   ]
  },
  {
   "cell_type": "code",
   "execution_count": 37,
   "metadata": {},
   "outputs": [],
   "source": [
    "df_ratings['Timestamp'] = df_ratings['Timestamp'].apply(lambda x : datetime.datetime.fromtimestamp(x))"
   ]
  },
  {
   "cell_type": "code",
   "execution_count": 38,
   "metadata": {},
   "outputs": [],
   "source": [
    "df_ratings['date'] = df_ratings['Timestamp'].apply(lambda x : x.strftime('%d-%m-%Y'))"
   ]
  },
  {
   "cell_type": "code",
   "execution_count": 39,
   "metadata": {},
   "outputs": [],
   "source": [
    "df_ratings['year'] = pd.DatetimeIndex(df_ratings['date']).year\n",
    "df_ratings['month'] = pd.DatetimeIndex(df_ratings['date']).month"
   ]
  },
  {
   "cell_type": "code",
   "execution_count": 40,
   "metadata": {},
   "outputs": [
    {
     "data": {
      "text/plain": [
       "11    289866\n",
       "8     113415\n",
       "5      77259\n",
       "12     73183\n",
       "7      71383\n",
       "6      68870\n",
       "3      59294\n",
       "10     53344\n",
       "9      51780\n",
       "4      50528\n",
       "1      45668\n",
       "2      45619\n",
       "Name: month, dtype: int64"
      ]
     },
     "execution_count": 40,
     "metadata": {},
     "output_type": "execute_result"
    }
   ],
   "source": [
    "df_ratings['month'].value_counts()"
   ]
  },
  {
   "cell_type": "code",
   "execution_count": 41,
   "metadata": {},
   "outputs": [
    {
     "data": {
      "text/plain": [
       "2000    904175\n",
       "2001     68628\n",
       "2002     24053\n",
       "2003      3353\n",
       "Name: year, dtype: int64"
      ]
     },
     "execution_count": 41,
     "metadata": {},
     "output_type": "execute_result"
    }
   ],
   "source": [
    "df_ratings['year'].value_counts()"
   ]
  },
  {
   "cell_type": "code",
   "execution_count": 42,
   "metadata": {},
   "outputs": [
    {
     "data": {
      "text/plain": [
       "0    3428\n",
       "1    2991\n",
       "2    2990\n",
       "3    2883\n",
       "4    2672\n",
       "Name: MovieID, dtype: int64"
      ]
     },
     "execution_count": 42,
     "metadata": {},
     "output_type": "execute_result"
    }
   ],
   "source": [
    "#Which movie has the more number of ratings\n",
    "\n",
    "df_ratings['MovieID'].value_counts().head().reset_index()['MovieID']"
   ]
  },
  {
   "cell_type": "code",
   "execution_count": 43,
   "metadata": {},
   "outputs": [
    {
     "data": {
      "text/html": [
       "<div>\n",
       "<style scoped>\n",
       "    .dataframe tbody tr th:only-of-type {\n",
       "        vertical-align: middle;\n",
       "    }\n",
       "\n",
       "    .dataframe tbody tr th {\n",
       "        vertical-align: top;\n",
       "    }\n",
       "\n",
       "    .dataframe thead th {\n",
       "        text-align: right;\n",
       "    }\n",
       "</style>\n",
       "<table border=\"1\" class=\"dataframe\">\n",
       "  <thead>\n",
       "    <tr style=\"text-align: right;\">\n",
       "      <th></th>\n",
       "      <th>MovieID</th>\n",
       "      <th>Title</th>\n",
       "    </tr>\n",
       "  </thead>\n",
       "  <tbody>\n",
       "    <tr>\n",
       "      <th>4430</th>\n",
       "      <td>2672</td>\n",
       "      <td>Thirteenth Floor, The (1999)</td>\n",
       "    </tr>\n",
       "    <tr>\n",
       "      <th>4758</th>\n",
       "      <td>2883</td>\n",
       "      <td>Mumford (1999)</td>\n",
       "    </tr>\n",
       "    <tr>\n",
       "      <th>4931</th>\n",
       "      <td>2990</td>\n",
       "      <td>Licence to Kill (1989)</td>\n",
       "    </tr>\n",
       "    <tr>\n",
       "      <th>4932</th>\n",
       "      <td>2991</td>\n",
       "      <td>Live and Let Die (1973)</td>\n",
       "    </tr>\n",
       "    <tr>\n",
       "      <th>5571</th>\n",
       "      <td>3428</td>\n",
       "      <td>Champ, The (1979)</td>\n",
       "    </tr>\n",
       "  </tbody>\n",
       "</table>\n",
       "</div>"
      ],
      "text/plain": [
       "      MovieID                         Title\n",
       "4430     2672  Thirteenth Floor, The (1999)\n",
       "4758     2883                Mumford (1999)\n",
       "4931     2990        Licence to Kill (1989)\n",
       "4932     2991       Live and Let Die (1973)\n",
       "5571     3428             Champ, The (1979)"
      ]
     },
     "execution_count": 43,
     "metadata": {},
     "output_type": "execute_result"
    }
   ],
   "source": [
    "df_movies[df_movies['MovieID'].isin(df_ratings['MovieID'].value_counts().head().reset_index()['MovieID'])][['MovieID','Title']].drop_duplicates()"
   ]
  },
  {
   "cell_type": "code",
   "execution_count": 45,
   "metadata": {},
   "outputs": [
    {
     "name": "stdout",
     "output_type": "stream",
     "text": [
      "4    348971\n",
      "3    261197\n",
      "5    226310\n",
      "2    107557\n",
      "1     56174\n",
      "Name: Rating, dtype: int64\n"
     ]
    },
    {
     "data": {
      "image/png": "[encoded data removed]",
      "text/plain": [
       "<Figure size 720x432 with 1 Axes>"
      ]
     },
     "metadata": {
      "needs_background": "light"
     },
     "output_type": "display_data"
    }
   ],
   "source": [
    "print(df_ratings['Rating'].value_counts())\n",
    "\n",
    "\n",
    "plt.figure(figsize=(10,6))\n",
    "sns.countplot(df_ratings['Rating'],label=True)\n",
    "plt.show()"
   ]
  },
  {
   "cell_type": "code",
   "execution_count": 46,
   "metadata": {},
   "outputs": [
    {
     "data": {
      "text/html": [
       "<div>\n",
       "<style scoped>\n",
       "    .dataframe tbody tr th:only-of-type {\n",
       "        vertical-align: middle;\n",
       "    }\n",
       "\n",
       "    .dataframe tbody tr th {\n",
       "        vertical-align: top;\n",
       "    }\n",
       "\n",
       "    .dataframe thead th {\n",
       "        text-align: right;\n",
       "    }\n",
       "</style>\n",
       "<table border=\"1\" class=\"dataframe\">\n",
       "  <thead>\n",
       "    <tr style=\"text-align: right;\">\n",
       "      <th></th>\n",
       "      <th>MovieID</th>\n",
       "      <th>Title</th>\n",
       "      <th>Genres</th>\n",
       "      <th>ReleaseYear</th>\n",
       "    </tr>\n",
       "  </thead>\n",
       "  <tbody>\n",
       "    <tr>\n",
       "      <th>0</th>\n",
       "      <td>1</td>\n",
       "      <td>Toy Story (1995)</td>\n",
       "      <td>Animation</td>\n",
       "      <td>1995</td>\n",
       "    </tr>\n",
       "    <tr>\n",
       "      <th>1</th>\n",
       "      <td>1</td>\n",
       "      <td>Toy Story (1995)</td>\n",
       "      <td>Children's</td>\n",
       "      <td>1995</td>\n",
       "    </tr>\n",
       "    <tr>\n",
       "      <th>2</th>\n",
       "      <td>1</td>\n",
       "      <td>Toy Story (1995)</td>\n",
       "      <td>Comedy</td>\n",
       "      <td>1995</td>\n",
       "    </tr>\n",
       "    <tr>\n",
       "      <th>3</th>\n",
       "      <td>2</td>\n",
       "      <td>Jumanji (1995)</td>\n",
       "      <td>Adventure</td>\n",
       "      <td>1995</td>\n",
       "    </tr>\n",
       "    <tr>\n",
       "      <th>4</th>\n",
       "      <td>2</td>\n",
       "      <td>Jumanji (1995)</td>\n",
       "      <td>Children's</td>\n",
       "      <td>1995</td>\n",
       "    </tr>\n",
       "    <tr>\n",
       "      <th>...</th>\n",
       "      <td>...</td>\n",
       "      <td>...</td>\n",
       "      <td>...</td>\n",
       "      <td>...</td>\n",
       "    </tr>\n",
       "    <tr>\n",
       "      <th>6403</th>\n",
       "      <td>3949</td>\n",
       "      <td>Requiem for a Dream (2000)</td>\n",
       "      <td>Drama</td>\n",
       "      <td>2000</td>\n",
       "    </tr>\n",
       "    <tr>\n",
       "      <th>6404</th>\n",
       "      <td>3950</td>\n",
       "      <td>Tigerland (2000)</td>\n",
       "      <td>Drama</td>\n",
       "      <td>2000</td>\n",
       "    </tr>\n",
       "    <tr>\n",
       "      <th>6405</th>\n",
       "      <td>3951</td>\n",
       "      <td>Two Family House (2000)</td>\n",
       "      <td>Drama</td>\n",
       "      <td>2000</td>\n",
       "    </tr>\n",
       "    <tr>\n",
       "      <th>6406</th>\n",
       "      <td>3952</td>\n",
       "      <td>Contender, The (2000)</td>\n",
       "      <td>Drama</td>\n",
       "      <td>2000</td>\n",
       "    </tr>\n",
       "    <tr>\n",
       "      <th>6407</th>\n",
       "      <td>3952</td>\n",
       "      <td>Contender, The (2000)</td>\n",
       "      <td>Thriller</td>\n",
       "      <td>2000</td>\n",
       "    </tr>\n",
       "  </tbody>\n",
       "</table>\n",
       "<p>6408 rows × 4 columns</p>\n",
       "</div>"
      ],
      "text/plain": [
       "      MovieID                       Title      Genres  ReleaseYear\n",
       "0           1            Toy Story (1995)   Animation         1995\n",
       "1           1            Toy Story (1995)  Children's         1995\n",
       "2           1            Toy Story (1995)      Comedy         1995\n",
       "3           2              Jumanji (1995)   Adventure         1995\n",
       "4           2              Jumanji (1995)  Children's         1995\n",
       "...       ...                         ...         ...          ...\n",
       "6403     3949  Requiem for a Dream (2000)       Drama         2000\n",
       "6404     3950            Tigerland (2000)       Drama         2000\n",
       "6405     3951     Two Family House (2000)       Drama         2000\n",
       "6406     3952       Contender, The (2000)       Drama         2000\n",
       "6407     3952       Contender, The (2000)    Thriller         2000\n",
       "\n",
       "[6408 rows x 4 columns]"
      ]
     },
     "execution_count": 46,
     "metadata": {},
     "output_type": "execute_result"
    }
   ],
   "source": [
    "df_movies"
   ]
  },
  {
   "cell_type": "code",
   "execution_count": 48,
   "metadata": {},
   "outputs": [],
   "source": [
    "df_users[\"Age\"].replace({\"1\": \"Under 18\",\"18\": \"18-24\",\"25\": \"25-34\",\n",
    "            \"35\": \"35-44\",\"45\": \"45-49\",\"50\": \"50-55\",\"56\": \"56+\"},inplace=True)\n",
    "\n",
    "df_users[\"Occupation\"] = df_users[\"Occupation\"].astype(int).replace({0: \"other\",1: \"academic/educator\",2: \"artist\",\n",
    "                                                3: \"clerical/admin\",4: \"college/grad student\",\n",
    "                                5: \"customer service\",6: \"doctor/health care\",7: \"executive/managerial\",\n",
    "                                8: \"farmer\" ,9: \"homemaker\",10: \"K-12 student\",11: \"lawyer\",\n",
    "                                12: \"programmer\",13: \"retired\",14: \"sales/marketing\",15: \"scientist\",\n",
    "                                16: \"self-employed\",17: \"technician/engineer\",\n",
    "                                18: \"tradesman/craftsman\",19: \"unemployed\",20: \"writer\"},\n",
    "                            )"
   ]
  },
  {
   "cell_type": "code",
   "execution_count": 49,
   "metadata": {},
   "outputs": [
    {
     "data": {
      "text/html": [
       "<div>\n",
       "<style scoped>\n",
       "    .dataframe tbody tr th:only-of-type {\n",
       "        vertical-align: middle;\n",
       "    }\n",
       "\n",
       "    .dataframe tbody tr th {\n",
       "        vertical-align: top;\n",
       "    }\n",
       "\n",
       "    .dataframe thead th {\n",
       "        text-align: right;\n",
       "    }\n",
       "</style>\n",
       "<table border=\"1\" class=\"dataframe\">\n",
       "  <thead>\n",
       "    <tr style=\"text-align: right;\">\n",
       "      <th></th>\n",
       "      <th>UserID</th>\n",
       "      <th>Gender</th>\n",
       "      <th>Age</th>\n",
       "      <th>Occupation</th>\n",
       "      <th>Zip-code</th>\n",
       "    </tr>\n",
       "  </thead>\n",
       "  <tbody>\n",
       "    <tr>\n",
       "      <th>0</th>\n",
       "      <td>1</td>\n",
       "      <td>F</td>\n",
       "      <td>1</td>\n",
       "      <td>K-12 student</td>\n",
       "      <td>48067</td>\n",
       "    </tr>\n",
       "    <tr>\n",
       "      <th>1</th>\n",
       "      <td>2</td>\n",
       "      <td>M</td>\n",
       "      <td>56</td>\n",
       "      <td>self-employed</td>\n",
       "      <td>70072</td>\n",
       "    </tr>\n",
       "    <tr>\n",
       "      <th>2</th>\n",
       "      <td>3</td>\n",
       "      <td>M</td>\n",
       "      <td>25</td>\n",
       "      <td>scientist</td>\n",
       "      <td>55117</td>\n",
       "    </tr>\n",
       "    <tr>\n",
       "      <th>3</th>\n",
       "      <td>4</td>\n",
       "      <td>M</td>\n",
       "      <td>45</td>\n",
       "      <td>executive/managerial</td>\n",
       "      <td>02460</td>\n",
       "    </tr>\n",
       "    <tr>\n",
       "      <th>4</th>\n",
       "      <td>5</td>\n",
       "      <td>M</td>\n",
       "      <td>25</td>\n",
       "      <td>writer</td>\n",
       "      <td>55455</td>\n",
       "    </tr>\n",
       "    <tr>\n",
       "      <th>...</th>\n",
       "      <td>...</td>\n",
       "      <td>...</td>\n",
       "      <td>...</td>\n",
       "      <td>...</td>\n",
       "      <td>...</td>\n",
       "    </tr>\n",
       "    <tr>\n",
       "      <th>6035</th>\n",
       "      <td>6036</td>\n",
       "      <td>F</td>\n",
       "      <td>25</td>\n",
       "      <td>scientist</td>\n",
       "      <td>32603</td>\n",
       "    </tr>\n",
       "    <tr>\n",
       "      <th>6036</th>\n",
       "      <td>6037</td>\n",
       "      <td>F</td>\n",
       "      <td>45</td>\n",
       "      <td>academic/educator</td>\n",
       "      <td>76006</td>\n",
       "    </tr>\n",
       "    <tr>\n",
       "      <th>6037</th>\n",
       "      <td>6038</td>\n",
       "      <td>F</td>\n",
       "      <td>56</td>\n",
       "      <td>academic/educator</td>\n",
       "      <td>14706</td>\n",
       "    </tr>\n",
       "    <tr>\n",
       "      <th>6038</th>\n",
       "      <td>6039</td>\n",
       "      <td>F</td>\n",
       "      <td>45</td>\n",
       "      <td>other</td>\n",
       "      <td>01060</td>\n",
       "    </tr>\n",
       "    <tr>\n",
       "      <th>6039</th>\n",
       "      <td>6040</td>\n",
       "      <td>M</td>\n",
       "      <td>25</td>\n",
       "      <td>doctor/health care</td>\n",
       "      <td>11106</td>\n",
       "    </tr>\n",
       "  </tbody>\n",
       "</table>\n",
       "<p>6040 rows × 5 columns</p>\n",
       "</div>"
      ],
      "text/plain": [
       "      UserID Gender  Age            Occupation Zip-code\n",
       "0          1      F    1          K-12 student    48067\n",
       "1          2      M   56         self-employed    70072\n",
       "2          3      M   25             scientist    55117\n",
       "3          4      M   45  executive/managerial    02460\n",
       "4          5      M   25                writer    55455\n",
       "...      ...    ...  ...                   ...      ...\n",
       "6035    6036      F   25             scientist    32603\n",
       "6036    6037      F   45     academic/educator    76006\n",
       "6037    6038      F   56     academic/educator    14706\n",
       "6038    6039      F   45                 other    01060\n",
       "6039    6040      M   25    doctor/health care    11106\n",
       "\n",
       "[6040 rows x 5 columns]"
      ]
     },
     "execution_count": 49,
     "metadata": {},
     "output_type": "execute_result"
    }
   ],
   "source": [
    "df_users"
   ]
  },
  {
   "attachments": {},
   "cell_type": "markdown",
   "metadata": {},
   "source": [
    "#### Merging all the tables"
   ]
  },
  {
   "cell_type": "code",
   "execution_count": 50,
   "metadata": {},
   "outputs": [],
   "source": [
    "df = df_users.merge(df_movies.merge(df_ratings,on=\"MovieID\",how=\"outer\"),on=\"UserID\",how=\"outer\")"
   ]
  },
  {
   "cell_type": "code",
   "execution_count": 51,
   "metadata": {},
   "outputs": [
    {
     "data": {
      "text/plain": [
       "(2102031, 14)"
      ]
     },
     "execution_count": 51,
     "metadata": {},
     "output_type": "execute_result"
    }
   ],
   "source": [
    "df.shape"
   ]
  },
  {
   "cell_type": "code",
   "execution_count": 52,
   "metadata": {},
   "outputs": [
    {
     "data": {
      "text/plain": [
       "((6408, 4), (1000209, 7), (6040, 5))"
      ]
     },
     "execution_count": 52,
     "metadata": {},
     "output_type": "execute_result"
    }
   ],
   "source": [
    "df_movies.shape,df_ratings.shape,df_users.shape"
   ]
  },
  {
   "cell_type": "code",
   "execution_count": 53,
   "metadata": {},
   "outputs": [],
   "source": [
    "df_ = df.copy()"
   ]
  },
  {
   "cell_type": "code",
   "execution_count": 54,
   "metadata": {},
   "outputs": [],
   "source": [
    "df_.dropna(inplace=True)"
   ]
  },
  {
   "cell_type": "code",
   "execution_count": 55,
   "metadata": {},
   "outputs": [
    {
     "name": "stdout",
     "output_type": "stream",
     "text": [
      "<class 'pandas.core.frame.DataFrame'>\n",
      "Int64Index: 2101815 entries, 0 to 2101814\n",
      "Data columns (total 14 columns):\n",
      " #   Column       Dtype         \n",
      "---  ------       -----         \n",
      " 0   UserID       float64       \n",
      " 1   Gender       object        \n",
      " 2   Age          float64       \n",
      " 3   Occupation   object        \n",
      " 4   Zip-code     object        \n",
      " 5   MovieID      int64         \n",
      " 6   Title        object        \n",
      " 7   Genres       object        \n",
      " 8   ReleaseYear  int64         \n",
      " 9   Rating       float64       \n",
      " 10  Timestamp    datetime64[ns]\n",
      " 11  date         object        \n",
      " 12  year         float64       \n",
      " 13  month        float64       \n",
      "dtypes: datetime64[ns](1), float64(5), int64(2), object(6)\n",
      "memory usage: 240.5+ MB\n"
     ]
    }
   ],
   "source": [
    "df_.info()"
   ]
  },
  {
   "cell_type": "code",
   "execution_count": 58,
   "metadata": {},
   "outputs": [],
   "source": [
    "df_['ReleaseYear']=df_['ReleaseYear'].astype('int32')\n",
    "df_['Rating']=df_['Rating'].astype('int32')"
   ]
  },
  {
   "cell_type": "code",
   "execution_count": 60,
   "metadata": {},
   "outputs": [],
   "source": [
    "bins = [1919, 1929, 1939, 1949, 1959, 1969, 1979, 1989, 2000]\n",
    "labels = ['20s', '30s', '40s', '50s', '60s', '70s', '80s', '90s']\n",
    "\n",
    "df_[\"Released_In\"] =  pd.cut(df_['ReleaseYear'], bins=bins, labels=labels)"
   ]
  },
  {
   "attachments": {},
   "cell_type": "markdown",
   "metadata": {},
   "source": [
    "#### Average user rating distribution:"
   ]
  },
  {
   "cell_type": "code",
   "execution_count": 61,
   "metadata": {},
   "outputs": [
    {
     "data": {
      "text/plain": [
       "<AxesSubplot:xlabel='Rating', ylabel='Count'>"
      ]
     },
     "execution_count": 61,
     "metadata": {},
     "output_type": "execute_result"
    },
    {
     "data": {
      "image/png": "[encoded data removed]",
      "text/plain": [
       "<Figure size 432x288 with 1 Axes>"
      ]
     },
     "metadata": {
      "needs_background": "light"
     },
     "output_type": "display_data"
    }
   ],
   "source": [
    "sns.histplot(df_[['UserID','Rating']].groupby('UserID').mean()[\"Rating\"])\n",
    "# average ratings given by each user distribution"
   ]
  },
  {
   "cell_type": "code",
   "execution_count": 63,
   "metadata": {},
   "outputs": [
    {
     "data": {
      "text/plain": [
       "<AxesSubplot:xlabel='Rating', ylabel='Count'>"
      ]
     },
     "execution_count": 63,
     "metadata": {},
     "output_type": "execute_result"
    },
    {
     "data": {
      "image/png": "[encoded data removed]",
      "text/plain": [
       "<Figure size 432x288 with 1 Axes>"
      ]
     },
     "metadata": {
      "needs_background": "light"
     },
     "output_type": "display_data"
    }
   ],
   "source": [
    "sns.histplot(df_[['MovieID','Rating']].groupby('MovieID').mean()[\"Rating\"])\n",
    "# average rating , that each movie has receieved by users ."
   ]
  },
  {
   "cell_type": "code",
   "execution_count": 64,
   "metadata": {},
   "outputs": [
    {
     "data": {
      "text/plain": [
       "3706"
      ]
     },
     "execution_count": 64,
     "metadata": {},
     "output_type": "execute_result"
    }
   ],
   "source": [
    "df_[\"MovieID\"].nunique()"
   ]
  },
  {
   "cell_type": "code",
   "execution_count": 66,
   "metadata": {},
   "outputs": [],
   "source": [
    "m = df_movies[[\"MovieID\",\"Title\",\"Genres\"]]\n",
    "m[\"Genres\"] = m[\"Genres\"].str.split(\"|\")\n",
    "m = m.explode(\"Genres\")\n",
    "m[\"Genres\"] = m[\"Genres\"].replace({\"\":\"Other\",\"Horro\":\"Horror\",\"Sci-\":\"Sci-Fi\",\"Sci\":\"Sci-Fi\",\"Sci-F\":\"Sci-Fi\",\"Dr\":\"Drama\",\"Documenta\":\"Documentary\",\n",
    "                     \"Wester\":\"Western\",\"Fant\":\"Fantasy\",\"Chil\":\"Children's\",\"R\":\"Romance\",\"D\":\"Drama\",\"Rom\":\"Romance\",\"Animati\":\"Animation\",\"Childr\":\"Children's\",\"Childre\":\"Children's\",\n",
    "                     \"Fantas\":\"Fantasy\",\"Come\":\"Comedy\",\"Dram\":\"Drama\",\"S\":\"Sci-Fi\",\"Roma\":\"Romance\",\"A\":\"Adventure\",\"Children\":\"Children's\",\"Adventu\":\"Adventure\",\"Adv\":\"Adventure\",\n",
    "                      \"Wa\":\"War\",\"Thrille\"  :\"Thriller\",\"Com\":\"Comedy\",\"Comed\":\"Comedy\",\"Acti\":\"Action\",\"Advent\":\"Adventure\",\"Adventur\":\"Adventure\",\"Thri\":\"Thriller\",\n",
    "                        \"Chi\":\"Children's\",\"Ro\":\"Romance\",\"F\":\"Fantasy\",\"We\":\"Western\",\"Documen\":\"Documentary\",\"Music\":\"Musical\",\"Children\":\"Children's\" ,\"Horr\":\"Horror\",\n",
    "                     \"Children'\":\"Children's\",\"Roman\":\"Romance\",\"Docu\":\"Documentary\",\"Th\":\"Thriller\",\"Document\":\"Documentary\"\n",
    "                    })\n",
    "\n",
    "m = m.pivot_table(values=\"Title\", index=\"MovieID\", columns=\"Genres\", aggfunc= np.size,).fillna(0)\n",
    "\n",
    "\n",
    "def apply(x):\n",
    "  if x >= 1:\n",
    "    return 1\n",
    "  else:\n",
    "    return 0\n",
    "    \n",
    "m[\"Adventure\"] = m[\"Adventure\"].apply(apply)\n",
    "m = m.astype(int)"
   ]
  },
  {
   "cell_type": "code",
   "execution_count": 67,
   "metadata": {},
   "outputs": [
    {
     "data": {
      "text/html": [
       "<div>\n",
       "<style scoped>\n",
       "    .dataframe tbody tr th:only-of-type {\n",
       "        vertical-align: middle;\n",
       "    }\n",
       "\n",
       "    .dataframe tbody tr th {\n",
       "        vertical-align: top;\n",
       "    }\n",
       "\n",
       "    .dataframe thead th {\n",
       "        text-align: right;\n",
       "    }\n",
       "</style>\n",
       "<table border=\"1\" class=\"dataframe\">\n",
       "  <thead>\n",
       "    <tr style=\"text-align: right;\">\n",
       "      <th>Genres</th>\n",
       "      <th>Action</th>\n",
       "      <th>Adventure</th>\n",
       "      <th>Animation</th>\n",
       "      <th>Children's</th>\n",
       "      <th>Comedy</th>\n",
       "      <th>Crime</th>\n",
       "      <th>Documentary</th>\n",
       "      <th>Drama</th>\n",
       "      <th>Fantasy</th>\n",
       "      <th>Film-Noir</th>\n",
       "      <th>Horror</th>\n",
       "      <th>Musical</th>\n",
       "      <th>Mystery</th>\n",
       "      <th>Romance</th>\n",
       "      <th>Sci-Fi</th>\n",
       "      <th>Thriller</th>\n",
       "      <th>War</th>\n",
       "      <th>Western</th>\n",
       "    </tr>\n",
       "    <tr>\n",
       "      <th>MovieID</th>\n",
       "      <th></th>\n",
       "      <th></th>\n",
       "      <th></th>\n",
       "      <th></th>\n",
       "      <th></th>\n",
       "      <th></th>\n",
       "      <th></th>\n",
       "      <th></th>\n",
       "      <th></th>\n",
       "      <th></th>\n",
       "      <th></th>\n",
       "      <th></th>\n",
       "      <th></th>\n",
       "      <th></th>\n",
       "      <th></th>\n",
       "      <th></th>\n",
       "      <th></th>\n",
       "      <th></th>\n",
       "    </tr>\n",
       "  </thead>\n",
       "  <tbody>\n",
       "    <tr>\n",
       "      <th>1</th>\n",
       "      <td>0</td>\n",
       "      <td>0</td>\n",
       "      <td>1</td>\n",
       "      <td>1</td>\n",
       "      <td>1</td>\n",
       "      <td>0</td>\n",
       "      <td>0</td>\n",
       "      <td>0</td>\n",
       "      <td>0</td>\n",
       "      <td>0</td>\n",
       "      <td>0</td>\n",
       "      <td>0</td>\n",
       "      <td>0</td>\n",
       "      <td>0</td>\n",
       "      <td>0</td>\n",
       "      <td>0</td>\n",
       "      <td>0</td>\n",
       "      <td>0</td>\n",
       "    </tr>\n",
       "    <tr>\n",
       "      <th>2</th>\n",
       "      <td>0</td>\n",
       "      <td>1</td>\n",
       "      <td>0</td>\n",
       "      <td>1</td>\n",
       "      <td>0</td>\n",
       "      <td>0</td>\n",
       "      <td>0</td>\n",
       "      <td>0</td>\n",
       "      <td>1</td>\n",
       "      <td>0</td>\n",
       "      <td>0</td>\n",
       "      <td>0</td>\n",
       "      <td>0</td>\n",
       "      <td>0</td>\n",
       "      <td>0</td>\n",
       "      <td>0</td>\n",
       "      <td>0</td>\n",
       "      <td>0</td>\n",
       "    </tr>\n",
       "    <tr>\n",
       "      <th>3</th>\n",
       "      <td>0</td>\n",
       "      <td>0</td>\n",
       "      <td>0</td>\n",
       "      <td>0</td>\n",
       "      <td>1</td>\n",
       "      <td>0</td>\n",
       "      <td>0</td>\n",
       "      <td>0</td>\n",
       "      <td>0</td>\n",
       "      <td>0</td>\n",
       "      <td>0</td>\n",
       "      <td>0</td>\n",
       "      <td>0</td>\n",
       "      <td>1</td>\n",
       "      <td>0</td>\n",
       "      <td>0</td>\n",
       "      <td>0</td>\n",
       "      <td>0</td>\n",
       "    </tr>\n",
       "    <tr>\n",
       "      <th>4</th>\n",
       "      <td>0</td>\n",
       "      <td>0</td>\n",
       "      <td>0</td>\n",
       "      <td>0</td>\n",
       "      <td>1</td>\n",
       "      <td>0</td>\n",
       "      <td>0</td>\n",
       "      <td>1</td>\n",
       "      <td>0</td>\n",
       "      <td>0</td>\n",
       "      <td>0</td>\n",
       "      <td>0</td>\n",
       "      <td>0</td>\n",
       "      <td>0</td>\n",
       "      <td>0</td>\n",
       "      <td>0</td>\n",
       "      <td>0</td>\n",
       "      <td>0</td>\n",
       "    </tr>\n",
       "    <tr>\n",
       "      <th>5</th>\n",
       "      <td>0</td>\n",
       "      <td>0</td>\n",
       "      <td>0</td>\n",
       "      <td>0</td>\n",
       "      <td>1</td>\n",
       "      <td>0</td>\n",
       "      <td>0</td>\n",
       "      <td>0</td>\n",
       "      <td>0</td>\n",
       "      <td>0</td>\n",
       "      <td>0</td>\n",
       "      <td>0</td>\n",
       "      <td>0</td>\n",
       "      <td>0</td>\n",
       "      <td>0</td>\n",
       "      <td>0</td>\n",
       "      <td>0</td>\n",
       "      <td>0</td>\n",
       "    </tr>\n",
       "    <tr>\n",
       "      <th>...</th>\n",
       "      <td>...</td>\n",
       "      <td>...</td>\n",
       "      <td>...</td>\n",
       "      <td>...</td>\n",
       "      <td>...</td>\n",
       "      <td>...</td>\n",
       "      <td>...</td>\n",
       "      <td>...</td>\n",
       "      <td>...</td>\n",
       "      <td>...</td>\n",
       "      <td>...</td>\n",
       "      <td>...</td>\n",
       "      <td>...</td>\n",
       "      <td>...</td>\n",
       "      <td>...</td>\n",
       "      <td>...</td>\n",
       "      <td>...</td>\n",
       "      <td>...</td>\n",
       "    </tr>\n",
       "    <tr>\n",
       "      <th>3948</th>\n",
       "      <td>0</td>\n",
       "      <td>0</td>\n",
       "      <td>0</td>\n",
       "      <td>0</td>\n",
       "      <td>1</td>\n",
       "      <td>0</td>\n",
       "      <td>0</td>\n",
       "      <td>0</td>\n",
       "      <td>0</td>\n",
       "      <td>0</td>\n",
       "      <td>0</td>\n",
       "      <td>0</td>\n",
       "      <td>0</td>\n",
       "      <td>0</td>\n",
       "      <td>0</td>\n",
       "      <td>0</td>\n",
       "      <td>0</td>\n",
       "      <td>0</td>\n",
       "    </tr>\n",
       "    <tr>\n",
       "      <th>3949</th>\n",
       "      <td>0</td>\n",
       "      <td>0</td>\n",
       "      <td>0</td>\n",
       "      <td>0</td>\n",
       "      <td>0</td>\n",
       "      <td>0</td>\n",
       "      <td>0</td>\n",
       "      <td>1</td>\n",
       "      <td>0</td>\n",
       "      <td>0</td>\n",
       "      <td>0</td>\n",
       "      <td>0</td>\n",
       "      <td>0</td>\n",
       "      <td>0</td>\n",
       "      <td>0</td>\n",
       "      <td>0</td>\n",
       "      <td>0</td>\n",
       "      <td>0</td>\n",
       "    </tr>\n",
       "    <tr>\n",
       "      <th>3950</th>\n",
       "      <td>0</td>\n",
       "      <td>0</td>\n",
       "      <td>0</td>\n",
       "      <td>0</td>\n",
       "      <td>0</td>\n",
       "      <td>0</td>\n",
       "      <td>0</td>\n",
       "      <td>1</td>\n",
       "      <td>0</td>\n",
       "      <td>0</td>\n",
       "      <td>0</td>\n",
       "      <td>0</td>\n",
       "      <td>0</td>\n",
       "      <td>0</td>\n",
       "      <td>0</td>\n",
       "      <td>0</td>\n",
       "      <td>0</td>\n",
       "      <td>0</td>\n",
       "    </tr>\n",
       "    <tr>\n",
       "      <th>3951</th>\n",
       "      <td>0</td>\n",
       "      <td>0</td>\n",
       "      <td>0</td>\n",
       "      <td>0</td>\n",
       "      <td>0</td>\n",
       "      <td>0</td>\n",
       "      <td>0</td>\n",
       "      <td>1</td>\n",
       "      <td>0</td>\n",
       "      <td>0</td>\n",
       "      <td>0</td>\n",
       "      <td>0</td>\n",
       "      <td>0</td>\n",
       "      <td>0</td>\n",
       "      <td>0</td>\n",
       "      <td>0</td>\n",
       "      <td>0</td>\n",
       "      <td>0</td>\n",
       "    </tr>\n",
       "    <tr>\n",
       "      <th>3952</th>\n",
       "      <td>0</td>\n",
       "      <td>0</td>\n",
       "      <td>0</td>\n",
       "      <td>0</td>\n",
       "      <td>0</td>\n",
       "      <td>0</td>\n",
       "      <td>0</td>\n",
       "      <td>1</td>\n",
       "      <td>0</td>\n",
       "      <td>0</td>\n",
       "      <td>0</td>\n",
       "      <td>0</td>\n",
       "      <td>0</td>\n",
       "      <td>0</td>\n",
       "      <td>0</td>\n",
       "      <td>1</td>\n",
       "      <td>0</td>\n",
       "      <td>0</td>\n",
       "    </tr>\n",
       "  </tbody>\n",
       "</table>\n",
       "<p>3883 rows × 18 columns</p>\n",
       "</div>"
      ],
      "text/plain": [
       "Genres   Action  Adventure  Animation  Children's  Comedy  Crime  Documentary  \\\n",
       "MovieID                                                                         \n",
       "1             0          0          1           1       1      0            0   \n",
       "2             0          1          0           1       0      0            0   \n",
       "3             0          0          0           0       1      0            0   \n",
       "4             0          0          0           0       1      0            0   \n",
       "5             0          0          0           0       1      0            0   \n",
       "...         ...        ...        ...         ...     ...    ...          ...   \n",
       "3948          0          0          0           0       1      0            0   \n",
       "3949          0          0          0           0       0      0            0   \n",
       "3950          0          0          0           0       0      0            0   \n",
       "3951          0          0          0           0       0      0            0   \n",
       "3952          0          0          0           0       0      0            0   \n",
       "\n",
       "Genres   Drama  Fantasy  Film-Noir  Horror  Musical  Mystery  Romance  Sci-Fi  \\\n",
       "MovieID                                                                         \n",
       "1            0        0          0       0        0        0        0       0   \n",
       "2            0        1          0       0        0        0        0       0   \n",
       "3            0        0          0       0        0        0        1       0   \n",
       "4            1        0          0       0        0        0        0       0   \n",
       "5            0        0          0       0        0        0        0       0   \n",
       "...        ...      ...        ...     ...      ...      ...      ...     ...   \n",
       "3948         0        0          0       0        0        0        0       0   \n",
       "3949         1        0          0       0        0        0        0       0   \n",
       "3950         1        0          0       0        0        0        0       0   \n",
       "3951         1        0          0       0        0        0        0       0   \n",
       "3952         1        0          0       0        0        0        0       0   \n",
       "\n",
       "Genres   Thriller  War  Western  \n",
       "MovieID                          \n",
       "1               0    0        0  \n",
       "2               0    0        0  \n",
       "3               0    0        0  \n",
       "4               0    0        0  \n",
       "5               0    0        0  \n",
       "...           ...  ...      ...  \n",
       "3948            0    0        0  \n",
       "3949            0    0        0  \n",
       "3950            0    0        0  \n",
       "3951            0    0        0  \n",
       "3952            1    0        0  \n",
       "\n",
       "[3883 rows x 18 columns]"
      ]
     },
     "execution_count": 67,
     "metadata": {},
     "output_type": "execute_result"
    }
   ],
   "source": [
    "m"
   ]
  },
  {
   "cell_type": "code",
   "execution_count": 68,
   "metadata": {},
   "outputs": [],
   "source": [
    "final_data = df.merge(m,on=\"MovieID\",how=\"left\").drop([\"Genres\"],axis = 1)"
   ]
  },
  {
   "cell_type": "code",
   "execution_count": 69,
   "metadata": {},
   "outputs": [
    {
     "data": {
      "text/html": [
       "<div>\n",
       "<style scoped>\n",
       "    .dataframe tbody tr th:only-of-type {\n",
       "        vertical-align: middle;\n",
       "    }\n",
       "\n",
       "    .dataframe tbody tr th {\n",
       "        vertical-align: top;\n",
       "    }\n",
       "\n",
       "    .dataframe thead th {\n",
       "        text-align: right;\n",
       "    }\n",
       "</style>\n",
       "<table border=\"1\" class=\"dataframe\">\n",
       "  <thead>\n",
       "    <tr style=\"text-align: right;\">\n",
       "      <th></th>\n",
       "      <th>UserID</th>\n",
       "      <th>Gender</th>\n",
       "      <th>Age</th>\n",
       "      <th>Occupation</th>\n",
       "      <th>Zip-code</th>\n",
       "      <th>MovieID</th>\n",
       "      <th>Title</th>\n",
       "      <th>ReleaseYear</th>\n",
       "      <th>Rating</th>\n",
       "      <th>Timestamp</th>\n",
       "      <th>...</th>\n",
       "      <th>Fantasy</th>\n",
       "      <th>Film-Noir</th>\n",
       "      <th>Horror</th>\n",
       "      <th>Musical</th>\n",
       "      <th>Mystery</th>\n",
       "      <th>Romance</th>\n",
       "      <th>Sci-Fi</th>\n",
       "      <th>Thriller</th>\n",
       "      <th>War</th>\n",
       "      <th>Western</th>\n",
       "    </tr>\n",
       "  </thead>\n",
       "  <tbody>\n",
       "    <tr>\n",
       "      <th>0</th>\n",
       "      <td>1.0</td>\n",
       "      <td>F</td>\n",
       "      <td>1.0</td>\n",
       "      <td>K-12 student</td>\n",
       "      <td>48067</td>\n",
       "      <td>1</td>\n",
       "      <td>Toy Story (1995)</td>\n",
       "      <td>1995</td>\n",
       "      <td>5.0</td>\n",
       "      <td>2001-01-07 05:07:48</td>\n",
       "      <td>...</td>\n",
       "      <td>0</td>\n",
       "      <td>0</td>\n",
       "      <td>0</td>\n",
       "      <td>0</td>\n",
       "      <td>0</td>\n",
       "      <td>0</td>\n",
       "      <td>0</td>\n",
       "      <td>0</td>\n",
       "      <td>0</td>\n",
       "      <td>0</td>\n",
       "    </tr>\n",
       "    <tr>\n",
       "      <th>1</th>\n",
       "      <td>1.0</td>\n",
       "      <td>F</td>\n",
       "      <td>1.0</td>\n",
       "      <td>K-12 student</td>\n",
       "      <td>48067</td>\n",
       "      <td>1</td>\n",
       "      <td>Toy Story (1995)</td>\n",
       "      <td>1995</td>\n",
       "      <td>5.0</td>\n",
       "      <td>2001-01-07 05:07:48</td>\n",
       "      <td>...</td>\n",
       "      <td>0</td>\n",
       "      <td>0</td>\n",
       "      <td>0</td>\n",
       "      <td>0</td>\n",
       "      <td>0</td>\n",
       "      <td>0</td>\n",
       "      <td>0</td>\n",
       "      <td>0</td>\n",
       "      <td>0</td>\n",
       "      <td>0</td>\n",
       "    </tr>\n",
       "    <tr>\n",
       "      <th>2</th>\n",
       "      <td>1.0</td>\n",
       "      <td>F</td>\n",
       "      <td>1.0</td>\n",
       "      <td>K-12 student</td>\n",
       "      <td>48067</td>\n",
       "      <td>1</td>\n",
       "      <td>Toy Story (1995)</td>\n",
       "      <td>1995</td>\n",
       "      <td>5.0</td>\n",
       "      <td>2001-01-07 05:07:48</td>\n",
       "      <td>...</td>\n",
       "      <td>0</td>\n",
       "      <td>0</td>\n",
       "      <td>0</td>\n",
       "      <td>0</td>\n",
       "      <td>0</td>\n",
       "      <td>0</td>\n",
       "      <td>0</td>\n",
       "      <td>0</td>\n",
       "      <td>0</td>\n",
       "      <td>0</td>\n",
       "    </tr>\n",
       "    <tr>\n",
       "      <th>3</th>\n",
       "      <td>1.0</td>\n",
       "      <td>F</td>\n",
       "      <td>1.0</td>\n",
       "      <td>K-12 student</td>\n",
       "      <td>48067</td>\n",
       "      <td>48</td>\n",
       "      <td>Pocahontas (1995)</td>\n",
       "      <td>1995</td>\n",
       "      <td>5.0</td>\n",
       "      <td>2001-01-07 05:09:11</td>\n",
       "      <td>...</td>\n",
       "      <td>0</td>\n",
       "      <td>0</td>\n",
       "      <td>0</td>\n",
       "      <td>1</td>\n",
       "      <td>0</td>\n",
       "      <td>1</td>\n",
       "      <td>0</td>\n",
       "      <td>0</td>\n",
       "      <td>0</td>\n",
       "      <td>0</td>\n",
       "    </tr>\n",
       "    <tr>\n",
       "      <th>4</th>\n",
       "      <td>1.0</td>\n",
       "      <td>F</td>\n",
       "      <td>1.0</td>\n",
       "      <td>K-12 student</td>\n",
       "      <td>48067</td>\n",
       "      <td>48</td>\n",
       "      <td>Pocahontas (1995)</td>\n",
       "      <td>1995</td>\n",
       "      <td>5.0</td>\n",
       "      <td>2001-01-07 05:09:11</td>\n",
       "      <td>...</td>\n",
       "      <td>0</td>\n",
       "      <td>0</td>\n",
       "      <td>0</td>\n",
       "      <td>1</td>\n",
       "      <td>0</td>\n",
       "      <td>1</td>\n",
       "      <td>0</td>\n",
       "      <td>0</td>\n",
       "      <td>0</td>\n",
       "      <td>0</td>\n",
       "    </tr>\n",
       "    <tr>\n",
       "      <th>...</th>\n",
       "      <td>...</td>\n",
       "      <td>...</td>\n",
       "      <td>...</td>\n",
       "      <td>...</td>\n",
       "      <td>...</td>\n",
       "      <td>...</td>\n",
       "      <td>...</td>\n",
       "      <td>...</td>\n",
       "      <td>...</td>\n",
       "      <td>...</td>\n",
       "      <td>...</td>\n",
       "      <td>...</td>\n",
       "      <td>...</td>\n",
       "      <td>...</td>\n",
       "      <td>...</td>\n",
       "      <td>...</td>\n",
       "      <td>...</td>\n",
       "      <td>...</td>\n",
       "      <td>...</td>\n",
       "      <td>...</td>\n",
       "      <td>...</td>\n",
       "    </tr>\n",
       "    <tr>\n",
       "      <th>2102026</th>\n",
       "      <td>NaN</td>\n",
       "      <td>NaN</td>\n",
       "      <td>NaN</td>\n",
       "      <td>NaN</td>\n",
       "      <td>NaN</td>\n",
       "      <td>3750</td>\n",
       "      <td>Boricua's Bond (2000)</td>\n",
       "      <td>2000</td>\n",
       "      <td>NaN</td>\n",
       "      <td>NaT</td>\n",
       "      <td>...</td>\n",
       "      <td>0</td>\n",
       "      <td>0</td>\n",
       "      <td>0</td>\n",
       "      <td>0</td>\n",
       "      <td>0</td>\n",
       "      <td>0</td>\n",
       "      <td>0</td>\n",
       "      <td>0</td>\n",
       "      <td>0</td>\n",
       "      <td>0</td>\n",
       "    </tr>\n",
       "    <tr>\n",
       "      <th>2102027</th>\n",
       "      <td>NaN</td>\n",
       "      <td>NaN</td>\n",
       "      <td>NaN</td>\n",
       "      <td>NaN</td>\n",
       "      <td>NaN</td>\n",
       "      <td>3829</td>\n",
       "      <td>Mad About Mambo (2000)</td>\n",
       "      <td>2000</td>\n",
       "      <td>NaN</td>\n",
       "      <td>NaT</td>\n",
       "      <td>...</td>\n",
       "      <td>0</td>\n",
       "      <td>0</td>\n",
       "      <td>0</td>\n",
       "      <td>0</td>\n",
       "      <td>0</td>\n",
       "      <td>1</td>\n",
       "      <td>0</td>\n",
       "      <td>0</td>\n",
       "      <td>0</td>\n",
       "      <td>0</td>\n",
       "    </tr>\n",
       "    <tr>\n",
       "      <th>2102028</th>\n",
       "      <td>NaN</td>\n",
       "      <td>NaN</td>\n",
       "      <td>NaN</td>\n",
       "      <td>NaN</td>\n",
       "      <td>NaN</td>\n",
       "      <td>3829</td>\n",
       "      <td>Mad About Mambo (2000)</td>\n",
       "      <td>2000</td>\n",
       "      <td>NaN</td>\n",
       "      <td>NaT</td>\n",
       "      <td>...</td>\n",
       "      <td>0</td>\n",
       "      <td>0</td>\n",
       "      <td>0</td>\n",
       "      <td>0</td>\n",
       "      <td>0</td>\n",
       "      <td>1</td>\n",
       "      <td>0</td>\n",
       "      <td>0</td>\n",
       "      <td>0</td>\n",
       "      <td>0</td>\n",
       "    </tr>\n",
       "    <tr>\n",
       "      <th>2102029</th>\n",
       "      <td>NaN</td>\n",
       "      <td>NaN</td>\n",
       "      <td>NaN</td>\n",
       "      <td>NaN</td>\n",
       "      <td>NaN</td>\n",
       "      <td>3856</td>\n",
       "      <td>Autumn Heart (1999)</td>\n",
       "      <td>1999</td>\n",
       "      <td>NaN</td>\n",
       "      <td>NaT</td>\n",
       "      <td>...</td>\n",
       "      <td>0</td>\n",
       "      <td>0</td>\n",
       "      <td>0</td>\n",
       "      <td>0</td>\n",
       "      <td>0</td>\n",
       "      <td>0</td>\n",
       "      <td>0</td>\n",
       "      <td>0</td>\n",
       "      <td>0</td>\n",
       "      <td>0</td>\n",
       "    </tr>\n",
       "    <tr>\n",
       "      <th>2102030</th>\n",
       "      <td>NaN</td>\n",
       "      <td>NaN</td>\n",
       "      <td>NaN</td>\n",
       "      <td>NaN</td>\n",
       "      <td>NaN</td>\n",
       "      <td>3907</td>\n",
       "      <td>Prince of Central Park, The (1999)</td>\n",
       "      <td>1999</td>\n",
       "      <td>NaN</td>\n",
       "      <td>NaT</td>\n",
       "      <td>...</td>\n",
       "      <td>0</td>\n",
       "      <td>0</td>\n",
       "      <td>0</td>\n",
       "      <td>0</td>\n",
       "      <td>0</td>\n",
       "      <td>0</td>\n",
       "      <td>0</td>\n",
       "      <td>0</td>\n",
       "      <td>0</td>\n",
       "      <td>0</td>\n",
       "    </tr>\n",
       "  </tbody>\n",
       "</table>\n",
       "<p>2102031 rows × 31 columns</p>\n",
       "</div>"
      ],
      "text/plain": [
       "         UserID Gender  Age    Occupation Zip-code  MovieID  \\\n",
       "0           1.0      F  1.0  K-12 student    48067        1   \n",
       "1           1.0      F  1.0  K-12 student    48067        1   \n",
       "2           1.0      F  1.0  K-12 student    48067        1   \n",
       "3           1.0      F  1.0  K-12 student    48067       48   \n",
       "4           1.0      F  1.0  K-12 student    48067       48   \n",
       "...         ...    ...  ...           ...      ...      ...   \n",
       "2102026     NaN    NaN  NaN           NaN      NaN     3750   \n",
       "2102027     NaN    NaN  NaN           NaN      NaN     3829   \n",
       "2102028     NaN    NaN  NaN           NaN      NaN     3829   \n",
       "2102029     NaN    NaN  NaN           NaN      NaN     3856   \n",
       "2102030     NaN    NaN  NaN           NaN      NaN     3907   \n",
       "\n",
       "                                      Title  ReleaseYear  Rating  \\\n",
       "0                          Toy Story (1995)         1995     5.0   \n",
       "1                          Toy Story (1995)         1995     5.0   \n",
       "2                          Toy Story (1995)         1995     5.0   \n",
       "3                         Pocahontas (1995)         1995     5.0   \n",
       "4                         Pocahontas (1995)         1995     5.0   \n",
       "...                                     ...          ...     ...   \n",
       "2102026               Boricua's Bond (2000)         2000     NaN   \n",
       "2102027              Mad About Mambo (2000)         2000     NaN   \n",
       "2102028              Mad About Mambo (2000)         2000     NaN   \n",
       "2102029                 Autumn Heart (1999)         1999     NaN   \n",
       "2102030  Prince of Central Park, The (1999)         1999     NaN   \n",
       "\n",
       "                  Timestamp  ... Fantasy  Film-Noir  Horror  Musical  Mystery  \\\n",
       "0       2001-01-07 05:07:48  ...       0          0       0        0        0   \n",
       "1       2001-01-07 05:07:48  ...       0          0       0        0        0   \n",
       "2       2001-01-07 05:07:48  ...       0          0       0        0        0   \n",
       "3       2001-01-07 05:09:11  ...       0          0       0        1        0   \n",
       "4       2001-01-07 05:09:11  ...       0          0       0        1        0   \n",
       "...                     ...  ...     ...        ...     ...      ...      ...   \n",
       "2102026                 NaT  ...       0          0       0        0        0   \n",
       "2102027                 NaT  ...       0          0       0        0        0   \n",
       "2102028                 NaT  ...       0          0       0        0        0   \n",
       "2102029                 NaT  ...       0          0       0        0        0   \n",
       "2102030                 NaT  ...       0          0       0        0        0   \n",
       "\n",
       "         Romance  Sci-Fi  Thriller  War  Western  \n",
       "0              0       0         0    0        0  \n",
       "1              0       0         0    0        0  \n",
       "2              0       0         0    0        0  \n",
       "3              1       0         0    0        0  \n",
       "4              1       0         0    0        0  \n",
       "...          ...     ...       ...  ...      ...  \n",
       "2102026        0       0         0    0        0  \n",
       "2102027        1       0         0    0        0  \n",
       "2102028        1       0         0    0        0  \n",
       "2102029        0       0         0    0        0  \n",
       "2102030        0       0         0    0        0  \n",
       "\n",
       "[2102031 rows x 31 columns]"
      ]
     },
     "execution_count": 69,
     "metadata": {},
     "output_type": "execute_result"
    }
   ],
   "source": [
    "final_data"
   ]
  },
  {
   "cell_type": "code",
   "execution_count": 71,
   "metadata": {},
   "outputs": [],
   "source": [
    "final_data.MovieID = final_data.MovieID.astype(int)\n",
    "final_data.UserID = final_data.UserID.astype(float)\n",
    "final_data.ReleaseYear = final_data.ReleaseYear.astype(float)"
   ]
  },
  {
   "cell_type": "code",
   "execution_count": 72,
   "metadata": {},
   "outputs": [
    {
     "name": "stdout",
     "output_type": "stream",
     "text": [
      "<class 'pandas.core.frame.DataFrame'>\n",
      "Int64Index: 2102031 entries, 0 to 2102030\n",
      "Data columns (total 31 columns):\n",
      " #   Column       Dtype         \n",
      "---  ------       -----         \n",
      " 0   UserID       float64       \n",
      " 1   Gender       object        \n",
      " 2   Age          float64       \n",
      " 3   Occupation   object        \n",
      " 4   Zip-code     object        \n",
      " 5   MovieID      int32         \n",
      " 6   Title        object        \n",
      " 7   ReleaseYear  float64       \n",
      " 8   Rating       float64       \n",
      " 9   Timestamp    datetime64[ns]\n",
      " 10  date         object        \n",
      " 11  year         float64       \n",
      " 12  month        float64       \n",
      " 13  Action       int32         \n",
      " 14  Adventure    int32         \n",
      " 15  Animation    int32         \n",
      " 16  Children's   int32         \n",
      " 17  Comedy       int32         \n",
      " 18  Crime        int32         \n",
      " 19  Documentary  int32         \n",
      " 20  Drama        int32         \n",
      " 21  Fantasy      int32         \n",
      " 22  Film-Noir    int32         \n",
      " 23  Horror       int32         \n",
      " 24  Musical      int32         \n",
      " 25  Mystery      int32         \n",
      " 26  Romance      int32         \n",
      " 27  Sci-Fi       int32         \n",
      " 28  Thriller     int32         \n",
      " 29  War          int32         \n",
      " 30  Western      int32         \n",
      "dtypes: datetime64[ns](1), float64(6), int32(19), object(5)\n",
      "memory usage: 360.8+ MB\n"
     ]
    }
   ],
   "source": [
    "final_data.info()"
   ]
  },
  {
   "cell_type": "code",
   "execution_count": 73,
   "metadata": {},
   "outputs": [
    {
     "data": {
      "text/plain": [
       "UserID           6040\n",
       "Gender              2\n",
       "Age                 7\n",
       "Occupation         21\n",
       "Zip-code         3439\n",
       "MovieID          3883\n",
       "Title            3883\n",
       "ReleaseYear        81\n",
       "Rating              5\n",
       "Timestamp      458455\n",
       "date             1037\n",
       "year                4\n",
       "month              12\n",
       "Action              2\n",
       "Adventure           2\n",
       "Animation           2\n",
       "Children's          2\n",
       "Comedy              2\n",
       "Crime               2\n",
       "Documentary         2\n",
       "Drama               2\n",
       "Fantasy             2\n",
       "Film-Noir           2\n",
       "Horror              2\n",
       "Musical             2\n",
       "Mystery             2\n",
       "Romance             2\n",
       "Sci-Fi              2\n",
       "Thriller            2\n",
       "War                 2\n",
       "Western             2\n",
       "dtype: int64"
      ]
     },
     "execution_count": 73,
     "metadata": {},
     "output_type": "execute_result"
    }
   ],
   "source": [
    "final_data.nunique()"
   ]
  },
  {
   "cell_type": "code",
   "execution_count": 74,
   "metadata": {},
   "outputs": [],
   "source": [
    "plt.rcParams[\"figure.figsize\"] = (20,8)"
   ]
  },
  {
   "attachments": {},
   "cell_type": "markdown",
   "metadata": {},
   "source": [
    "#### Most of the movies present in our dataset were released in year:"
   ]
  },
  {
   "cell_type": "code",
   "execution_count": 76,
   "metadata": {},
   "outputs": [
    {
     "data": {
      "text/plain": [
       "<AxesSubplot:xlabel='ReleaseYear'>"
      ]
     },
     "execution_count": 76,
     "metadata": {},
     "output_type": "execute_result"
    },
    {
     "data": {
      "image/png": "[encoded data removed]",
      "text/plain": [
       "<Figure size 1440x576 with 1 Axes>"
      ]
     },
     "metadata": {
      "needs_background": "light"
     },
     "output_type": "display_data"
    }
   ],
   "source": [
    "final_data.groupby(\"ReleaseYear\")[\"Title\"].nunique().plot(kind=\"bar\")"
   ]
  },
  {
   "cell_type": "code",
   "execution_count": 77,
   "metadata": {},
   "outputs": [
    {
     "data": {
      "text/plain": [
       "<AxesSubplot:xlabel='Genres'>"
      ]
     },
     "execution_count": 77,
     "metadata": {},
     "output_type": "execute_result"
    },
    {
     "data": {
      "image/png": "[encoded data removed]",
      "text/plain": [
       "<Figure size 1440x576 with 1 Axes>"
      ]
     },
     "metadata": {
      "needs_background": "light"
     },
     "output_type": "display_data"
    }
   ],
   "source": [
    "# Number of Movies per Genres:\n",
    "\n",
    "sns.barplot(m.sum(axis= 0).index,\n",
    "            m.sum(axis= 0))"
   ]
  },
  {
   "cell_type": "code",
   "execution_count": 78,
   "metadata": {},
   "outputs": [
    {
     "data": {
      "text/plain": [
       "Genres\n",
       "Action          503\n",
       "Adventure       283\n",
       "Animation       105\n",
       "Children's      251\n",
       "Comedy         1200\n",
       "Crime           211\n",
       "Documentary     127\n",
       "Drama          1603\n",
       "Fantasy          68\n",
       "Film-Noir        44\n",
       "Horror          343\n",
       "Musical         114\n",
       "Mystery         106\n",
       "Romance         471\n",
       "Sci-Fi          276\n",
       "Thriller        492\n",
       "War             143\n",
       "Western          68\n",
       "dtype: int64"
      ]
     },
     "execution_count": 78,
     "metadata": {},
     "output_type": "execute_result"
    }
   ],
   "source": [
    "m.sum(axis= 0)"
   ]
  },
  {
   "attachments": {},
   "cell_type": "markdown",
   "metadata": {},
   "source": [
    "#### Number of movies Rated by each Gender type:"
   ]
  },
  {
   "cell_type": "code",
   "execution_count": 79,
   "metadata": {},
   "outputs": [
    {
     "data": {
      "text/plain": [
       "Gender\n",
       "F    24.071433\n",
       "M    75.928567\n",
       "Name: Rating, dtype: float64"
      ]
     },
     "execution_count": 79,
     "metadata": {},
     "output_type": "execute_result"
    }
   ],
   "source": [
    "# Gender\n",
    "asd = final_data.groupby(\"Gender\")[\"Rating\"].count() / final_data[\"Rating\"].count() * 100\n",
    "asd"
   ]
  },
  {
   "cell_type": "code",
   "execution_count": 81,
   "metadata": {},
   "outputs": [
    {
     "data": {
      "image/png": "[encoded data removed]",
      "text/plain": [
       "<Figure size 1440x576 with 1 Axes>"
      ]
     },
     "metadata": {},
     "output_type": "display_data"
    }
   ],
   "source": [
    "plt.pie(asd, labels = [\"Female\", \"Male\"],autopct='%1.1f%%')\n",
    "plt.show()"
   ]
  },
  {
   "attachments": {},
   "cell_type": "markdown",
   "metadata": {},
   "source": [
    "#### Users of which age group have watched and rated the most number of movies?"
   ]
  },
  {
   "cell_type": "code",
   "execution_count": 83,
   "metadata": {},
   "outputs": [
    {
     "data": {
      "image/png": "[encoded data removed]",
      "text/plain": [
       "<Figure size 720x432 with 1 Axes>"
      ]
     },
     "metadata": {
      "needs_background": "light"
     },
     "output_type": "display_data"
    }
   ],
   "source": [
    "plt.rcParams[\"figure.figsize\"] = (10,6)\n",
    "final_data.groupby(\"Age\")[\"UserID\"].nunique().plot(kind=\"bar\")\n",
    "plt.show()"
   ]
  },
  {
   "attachments": {},
   "cell_type": "markdown",
   "metadata": {},
   "source": [
    "- in DataSet : majority of the viewers are in age group of 25-34\n",
    "- out of all , 25-34 age group have rated and watched the maximum number of movies.\n",
    "- for other age groups data are as below:"
   ]
  },
  {
   "cell_type": "code",
   "execution_count": 84,
   "metadata": {},
   "outputs": [
    {
     "data": {
      "text/plain": [
       "Age\n",
       "1.0     2650\n",
       "18.0    3393\n",
       "25.0    3508\n",
       "35.0    3447\n",
       "45.0    3288\n",
       "50.0    3258\n",
       "56.0    2913\n",
       "Name: MovieID, dtype: int64"
      ]
     },
     "execution_count": 84,
     "metadata": {},
     "output_type": "execute_result"
    }
   ],
   "source": [
    "final_data.groupby(\"Age\")[\"MovieID\"].nunique()"
   ]
  },
  {
   "cell_type": "code",
   "execution_count": 85,
   "metadata": {},
   "outputs": [
    {
     "data": {
      "image/png": "[encoded data removed]",
      "text/plain": [
       "<Figure size 720x576 with 1 Axes>"
      ]
     },
     "metadata": {
      "needs_background": "light"
     },
     "output_type": "display_data"
    }
   ],
   "source": [
    "plt.rcParams[\"figure.figsize\"] = (10,8)\n",
    "final_data.groupby(\"Age\")[\"MovieID\"].nunique().plot(kind=\"bar\")\n",
    "plt.show()"
   ]
  },
  {
   "attachments": {},
   "cell_type": "markdown",
   "metadata": {},
   "source": [
    "#### Users belonging to which profession have watched and rated the most movies?"
   ]
  },
  {
   "cell_type": "code",
   "execution_count": 86,
   "metadata": {},
   "outputs": [
    {
     "data": {
      "text/plain": [
       "<AxesSubplot:xlabel='Occupation'>"
      ]
     },
     "execution_count": 86,
     "metadata": {},
     "output_type": "execute_result"
    },
    {
     "data": {
      "image/png": "[encoded data removed]",
      "text/plain": [
       "<Figure size 1440x576 with 2 Axes>"
      ]
     },
     "metadata": {
      "needs_background": "light"
     },
     "output_type": "display_data"
    }
   ],
   "source": [
    "plt.rcParams[\"figure.figsize\"] = (20,8)\n",
    "\n",
    "plt.subplot(121)\n",
    "final_data.groupby(\"Occupation\")[\"UserID\"].nunique().sort_values().plot(kind=\"bar\")\n",
    "plt.subplot(122)\n",
    "final_data.groupby(\"Occupation\")[\"MovieID\"].nunique().sort_values().plot(kind=\"bar\")"
   ]
  },
  {
   "attachments": {},
   "cell_type": "markdown",
   "metadata": {},
   "source": [
    "- Majority of the Users are College Graduates and Students , followed by Executives, educators and engineers.\n",
    "- most of the Users are College Graduates and Students , followed by Executives, educators and engineers.\n",
    "- Maximum movies are watched and rated by user's occupations are College graduate students , writers , executives, educator and artists."
   ]
  },
  {
   "cell_type": "code",
   "execution_count": 87,
   "metadata": {},
   "outputs": [
    {
     "data": {
      "text/plain": [
       "Occupation\n",
       "other                   3448\n",
       "college/grad student    3363\n",
       "writer                  3330\n",
       "executive/managerial    3269\n",
       "academic/educator       3218\n",
       "artist                  3145\n",
       "Name: MovieID, dtype: int64"
      ]
     },
     "execution_count": 87,
     "metadata": {},
     "output_type": "execute_result"
    }
   ],
   "source": [
    "final_data.groupby(\"Occupation\")[\"MovieID\"].nunique().sort_values(ascending = False).head(6)"
   ]
  },
  {
   "cell_type": "code",
   "execution_count": 88,
   "metadata": {},
   "outputs": [
    {
     "data": {
      "text/plain": [
       "Index(['UserID', 'Gender', 'Age', 'Occupation', 'Zip-code', 'MovieID', 'Title',\n",
       "       'ReleaseYear', 'Rating', 'Timestamp', 'date', 'year', 'month', 'Action',\n",
       "       'Adventure', 'Animation', 'Children's', 'Comedy', 'Crime',\n",
       "       'Documentary', 'Drama', 'Fantasy', 'Film-Noir', 'Horror', 'Musical',\n",
       "       'Mystery', 'Romance', 'Sci-Fi', 'Thriller', 'War', 'Western'],\n",
       "      dtype='object')"
      ]
     },
     "execution_count": 88,
     "metadata": {},
     "output_type": "execute_result"
    }
   ],
   "source": [
    "final_data.columns"
   ]
  },
  {
   "attachments": {},
   "cell_type": "markdown",
   "metadata": {},
   "source": [
    "### Movie Recommendation based on Genres as per Majority Users occupation :"
   ]
  },
  {
   "attachments": {},
   "cell_type": "markdown",
   "metadata": {},
   "source": [
    "- below table shows the rank preference of each occupation users:\n",
    "- higher the number more prefered ."
   ]
  },
  {
   "cell_type": "code",
   "execution_count": 89,
   "metadata": {},
   "outputs": [],
   "source": [
    "## Movie Recommendation based on Genre as per Majority Users : "
   ]
  },
  {
   "cell_type": "code",
   "execution_count": 92,
   "metadata": {},
   "outputs": [
    {
     "data": {
      "text/html": [
       "<div>\n",
       "<style scoped>\n",
       "    .dataframe tbody tr th:only-of-type {\n",
       "        vertical-align: middle;\n",
       "    }\n",
       "\n",
       "    .dataframe tbody tr th {\n",
       "        vertical-align: top;\n",
       "    }\n",
       "\n",
       "    .dataframe thead th {\n",
       "        text-align: right;\n",
       "    }\n",
       "</style>\n",
       "<table border=\"1\" class=\"dataframe\">\n",
       "  <thead>\n",
       "    <tr style=\"text-align: right;\">\n",
       "      <th></th>\n",
       "      <th>Action</th>\n",
       "      <th>Adventure</th>\n",
       "      <th>Animation</th>\n",
       "      <th>Children's</th>\n",
       "      <th>Comedy</th>\n",
       "      <th>Crime</th>\n",
       "      <th>Documentary</th>\n",
       "      <th>Drama</th>\n",
       "      <th>Fantasy</th>\n",
       "      <th>Film-Noir</th>\n",
       "      <th>Horror</th>\n",
       "      <th>Musical</th>\n",
       "      <th>Mystery</th>\n",
       "      <th>Romance</th>\n",
       "      <th>Sci-Fi</th>\n",
       "      <th>Thriller</th>\n",
       "      <th>War</th>\n",
       "      <th>Western</th>\n",
       "    </tr>\n",
       "    <tr>\n",
       "      <th>Occupation</th>\n",
       "      <th></th>\n",
       "      <th></th>\n",
       "      <th></th>\n",
       "      <th></th>\n",
       "      <th></th>\n",
       "      <th></th>\n",
       "      <th></th>\n",
       "      <th></th>\n",
       "      <th></th>\n",
       "      <th></th>\n",
       "      <th></th>\n",
       "      <th></th>\n",
       "      <th></th>\n",
       "      <th></th>\n",
       "      <th></th>\n",
       "      <th></th>\n",
       "      <th></th>\n",
       "      <th></th>\n",
       "    </tr>\n",
       "  </thead>\n",
       "  <tbody>\n",
       "    <tr>\n",
       "      <th>writer</th>\n",
       "      <td>6</td>\n",
       "      <td>17</td>\n",
       "      <td>9</td>\n",
       "      <td>8</td>\n",
       "      <td>12</td>\n",
       "      <td>11</td>\n",
       "      <td>2</td>\n",
       "      <td>10</td>\n",
       "      <td>16</td>\n",
       "      <td>3</td>\n",
       "      <td>5</td>\n",
       "      <td>1</td>\n",
       "      <td>13</td>\n",
       "      <td>14</td>\n",
       "      <td>15</td>\n",
       "      <td>0</td>\n",
       "      <td>4</td>\n",
       "      <td>7</td>\n",
       "    </tr>\n",
       "    <tr>\n",
       "      <th>artist</th>\n",
       "      <td>6</td>\n",
       "      <td>17</td>\n",
       "      <td>9</td>\n",
       "      <td>12</td>\n",
       "      <td>8</td>\n",
       "      <td>2</td>\n",
       "      <td>11</td>\n",
       "      <td>10</td>\n",
       "      <td>16</td>\n",
       "      <td>3</td>\n",
       "      <td>5</td>\n",
       "      <td>1</td>\n",
       "      <td>13</td>\n",
       "      <td>14</td>\n",
       "      <td>15</td>\n",
       "      <td>0</td>\n",
       "      <td>4</td>\n",
       "      <td>7</td>\n",
       "    </tr>\n",
       "    <tr>\n",
       "      <th>academic/educator</th>\n",
       "      <td>6</td>\n",
       "      <td>17</td>\n",
       "      <td>9</td>\n",
       "      <td>8</td>\n",
       "      <td>2</td>\n",
       "      <td>12</td>\n",
       "      <td>11</td>\n",
       "      <td>10</td>\n",
       "      <td>3</td>\n",
       "      <td>16</td>\n",
       "      <td>5</td>\n",
       "      <td>1</td>\n",
       "      <td>14</td>\n",
       "      <td>13</td>\n",
       "      <td>15</td>\n",
       "      <td>0</td>\n",
       "      <td>4</td>\n",
       "      <td>7</td>\n",
       "    </tr>\n",
       "    <tr>\n",
       "      <th>executive/managerial</th>\n",
       "      <td>6</td>\n",
       "      <td>9</td>\n",
       "      <td>17</td>\n",
       "      <td>2</td>\n",
       "      <td>11</td>\n",
       "      <td>12</td>\n",
       "      <td>8</td>\n",
       "      <td>10</td>\n",
       "      <td>3</td>\n",
       "      <td>16</td>\n",
       "      <td>5</td>\n",
       "      <td>13</td>\n",
       "      <td>1</td>\n",
       "      <td>14</td>\n",
       "      <td>15</td>\n",
       "      <td>4</td>\n",
       "      <td>7</td>\n",
       "      <td>0</td>\n",
       "    </tr>\n",
       "    <tr>\n",
       "      <th>college/grad student</th>\n",
       "      <td>6</td>\n",
       "      <td>9</td>\n",
       "      <td>17</td>\n",
       "      <td>12</td>\n",
       "      <td>11</td>\n",
       "      <td>8</td>\n",
       "      <td>2</td>\n",
       "      <td>10</td>\n",
       "      <td>16</td>\n",
       "      <td>5</td>\n",
       "      <td>3</td>\n",
       "      <td>13</td>\n",
       "      <td>1</td>\n",
       "      <td>14</td>\n",
       "      <td>15</td>\n",
       "      <td>7</td>\n",
       "      <td>4</td>\n",
       "      <td>0</td>\n",
       "    </tr>\n",
       "  </tbody>\n",
       "</table>\n",
       "</div>"
      ],
      "text/plain": [
       "                      Action  Adventure  Animation  Children's  Comedy  Crime  \\\n",
       "Occupation                                                                      \n",
       "writer                     6         17          9           8      12     11   \n",
       "artist                     6         17          9          12       8      2   \n",
       "academic/educator          6         17          9           8       2     12   \n",
       "executive/managerial       6          9         17           2      11     12   \n",
       "college/grad student       6          9         17          12      11      8   \n",
       "\n",
       "                      Documentary  Drama  Fantasy  Film-Noir  Horror  Musical  \\\n",
       "Occupation                                                                      \n",
       "writer                          2     10       16          3       5        1   \n",
       "artist                         11     10       16          3       5        1   \n",
       "academic/educator              11     10        3         16       5        1   \n",
       "executive/managerial            8     10        3         16       5       13   \n",
       "college/grad student            2     10       16          5       3       13   \n",
       "\n",
       "                      Mystery  Romance  Sci-Fi  Thriller  War  Western  \n",
       "Occupation                                                              \n",
       "writer                     13       14      15         0    4        7  \n",
       "artist                     13       14      15         0    4        7  \n",
       "academic/educator          14       13      15         0    4        7  \n",
       "executive/managerial        1       14      15         4    7        0  \n",
       "college/grad student        1       14      15         7    4        0  "
      ]
     },
     "execution_count": 92,
     "metadata": {},
     "output_type": "execute_result"
    }
   ],
   "source": [
    "np.argsort((final_data.groupby(\"Occupation\")['Action', 'Adventure', 'Animation', \"Children's\", \n",
    "                                             'Comedy', 'Crime','Documentary', 'Drama', 'Fantasy', \n",
    "                                             'Film-Noir', 'Horror', 'Musical', 'Mystery',\n",
    "                                             'Romance', 'Sci-Fi', 'Thriller', 'War', 'Western'].mean())   *100,axis = 1).loc[[\"writer\",\"artist\",\"academic/educator\",\"executive/managerial\",\"college/grad student\"]]\n"
   ]
  },
  {
   "attachments": {},
   "cell_type": "markdown",
   "metadata": {},
   "source": [
    "- Writers , artists and educator most preferes to watch Animation, Fantasy and Science Fiction movies, followed by Romance , Action and rest of the genres.\n",
    "- College Students most prefer to watch Children's , Science Fiction, Romance and Fantasy movies.\n",
    "- Film-Noir is more prefered by the educators and Executive occupation users."
   ]
  },
  {
   "attachments": {},
   "cell_type": "markdown",
   "metadata": {},
   "source": [
    "### Top 10 Movies have got the most number of ratings :"
   ]
  },
  {
   "cell_type": "code",
   "execution_count": 93,
   "metadata": {},
   "outputs": [
    {
     "data": {
      "text/html": [
       "<div>\n",
       "<style scoped>\n",
       "    .dataframe tbody tr th:only-of-type {\n",
       "        vertical-align: middle;\n",
       "    }\n",
       "\n",
       "    .dataframe tbody tr th {\n",
       "        vertical-align: top;\n",
       "    }\n",
       "\n",
       "    .dataframe thead th {\n",
       "        text-align: right;\n",
       "    }\n",
       "</style>\n",
       "<table border=\"1\" class=\"dataframe\">\n",
       "  <thead>\n",
       "    <tr style=\"text-align: right;\">\n",
       "      <th></th>\n",
       "      <th>Title</th>\n",
       "      <th>Rating</th>\n",
       "    </tr>\n",
       "  </thead>\n",
       "  <tbody>\n",
       "    <tr>\n",
       "      <th>3306</th>\n",
       "      <td>Star Wars: Episode V - The Empire Strikes Back...</td>\n",
       "      <td>14950</td>\n",
       "    </tr>\n",
       "    <tr>\n",
       "      <th>3307</th>\n",
       "      <td>Star Wars: Episode VI - Return of the Jedi (1983)</td>\n",
       "      <td>14415</td>\n",
       "    </tr>\n",
       "    <tr>\n",
       "      <th>3305</th>\n",
       "      <td>Star Wars: Episode IV - A New Hope (1977)</td>\n",
       "      <td>11964</td>\n",
       "    </tr>\n",
       "    <tr>\n",
       "      <th>2245</th>\n",
       "      <td>Men in Black (1997)</td>\n",
       "      <td>10152</td>\n",
       "    </tr>\n",
       "    <tr>\n",
       "      <th>2785</th>\n",
       "      <td>Princess Bride, The (1987)</td>\n",
       "      <td>9272</td>\n",
       "    </tr>\n",
       "    <tr>\n",
       "      <th>1942</th>\n",
       "      <td>L.A. Confidential (1997)</td>\n",
       "      <td>9152</td>\n",
       "    </tr>\n",
       "    <tr>\n",
       "      <th>1043</th>\n",
       "      <td>E.T. the Extra-Terrestrial (1982)</td>\n",
       "      <td>9076</td>\n",
       "    </tr>\n",
       "    <tr>\n",
       "      <th>3304</th>\n",
       "      <td>Star Wars: Episode I - The Phantom Menace (1999)</td>\n",
       "      <td>9000</td>\n",
       "    </tr>\n",
       "    <tr>\n",
       "      <th>98</th>\n",
       "      <td>Alien (1979)</td>\n",
       "      <td>8096</td>\n",
       "    </tr>\n",
       "    <tr>\n",
       "      <th>1868</th>\n",
       "      <td>Jurassic Park (1993)</td>\n",
       "      <td>8016</td>\n",
       "    </tr>\n",
       "  </tbody>\n",
       "</table>\n",
       "</div>"
      ],
      "text/plain": [
       "                                                  Title  Rating\n",
       "3306  Star Wars: Episode V - The Empire Strikes Back...   14950\n",
       "3307  Star Wars: Episode VI - Return of the Jedi (1983)   14415\n",
       "3305          Star Wars: Episode IV - A New Hope (1977)   11964\n",
       "2245                                Men in Black (1997)   10152\n",
       "2785                         Princess Bride, The (1987)    9272\n",
       "1942                           L.A. Confidential (1997)    9152\n",
       "1043                  E.T. the Extra-Terrestrial (1982)    9076\n",
       "3304   Star Wars: Episode I - The Phantom Menace (1999)    9000\n",
       "98                                         Alien (1979)    8096\n",
       "1868                               Jurassic Park (1993)    8016"
      ]
     },
     "execution_count": 93,
     "metadata": {},
     "output_type": "execute_result"
    }
   ],
   "source": [
    "top10_movies = final_data.groupby(\"Title\")[\"Rating\"].count().reset_index().sort_values(by=\"Rating\",ascending=False).head(10)\n",
    "top10_movies"
   ]
  },
  {
   "cell_type": "code",
   "execution_count": 94,
   "metadata": {},
   "outputs": [
    {
     "data": {
      "text/plain": [
       "<AxesSubplot:xlabel='Rating', ylabel='Title'>"
      ]
     },
     "execution_count": 94,
     "metadata": {},
     "output_type": "execute_result"
    },
    {
     "data": {
      "image/png": "[encoded data removed]",
      "text/plain": [
       "<Figure size 1440x576 with 1 Axes>"
      ]
     },
     "metadata": {
      "needs_background": "light"
     },
     "output_type": "display_data"
    }
   ],
   "source": [
    "sns.barplot(y = top10_movies[\"Title\"],\n",
    "            x = top10_movies[\"Rating\"])"
   ]
  },
  {
   "attachments": {},
   "cell_type": "markdown",
   "metadata": {},
   "source": [
    "### 5 Top rated Recommended Movies per each genre:"
   ]
  },
  {
   "cell_type": "code",
   "execution_count": 97,
   "metadata": {},
   "outputs": [
    {
     "name": "stdout",
     "output_type": "stream",
     "text": [
      "Action\n",
      "----------------------\n",
      "Title\n",
      "Star Wars: Episode V - The Empire Strikes Back (1980)    14950\n",
      "Star Wars: Episode VI - Return of the Jedi (1983)        14415\n",
      "Star Wars: Episode IV - A New Hope (1977)                11964\n",
      "Men in Black (1997)                                      10152\n",
      "Princess Bride, The (1987)                                9272\n",
      "Name: Rating, dtype: int64\n",
      "\n",
      "\n",
      "\n",
      "Adventure\n",
      "----------------------\n",
      "Title\n",
      "Star Wars: Episode V - The Empire Strikes Back (1980)    14950\n",
      "Star Wars: Episode VI - Return of the Jedi (1983)        14415\n",
      "Star Wars: Episode IV - A New Hope (1977)                11964\n",
      "Men in Black (1997)                                      10152\n",
      "Princess Bride, The (1987)                                9272\n",
      "Name: Rating, dtype: int64\n",
      "\n",
      "\n",
      "\n",
      "Animation\n",
      "----------------------\n",
      "Title\n",
      "Toy Story (1995)                   6231\n",
      "Aladdin (1992)                     5404\n",
      "Who Framed Roger Rabbit? (1988)    5397\n",
      "Little Mermaid, The (1989)         5175\n",
      "Bug's Life, A (1998)               5109\n",
      "Name: Rating, dtype: int64\n",
      "\n",
      "\n",
      "\n",
      "Children's\n",
      "----------------------\n",
      "Title\n",
      "E.T. the Extra-Terrestrial (1982)    9076\n",
      "Wizard of Oz, The (1939)             6872\n",
      "Toy Story (1995)                     6231\n",
      "Aladdin (1992)                       5404\n",
      "Babe (1995)                          5253\n",
      "Name: Rating, dtype: int64\n",
      "\n",
      "\n",
      "\n",
      "Comedy\n",
      "----------------------\n",
      "Title\n",
      "Men in Black (1997)           10152\n",
      "Princess Bride, The (1987)     9272\n",
      "American Beauty (1999)         6856\n",
      "Forrest Gump (1994)            6582\n",
      "Lethal Weapon (1987)           6508\n",
      "Name: Rating, dtype: int64\n",
      "\n",
      "\n",
      "\n",
      "Crime\n",
      "----------------------\n",
      "Title\n",
      "L.A. Confidential (1997)    9152\n",
      "Fargo (1996)                7539\n",
      "Godfather, The (1972)       6669\n",
      "Lethal Weapon (1987)        6508\n",
      "Batman (1989)               5724\n",
      "Name: Rating, dtype: int64\n",
      "\n",
      "\n",
      "\n",
      "Documentary\n",
      "----------------------\n",
      "Title\n",
      "Roger & Me (1989)        1596\n",
      "Hoop Dreams (1994)        716\n",
      "Crumb (1994)              491\n",
      "Koyaanisqatsi (1983)      364\n",
      "American Movie (1999)     295\n",
      "Name: Rating, dtype: int64\n",
      "\n",
      "\n",
      "\n",
      "Drama\n",
      "----------------------\n",
      "Title\n",
      "Star Wars: Episode V - The Empire Strikes Back (1980)    14950\n",
      "E.T. the Extra-Terrestrial (1982)                         9076\n",
      "Saving Private Ryan (1998)                                7959\n",
      "Fargo (1996)                                              7539\n",
      "Braveheart (1995)                                         7329\n",
      "Name: Rating, dtype: int64\n",
      "\n",
      "\n",
      "\n",
      "Fantasy\n",
      "----------------------\n",
      "Title\n",
      "Star Wars: Episode IV - A New Hope (1977)           11964\n",
      "E.T. the Extra-Terrestrial (1982)                    9076\n",
      "Star Wars: Episode I - The Phantom Menace (1999)     9000\n",
      "Willy Wonka and the Chocolate Factory (1971)         5252\n",
      "Honey, I Shrunk the Kids (1989)                      5225\n",
      "Name: Rating, dtype: int64\n",
      "\n",
      "\n",
      "\n",
      "Film-Noir\n",
      "----------------------\n",
      "Title\n",
      "L.A. Confidential (1997)           9152\n",
      "Who Framed Roger Rabbit? (1988)    5397\n",
      "Blade Runner (1982)                3600\n",
      "Chinatown (1974)                   3555\n",
      "Grifters, The (1990)               2655\n",
      "Name: Rating, dtype: int64\n",
      "\n",
      "\n",
      "\n",
      "Horror\n",
      "----------------------\n",
      "Title\n",
      "Alien (1979)                             8096\n",
      "Rocky Horror Picture Show, The (1975)    4932\n",
      "Army of Darkness (1993)                  4725\n",
      "From Dusk Till Dawn (1996)               4570\n",
      "Ghostbusters (1984)                      4362\n",
      "Name: Rating, dtype: int64\n",
      "\n",
      "\n",
      "\n",
      "Musical\n",
      "----------------------\n",
      "Title\n",
      "Wizard of Oz, The (1939)                 6872\n",
      "Aladdin (1992)                           5404\n",
      "Little Mermaid, The (1989)               5175\n",
      "Rocky Horror Picture Show, The (1975)    4932\n",
      "Lady and the Tramp (1955)                4320\n",
      "Name: Rating, dtype: int64\n",
      "\n",
      "\n",
      "\n",
      "Mystery\n",
      "----------------------\n",
      "Title\n",
      "L.A. Confidential (1997)           9152\n",
      "2001: A Space Odyssey (1968)       6864\n",
      "Mission: Impossible (1996)         4581\n",
      "Big Lebowski, The (1998)           4388\n",
      "Talented Mr. Ripley, The (1999)    3993\n",
      "Name: Rating, dtype: int64\n",
      "\n",
      "\n",
      "\n",
      "Romance\n",
      "----------------------\n",
      "Title\n",
      "Star Wars: Episode VI - Return of the Jedi (1983)    14415\n",
      "Princess Bride, The (1987)                            9272\n",
      "Forrest Gump (1994)                                   6582\n",
      "True Lies (1994)                                      5600\n",
      "Romancing the Stone (1984)                            5380\n",
      "Name: Rating, dtype: int64\n",
      "\n",
      "\n",
      "\n",
      "Sci-Fi\n",
      "----------------------\n",
      "Title\n",
      "Star Wars: Episode V - The Empire Strikes Back (1980)    14950\n",
      "Star Wars: Episode VI - Return of the Jedi (1983)        14415\n",
      "Star Wars: Episode IV - A New Hope (1977)                11964\n",
      "Men in Black (1997)                                      10152\n",
      "E.T. the Extra-Terrestrial (1982)                         9076\n",
      "Name: Rating, dtype: int64\n",
      "\n",
      "\n",
      "\n",
      "Thriller\n",
      "----------------------\n",
      "Title\n",
      "L.A. Confidential (1997)             9152\n",
      "Alien (1979)                         8096\n",
      "Total Recall (1990)                  7984\n",
      "Terminator 2: Judgment Day (1991)    7947\n",
      "Matrix, The (1999)                   7770\n",
      "Name: Rating, dtype: int64\n",
      "\n",
      "\n",
      "\n",
      "War\n",
      "----------------------\n",
      "Title\n",
      "Star Wars: Episode V - The Empire Strikes Back (1980)    14950\n",
      "Star Wars: Episode VI - Return of the Jedi (1983)        14415\n",
      "Saving Private Ryan (1998)                                7959\n",
      "Braveheart (1995)                                         7329\n",
      "Aliens (1986)                                             7280\n",
      "Name: Rating, dtype: int64\n",
      "\n",
      "\n",
      "\n",
      "Western\n",
      "----------------------\n",
      "Title\n",
      "Dances with Wolves (1990)                    4353\n",
      "Butch Cassidy and the Sundance Kid (1969)    4257\n",
      "Back to the Future Part III (1990)           3444\n",
      "Legends of the Fall (1994)                   2820\n",
      "Wild Wild West (1999)                        2706\n",
      "Name: Rating, dtype: int64\n",
      "\n",
      "\n",
      "\n"
     ]
    }
   ],
   "source": [
    "Genres = ['Action', 'Adventure', 'Animation', \"Children's\", 'Comedy', 'Crime','Documentary', 'Drama', 'Fantasy', 'Film-Noir', 'Horror', 'Musical', 'Mystery','Romance', 'Sci-Fi', 'Thriller', 'War', 'Western']\n",
    "\n",
    "for G in Genres:\n",
    "  print(G)\n",
    "  print(\"----------------------\")\n",
    "  print(final_data[final_data[G] == 1].groupby(\"Title\")[\"Rating\"].count().sort_values(ascending=False).head(5))\n",
    "  print()\n",
    "  print()\n",
    "  print()"
   ]
  },
  {
   "cell_type": "code",
   "execution_count": null,
   "metadata": {},
   "outputs": [],
   "source": []
  }
 ],
 "metadata": {
  "kernelspec": {
   "display_name": "base",
   "language": "python",
   "name": "python3"
  },
  "language_info": {
   "codemirror_mode": {
    "name": "ipython",
    "version": 3
   },
   "file_extension": ".py",
   "mimetype": "text/x-python",
   "name": "python",
   "nbconvert_exporter": "python",
   "pygments_lexer": "ipython3",
   "version": "3.8.8"
  },
  "orig_nbformat": 4,
  "vscode": {
   "interpreter": {
    "hash": "47d371b4742cd89b1799070f0610db6227645f4346d7c15bff02f7c4df437ecf"
   }
  }
 },
 "nbformat": 4,
 "nbformat_minor": 2
}
