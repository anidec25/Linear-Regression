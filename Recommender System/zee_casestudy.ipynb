{
 "cells": [
  {
   "attachments": {},
   "cell_type": "markdown",
   "metadata": {},
   "source": [
    "### Problem Statement: Create a Recommender System to show personalized movie recommendations based on ratings given by a user and other users similar to them in order to improve user experience."
   ]
  },
  {
   "attachments": {},
   "cell_type": "markdown",
   "metadata": {},
   "source": [
    "## Data_Dictionary\n",
    "\n",
    "=========================================================================\n",
    "\n",
    "RATINGS FILE DESCRIPTION\n",
    "\n",
    "=========================================================================\n",
    "\n",
    "All ratings are contained in the file \"ratings.dat\" and are in the following format:\n",
    "\n",
    "UserID::MovieID::Rating::Timestamp\n",
    "\n",
    "UserIDs range between 1 and 6040\n",
    "\n",
    "MovieIDs range between 1 and 3952\n",
    "\n",
    "Ratings are made on a 5-star scale (whole-star ratings only)\n",
    "\n",
    "Timestamp is represented in seconds\n",
    "\n",
    "Each user has at least 20 ratings\n",
    "\n",
    "=========================================================================\n",
    "\n",
    "USERS FILE DESCRIPTION\n",
    "\n",
    "=========================================================================\n",
    "\n",
    "User information is in the file \"users.dat\" and is in the following format:\n",
    "\n",
    "UserID::Gender::Age::Occupation::Zip-code\n",
    "\n",
    "All demographic information is provided voluntarily by the users and is not checked for accuracy.\n",
    "Only users who have provided some demographic information are included in this data set.\n",
    "\n",
    "Gender is denoted by a \"M\" for male and \"F\" for female\n",
    "\n",
    "Age is chosen from the following ranges:\n",
    "\n",
    "1: \"Under 18\"\n",
    "\n",
    "18: \"18-24\"\n",
    "\n",
    "25: \"25-34\"\n",
    "\n",
    "35: \"35-44\"\n",
    "\n",
    "45: \"45-49\"\n",
    "\n",
    "50: \"50-55\"\n",
    "\n",
    "56: \"56+\"\n",
    "\n",
    "\n",
    "Occupation is chosen from the following choices:\n",
    "\n",
    "0: \"other\" or not specified\n",
    "\n",
    "1: \"academic/educator\"\n",
    "\n",
    "2: \"artist\"\n",
    "\n",
    "3: \"clerical/admin\"\n",
    "\n",
    "4: \"college/grad student\"\n",
    "\n",
    "5: \"customer service\"\n",
    "\n",
    "6: \"doctor/health care\"\n",
    "\n",
    "7: \"executive/managerial\"\n",
    "\n",
    "8: \"farmer\"\n",
    "\n",
    "9: \"homemaker\"\n",
    "\n",
    "10: \"K-12 student\"\n",
    "\n",
    "11: \"lawyer\"\n",
    "\n",
    "12: \"programmer\"\n",
    "\n",
    "13: \"retired\"\n",
    "\n",
    "14: \"sales/marketing\"\n",
    "\n",
    "15: \"scientist\"\n",
    "\n",
    "16: \"self-employed\"\n",
    "\n",
    "17: \"technician/engineer\"\n",
    "\n",
    "18: \"tradesman/craftsman\"\n",
    "\n",
    "19: \"unemployed\"\n",
    "\n",
    "20: \"writer\"\n",
    "\n",
    "\n",
    "=========================================================================\n",
    "\n",
    "MOVIES FILE DESCRIPTION\n",
    "\n",
    "=========================================================================\n",
    "\n",
    "Movie information is in the file \"movies.dat\" and is in the following format:\n",
    "\n",
    "MovieID::Title::Genres\n",
    "\n",
    "Titles are identical to titles provided by the IMDB (including year of release)\n",
    "\n",
    "Genres are pipe-separated and are selected from the following genres:\n",
    "\n",
    "- Action\n",
    "- Adventure\n",
    "- Animation\n",
    "- Children's\n",
    "- Comedy\n",
    "- Crime\n",
    "- Documentary\n",
    "- Drama\n",
    "- Fantasy\n",
    "- Film-Noir\n",
    "- Horror\n",
    "- Musical\n",
    "- Mystery\n",
    "- Romance\n",
    "- Sci-Fi\n",
    "- Thriller\n",
    "- War\n",
    "- Western"
   ]
  },
  {
   "attachments": {},
   "cell_type": "markdown",
   "metadata": {},
   "source": [
    "## Importing_Libraries"
   ]
  },
  {
   "cell_type": "code",
   "execution_count": 154,
   "metadata": {},
   "outputs": [
    {
     "data": {
      "text/plain": [
       "<Figure size 720x432 with 0 Axes>"
      ]
     },
     "execution_count": 154,
     "metadata": {},
     "output_type": "execute_result"
    },
    {
     "data": {
      "text/plain": [
       "<Figure size 720x432 with 0 Axes>"
      ]
     },
     "metadata": {},
     "output_type": "display_data"
    }
   ],
   "source": [
    "#import all required libraries\n",
    "\n",
    "import pandas as pd\n",
    "import numpy as np\n",
    "import matplotlib.pyplot as plt\n",
    "import seaborn as sns\n",
    "\n",
    "import warnings\n",
    "warnings.filterwarnings('ignore')\n",
    "\n",
    "plt.figure(figsize=(10,6))"
   ]
  },
  {
   "cell_type": "code",
   "execution_count": 4,
   "metadata": {},
   "outputs": [],
   "source": [
    "df_movies = pd.read_table('zee-movies.dat', sep='::')\n",
    "df_ratings = pd.read_table('zee-ratings.dat', sep='::')\n",
    "df_users = pd.read_table('zee-users.dat', sep='::')"
   ]
  },
  {
   "cell_type": "code",
   "execution_count": 5,
   "metadata": {},
   "outputs": [
    {
     "data": {
      "text/html": [
       "<div>\n",
       "<style scoped>\n",
       "    .dataframe tbody tr th:only-of-type {\n",
       "        vertical-align: middle;\n",
       "    }\n",
       "\n",
       "    .dataframe tbody tr th {\n",
       "        vertical-align: top;\n",
       "    }\n",
       "\n",
       "    .dataframe thead th {\n",
       "        text-align: right;\n",
       "    }\n",
       "</style>\n",
       "<table border=\"1\" class=\"dataframe\">\n",
       "  <thead>\n",
       "    <tr style=\"text-align: right;\">\n",
       "      <th></th>\n",
       "      <th>Movie ID</th>\n",
       "      <th>Title</th>\n",
       "      <th>Genres</th>\n",
       "    </tr>\n",
       "  </thead>\n",
       "  <tbody>\n",
       "    <tr>\n",
       "      <th>0</th>\n",
       "      <td>1</td>\n",
       "      <td>Toy Story (1995)</td>\n",
       "      <td>Animation|Children's|Comedy</td>\n",
       "    </tr>\n",
       "    <tr>\n",
       "      <th>1</th>\n",
       "      <td>2</td>\n",
       "      <td>Jumanji (1995)</td>\n",
       "      <td>Adventure|Children's|Fantasy</td>\n",
       "    </tr>\n",
       "    <tr>\n",
       "      <th>2</th>\n",
       "      <td>3</td>\n",
       "      <td>Grumpier Old Men (1995)</td>\n",
       "      <td>Comedy|Romance</td>\n",
       "    </tr>\n",
       "    <tr>\n",
       "      <th>3</th>\n",
       "      <td>4</td>\n",
       "      <td>Waiting to Exhale (1995)</td>\n",
       "      <td>Comedy|Drama</td>\n",
       "    </tr>\n",
       "    <tr>\n",
       "      <th>4</th>\n",
       "      <td>5</td>\n",
       "      <td>Father of the Bride Part II (1995)</td>\n",
       "      <td>Comedy</td>\n",
       "    </tr>\n",
       "  </tbody>\n",
       "</table>\n",
       "</div>"
      ],
      "text/plain": [
       "   Movie ID                               Title                        Genres\n",
       "0         1                    Toy Story (1995)   Animation|Children's|Comedy\n",
       "1         2                      Jumanji (1995)  Adventure|Children's|Fantasy\n",
       "2         3             Grumpier Old Men (1995)                Comedy|Romance\n",
       "3         4            Waiting to Exhale (1995)                  Comedy|Drama\n",
       "4         5  Father of the Bride Part II (1995)                        Comedy"
      ]
     },
     "execution_count": 5,
     "metadata": {},
     "output_type": "execute_result"
    }
   ],
   "source": [
    "df_movies.head()"
   ]
  },
  {
   "cell_type": "code",
   "execution_count": 6,
   "metadata": {},
   "outputs": [
    {
     "data": {
      "text/html": [
       "<div>\n",
       "<style scoped>\n",
       "    .dataframe tbody tr th:only-of-type {\n",
       "        vertical-align: middle;\n",
       "    }\n",
       "\n",
       "    .dataframe tbody tr th {\n",
       "        vertical-align: top;\n",
       "    }\n",
       "\n",
       "    .dataframe thead th {\n",
       "        text-align: right;\n",
       "    }\n",
       "</style>\n",
       "<table border=\"1\" class=\"dataframe\">\n",
       "  <thead>\n",
       "    <tr style=\"text-align: right;\">\n",
       "      <th></th>\n",
       "      <th>UserID</th>\n",
       "      <th>MovieID</th>\n",
       "      <th>Rating</th>\n",
       "      <th>Timestamp</th>\n",
       "    </tr>\n",
       "  </thead>\n",
       "  <tbody>\n",
       "    <tr>\n",
       "      <th>0</th>\n",
       "      <td>1</td>\n",
       "      <td>1193</td>\n",
       "      <td>5</td>\n",
       "      <td>978300760</td>\n",
       "    </tr>\n",
       "    <tr>\n",
       "      <th>1</th>\n",
       "      <td>1</td>\n",
       "      <td>661</td>\n",
       "      <td>3</td>\n",
       "      <td>978302109</td>\n",
       "    </tr>\n",
       "    <tr>\n",
       "      <th>2</th>\n",
       "      <td>1</td>\n",
       "      <td>914</td>\n",
       "      <td>3</td>\n",
       "      <td>978301968</td>\n",
       "    </tr>\n",
       "    <tr>\n",
       "      <th>3</th>\n",
       "      <td>1</td>\n",
       "      <td>3408</td>\n",
       "      <td>4</td>\n",
       "      <td>978300275</td>\n",
       "    </tr>\n",
       "    <tr>\n",
       "      <th>4</th>\n",
       "      <td>1</td>\n",
       "      <td>2355</td>\n",
       "      <td>5</td>\n",
       "      <td>978824291</td>\n",
       "    </tr>\n",
       "  </tbody>\n",
       "</table>\n",
       "</div>"
      ],
      "text/plain": [
       "   UserID  MovieID  Rating  Timestamp\n",
       "0       1     1193       5  978300760\n",
       "1       1      661       3  978302109\n",
       "2       1      914       3  978301968\n",
       "3       1     3408       4  978300275\n",
       "4       1     2355       5  978824291"
      ]
     },
     "execution_count": 6,
     "metadata": {},
     "output_type": "execute_result"
    }
   ],
   "source": [
    "df_ratings.head()"
   ]
  },
  {
   "cell_type": "code",
   "execution_count": 7,
   "metadata": {},
   "outputs": [
    {
     "data": {
      "text/html": [
       "<div>\n",
       "<style scoped>\n",
       "    .dataframe tbody tr th:only-of-type {\n",
       "        vertical-align: middle;\n",
       "    }\n",
       "\n",
       "    .dataframe tbody tr th {\n",
       "        vertical-align: top;\n",
       "    }\n",
       "\n",
       "    .dataframe thead th {\n",
       "        text-align: right;\n",
       "    }\n",
       "</style>\n",
       "<table border=\"1\" class=\"dataframe\">\n",
       "  <thead>\n",
       "    <tr style=\"text-align: right;\">\n",
       "      <th></th>\n",
       "      <th>UserID</th>\n",
       "      <th>Gender</th>\n",
       "      <th>Age</th>\n",
       "      <th>Occupation</th>\n",
       "      <th>Zip-code</th>\n",
       "    </tr>\n",
       "  </thead>\n",
       "  <tbody>\n",
       "    <tr>\n",
       "      <th>0</th>\n",
       "      <td>1</td>\n",
       "      <td>F</td>\n",
       "      <td>1</td>\n",
       "      <td>10</td>\n",
       "      <td>48067</td>\n",
       "    </tr>\n",
       "    <tr>\n",
       "      <th>1</th>\n",
       "      <td>2</td>\n",
       "      <td>M</td>\n",
       "      <td>56</td>\n",
       "      <td>16</td>\n",
       "      <td>70072</td>\n",
       "    </tr>\n",
       "    <tr>\n",
       "      <th>2</th>\n",
       "      <td>3</td>\n",
       "      <td>M</td>\n",
       "      <td>25</td>\n",
       "      <td>15</td>\n",
       "      <td>55117</td>\n",
       "    </tr>\n",
       "    <tr>\n",
       "      <th>3</th>\n",
       "      <td>4</td>\n",
       "      <td>M</td>\n",
       "      <td>45</td>\n",
       "      <td>7</td>\n",
       "      <td>02460</td>\n",
       "    </tr>\n",
       "    <tr>\n",
       "      <th>4</th>\n",
       "      <td>5</td>\n",
       "      <td>M</td>\n",
       "      <td>25</td>\n",
       "      <td>20</td>\n",
       "      <td>55455</td>\n",
       "    </tr>\n",
       "  </tbody>\n",
       "</table>\n",
       "</div>"
      ],
      "text/plain": [
       "   UserID Gender  Age  Occupation Zip-code\n",
       "0       1      F    1          10    48067\n",
       "1       2      M   56          16    70072\n",
       "2       3      M   25          15    55117\n",
       "3       4      M   45           7    02460\n",
       "4       5      M   25          20    55455"
      ]
     },
     "execution_count": 7,
     "metadata": {},
     "output_type": "execute_result"
    }
   ],
   "source": [
    "df_users.head()"
   ]
  },
  {
   "cell_type": "code",
   "execution_count": 10,
   "metadata": {},
   "outputs": [
    {
     "data": {
      "text/plain": [
       "53"
      ]
     },
     "execution_count": 10,
     "metadata": {},
     "output_type": "execute_result"
    }
   ],
   "source": [
    "df_ratings[df_ratings['UserID'] == 1]['MovieID'].nunique()"
   ]
  },
  {
   "cell_type": "code",
   "execution_count": 13,
   "metadata": {},
   "outputs": [
    {
     "data": {
      "text/plain": [
       "UserID       53\n",
       "MovieID      53\n",
       "Rating       53\n",
       "Timestamp    53\n",
       "dtype: int64"
      ]
     },
     "execution_count": 13,
     "metadata": {},
     "output_type": "execute_result"
    }
   ],
   "source": [
    "df_ratings[df_ratings['UserID'] == 1].count()"
   ]
  },
  {
   "cell_type": "code",
   "execution_count": 14,
   "metadata": {},
   "outputs": [
    {
     "name": "stdout",
     "output_type": "stream",
     "text": [
      "<class 'pandas.core.frame.DataFrame'>\n",
      "RangeIndex: 3883 entries, 0 to 3882\n",
      "Data columns (total 3 columns):\n",
      " #   Column    Non-Null Count  Dtype \n",
      "---  ------    --------------  ----- \n",
      " 0   Movie ID  3883 non-null   int64 \n",
      " 1   Title     3883 non-null   object\n",
      " 2   Genres    3883 non-null   object\n",
      "dtypes: int64(1), object(2)\n",
      "memory usage: 91.1+ KB\n"
     ]
    }
   ],
   "source": [
    "df_movies.info()"
   ]
  },
  {
   "cell_type": "code",
   "execution_count": 15,
   "metadata": {},
   "outputs": [
    {
     "name": "stdout",
     "output_type": "stream",
     "text": [
      "<class 'pandas.core.frame.DataFrame'>\n",
      "RangeIndex: 1000209 entries, 0 to 1000208\n",
      "Data columns (total 4 columns):\n",
      " #   Column     Non-Null Count    Dtype\n",
      "---  ------     --------------    -----\n",
      " 0   UserID     1000209 non-null  int64\n",
      " 1   MovieID    1000209 non-null  int64\n",
      " 2   Rating     1000209 non-null  int64\n",
      " 3   Timestamp  1000209 non-null  int64\n",
      "dtypes: int64(4)\n",
      "memory usage: 30.5 MB\n"
     ]
    }
   ],
   "source": [
    "df_ratings.info()"
   ]
  },
  {
   "cell_type": "code",
   "execution_count": 16,
   "metadata": {},
   "outputs": [
    {
     "name": "stdout",
     "output_type": "stream",
     "text": [
      "<class 'pandas.core.frame.DataFrame'>\n",
      "RangeIndex: 6040 entries, 0 to 6039\n",
      "Data columns (total 5 columns):\n",
      " #   Column      Non-Null Count  Dtype \n",
      "---  ------      --------------  ----- \n",
      " 0   UserID      6040 non-null   int64 \n",
      " 1   Gender      6040 non-null   object\n",
      " 2   Age         6040 non-null   int64 \n",
      " 3   Occupation  6040 non-null   int64 \n",
      " 4   Zip-code    6040 non-null   object\n",
      "dtypes: int64(3), object(2)\n",
      "memory usage: 236.1+ KB\n"
     ]
    }
   ],
   "source": [
    "df_users.info()"
   ]
  },
  {
   "attachments": {},
   "cell_type": "markdown",
   "metadata": {},
   "source": [
    "##### Good. There are no null values in our dataset"
   ]
  },
  {
   "cell_type": "code",
   "execution_count": 17,
   "metadata": {},
   "outputs": [
    {
     "data": {
      "text/html": [
       "<div>\n",
       "<style scoped>\n",
       "    .dataframe tbody tr th:only-of-type {\n",
       "        vertical-align: middle;\n",
       "    }\n",
       "\n",
       "    .dataframe tbody tr th {\n",
       "        vertical-align: top;\n",
       "    }\n",
       "\n",
       "    .dataframe thead th {\n",
       "        text-align: right;\n",
       "    }\n",
       "</style>\n",
       "<table border=\"1\" class=\"dataframe\">\n",
       "  <thead>\n",
       "    <tr style=\"text-align: right;\">\n",
       "      <th></th>\n",
       "      <th>Movie ID</th>\n",
       "      <th>Title</th>\n",
       "      <th>Genres</th>\n",
       "    </tr>\n",
       "  </thead>\n",
       "  <tbody>\n",
       "    <tr>\n",
       "      <th>0</th>\n",
       "      <td>1</td>\n",
       "      <td>Toy Story (1995)</td>\n",
       "      <td>Animation|Children's|Comedy</td>\n",
       "    </tr>\n",
       "    <tr>\n",
       "      <th>1</th>\n",
       "      <td>2</td>\n",
       "      <td>Jumanji (1995)</td>\n",
       "      <td>Adventure|Children's|Fantasy</td>\n",
       "    </tr>\n",
       "    <tr>\n",
       "      <th>2</th>\n",
       "      <td>3</td>\n",
       "      <td>Grumpier Old Men (1995)</td>\n",
       "      <td>Comedy|Romance</td>\n",
       "    </tr>\n",
       "    <tr>\n",
       "      <th>3</th>\n",
       "      <td>4</td>\n",
       "      <td>Waiting to Exhale (1995)</td>\n",
       "      <td>Comedy|Drama</td>\n",
       "    </tr>\n",
       "    <tr>\n",
       "      <th>4</th>\n",
       "      <td>5</td>\n",
       "      <td>Father of the Bride Part II (1995)</td>\n",
       "      <td>Comedy</td>\n",
       "    </tr>\n",
       "  </tbody>\n",
       "</table>\n",
       "</div>"
      ],
      "text/plain": [
       "   Movie ID                               Title                        Genres\n",
       "0         1                    Toy Story (1995)   Animation|Children's|Comedy\n",
       "1         2                      Jumanji (1995)  Adventure|Children's|Fantasy\n",
       "2         3             Grumpier Old Men (1995)                Comedy|Romance\n",
       "3         4            Waiting to Exhale (1995)                  Comedy|Drama\n",
       "4         5  Father of the Bride Part II (1995)                        Comedy"
      ]
     },
     "execution_count": 17,
     "metadata": {},
     "output_type": "execute_result"
    }
   ],
   "source": [
    "#Let us first explore the movies dataset, them followed by ratings and users\n",
    "\n",
    "\n",
    "df_movies.head()"
   ]
  },
  {
   "cell_type": "code",
   "execution_count": 26,
   "metadata": {},
   "outputs": [
    {
     "data": {
      "text/html": [
       "<div>\n",
       "<style scoped>\n",
       "    .dataframe tbody tr th:only-of-type {\n",
       "        vertical-align: middle;\n",
       "    }\n",
       "\n",
       "    .dataframe tbody tr th {\n",
       "        vertical-align: top;\n",
       "    }\n",
       "\n",
       "    .dataframe thead th {\n",
       "        text-align: right;\n",
       "    }\n",
       "</style>\n",
       "<table border=\"1\" class=\"dataframe\">\n",
       "  <thead>\n",
       "    <tr style=\"text-align: right;\">\n",
       "      <th></th>\n",
       "      <th>Movie ID</th>\n",
       "      <th>Title</th>\n",
       "      <th>Genres</th>\n",
       "    </tr>\n",
       "  </thead>\n",
       "  <tbody>\n",
       "    <tr>\n",
       "      <th>0</th>\n",
       "      <td>1</td>\n",
       "      <td>Toy Story (1995)</td>\n",
       "      <td>Animation|Children's|Comedy</td>\n",
       "    </tr>\n",
       "  </tbody>\n",
       "</table>\n",
       "</div>"
      ],
      "text/plain": [
       "   Movie ID             Title                       Genres\n",
       "0         1  Toy Story (1995)  Animation|Children's|Comedy"
      ]
     },
     "execution_count": 26,
     "metadata": {},
     "output_type": "execute_result"
    }
   ],
   "source": [
    "df_movies[df_movies['Movie ID'] == 1]"
   ]
  },
  {
   "cell_type": "code",
   "execution_count": 31,
   "metadata": {},
   "outputs": [],
   "source": [
    "df_movies['Genres'] = df_movies['Genres'].apply(lambda x : x.split('|'))"
   ]
  },
  {
   "cell_type": "code",
   "execution_count": 34,
   "metadata": {},
   "outputs": [],
   "source": [
    "df_movies = df_movies.explode('Genres')"
   ]
  },
  {
   "cell_type": "code",
   "execution_count": 36,
   "metadata": {},
   "outputs": [
    {
     "data": {
      "text/html": [
       "<div>\n",
       "<style scoped>\n",
       "    .dataframe tbody tr th:only-of-type {\n",
       "        vertical-align: middle;\n",
       "    }\n",
       "\n",
       "    .dataframe tbody tr th {\n",
       "        vertical-align: top;\n",
       "    }\n",
       "\n",
       "    .dataframe thead th {\n",
       "        text-align: right;\n",
       "    }\n",
       "</style>\n",
       "<table border=\"1\" class=\"dataframe\">\n",
       "  <thead>\n",
       "    <tr style=\"text-align: right;\">\n",
       "      <th></th>\n",
       "      <th>Movie ID</th>\n",
       "      <th>Title</th>\n",
       "      <th>Genres</th>\n",
       "    </tr>\n",
       "  </thead>\n",
       "  <tbody>\n",
       "    <tr>\n",
       "      <th>0</th>\n",
       "      <td>1</td>\n",
       "      <td>Toy Story (1995)</td>\n",
       "      <td>Animation</td>\n",
       "    </tr>\n",
       "    <tr>\n",
       "      <th>0</th>\n",
       "      <td>1</td>\n",
       "      <td>Toy Story (1995)</td>\n",
       "      <td>Children's</td>\n",
       "    </tr>\n",
       "    <tr>\n",
       "      <th>0</th>\n",
       "      <td>1</td>\n",
       "      <td>Toy Story (1995)</td>\n",
       "      <td>Comedy</td>\n",
       "    </tr>\n",
       "  </tbody>\n",
       "</table>\n",
       "</div>"
      ],
      "text/plain": [
       "   Movie ID             Title      Genres\n",
       "0         1  Toy Story (1995)   Animation\n",
       "0         1  Toy Story (1995)  Children's\n",
       "0         1  Toy Story (1995)      Comedy"
      ]
     },
     "execution_count": 36,
     "metadata": {},
     "output_type": "execute_result"
    }
   ],
   "source": [
    "df_movies[df_movies['Movie ID'] == 1]"
   ]
  },
  {
   "cell_type": "code",
   "execution_count": 52,
   "metadata": {},
   "outputs": [
    {
     "data": {
      "text/html": [
       "<div>\n",
       "<style scoped>\n",
       "    .dataframe tbody tr th:only-of-type {\n",
       "        vertical-align: middle;\n",
       "    }\n",
       "\n",
       "    .dataframe tbody tr th {\n",
       "        vertical-align: top;\n",
       "    }\n",
       "\n",
       "    .dataframe thead th {\n",
       "        text-align: right;\n",
       "    }\n",
       "</style>\n",
       "<table border=\"1\" class=\"dataframe\">\n",
       "  <thead>\n",
       "    <tr style=\"text-align: right;\">\n",
       "      <th></th>\n",
       "      <th>index</th>\n",
       "      <th>Title</th>\n",
       "    </tr>\n",
       "  </thead>\n",
       "  <tbody>\n",
       "    <tr>\n",
       "      <th>0</th>\n",
       "      <td>0</td>\n",
       "      <td>Toy Story (1995)</td>\n",
       "    </tr>\n",
       "    <tr>\n",
       "      <th>1</th>\n",
       "      <td>0</td>\n",
       "      <td>Toy Story (1995)</td>\n",
       "    </tr>\n",
       "    <tr>\n",
       "      <th>2</th>\n",
       "      <td>0</td>\n",
       "      <td>Toy Story (1995)</td>\n",
       "    </tr>\n",
       "    <tr>\n",
       "      <th>3</th>\n",
       "      <td>1</td>\n",
       "      <td>Jumanji (1995)</td>\n",
       "    </tr>\n",
       "    <tr>\n",
       "      <th>4</th>\n",
       "      <td>1</td>\n",
       "      <td>Jumanji (1995)</td>\n",
       "    </tr>\n",
       "    <tr>\n",
       "      <th>...</th>\n",
       "      <td>...</td>\n",
       "      <td>...</td>\n",
       "    </tr>\n",
       "    <tr>\n",
       "      <th>6403</th>\n",
       "      <td>3879</td>\n",
       "      <td>Requiem for a Dream (2000)</td>\n",
       "    </tr>\n",
       "    <tr>\n",
       "      <th>6404</th>\n",
       "      <td>3880</td>\n",
       "      <td>Tigerland (2000)</td>\n",
       "    </tr>\n",
       "    <tr>\n",
       "      <th>6405</th>\n",
       "      <td>3881</td>\n",
       "      <td>Two Family House (2000)</td>\n",
       "    </tr>\n",
       "    <tr>\n",
       "      <th>6406</th>\n",
       "      <td>3882</td>\n",
       "      <td>Contender, The (2000)</td>\n",
       "    </tr>\n",
       "    <tr>\n",
       "      <th>6407</th>\n",
       "      <td>3882</td>\n",
       "      <td>Contender, The (2000)</td>\n",
       "    </tr>\n",
       "  </tbody>\n",
       "</table>\n",
       "<p>6408 rows × 2 columns</p>\n",
       "</div>"
      ],
      "text/plain": [
       "      index                       Title\n",
       "0         0            Toy Story (1995)\n",
       "1         0            Toy Story (1995)\n",
       "2         0            Toy Story (1995)\n",
       "3         1              Jumanji (1995)\n",
       "4         1              Jumanji (1995)\n",
       "...     ...                         ...\n",
       "6403   3879  Requiem for a Dream (2000)\n",
       "6404   3880            Tigerland (2000)\n",
       "6405   3881     Two Family House (2000)\n",
       "6406   3882       Contender, The (2000)\n",
       "6407   3882       Contender, The (2000)\n",
       "\n",
       "[6408 rows x 2 columns]"
      ]
     },
     "execution_count": 52,
     "metadata": {},
     "output_type": "execute_result"
    }
   ],
   "source": [
    "df_movies['Title'].reset_index()"
   ]
  },
  {
   "cell_type": "markdown",
   "metadata": {},
   "source": [
    "## movies_eda"
   ]
  },
  {
   "cell_type": "code",
   "execution_count": 157,
   "metadata": {},
   "outputs": [
    {
     "data": {
      "image/png": "[encoded data removed]",
      "text/plain": [
       "<Figure size 720x432 with 1 Axes>"
      ]
     },
     "metadata": {
      "needs_background": "light"
     },
     "output_type": "display_data"
    }
   ],
   "source": [
    "def top_genres(df,N=5):\n",
    "    plt.figure(figsize=(10,6))\n",
    "    plt.xlabel('Genres')\n",
    "    sns.countplot(df[df.isin(df.value_counts().head(N).reset_index()['index'])])\n",
    "    plt.show()\n",
    "\n",
    "\n",
    "#Top 10 genres\n",
    "top_genres(df_movies['Genres'],N= 10)"
   ]
  },
  {
   "attachments": {},
   "cell_type": "markdown",
   "metadata": {},
   "source": [
    "#### Feature Engineering: Getting the release year from movies"
   ]
  },
  {
   "cell_type": "code",
   "execution_count": 94,
   "metadata": {},
   "outputs": [
    {
     "data": {
      "text/plain": [
       "array(['1995', 'Yao a yao yao dao waipo qiao)', 'Se7en)', '1994',\n",
       "       'The Postman)', 'Le Confessionnal)', '1996', 'Gazon maudit)',\n",
       "       'Badkonake Sefid )', 'Antonia)', 'Haine, La)',\n",
       "       'Keiner liebt mich)', '1976', '1993', '1992',\n",
       "       \"Uomo delle stelle, L')\", 'Saimt el Qusur)', 'Cienie)', '1967',\n",
       "       'Parapluies de Cherbourg, Les)', 'Utomlyonnye solntsem)',\n",
       "       'Pred dozhdot)', '1977', 'Como agua para chocolate)',\n",
       "       'Mi vida loca)', 'a.k.a. Leon: The Professional)',\n",
       "       'La Reine Margot)', 'Pret-A-Porter)', 'Fresa y chocolate)',\n",
       "       'Huozhe)', 'Die Macht der Bilder)', '1965', 'Ai no corrida)',\n",
       "       'Nuits fauves, Les)', '1982', '1962', 'Bulletproof Heart)',\n",
       "       'K�disbellan )', 'Io speriamo che me la cavo )', 'Caf� au Lait)',\n",
       "       'Caro Diario)', 'De eso no se habla)', '1990', '1991', '1989',\n",
       "       '1937', '1940', '1969', 'Wu Kui)', '1981', 'Pane e cioccolata)',\n",
       "       '1970', 'La Flor de Mi Secreto)', 'Schrei aus Stein)',\n",
       "       'Tierra y libertad)', 'Un indien dans la ville)',\n",
       "       '� k�ldum klaka)', '1960', '1955', '1956', 'Apur Sansar)', '1968',\n",
       "       'Coup de Torchon)', \"Oeil de Vichy, L')\", '1980',\n",
       "       'Versprechen, Das)', 'Etz Hadomim Tafus)', '1988',\n",
       "       'Hussard sur le toit, Le)', '1975', 'Boca a boca)',\n",
       "       'Les Visiteurs)', 'Paul Bowles - Halbmond)', '1986',\n",
       "       'Dellamorte Dellamore)', 'Kokaku kidotai)', '1948', '1943', '1963',\n",
       "       '1950', 'Khomreh)', 'a.k.a. Summer Fling)', '1946',\n",
       "       'Life is Rosey)', 'Journey of the Hyena)', \"God's Gift)\",\n",
       "       'Tre Passi nel Delirio)', '1997', 'ID4)', 'Yo, la peor de todas)',\n",
       "       '1987', \"En compagnie d'Antonin Artaud)\", 'Sibak)', '1974',\n",
       "       'Vieille qui marchait dans la mer, La)',\n",
       "       'Rendez-vous de Paris, Les)', 'Mort en ce jardin, La)',\n",
       "       'Convento, O)', '1959', 'Tianguo niezi)', 'Narayama Bushiko)',\n",
       "       '1949', '1972', 'Bewegte Mann, Der)', 'Schatten der Engel)',\n",
       "       'Chao ji ji hua)', '1998', '1933', '1952', '1951', '1957', '1961',\n",
       "       '1958', '1954', '1934', '1944', '1942', '1941', '1964', '1953',\n",
       "       '1939', 'a.k.a. Sunset Boulevard)', '1947', '1945', '1938', '1935',\n",
       "       '1936', '1926', '1932', 'Blaue Engel, Der)', 'Brother of Sleep)',\n",
       "       \"L'Associe\", '1971', 'Azucar Amargo)', '1973', '1979',\n",
       "       \"Microcosmos: Le peuple de l'herbe)\", 'La Fille Seule)',\n",
       "       'Le Huiti�me jour )', 'Manon des sources)',\n",
       "       'Retour de Martin Guerre, Le)', 'Zaproszenie)',\n",
       "       'Bambini ci guardano, I)', 'Blechtrommel, Die)', '1966',\n",
       "       'La Double Vie de V�ronique)', '1978', '1985', '1983',\n",
       "       'Der Himmel �ber Berlin)', 'Le Grand Bleu)',\n",
       "       'Die xue shuang xiong)', '1984', 'Das Boot)',\n",
       "       'Sjunde inseglet, Det)', 'La Femme Nikita)', '1931',\n",
       "       'Dead By Dawn)', 'Mitt liv som hund)', 'Bis ans Ende der Welt)',\n",
       "       \"Andy Warhol's Dracula)\", 'Nosferatu, eine Symphonie des Grauens)',\n",
       "       'Identificazione di una donna)', 'Giardino dei Finzi-Contini, Il)',\n",
       "       'Kj�rlighetens kj�tere)', 'Cristo proibito, Il)',\n",
       "       \"J'ai pas sommeil)\", 'Voleurs, Les)', 'Kavkazsky Plennik)',\n",
       "       'a.k.a. Jungle 2 Jungle)', 'Feng Yue)', 'La Promesse)',\n",
       "       'Shall We Dansu?)', 'For Roseanna)', 'Chacun cherche son chat)',\n",
       "       'Le M�pris)', 'a.k.a. Alive & Kicking)',\n",
       "       'Her Majesty, Mrs. Brown)', 'Ma vie en rose)',\n",
       "       'Callej�n de los milagros, El)', 'Karakter)', 'Bacheha-Ye Aseman)',\n",
       "       '1927', '1929', '1930', 'The Magnificent Seven)',\n",
       "       'Dong gong xi gong)', 'Le Septi�me ciel)', 'Il Portiere di notte)',\n",
       "       'H�stsonaten )', 'Il Testimone dello sposo)',\n",
       "       'a.k.a. All I Wanna Do, The Hairy Bird)', 'Regarde la mer)',\n",
       "       '1928', '1925', '1923', '1999', 'Pasqualino Settebellezze)',\n",
       "       \"Travolti da un insolito destino nell'azzurro mare d'Agosto)\",\n",
       "       'Die Siebtelbauern)', 'La Vita � bella)', 'Le Notti di Cabiria)',\n",
       "       'Central do Brasil)', 'Festen)', 'Gojira)',\n",
       "       'Kingukongu tai Gojira)', 'Hamam)', 'Nettoyage � sec)',\n",
       "       'El D�a de la bestia)', 'La Plan�te sauvage)', 'Sib)',\n",
       "       \"L' �cole de la chair)\", 'Seul contre tous)',\n",
       "       'La Vie r�v�e des anges)', 'Shuang long hui)',\n",
       "       'Los Amantes del C�rculo Polar)',\n",
       "       'Jeanne et le gar�on formidable)', 'Il Mostro)', 'Abre los ojos)',\n",
       "       'Fotoamator)', 'Hsing hsing wang)', 'Bian Lian)',\n",
       "       'a.k.a. Killbots)', 'Tian yu)', 'Hak hap)', \"L' Assedio)\",\n",
       "       'Rekopis znaleziony w Saragossie)', 'Mia eoniotita ke mia mera )',\n",
       "       'Le Nain rouge)', 'Le Violon rouge)',\n",
       "       \"Leggenda del pianista sull'oceano)\", 'Lola rennt)',\n",
       "       'Le D�ner de cons)', 'Les Amants du Pont-Neuf)',\n",
       "       'Fin ao�t, d�but septembre)', \"Conte d'automne)\",\n",
       "       'Les Quatre cents coups)', 'Jules et Jim)', 'Tenue de soir�e)',\n",
       "       'A J�t�kos)', 'Alice et Martin)',\n",
       "       'a.k.a. Omen III: The Final Conflict)', 'a.k.a. Oscar & Lucinda)',\n",
       "       '1919', 'Die Spinnen, 1. Teil: Der Goldene See)', 'Bure Baruta)',\n",
       "       'West Beyrouth)', 'Crna macka, beli macor)',\n",
       "       'a.k.a. Alice, Sweet Alice/Holy Terror)', 'La S�paration)',\n",
       "       'Feiying gaiwak)', 'Longxiong hudi)', 'E la nave va)',\n",
       "       'El Abuelo)', 'Les enfants du paradis)',\n",
       "       'a.k.a. Handle with Care)', 'Zui quan)', 'Il Conformista)',\n",
       "       'Dom za vesanje)', 'Le Feu Follet)', 'El Amor Brujo)',\n",
       "       'Hombre Mirando al Sudeste)', 'a.k.a. Sydney, a.k.a. Hard Eight)',\n",
       "       'Un Homme et une Femme)', 'Hong Gao Liang)', 'Mononoke Hime)',\n",
       "       'Mein liebster Feind)', 'Train De Vie)',\n",
       "       'Zbogum na dvadesetiot vek)', 'Todo Sobre Mi Madre)',\n",
       "       'La Morte Vivante)', 'a.k.a. Laurel & Hardy in Toyland)',\n",
       "       'Ladri di biciclette)', 'Reazione a catena)', 'a.k.a. Lauderdale)',\n",
       "       'Grande illusion, La)', 'Jing ke ci qin wang)', 'Ulisse)', '2000',\n",
       "       'Malli)', '1922', 'Auch Zwerge haben klein angefangen)',\n",
       "       'La Maschera Del Demonio)', 'Las Vampiras)', 'Suna no onna)',\n",
       "       'M�s que amor, frenes�)', '1920', 'Falkens �ga)', 'Ph�rpa)',\n",
       "       'Soy Cuba/Ya Kuba)', 'Lashou shentan)',\n",
       "       \"C'est arriv� pr�s de chez vous)\", 'Amigo/Amado)',\n",
       "       'Yi ge dou bu neng shao)', '1921', 'Mifunes sidste sang)',\n",
       "       'Est-ouest)', 'M�lodie en sous-sol )', 'La Nuit Fantastique)',\n",
       "       'Der Unhold)', 'Les Convoyeurs Attendent)', 'Zerkalo)',\n",
       "       'Le Proc�s)', 'Rang-e Khoda)', 'Sangre y Arena)',\n",
       "       'a.k.a. The City of the Dead)', 'Macchie Solari)',\n",
       "       'Corpi Presentano Tracce di Violenza Carnale)', 'Solyaris)',\n",
       "       'Sacco e Vanzetti)', '� nous la libert� )', 'Yukinojo Henge)',\n",
       "       'Le Legge)', 'Ai No Borei)', 'Idioterne)', 'Les Collants Noirs)',\n",
       "       'Operazione Paura)', 'Les Ma�tres du Temps)',\n",
       "       \"La Casa dell'esorcismo)\", \"Ceux qui m'aiment prendront le train)\",\n",
       "       'Sans toit ni loi)', 'Cl�o de 5 � 7)', 'Angustia)',\n",
       "       'La Novia Ensangrentada)', 'Paura nella citt� dei morti viventi)',\n",
       "       'La Grande Bouffe)', 'a.k.a. The Road Warrior)',\n",
       "       'Bronenosets Potyomkin)', 'La Lengua de las Mariposas)',\n",
       "       'Le Temps Retrouv�)', 'a.k.a. Bound by Honor)',\n",
       "       'Rosso Segno Della Follia)', 'Xizhao)', 'a.k.a. Immortality)',\n",
       "       'Les Amants Criminels)', 'La Ciociara)', 'La Historia Oficial)',\n",
       "       'S�ndagsengler)', 'La Fille sur le Pont)',\n",
       "       'Tre Volti Della Paura, I)', 'Cannibal Ferox)',\n",
       "       'Et Dieu&#8230;Cr�a la Femme)', 'Une Liaison Pornographique)',\n",
       "       'Gojira ni-sen mireniamu)', \"a.k.a. It's the Rage)\", 'Anatomie)',\n",
       "       'Goya en Bodeos)', 'In Weiter Ferne, So Nah!)'], dtype=object)"
      ]
     },
     "execution_count": 94,
     "metadata": {},
     "output_type": "execute_result"
    }
   ],
   "source": [
    "df_movies['Title'].apply(lambda x: x.split('(')[1][:-1]).unique()"
   ]
  },
  {
   "cell_type": "code",
   "execution_count": 96,
   "metadata": {},
   "outputs": [
    {
     "data": {
      "text/html": [
       "<div>\n",
       "<style scoped>\n",
       "    .dataframe tbody tr th:only-of-type {\n",
       "        vertical-align: middle;\n",
       "    }\n",
       "\n",
       "    .dataframe tbody tr th {\n",
       "        vertical-align: top;\n",
       "    }\n",
       "\n",
       "    .dataframe thead th {\n",
       "        text-align: right;\n",
       "    }\n",
       "</style>\n",
       "<table border=\"1\" class=\"dataframe\">\n",
       "  <thead>\n",
       "    <tr style=\"text-align: right;\">\n",
       "      <th></th>\n",
       "      <th>Movie ID</th>\n",
       "      <th>Title</th>\n",
       "      <th>Genres</th>\n",
       "      <th>ReleaseYear</th>\n",
       "    </tr>\n",
       "  </thead>\n",
       "  <tbody>\n",
       "    <tr>\n",
       "      <th>46</th>\n",
       "      <td>47</td>\n",
       "      <td>Seven (Se7en) (1995)</td>\n",
       "      <td>Crime</td>\n",
       "      <td>Se7en)</td>\n",
       "    </tr>\n",
       "    <tr>\n",
       "      <th>46</th>\n",
       "      <td>47</td>\n",
       "      <td>Seven (Se7en) (1995)</td>\n",
       "      <td>Thriller</td>\n",
       "      <td>Se7en)</td>\n",
       "    </tr>\n",
       "  </tbody>\n",
       "</table>\n",
       "</div>"
      ],
      "text/plain": [
       "    Movie ID                 Title    Genres ReleaseYear\n",
       "46        47  Seven (Se7en) (1995)     Crime      Se7en)\n",
       "46        47  Seven (Se7en) (1995)  Thriller      Se7en)"
      ]
     },
     "execution_count": 96,
     "metadata": {},
     "output_type": "execute_result"
    }
   ],
   "source": [
    "df_movies[df_movies['Title'].str.contains('Se7en')]"
   ]
  },
  {
   "cell_type": "code",
   "execution_count": 97,
   "metadata": {},
   "outputs": [
    {
     "data": {
      "text/html": [
       "<div>\n",
       "<style scoped>\n",
       "    .dataframe tbody tr th:only-of-type {\n",
       "        vertical-align: middle;\n",
       "    }\n",
       "\n",
       "    .dataframe tbody tr th {\n",
       "        vertical-align: top;\n",
       "    }\n",
       "\n",
       "    .dataframe thead th {\n",
       "        text-align: right;\n",
       "    }\n",
       "</style>\n",
       "<table border=\"1\" class=\"dataframe\">\n",
       "  <thead>\n",
       "    <tr style=\"text-align: right;\">\n",
       "      <th></th>\n",
       "      <th>Movie ID</th>\n",
       "      <th>Title</th>\n",
       "      <th>Genres</th>\n",
       "      <th>ReleaseYear</th>\n",
       "    </tr>\n",
       "  </thead>\n",
       "  <tbody>\n",
       "    <tr>\n",
       "      <th>58</th>\n",
       "      <td>59</td>\n",
       "      <td>Confessional, The (Le Confessionnal) (1995)</td>\n",
       "      <td>Drama</td>\n",
       "      <td>Le Confessionnal)</td>\n",
       "    </tr>\n",
       "    <tr>\n",
       "      <th>58</th>\n",
       "      <td>59</td>\n",
       "      <td>Confessional, The (Le Confessionnal) (1995)</td>\n",
       "      <td>Mystery</td>\n",
       "      <td>Le Confessionnal)</td>\n",
       "    </tr>\n",
       "  </tbody>\n",
       "</table>\n",
       "</div>"
      ],
      "text/plain": [
       "    Movie ID                                        Title   Genres  \\\n",
       "58        59  Confessional, The (Le Confessionnal) (1995)    Drama   \n",
       "58        59  Confessional, The (Le Confessionnal) (1995)  Mystery   \n",
       "\n",
       "          ReleaseYear  \n",
       "58  Le Confessionnal)  \n",
       "58  Le Confessionnal)  "
      ]
     },
     "execution_count": 97,
     "metadata": {},
     "output_type": "execute_result"
    }
   ],
   "source": [
    "df_movies[df_movies['Title'].str.contains('Le Confessionnal')]"
   ]
  },
  {
   "cell_type": "code",
   "execution_count": 98,
   "metadata": {},
   "outputs": [
    {
     "data": {
      "text/html": [
       "<div>\n",
       "<style scoped>\n",
       "    .dataframe tbody tr th:only-of-type {\n",
       "        vertical-align: middle;\n",
       "    }\n",
       "\n",
       "    .dataframe tbody tr th {\n",
       "        vertical-align: top;\n",
       "    }\n",
       "\n",
       "    .dataframe thead th {\n",
       "        text-align: right;\n",
       "    }\n",
       "</style>\n",
       "<table border=\"1\" class=\"dataframe\">\n",
       "  <thead>\n",
       "    <tr style=\"text-align: right;\">\n",
       "      <th></th>\n",
       "      <th>Movie ID</th>\n",
       "      <th>Title</th>\n",
       "      <th>Genres</th>\n",
       "      <th>ReleaseYear</th>\n",
       "    </tr>\n",
       "  </thead>\n",
       "  <tbody>\n",
       "    <tr>\n",
       "      <th>3752</th>\n",
       "      <td>3822</td>\n",
       "      <td>Girl on the Bridge, The (La Fille sur le Pont)...</td>\n",
       "      <td>Drama</td>\n",
       "      <td>La Fille sur le Pont)</td>\n",
       "    </tr>\n",
       "    <tr>\n",
       "      <th>3752</th>\n",
       "      <td>3822</td>\n",
       "      <td>Girl on the Bridge, The (La Fille sur le Pont)...</td>\n",
       "      <td>Romance</td>\n",
       "      <td>La Fille sur le Pont)</td>\n",
       "    </tr>\n",
       "  </tbody>\n",
       "</table>\n",
       "</div>"
      ],
      "text/plain": [
       "      Movie ID                                              Title   Genres  \\\n",
       "3752      3822  Girl on the Bridge, The (La Fille sur le Pont)...    Drama   \n",
       "3752      3822  Girl on the Bridge, The (La Fille sur le Pont)...  Romance   \n",
       "\n",
       "                ReleaseYear  \n",
       "3752  La Fille sur le Pont)  \n",
       "3752  La Fille sur le Pont)  "
      ]
     },
     "execution_count": 98,
     "metadata": {},
     "output_type": "execute_result"
    }
   ],
   "source": [
    "df_movies[df_movies['Title'].str.contains('La Fille sur le Pont')]"
   ]
  },
  {
   "cell_type": "code",
   "execution_count": 108,
   "metadata": {},
   "outputs": [
    {
     "data": {
      "text/plain": [
       "array(['1995', '1994', '1996', '1976', '1993', '1992', '1988', '1967',\n",
       "       '1964', '1977', '1965', '1982', '1962', '1990', '1991', '1989',\n",
       "       '1937', '1940', '1969', '1981', '1973', '1970', '1960', '1955',\n",
       "       '1956', '1959', '1968', '1980', '1975', '1986', '1948', '1943',\n",
       "       '1963', '1950', '1946', '1987', '1997', '1974', '1958', '1949',\n",
       "       '1972', '1998', '1933', '1952', '1951', '1957', '1961', '1954',\n",
       "       '1934', '1944', '1942', '1941', '1953', '1939', '1947', '1945',\n",
       "       '1938', '1935', '1936', '1926', '1932', '1930', \"L'Associe\",\n",
       "       '1971', '1979', '1966', '1978', '1985', '1983', '1984', '1931',\n",
       "       '1922', '1927', '1929', '1928', '1925', '1923', '1999', '1919',\n",
       "       '2000', '1920', '1921'], dtype=object)"
      ]
     },
     "execution_count": 108,
     "metadata": {},
     "output_type": "execute_result"
    }
   ],
   "source": [
    "df_movies['Title'].apply(lambda x: x.split(' ')[-1].split('(')[1].split(')')[0]).unique()"
   ]
  },
  {
   "cell_type": "code",
   "execution_count": 125,
   "metadata": {},
   "outputs": [
    {
     "data": {
      "text/plain": [
       "'1982'"
      ]
     },
     "execution_count": 125,
     "metadata": {},
     "output_type": "execute_result"
    }
   ],
   "source": [
    "df_movies[df_movies['Title'].str.contains(\"L'Associe\")]['Title'].str.split(' ').values[0][-1].split('(')[-1].split(')')[0]"
   ]
  },
  {
   "cell_type": "code",
   "execution_count": 127,
   "metadata": {},
   "outputs": [],
   "source": [
    "df_movies['ReleaseYear'] = df_movies['Title'].apply(lambda x: x.split(' ')[-1].split('(')[1].split(')')[0])"
   ]
  },
  {
   "cell_type": "code",
   "execution_count": 135,
   "metadata": {},
   "outputs": [
    {
     "data": {
      "text/plain": [
       "988    False\n",
       "Name: ReleaseYear, dtype: bool"
      ]
     },
     "execution_count": 135,
     "metadata": {},
     "output_type": "execute_result"
    }
   ],
   "source": [
    "df_movies[df_movies['ReleaseYear'] == \"L'Associe\"]['ReleaseYear'] = 1982"
   ]
  },
  {
   "cell_type": "code",
   "execution_count": 144,
   "metadata": {},
   "outputs": [
    {
     "data": {
      "text/plain": [
       "array(['1995', '1994', '1996', '1976', '1993', '1992', '1988', '1967',\n",
       "       '1964', '1977', '1965', '1982', '1962', '1990', '1991', '1989',\n",
       "       '1937', '1940', '1969', '1981', '1973', '1970', '1960', '1955',\n",
       "       '1956', '1959', '1968', '1980', '1975', '1986', '1948', '1943',\n",
       "       '1963', '1950', '1946', '1987', '1997', '1974', '1958', '1949',\n",
       "       '1972', '1998', '1933', '1952', '1951', '1957', '1961', '1954',\n",
       "       '1934', '1944', '1942', '1941', '1953', '1939', '1947', '1945',\n",
       "       '1938', '1935', '1936', '1926', '1932', '1930', \"L'Associe\",\n",
       "       '1971', '1979', '1966', '1978', '1985', '1983', '1984', '1931',\n",
       "       '1922', '1927', '1929', '1928', '1925', '1923', '1999', '1919',\n",
       "       '2000', '1920', '1921'], dtype=object)"
      ]
     },
     "execution_count": 144,
     "metadata": {},
     "output_type": "execute_result"
    }
   ],
   "source": [
    "df_movies['ReleaseYear'].unique()"
   ]
  },
  {
   "cell_type": "code",
   "execution_count": 146,
   "metadata": {},
   "outputs": [],
   "source": [
    "df_movies['ReleaseYear'].replace(\"L'Associe\",\"1982\",inplace=True)"
   ]
  },
  {
   "cell_type": "code",
   "execution_count": 149,
   "metadata": {},
   "outputs": [],
   "source": [
    "df_movies['ReleaseYear'] = df_movies['ReleaseYear'].astype('int64')"
   ]
  },
  {
   "cell_type": "code",
   "execution_count": 158,
   "metadata": {},
   "outputs": [
    {
     "data": {
      "image/png": "[encoded data removed]",
      "text/plain": [
       "<Figure size 720x432 with 1 Axes>"
      ]
     },
     "metadata": {
      "needs_background": "light"
     },
     "output_type": "display_data"
    }
   ],
   "source": [
    "plt.figure(figsize=(10,6))\n",
    "sns.distplot(df_movies['ReleaseYear'], kde=True, bins= 30, color='green')\n",
    "plt.show()"
   ]
  },
  {
   "cell_type": "code",
   "execution_count": 161,
   "metadata": {},
   "outputs": [],
   "source": [
    "df_movies.reset_index(inplace=True, drop='index')"
   ]
  },
  {
   "cell_type": "code",
   "execution_count": 164,
   "metadata": {},
   "outputs": [],
   "source": [
    "df_movies.rename(columns={'Movie ID': 'MovieID'}, inplace=True)"
   ]
  },
  {
   "cell_type": "code",
   "execution_count": 165,
   "metadata": {},
   "outputs": [
    {
     "data": {
      "text/html": [
       "<div>\n",
       "<style scoped>\n",
       "    .dataframe tbody tr th:only-of-type {\n",
       "        vertical-align: middle;\n",
       "    }\n",
       "\n",
       "    .dataframe tbody tr th {\n",
       "        vertical-align: top;\n",
       "    }\n",
       "\n",
       "    .dataframe thead th {\n",
       "        text-align: right;\n",
       "    }\n",
       "</style>\n",
       "<table border=\"1\" class=\"dataframe\">\n",
       "  <thead>\n",
       "    <tr style=\"text-align: right;\">\n",
       "      <th></th>\n",
       "      <th>MovieID</th>\n",
       "      <th>Title</th>\n",
       "      <th>Genres</th>\n",
       "      <th>ReleaseYear</th>\n",
       "    </tr>\n",
       "  </thead>\n",
       "  <tbody>\n",
       "    <tr>\n",
       "      <th>0</th>\n",
       "      <td>1</td>\n",
       "      <td>Toy Story (1995)</td>\n",
       "      <td>Animation</td>\n",
       "      <td>1995</td>\n",
       "    </tr>\n",
       "    <tr>\n",
       "      <th>1</th>\n",
       "      <td>1</td>\n",
       "      <td>Toy Story (1995)</td>\n",
       "      <td>Children's</td>\n",
       "      <td>1995</td>\n",
       "    </tr>\n",
       "    <tr>\n",
       "      <th>2</th>\n",
       "      <td>1</td>\n",
       "      <td>Toy Story (1995)</td>\n",
       "      <td>Comedy</td>\n",
       "      <td>1995</td>\n",
       "    </tr>\n",
       "    <tr>\n",
       "      <th>3</th>\n",
       "      <td>2</td>\n",
       "      <td>Jumanji (1995)</td>\n",
       "      <td>Adventure</td>\n",
       "      <td>1995</td>\n",
       "    </tr>\n",
       "    <tr>\n",
       "      <th>4</th>\n",
       "      <td>2</td>\n",
       "      <td>Jumanji (1995)</td>\n",
       "      <td>Children's</td>\n",
       "      <td>1995</td>\n",
       "    </tr>\n",
       "    <tr>\n",
       "      <th>...</th>\n",
       "      <td>...</td>\n",
       "      <td>...</td>\n",
       "      <td>...</td>\n",
       "      <td>...</td>\n",
       "    </tr>\n",
       "    <tr>\n",
       "      <th>6403</th>\n",
       "      <td>3949</td>\n",
       "      <td>Requiem for a Dream (2000)</td>\n",
       "      <td>Drama</td>\n",
       "      <td>2000</td>\n",
       "    </tr>\n",
       "    <tr>\n",
       "      <th>6404</th>\n",
       "      <td>3950</td>\n",
       "      <td>Tigerland (2000)</td>\n",
       "      <td>Drama</td>\n",
       "      <td>2000</td>\n",
       "    </tr>\n",
       "    <tr>\n",
       "      <th>6405</th>\n",
       "      <td>3951</td>\n",
       "      <td>Two Family House (2000)</td>\n",
       "      <td>Drama</td>\n",
       "      <td>2000</td>\n",
       "    </tr>\n",
       "    <tr>\n",
       "      <th>6406</th>\n",
       "      <td>3952</td>\n",
       "      <td>Contender, The (2000)</td>\n",
       "      <td>Drama</td>\n",
       "      <td>2000</td>\n",
       "    </tr>\n",
       "    <tr>\n",
       "      <th>6407</th>\n",
       "      <td>3952</td>\n",
       "      <td>Contender, The (2000)</td>\n",
       "      <td>Thriller</td>\n",
       "      <td>2000</td>\n",
       "    </tr>\n",
       "  </tbody>\n",
       "</table>\n",
       "<p>6408 rows × 4 columns</p>\n",
       "</div>"
      ],
      "text/plain": [
       "      MovieID                       Title      Genres  ReleaseYear\n",
       "0           1            Toy Story (1995)   Animation         1995\n",
       "1           1            Toy Story (1995)  Children's         1995\n",
       "2           1            Toy Story (1995)      Comedy         1995\n",
       "3           2              Jumanji (1995)   Adventure         1995\n",
       "4           2              Jumanji (1995)  Children's         1995\n",
       "...       ...                         ...         ...          ...\n",
       "6403     3949  Requiem for a Dream (2000)       Drama         2000\n",
       "6404     3950            Tigerland (2000)       Drama         2000\n",
       "6405     3951     Two Family House (2000)       Drama         2000\n",
       "6406     3952       Contender, The (2000)       Drama         2000\n",
       "6407     3952       Contender, The (2000)    Thriller         2000\n",
       "\n",
       "[6408 rows x 4 columns]"
      ]
     },
     "execution_count": 165,
     "metadata": {},
     "output_type": "execute_result"
    }
   ],
   "source": [
    "df_movies"
   ]
  },
  {
   "attachments": {},
   "cell_type": "markdown",
   "metadata": {},
   "source": [
    "### ratings eda"
   ]
  },
  {
   "cell_type": "code",
   "execution_count": 166,
   "metadata": {},
   "outputs": [
    {
     "name": "stdout",
     "output_type": "stream",
     "text": [
      "<class 'pandas.core.frame.DataFrame'>\n",
      "RangeIndex: 1000209 entries, 0 to 1000208\n",
      "Data columns (total 4 columns):\n",
      " #   Column     Non-Null Count    Dtype\n",
      "---  ------     --------------    -----\n",
      " 0   UserID     1000209 non-null  int64\n",
      " 1   MovieID    1000209 non-null  int64\n",
      " 2   Rating     1000209 non-null  int64\n",
      " 3   Timestamp  1000209 non-null  int64\n",
      "dtypes: int64(4)\n",
      "memory usage: 30.5 MB\n"
     ]
    }
   ],
   "source": [
    "df_ratings.info()"
   ]
  },
  {
   "cell_type": "code",
   "execution_count": 167,
   "metadata": {},
   "outputs": [
    {
     "data": {
      "text/html": [
       "<div>\n",
       "<style scoped>\n",
       "    .dataframe tbody tr th:only-of-type {\n",
       "        vertical-align: middle;\n",
       "    }\n",
       "\n",
       "    .dataframe tbody tr th {\n",
       "        vertical-align: top;\n",
       "    }\n",
       "\n",
       "    .dataframe thead th {\n",
       "        text-align: right;\n",
       "    }\n",
       "</style>\n",
       "<table border=\"1\" class=\"dataframe\">\n",
       "  <thead>\n",
       "    <tr style=\"text-align: right;\">\n",
       "      <th></th>\n",
       "      <th>UserID</th>\n",
       "      <th>MovieID</th>\n",
       "      <th>Rating</th>\n",
       "      <th>Timestamp</th>\n",
       "    </tr>\n",
       "  </thead>\n",
       "  <tbody>\n",
       "    <tr>\n",
       "      <th>0</th>\n",
       "      <td>1</td>\n",
       "      <td>1193</td>\n",
       "      <td>5</td>\n",
       "      <td>978300760</td>\n",
       "    </tr>\n",
       "    <tr>\n",
       "      <th>1</th>\n",
       "      <td>1</td>\n",
       "      <td>661</td>\n",
       "      <td>3</td>\n",
       "      <td>978302109</td>\n",
       "    </tr>\n",
       "    <tr>\n",
       "      <th>2</th>\n",
       "      <td>1</td>\n",
       "      <td>914</td>\n",
       "      <td>3</td>\n",
       "      <td>978301968</td>\n",
       "    </tr>\n",
       "    <tr>\n",
       "      <th>3</th>\n",
       "      <td>1</td>\n",
       "      <td>3408</td>\n",
       "      <td>4</td>\n",
       "      <td>978300275</td>\n",
       "    </tr>\n",
       "    <tr>\n",
       "      <th>4</th>\n",
       "      <td>1</td>\n",
       "      <td>2355</td>\n",
       "      <td>5</td>\n",
       "      <td>978824291</td>\n",
       "    </tr>\n",
       "  </tbody>\n",
       "</table>\n",
       "</div>"
      ],
      "text/plain": [
       "   UserID  MovieID  Rating  Timestamp\n",
       "0       1     1193       5  978300760\n",
       "1       1      661       3  978302109\n",
       "2       1      914       3  978301968\n",
       "3       1     3408       4  978300275\n",
       "4       1     2355       5  978824291"
      ]
     },
     "execution_count": 167,
     "metadata": {},
     "output_type": "execute_result"
    }
   ],
   "source": [
    "df_ratings.head()"
   ]
  },
  {
   "cell_type": "code",
   "execution_count": 169,
   "metadata": {},
   "outputs": [
    {
     "name": "stdout",
     "output_type": "stream",
     "text": [
      "01-01-2001\n"
     ]
    }
   ],
   "source": [
    "import datetime\n",
    "epoch_time = 978300760\n",
    "date_conv = datetime.datetime.fromtimestamp(epoch_time)\n",
    "print(date_conv.strftime('%d-%m-%Y'))"
   ]
  },
  {
   "cell_type": "code",
   "execution_count": 173,
   "metadata": {},
   "outputs": [],
   "source": [
    "df_ratings['Timestamp'] = df_ratings['Timestamp'].apply(lambda x : datetime.datetime.fromtimestamp(x))"
   ]
  },
  {
   "cell_type": "code",
   "execution_count": 176,
   "metadata": {},
   "outputs": [],
   "source": [
    "df_ratings['date'] = df_ratings['Timestamp'].apply(lambda x : x.strftime('%d-%m-%Y'))"
   ]
  },
  {
   "cell_type": "code",
   "execution_count": 188,
   "metadata": {},
   "outputs": [],
   "source": [
    "df_ratings['year'] = pd.DatetimeIndex(df_ratings['date']).year\n",
    "df_ratings['month'] = pd.DatetimeIndex(df_ratings['date']).month"
   ]
  },
  {
   "cell_type": "code",
   "execution_count": 190,
   "metadata": {},
   "outputs": [
    {
     "data": {
      "text/plain": [
       "11    289866\n",
       "8     113415\n",
       "5      77259\n",
       "12     73183\n",
       "7      71383\n",
       "6      68870\n",
       "3      59294\n",
       "10     53344\n",
       "9      51780\n",
       "4      50528\n",
       "1      45668\n",
       "2      45619\n",
       "Name: month, dtype: int64"
      ]
     },
     "execution_count": 190,
     "metadata": {},
     "output_type": "execute_result"
    }
   ],
   "source": [
    "df_ratings['month'].value_counts()"
   ]
  },
  {
   "cell_type": "code",
   "execution_count": 192,
   "metadata": {},
   "outputs": [
    {
     "data": {
      "text/plain": [
       "2000    904175\n",
       "2001     68628\n",
       "2002     24053\n",
       "2003      3353\n",
       "Name: year, dtype: int64"
      ]
     },
     "execution_count": 192,
     "metadata": {},
     "output_type": "execute_result"
    }
   ],
   "source": [
    "df_ratings['year'].value_counts()"
   ]
  },
  {
   "cell_type": "code",
   "execution_count": 196,
   "metadata": {},
   "outputs": [
    {
     "data": {
      "text/plain": [
       "0    3428\n",
       "1    2991\n",
       "2    2990\n",
       "3    2883\n",
       "4    2672\n",
       "Name: MovieID, dtype: int64"
      ]
     },
     "execution_count": 196,
     "metadata": {},
     "output_type": "execute_result"
    }
   ],
   "source": [
    "#Which movie has the more number of ratings\n",
    "\n",
    "df_ratings['MovieID'].value_counts().head().reset_index()['MovieID']"
   ]
  },
  {
   "cell_type": "code",
   "execution_count": 198,
   "metadata": {},
   "outputs": [
    {
     "data": {
      "text/html": [
       "<div>\n",
       "<style scoped>\n",
       "    .dataframe tbody tr th:only-of-type {\n",
       "        vertical-align: middle;\n",
       "    }\n",
       "\n",
       "    .dataframe tbody tr th {\n",
       "        vertical-align: top;\n",
       "    }\n",
       "\n",
       "    .dataframe thead th {\n",
       "        text-align: right;\n",
       "    }\n",
       "</style>\n",
       "<table border=\"1\" class=\"dataframe\">\n",
       "  <thead>\n",
       "    <tr style=\"text-align: right;\">\n",
       "      <th></th>\n",
       "      <th>MovieID</th>\n",
       "      <th>Title</th>\n",
       "    </tr>\n",
       "  </thead>\n",
       "  <tbody>\n",
       "    <tr>\n",
       "      <th>4430</th>\n",
       "      <td>2672</td>\n",
       "      <td>Thirteenth Floor, The (1999)</td>\n",
       "    </tr>\n",
       "    <tr>\n",
       "      <th>4758</th>\n",
       "      <td>2883</td>\n",
       "      <td>Mumford (1999)</td>\n",
       "    </tr>\n",
       "    <tr>\n",
       "      <th>4931</th>\n",
       "      <td>2990</td>\n",
       "      <td>Licence to Kill (1989)</td>\n",
       "    </tr>\n",
       "    <tr>\n",
       "      <th>4932</th>\n",
       "      <td>2991</td>\n",
       "      <td>Live and Let Die (1973)</td>\n",
       "    </tr>\n",
       "    <tr>\n",
       "      <th>5571</th>\n",
       "      <td>3428</td>\n",
       "      <td>Champ, The (1979)</td>\n",
       "    </tr>\n",
       "  </tbody>\n",
       "</table>\n",
       "</div>"
      ],
      "text/plain": [
       "      MovieID                         Title\n",
       "4430     2672  Thirteenth Floor, The (1999)\n",
       "4758     2883                Mumford (1999)\n",
       "4931     2990        Licence to Kill (1989)\n",
       "4932     2991       Live and Let Die (1973)\n",
       "5571     3428             Champ, The (1979)"
      ]
     },
     "execution_count": 198,
     "metadata": {},
     "output_type": "execute_result"
    }
   ],
   "source": [
    "df_movies[df_movies['MovieID'].isin(df_ratings['MovieID'].value_counts().head().reset_index()['MovieID'])][['MovieID','Title']].drop_duplicates()"
   ]
  },
  {
   "cell_type": "code",
   "execution_count": null,
   "metadata": {},
   "outputs": [],
   "source": []
  }
 ],
 "metadata": {
  "kernelspec": {
   "display_name": "base",
   "language": "python",
   "name": "python3"
  },
  "language_info": {
   "codemirror_mode": {
    "name": "ipython",
    "version": 3
   },
   "file_extension": ".py",
   "mimetype": "text/x-python",
   "name": "python",
   "nbconvert_exporter": "python",
   "pygments_lexer": "ipython3",
   "version": "3.8.8"
  },
  "orig_nbformat": 4,
  "vscode": {
   "interpreter": {
    "hash": "47d371b4742cd89b1799070f0610db6227645f4346d7c15bff02f7c4df437ecf"
   }
  }
 },
 "nbformat": 4,
 "nbformat_minor": 2
}
