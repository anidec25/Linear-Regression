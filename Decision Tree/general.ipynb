{
 "cells": [
  {
   "cell_type": "code",
   "execution_count": 4,
   "source": [
    "import pandas as pd\r\n",
    "import numpy as np"
   ],
   "outputs": [],
   "metadata": {}
  },
  {
   "cell_type": "code",
   "execution_count": 3,
   "source": [
    "#Calculatng gini impurity\r\n",
    "\r\n",
    "def gini_impurity(y):\r\n",
    "    \r\n",
    "  if isinstance(y, pd.Series):\r\n",
    "    p = y.value_counts()/y.shape[0]\r\n",
    "    gini = 1-np.sum(p**2)\r\n",
    "    return gini\r\n",
    "\r\n",
    "  else:\r\n",
    "    raise('Object must be a Pandas Series.')"
   ],
   "outputs": [],
   "metadata": {}
  },
  {
   "cell_type": "code",
   "execution_count": 11,
   "source": [
    "y = pd.Series([0,0,0,0,0,0])"
   ],
   "outputs": [],
   "metadata": {}
  },
  {
   "cell_type": "code",
   "execution_count": 12,
   "source": [
    "gini_impurity(y)"
   ],
   "outputs": [
    {
     "output_type": "execute_result",
     "data": {
      "text/plain": [
       "0.0"
      ]
     },
     "metadata": {},
     "execution_count": 12
    }
   ],
   "metadata": {}
  },
  {
   "cell_type": "code",
   "execution_count": 13,
   "source": [
    "# Let us calculate the information gain for each attribuite and decide the splitting criteria"
   ],
   "outputs": [],
   "metadata": {}
  },
  {
   "cell_type": "code",
   "execution_count": 5,
   "source": [
    "import numpy as np\r\n",
    "y = [0,0,0,1,0,1,1,1,1,1]\r\n",
    "\r\n",
    "attr1 = [1,1,1,1,1,0,0,0,1,1]\r\n",
    "attr2 = [0,1,1,0,1,0,0,0,1,0]\r\n"
   ],
   "outputs": [],
   "metadata": {}
  },
  {
   "cell_type": "code",
   "execution_count": 6,
   "source": [
    "attr1 = np.asarray(attr1)\r\n",
    "attr2 = np.asarray(attr2)\r\n",
    "y = np.asarray(y)"
   ],
   "outputs": [],
   "metadata": {}
  },
  {
   "cell_type": "code",
   "execution_count": 7,
   "source": [
    "y[attr1 == 0]"
   ],
   "outputs": [
    {
     "output_type": "execute_result",
     "data": {
      "text/plain": [
       "array([1, 1, 1])"
      ]
     },
     "metadata": {},
     "execution_count": 7
    }
   ],
   "metadata": {}
  },
  {
   "cell_type": "code",
   "execution_count": 10,
   "source": [
    "import numpy as np\r\n",
    "import pandas as pd\r\n",
    "\r\n",
    "\r\n",
    "def entropy(y):\r\n",
    "\r\n",
    "    # calculating probability\r\n",
    "    y = pd.Series(y)\r\n",
    "    p = y.value_counts()/y.shape[0]\r\n",
    "    \r\n",
    "    entropy = np.sum(-p*np.log2(p+1e-9)) # adding delta 1e-9 in case p = 0 as log(0) is not defined\r\n",
    "\r\n",
    "    return(entropy)\r\n",
    "\r\n",
    "def find_attr(attr1, attr2, y):\r\n",
    "    '''\r\n",
    "    attr1 : Attribute1\r\n",
    "    attr2: Attribute2\r\n",
    "    y: The class labels\r\n",
    "\r\n",
    "    '''\r\n",
    "    attr1 = np.asarray(attr1)\r\n",
    "    attr2 = np.asarray(attr2)\r\n",
    "    y = np.asarray(y)\r\n",
    "    \r\n",
    "    #calculate the entropy of the parent node\r\n",
    "    par_entropy = entropy(y)\r\n",
    "    \r\n",
    "    m = len(y)\r\n",
    "\r\n",
    "    #if we split using the attr1\r\n",
    "    y_10 = y[attr1 == 0]  #this node consists of all the observations where attr1 has value 0\r\n",
    "    entr_10 = entropy(y_10)\r\n",
    "    y_11 = y[attr1 == 1]  #this node consists of all the observations where attr1 has value 1\r\n",
    "    entr_11 = entropy(y_11)\r\n",
    "    y_12 = y[attr1 == 2]  #this node consists of all the observations where attr1 has value 2\r\n",
    "    entr_12 = entropy(y_12)\r\n",
    "\r\n",
    "   #Calculate the information gain for attribute 1\r\n",
    "    info_gain_1 = par_entropy - ((y_10.shape[0]/y.shape[0] * entr_10) + (y_11.shape[0]/y.shape[0] * entr_11) + (y_12.shape[0]/y.shape[0] * entr_12))   #y_category.shape[0]/y.shape[0]*entropy_category\r\n",
    "    info_gain_1 = np.round(info_gain_1, 2)\r\n",
    "\r\n",
    "    #if we split using the attr2\r\n",
    "    y_20 = y[attr2 == 0]  #this node consists of all the observations where attr2 has value 0\r\n",
    "    entr_20 = entropy(y_20)\r\n",
    "    y_21 = y[attr2 == 1]  #this node consists of all the observations where attr1 has value 1\r\n",
    "    entr_21 = entropy(y_21)\r\n",
    "\r\n",
    "    #Calculate the information gain for attribute 2\r\n",
    "    info_gain_2 = par_entropy - ((y_20.shape[0]/y.shape[0] * entr_20) + (y_21.shape[0]/y.shape[0] * entr_21) )\r\n",
    "    info_gain_2 = np.round(info_gain_2, 2)\r\n",
    "\r\n",
    "    #return the attribute name along with corresponding info_gain for which information gain is higher if used in splitting \r\n",
    "    return (\"attribute1\", info_gain_1) if info_gain_1 > info_gain_2 else (\"attribute2\", info_gain_2)"
   ],
   "outputs": [],
   "metadata": {}
  },
  {
   "cell_type": "code",
   "execution_count": 11,
   "source": [
    "entropy(y)"
   ],
   "outputs": [
    {
     "output_type": "execute_result",
     "data": {
      "text/plain": [
       "0.9709505915692787"
      ]
     },
     "metadata": {},
     "execution_count": 11
    }
   ],
   "metadata": {}
  },
  {
   "cell_type": "code",
   "execution_count": 12,
   "source": [
    "y_10 = y[attr1 == 0]  #this node consists of all the observations where attr1 has value 0\r\n",
    "entr_10 = entropy(y_10)\r\n",
    "entr_10"
   ],
   "outputs": [
    {
     "output_type": "execute_result",
     "data": {
      "text/plain": [
       "-1.4426951595367387e-09"
      ]
     },
     "metadata": {},
     "execution_count": 12
    }
   ],
   "metadata": {}
  },
  {
   "cell_type": "code",
   "execution_count": 13,
   "source": [
    "find_attr(attr1, attr2, y)"
   ],
   "outputs": [
    {
     "output_type": "execute_result",
     "data": {
      "text/plain": [
       "('attribute1', 0.28)"
      ]
     },
     "metadata": {},
     "execution_count": 13
    }
   ],
   "metadata": {}
  },
  {
   "cell_type": "code",
   "execution_count": 65,
   "source": [
    "y_20 = y[attr2 == 0]  #this node consists of all the observations where attr2 has value 0\r\n",
    "entr_20 = entropy(y_20)\r\n",
    "y_21 = y[attr2 == 1]  #this node consists of all the observations where attr1 has value 1\r\n",
    "entr_21 = entropy(y_21)\r\n",
    "\r\n",
    "#Calculate the information gain for attribute 2\r\n",
    "info_gain_2 = entropy(y) - ((y_20.shape[0]/y.shape[0] * entr_20) + (y_20.shape[0]/y.shape[0] * entr_21) )\r\n",
    "info_gain_2 = np.round(info_gain_2, 2)\r\n",
    "\r\n",
    "info_gain_2"
   ],
   "outputs": [
    {
     "output_type": "execute_result",
     "data": {
      "text/plain": [
       "0.1"
      ]
     },
     "metadata": {},
     "execution_count": 65
    }
   ],
   "metadata": {}
  },
  {
   "cell_type": "code",
   "execution_count": 2,
   "source": [
    "from sklearn.metrics import fbeta_score\r\n",
    "y_true = [0,0,0,0,0,1,1,1,1,1]\r\n",
    "y_pred = [1,1,1,1,1,1,1,1,1,1]\r\n",
    "f= fbeta_score(y_true, y_pred, beta = 0.5)\r\n",
    "print('F=', f.round(2))"
   ],
   "outputs": [
    {
     "output_type": "stream",
     "name": "stdout",
     "text": [
      "F= 0.56\n"
     ]
    }
   ],
   "metadata": {}
  },
  {
   "cell_type": "code",
   "execution_count": null,
   "source": [],
   "outputs": [],
   "metadata": {}
  }
 ],
 "metadata": {
  "kernelspec": {
   "name": "python3",
   "display_name": "Python 3.7.4 64-bit ('base': conda)"
  },
  "language_info": {
   "codemirror_mode": {
    "name": "ipython",
    "version": 3
   },
   "file_extension": ".py",
   "mimetype": "text/x-python",
   "name": "python",
   "nbconvert_exporter": "python",
   "pygments_lexer": "ipython3",
   "version": "3.7.4"
  },
  "orig_nbformat": 4,
  "vscode": {
   "interpreter": {
    "hash": "1e287c795756e004cbc239a0cd2370360bfb1c5c74b3b718d3796ac64793fd0d"
   }
  },
  "interpreter": {
   "hash": "a812c55bce3c407bf29cdfef5b6aac384d8b6347ace0878b4444009fcafd7071"
  }
 },
 "nbformat": 4,
 "nbformat_minor": 2
}