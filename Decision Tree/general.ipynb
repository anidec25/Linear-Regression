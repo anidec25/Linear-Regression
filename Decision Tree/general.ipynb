{
 "cells": [
  {
   "cell_type": "code",
   "execution_count": 4,
   "metadata": {},
   "outputs": [],
   "source": [
    "import pandas as pd\n",
    "import numpy as np"
   ]
  },
  {
   "cell_type": "code",
   "execution_count": 3,
   "metadata": {},
   "outputs": [],
   "source": [
    "#Calculatng gini impurity\n",
    "\n",
    "def gini_impurity(y):\n",
    "    \n",
    "  if isinstance(y, pd.Series):\n",
    "    p = y.value_counts()/y.shape[0]\n",
    "    gini = 1-np.sum(p**2)\n",
    "    return gini\n",
    "\n",
    "  else:\n",
    "    raise('Object must be a Pandas Series.')"
   ]
  },
  {
   "cell_type": "code",
   "execution_count": 11,
   "metadata": {},
   "outputs": [],
   "source": [
    "y = pd.Series([0,0,0,0,0,0])"
   ]
  },
  {
   "cell_type": "code",
   "execution_count": 12,
   "metadata": {},
   "outputs": [
    {
     "data": {
      "text/plain": [
       "0.0"
      ]
     },
     "execution_count": 12,
     "metadata": {},
     "output_type": "execute_result"
    }
   ],
   "source": [
    "gini_impurity(y)"
   ]
  },
  {
   "cell_type": "code",
   "execution_count": 13,
   "metadata": {},
   "outputs": [],
   "source": [
    "# Let us calculate the information gain for each attribuite and decide the splitting criteria"
   ]
  },
  {
   "cell_type": "code",
   "execution_count": 40,
   "metadata": {},
   "outputs": [],
   "source": [
    "y = [1, 0, 1, 0, 0, 0, 0, 0, 0, 1, 0, 0, 1, 0, 0, 1, 1, 0, 1, 1, 1, 0, 1, 1, 0, 1, 1, 0, 0, 0, 0, 1, 1, 0, 0, 1, 1, 0, 0, 0]\n",
    "\n",
    "attr1 = [2, 2, 2, 0, 0, 1, 0, 1, 2, 1, 1, 0, 2, 2, 1, 0, 1, 1, 0, 2, 0, 1, 1, 0, 1, 2, 0, 0, 2, 1, 1, 0, 1, 0, 0, 2, 1, 2, 2, 1]\n",
    "attr2 = [1, 0, 1, 0, 1, 0, 1, 1, 1, 1, 0, 0, 0, 1, 1, 1, 0, 0, 1, 0, 0, 1, 1, 1, 0, 0, 1, 1, 0, 0, 1, 0, 0, 1, 0, 1, 1, 1, 0, 1]\n"
   ]
  },
  {
   "cell_type": "code",
   "execution_count": 41,
   "metadata": {},
   "outputs": [],
   "source": [
    "attr1 = np.asarray(attr1)\n",
    "attr2 = np.asarray(attr2)\n",
    "y = np.asarray(y)"
   ]
  },
  {
   "cell_type": "code",
   "execution_count": 42,
   "metadata": {},
   "outputs": [
    {
     "data": {
      "text/plain": [
       "array([0, 0, 0, 0, 1, 1, 1, 1, 1, 0, 1, 0, 0])"
      ]
     },
     "execution_count": 42,
     "metadata": {},
     "output_type": "execute_result"
    }
   ],
   "source": [
    "y[attr1 == 0]"
   ]
  },
  {
   "cell_type": "code",
   "execution_count": 61,
   "metadata": {},
   "outputs": [],
   "source": [
    "import numpy as np\n",
    "\n",
    "\n",
    "def entropy(y):\n",
    "\n",
    "    # calculating probability\n",
    "    y = pd.Series(y)\n",
    "    p = y.value_counts()/y.shape[0]\n",
    "    \n",
    "    entropy = np.sum(-p*np.log2(p+1e-9)) # adding delta 1e-9 in case p = 0 as log(0) is not defined\n",
    "\n",
    "    return(entropy)\n",
    "\n",
    "def find_attr(attr1, attr2, y):\n",
    "    '''\n",
    "    attr1 : Attribute1\n",
    "    attr2: Attribute2\n",
    "    y: The class labels\n",
    "\n",
    "    '''\n",
    "    attr1 = np.asarray(attr1)\n",
    "    attr2 = np.asarray(attr2)\n",
    "    y = np.asarray(y)\n",
    "    \n",
    "    #calculate the entropy of the parent node\n",
    "    par_entropy = entropy(y)\n",
    "    \n",
    "    m = len(y)\n",
    "\n",
    "    #if we split using the attr1\n",
    "    y_10 = y[attr1 == 0]  #this node consists of all the observations where attr1 has value 0\n",
    "    entr_10 = entropy(y_10)\n",
    "    y_11 = y[attr1 == 1]  #this node consists of all the observations where attr1 has value 1\n",
    "    entr_11 = entropy(y_11)\n",
    "    y_12 = y[attr1 == 2]  #this node consists of all the observations where attr1 has value 2\n",
    "    entr_12 = entropy(y_12)\n",
    "\n",
    "   #Calculate the information gain for attribute 1\n",
    "    info_gain_1 = par_entropy - ((y_10.shape[0]/y.shape[0] * entr_10) + (y_11.shape[0]/y.shape[0] * entr_11) + (y_12.shape[0]/y.shape[0] * entr_12))   #y_category.shape[0]/y.shape[0]*entropy_category\n",
    "    info_gain_1 = np.round(info_gain_1, 2)\n",
    "\n",
    "    #if we split using the attr2\n",
    "    y_20 = y[attr2 == 0]  #this node consists of all the observations where attr2 has value 0\n",
    "    entr_20 = entropy(y_20)\n",
    "    y_21 = y[attr2 == 1]  #this node consists of all the observations where attr1 has value 1\n",
    "    entr_21 = entropy(y_21)\n",
    "\n",
    "    #Calculate the information gain for attribute 2\n",
    "    info_gain_2 = par_entropy - ((y_20.shape[0]/y.shape[0] * entr_20) + (y_21.shape[0]/y.shape[0] * entr_21) )\n",
    "    info_gain_2 = np.round(info_gain_2, 2)\n",
    "\n",
    "    #return the attribute name along with corresponding info_gain for which information gain is higher if used in splitting \n",
    "    return (\"attribute1\", info_gain_1) if info_gain_1 > info_gain_2 else (\"attribute2\", info_gain_2)"
   ]
  },
  {
   "cell_type": "code",
   "execution_count": 62,
   "metadata": {},
   "outputs": [
    {
     "data": {
      "text/plain": [
       "0.9837082597377956"
      ]
     },
     "execution_count": 62,
     "metadata": {},
     "output_type": "execute_result"
    }
   ],
   "source": [
    "entropy(y)"
   ]
  },
  {
   "cell_type": "code",
   "execution_count": 63,
   "metadata": {},
   "outputs": [
    {
     "data": {
      "text/plain": [
       "0.9957274491995354"
      ]
     },
     "execution_count": 63,
     "metadata": {},
     "output_type": "execute_result"
    }
   ],
   "source": [
    "y_10 = y[attr1 == 0]  #this node consists of all the observations where attr1 has value 0\n",
    "entr_10 = entropy(y_10)\n",
    "entr_10"
   ]
  },
  {
   "cell_type": "code",
   "execution_count": 64,
   "metadata": {},
   "outputs": [
    {
     "data": {
      "text/plain": [
       "('attribute1', 0.02)"
      ]
     },
     "execution_count": 64,
     "metadata": {},
     "output_type": "execute_result"
    }
   ],
   "source": [
    "find_attr(attr1, attr2, y)"
   ]
  },
  {
   "cell_type": "code",
   "execution_count": 65,
   "metadata": {},
   "outputs": [
    {
     "data": {
      "text/plain": [
       "0.1"
      ]
     },
     "execution_count": 65,
     "metadata": {},
     "output_type": "execute_result"
    }
   ],
   "source": [
    "y_20 = y[attr2 == 0]  #this node consists of all the observations where attr2 has value 0\n",
    "entr_20 = entropy(y_20)\n",
    "y_21 = y[attr2 == 1]  #this node consists of all the observations where attr1 has value 1\n",
    "entr_21 = entropy(y_21)\n",
    "\n",
    "#Calculate the information gain for attribute 2\n",
    "info_gain_2 = entropy(y) - ((y_20.shape[0]/y.shape[0] * entr_20) + (y_20.shape[0]/y.shape[0] * entr_21) )\n",
    "info_gain_2 = np.round(info_gain_2, 2)\n",
    "\n",
    "info_gain_2"
   ]
  },
  {
   "cell_type": "code",
   "execution_count": null,
   "metadata": {},
   "outputs": [],
   "source": []
  }
 ],
 "metadata": {
  "kernelspec": {
   "display_name": "Python 3.8.8 ('base')",
   "language": "python",
   "name": "python3"
  },
  "language_info": {
   "codemirror_mode": {
    "name": "ipython",
    "version": 3
   },
   "file_extension": ".py",
   "mimetype": "text/x-python",
   "name": "python",
   "nbconvert_exporter": "python",
   "pygments_lexer": "ipython3",
   "version": "3.8.8"
  },
  "orig_nbformat": 4,
  "vscode": {
   "interpreter": {
    "hash": "1e287c795756e004cbc239a0cd2370360bfb1c5c74b3b718d3796ac64793fd0d"
   }
  }
 },
 "nbformat": 4,
 "nbformat_minor": 2
}
