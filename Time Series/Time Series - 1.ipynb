{
  "cells": [
    {
      "cell_type": "markdown",
      "metadata": {
        "id": "uDnaqHqkceRW"
      },
      "source": [
        "## Content\n",
        "- Resampling\n",
        "- Performance metrics for time series"
      ]
    },
    {
      "cell_type": "markdown",
      "metadata": {
        "id": "PIdzOB5_z78A"
      },
      "source": [
        "Importing the dependencies"
      ]
    },
    {
      "cell_type": "code",
      "execution_count": 1,
      "metadata": {
        "id": "nofQvOJjzvYG"
      },
      "outputs": [],
      "source": [
        "import numpy as np\n",
        "import pandas as pd\n",
        "import matplotlib.pyplot as plt\n",
        "\n",
        "plt.rcParams['figure.figsize'] = (20, 6)"
      ]
    },
    {
      "cell_type": "markdown",
      "metadata": {
        "id": "6Nod-wl-z_OX"
      },
      "source": [
        "Let's use the same dataset as the one in lecture: **Mobilplus sales forecasting usecase**\n",
        "\n",
        "We will look into this time series data in depth during the lecture. For now, we're just using this"
      ]
    },
    {
      "cell_type": "code",
      "execution_count": 2,
      "metadata": {
        "colab": {
          "base_uri": "https://localhost:8080/",
          "height": 206
        },
        "id": "7lnuGtGKz1gD",
        "outputId": "6e86d813-f634-449b-b53d-7d4dd74df0c2"
      },
      "outputs": [
        {
          "data": {
            "text/html": [
              "<div>\n",
              "<style scoped>\n",
              "    .dataframe tbody tr th:only-of-type {\n",
              "        vertical-align: middle;\n",
              "    }\n",
              "\n",
              "    .dataframe tbody tr th {\n",
              "        vertical-align: top;\n",
              "    }\n",
              "\n",
              "    .dataframe thead th {\n",
              "        text-align: right;\n",
              "    }\n",
              "</style>\n",
              "<table border=\"1\" class=\"dataframe\">\n",
              "  <thead>\n",
              "    <tr style=\"text-align: right;\">\n",
              "      <th></th>\n",
              "      <th>DATE</th>\n",
              "      <th>Sales</th>\n",
              "    </tr>\n",
              "  </thead>\n",
              "  <tbody>\n",
              "    <tr>\n",
              "      <th>0</th>\n",
              "      <td>2001-01-01</td>\n",
              "      <td>6519.0</td>\n",
              "    </tr>\n",
              "    <tr>\n",
              "      <th>1</th>\n",
              "      <td>2001-02-01</td>\n",
              "      <td>6654.0</td>\n",
              "    </tr>\n",
              "    <tr>\n",
              "      <th>2</th>\n",
              "      <td>2001-03-01</td>\n",
              "      <td>7332.0</td>\n",
              "    </tr>\n",
              "    <tr>\n",
              "      <th>3</th>\n",
              "      <td>2001-04-01</td>\n",
              "      <td>7332.0</td>\n",
              "    </tr>\n",
              "    <tr>\n",
              "      <th>4</th>\n",
              "      <td>2001-05-01</td>\n",
              "      <td>8240.0</td>\n",
              "    </tr>\n",
              "  </tbody>\n",
              "</table>\n",
              "</div>"
            ],
            "text/plain": [
              "        DATE   Sales\n",
              "0 2001-01-01  6519.0\n",
              "1 2001-02-01  6654.0\n",
              "2 2001-03-01  7332.0\n",
              "3 2001-04-01  7332.0\n",
              "4 2001-05-01  8240.0"
            ]
          },
          "execution_count": 2,
          "metadata": {},
          "output_type": "execute_result"
        }
      ],
      "source": [
        "mobile_sales = pd.read_excel('./mobilesales.xlsx')\n",
        "mobile_sales.head()"
      ]
    },
    {
      "cell_type": "code",
      "execution_count": 3,
      "metadata": {
        "colab": {
          "base_uri": "https://localhost:8080/",
          "height": 237
        },
        "id": "buxLRpDxcYUU",
        "outputId": "e0f3256c-ae49-4ebb-bf92-b9a3e43f711f"
      },
      "outputs": [
        {
          "data": {
            "text/html": [
              "<div>\n",
              "<style scoped>\n",
              "    .dataframe tbody tr th:only-of-type {\n",
              "        vertical-align: middle;\n",
              "    }\n",
              "\n",
              "    .dataframe tbody tr th {\n",
              "        vertical-align: top;\n",
              "    }\n",
              "\n",
              "    .dataframe thead th {\n",
              "        text-align: right;\n",
              "    }\n",
              "</style>\n",
              "<table border=\"1\" class=\"dataframe\">\n",
              "  <thead>\n",
              "    <tr style=\"text-align: right;\">\n",
              "      <th></th>\n",
              "      <th>Sales</th>\n",
              "    </tr>\n",
              "    <tr>\n",
              "      <th>DATE</th>\n",
              "      <th></th>\n",
              "    </tr>\n",
              "  </thead>\n",
              "  <tbody>\n",
              "    <tr>\n",
              "      <th>2001-01-01</th>\n",
              "      <td>6519.0</td>\n",
              "    </tr>\n",
              "    <tr>\n",
              "      <th>2001-02-01</th>\n",
              "      <td>6654.0</td>\n",
              "    </tr>\n",
              "    <tr>\n",
              "      <th>2001-03-01</th>\n",
              "      <td>7332.0</td>\n",
              "    </tr>\n",
              "    <tr>\n",
              "      <th>2001-04-01</th>\n",
              "      <td>7332.0</td>\n",
              "    </tr>\n",
              "    <tr>\n",
              "      <th>2001-05-01</th>\n",
              "      <td>8240.0</td>\n",
              "    </tr>\n",
              "  </tbody>\n",
              "</table>\n",
              "</div>"
            ],
            "text/plain": [
              "             Sales\n",
              "DATE              \n",
              "2001-01-01  6519.0\n",
              "2001-02-01  6654.0\n",
              "2001-03-01  7332.0\n",
              "2001-04-01  7332.0\n",
              "2001-05-01  8240.0"
            ]
          },
          "execution_count": 3,
          "metadata": {},
          "output_type": "execute_result"
        }
      ],
      "source": [
        "# set index as date\n",
        "mobile_sales.set_index('DATE', inplace=True)\n",
        "\n",
        "mobile_sales.head()"
      ]
    },
    {
      "cell_type": "markdown",
      "metadata": {
        "id": "iagVF4qYn6H0"
      },
      "source": [
        "\n",
        "\n",
        "## Resampling"
      ]
    },
    {
      "cell_type": "markdown",
      "metadata": {
        "id": "h8tHuj6Rc2bu"
      },
      "source": [
        "Looking at the datatime column, pandas can figure out that our data is indexed monthly.\n",
        "\n",
        "> **Q. What if instead of forecasting for a couple months, the client wants us to forecast the data for the next say, 3 years?**\n",
        "\n",
        "This is where the concept of **resampling** comes in.\n",
        "\n",
        "Here, it makes sense to resample the data into a year.\n",
        "\n",
        "This means, that instead of having monthly data, we resample the dataset to obtain yearly data.\n",
        "\n",
        "<br>\n",
        "\n",
        "#### Q. How can we obtain yearly sales data from monthly data?\n",
        "We can convert our monthly data to yearly data by simply adding the data for all 12 months in a year, and assigning that to a new variable, that represents that particular year.\n",
        "\n",
        "We do this by using the `resample()` method of pandas. \n",
        "\n",
        "Since we need to resample by year, we pass `'Y'` in the resample method.\n",
        "\n",
        "\n",
        "![picture](https://drive.google.com/uc?export=view&id=1ced-VScgLuErLA860uH1u8ihoNPk1nkx)\n",
        "\n",
        "\n",
        "<br>\n",
        "\n",
        "**NOTE:** \n",
        "- When we resample up to a year from monthly data, this is called **upsampling**.\n",
        "\n",
        "- This is very easy as we can simply take the sum of all the data points in a bucket, to obtain the upsampled data.\n"
      ]
    },
    {
      "cell_type": "code",
      "execution_count": 9,
      "metadata": {
        "colab": {
          "base_uri": "https://localhost:8080/",
          "height": 237
        },
        "id": "mvn51qGGk_vY",
        "outputId": "11cedba2-7017-40ad-ee19-ffbbd6ebf1c8"
      },
      "outputs": [
        {
          "data": {
            "text/html": [
              "<div>\n",
              "<style scoped>\n",
              "    .dataframe tbody tr th:only-of-type {\n",
              "        vertical-align: middle;\n",
              "    }\n",
              "\n",
              "    .dataframe tbody tr th {\n",
              "        vertical-align: top;\n",
              "    }\n",
              "\n",
              "    .dataframe thead th {\n",
              "        text-align: right;\n",
              "    }\n",
              "</style>\n",
              "<table border=\"1\" class=\"dataframe\">\n",
              "  <thead>\n",
              "    <tr style=\"text-align: right;\">\n",
              "      <th></th>\n",
              "      <th>Sales</th>\n",
              "    </tr>\n",
              "    <tr>\n",
              "      <th>DATE</th>\n",
              "      <th></th>\n",
              "    </tr>\n",
              "  </thead>\n",
              "  <tbody>\n",
              "    <tr>\n",
              "      <th>2001-12-31</th>\n",
              "      <td>92119.0</td>\n",
              "    </tr>\n",
              "    <tr>\n",
              "      <th>2002-12-31</th>\n",
              "      <td>72070.0</td>\n",
              "    </tr>\n",
              "    <tr>\n",
              "      <th>2003-12-31</th>\n",
              "      <td>91843.0</td>\n",
              "    </tr>\n",
              "    <tr>\n",
              "      <th>2004-12-31</th>\n",
              "      <td>104200.0</td>\n",
              "    </tr>\n",
              "    <tr>\n",
              "      <th>2005-12-31</th>\n",
              "      <td>100343.0</td>\n",
              "    </tr>\n",
              "  </tbody>\n",
              "</table>\n",
              "</div>"
            ],
            "text/plain": [
              "               Sales\n",
              "DATE                \n",
              "2001-12-31   92119.0\n",
              "2002-12-31   72070.0\n",
              "2003-12-31   91843.0\n",
              "2004-12-31  104200.0\n",
              "2005-12-31  100343.0"
            ]
          },
          "execution_count": 9,
          "metadata": {},
          "output_type": "execute_result"
        }
      ],
      "source": [
        "mobile_sales.resample('Y').sum().head()"
      ]
    },
    {
      "cell_type": "markdown",
      "metadata": {
        "id": "7G2HVsjzw2Jt"
      },
      "source": [
        "Notice that here, instead of monthly data, we get one data point for each year, with the date set as 31st December for each year.\n",
        "\n",
        "\n",
        "Lets plot this yearly data, to see how it looks."
      ]
    },
    {
      "cell_type": "code",
      "execution_count": 10,
      "metadata": {
        "colab": {
          "base_uri": "https://localhost:8080/",
          "height": 407
        },
        "id": "Eylmt64Ewv76",
        "outputId": "0919fcb1-6e22-4be3-916d-78bd3bcdfdfa"
      },
      "outputs": [
        {
          "data": {
            "text/plain": [
              "<AxesSubplot:xlabel='DATE'>"
            ]
          },
          "execution_count": 10,
          "metadata": {},
          "output_type": "execute_result"
        },
        {
          "data": {
            "image/png": "[encoded data removed]",
            "text/plain": [
              "<Figure size 1440x432 with 1 Axes>"
            ]
          },
          "metadata": {
            "needs_background": "light"
          },
          "output_type": "display_data"
        }
      ],
      "source": [
        "mobile_sales.resample('Y').sum().plot(style='-o')"
      ]
    },
    {
      "cell_type": "markdown",
      "metadata": {
        "id": "pcPPfuKMw-Cn"
      },
      "source": [
        "> **Q. So What exactly is resampling?**\n",
        "\n",
        "Since we are looking at time series data, there may arise situations where we wish to manipulate the time frame of our data (seconds, days, months, years).\n",
        "\n",
        "Resampling means sampling the existing data according to our requirement, by either upsampling or downsampling.\n",
        "\n",
        "<br>\n",
        "\n",
        "> **Q. Why do we need to perform resampling?**\n",
        "\n",
        "In practice, there are 2 main reasons why using resample.\n",
        "1. To inspect how data behaves differently under different resolutions or frequency.\n",
        "2. To join datasets/tables with different resolutions.\n",
        "\n",
        "\n",
        "<br>\n",
        "\n",
        "> **Q. Are there any pre requisites to resampling?**\n",
        "\n",
        "There are 2 prerequisites to carry out resampling:\n",
        "\n",
        "1. The Datetime column must be in “datetime” or “timestamp” data type.\n",
        "2. The Datetime column must be the index. \n",
        " - Alternatively, you can use the ‘on’ parameter to define the column to carry out resampling (not supported in upsampling).\n",
        "\n",
        "As you can see, both these conditions are already met in our dataset.\n",
        "\n",
        " <br>\n",
        "\n",
        "> **Q. Why did we use `sum()`, is there any other way of doing resampling?**\n",
        "\n",
        "During resampling, we used the `sum()` method, because it makes logical sense to add up the monthly sales in order to obtain the yearly sale values.\n",
        "\n",
        "Yes, there are other ways of resampling.\n",
        "\n",
        "Instead of `sum()`, we could've theoretically used other methods such as `max(), min(), or mean()`. \n",
        "\n",
        "But in the context of upsampling in time series, that does not make sense."
      ]
    },
    {
      "cell_type": "markdown",
      "metadata": {
        "id": "Tsg9yeCkl3NJ"
      },
      "source": [
        "We saw how we can upsample our data, by taking sum. \n",
        "\n",
        "> **Q. Can we downsample data as well?**\n",
        "\n",
        "Yes.\n",
        "\n",
        "Let's try downsampling by finding data indexed by **day**.\n",
        "\n",
        "For doing so, we will use `'D'` inside the `resample()` method."
      ]
    },
    {
      "cell_type": "code",
      "execution_count": 11,
      "metadata": {
        "colab": {
          "base_uri": "https://localhost:8080/",
          "height": 237
        },
        "id": "OwKoP56UmtHr",
        "outputId": "f0dcd246-8915-49e7-8c76-8bbaff31bf15"
      },
      "outputs": [
        {
          "data": {
            "text/html": [
              "<div>\n",
              "<style scoped>\n",
              "    .dataframe tbody tr th:only-of-type {\n",
              "        vertical-align: middle;\n",
              "    }\n",
              "\n",
              "    .dataframe tbody tr th {\n",
              "        vertical-align: top;\n",
              "    }\n",
              "\n",
              "    .dataframe thead th {\n",
              "        text-align: right;\n",
              "    }\n",
              "</style>\n",
              "<table border=\"1\" class=\"dataframe\">\n",
              "  <thead>\n",
              "    <tr style=\"text-align: right;\">\n",
              "      <th></th>\n",
              "      <th>Sales</th>\n",
              "    </tr>\n",
              "    <tr>\n",
              "      <th>DATE</th>\n",
              "      <th></th>\n",
              "    </tr>\n",
              "  </thead>\n",
              "  <tbody>\n",
              "    <tr>\n",
              "      <th>2001-01-01</th>\n",
              "      <td>6519.0</td>\n",
              "    </tr>\n",
              "    <tr>\n",
              "      <th>2001-01-02</th>\n",
              "      <td>0.0</td>\n",
              "    </tr>\n",
              "    <tr>\n",
              "      <th>2001-01-03</th>\n",
              "      <td>0.0</td>\n",
              "    </tr>\n",
              "    <tr>\n",
              "      <th>2001-01-04</th>\n",
              "      <td>0.0</td>\n",
              "    </tr>\n",
              "    <tr>\n",
              "      <th>2001-01-05</th>\n",
              "      <td>0.0</td>\n",
              "    </tr>\n",
              "  </tbody>\n",
              "</table>\n",
              "</div>"
            ],
            "text/plain": [
              "             Sales\n",
              "DATE              \n",
              "2001-01-01  6519.0\n",
              "2001-01-02     0.0\n",
              "2001-01-03     0.0\n",
              "2001-01-04     0.0\n",
              "2001-01-05     0.0"
            ]
          },
          "execution_count": 11,
          "metadata": {},
          "output_type": "execute_result"
        }
      ],
      "source": [
        "mobile_sales.resample('D').sum().head()"
      ]
    },
    {
      "cell_type": "markdown",
      "metadata": {
        "id": "ivVZkLBYmxm7"
      },
      "source": [
        "Uh-oh, there seems to be a problem!\n",
        "\n",
        "<br>\n",
        "\n",
        "> **Q. What went wrong in downsampling?**\n",
        "\n",
        "We are trying to find out daily sales data from the given monthly sales data.\n",
        "\n",
        "And we used `sum()` method as the aggregate function for resampling.\n",
        "\n",
        "So, technically, nothing went wrong \n",
        "- We were able to successfully obtain daily sales data such that \n",
        "- the sum of daily mobile sales in a month is in fact equal to the monthly sale values.\n",
        "\n",
        "We are essentially trying to fill in the values that we don't have.\n",
        "\n",
        "<br>\n",
        "\n",
        "> **Q. How do we go about solving this problem?**\n",
        "\n",
        "Intuitively, we can think that if the number of mobiles sold in a month, say January is X, then the number of mobiles sold each day is $X / 31$, where 31 is the number of days in the month of January.\n",
        "\n",
        "$\\frac{X}{31} + \\frac{X}{31} + ...31 \\ times = X$\n",
        "\n",
        "This will give us the best estimate for daily data\n",
        "\n",
        "<br>\n",
        "\n",
        "So we use **forward fill** here, which replaces all values of days in January with the monthly value of January, and then we can simply divide this with the number of months in January i.e. 31\n",
        "\n",
        "<br>\n",
        "\n",
        "> **Q. So essentially we're taking the average of values, why not just change the aggregate function to `mean()`?**\n",
        "\n",
        "\n",
        "This makes logical sense, Let's try doing this."
      ]
    },
    {
      "cell_type": "code",
      "execution_count": 12,
      "metadata": {
        "colab": {
          "base_uri": "https://localhost:8080/",
          "height": 237
        },
        "id": "WNb68B_oMSvV",
        "outputId": "a0c59fea-adb8-425f-b3d0-17fb16dadbb6"
      },
      "outputs": [
        {
          "data": {
            "text/html": [
              "<div>\n",
              "<style scoped>\n",
              "    .dataframe tbody tr th:only-of-type {\n",
              "        vertical-align: middle;\n",
              "    }\n",
              "\n",
              "    .dataframe tbody tr th {\n",
              "        vertical-align: top;\n",
              "    }\n",
              "\n",
              "    .dataframe thead th {\n",
              "        text-align: right;\n",
              "    }\n",
              "</style>\n",
              "<table border=\"1\" class=\"dataframe\">\n",
              "  <thead>\n",
              "    <tr style=\"text-align: right;\">\n",
              "      <th></th>\n",
              "      <th>Sales</th>\n",
              "    </tr>\n",
              "    <tr>\n",
              "      <th>DATE</th>\n",
              "      <th></th>\n",
              "    </tr>\n",
              "  </thead>\n",
              "  <tbody>\n",
              "    <tr>\n",
              "      <th>2001-01-01</th>\n",
              "      <td>6519.0</td>\n",
              "    </tr>\n",
              "    <tr>\n",
              "      <th>2001-01-02</th>\n",
              "      <td>NaN</td>\n",
              "    </tr>\n",
              "    <tr>\n",
              "      <th>2001-01-03</th>\n",
              "      <td>NaN</td>\n",
              "    </tr>\n",
              "    <tr>\n",
              "      <th>2001-01-04</th>\n",
              "      <td>NaN</td>\n",
              "    </tr>\n",
              "    <tr>\n",
              "      <th>2001-01-05</th>\n",
              "      <td>NaN</td>\n",
              "    </tr>\n",
              "  </tbody>\n",
              "</table>\n",
              "</div>"
            ],
            "text/plain": [
              "             Sales\n",
              "DATE              \n",
              "2001-01-01  6519.0\n",
              "2001-01-02     NaN\n",
              "2001-01-03     NaN\n",
              "2001-01-04     NaN\n",
              "2001-01-05     NaN"
            ]
          },
          "execution_count": 12,
          "metadata": {},
          "output_type": "execute_result"
        }
      ],
      "source": [
        "mobile_sales.resample('D').mean().head()"
      ]
    },
    {
      "cell_type": "markdown",
      "metadata": {
        "id": "exulPi7fONuF"
      },
      "source": [
        "As you can see, using `mean()` as the aggregate function just ends up assigning the monthly value to the 1st of each month, and assigns all other days' sales value as **NaN**."
      ]
    },
    {
      "cell_type": "code",
      "execution_count": 13,
      "metadata": {
        "colab": {
          "base_uri": "https://localhost:8080/",
          "height": 237
        },
        "id": "a0oJfk7bHDx2",
        "outputId": "6580b906-fb58-43c1-f93f-cc30e34d5cf4"
      },
      "outputs": [
        {
          "data": {
            "text/html": [
              "<div>\n",
              "<style scoped>\n",
              "    .dataframe tbody tr th:only-of-type {\n",
              "        vertical-align: middle;\n",
              "    }\n",
              "\n",
              "    .dataframe tbody tr th {\n",
              "        vertical-align: top;\n",
              "    }\n",
              "\n",
              "    .dataframe thead th {\n",
              "        text-align: right;\n",
              "    }\n",
              "</style>\n",
              "<table border=\"1\" class=\"dataframe\">\n",
              "  <thead>\n",
              "    <tr style=\"text-align: right;\">\n",
              "      <th></th>\n",
              "      <th>Sales</th>\n",
              "      <th>year-month</th>\n",
              "      <th>base</th>\n",
              "    </tr>\n",
              "    <tr>\n",
              "      <th>DATE</th>\n",
              "      <th></th>\n",
              "      <th></th>\n",
              "      <th></th>\n",
              "    </tr>\n",
              "  </thead>\n",
              "  <tbody>\n",
              "    <tr>\n",
              "      <th>2001-01-01</th>\n",
              "      <td>210.290323</td>\n",
              "      <td>200101</td>\n",
              "      <td>31</td>\n",
              "    </tr>\n",
              "    <tr>\n",
              "      <th>2001-01-02</th>\n",
              "      <td>210.290323</td>\n",
              "      <td>200101</td>\n",
              "      <td>31</td>\n",
              "    </tr>\n",
              "    <tr>\n",
              "      <th>2001-01-03</th>\n",
              "      <td>210.290323</td>\n",
              "      <td>200101</td>\n",
              "      <td>31</td>\n",
              "    </tr>\n",
              "    <tr>\n",
              "      <th>2001-01-04</th>\n",
              "      <td>210.290323</td>\n",
              "      <td>200101</td>\n",
              "      <td>31</td>\n",
              "    </tr>\n",
              "    <tr>\n",
              "      <th>2001-01-05</th>\n",
              "      <td>210.290323</td>\n",
              "      <td>200101</td>\n",
              "      <td>31</td>\n",
              "    </tr>\n",
              "  </tbody>\n",
              "</table>\n",
              "</div>"
            ],
            "text/plain": [
              "                 Sales  year-month  base\n",
              "DATE                                    \n",
              "2001-01-01  210.290323      200101    31\n",
              "2001-01-02  210.290323      200101    31\n",
              "2001-01-03  210.290323      200101    31\n",
              "2001-01-04  210.290323      200101    31\n",
              "2001-01-05  210.290323      200101    31"
            ]
          },
          "execution_count": 13,
          "metadata": {},
          "output_type": "execute_result"
        }
      ],
      "source": [
        "temp = mobile_sales.resample('D').mean().fillna(method='ffill')\n",
        "temp['year-month'] = temp.index.year * 100 + temp.index.month\n",
        "temp['base'] = temp.groupby('year-month')['Sales'].transform('count')\n",
        "temp['Sales'] = temp['Sales'] / temp['base']\n",
        "temp.head()"
      ]
    },
    {
      "cell_type": "markdown",
      "metadata": {
        "id": "2TYV-6Y-goVq"
      },
      "source": [
        "> **Q. Why bother performing downsampling?**\n",
        "\n",
        "Though, this is not adding any more information, there may arise a situation where we need to resample just because we need to **mix up** another signal which is in daily level.\n",
        "\n",
        "So, in order to mix the two signals, we need to first downsample our given data, which is in monthly level.\n",
        "\n",
        "![picture](https://drive.google.com/uc?export=view&id=1-sZGuTrCa4WMPzug1rA2yg4scLERYLhD)\n",
        "\n",
        "<br>\n",
        "\n"
      ]
    },
    {
      "cell_type": "markdown",
      "metadata": {
        "id": "85qNls5_Uwpa"
      },
      "source": [
        "## Performance Metrics in a time series"
      ]
    },
    {
      "cell_type": "markdown",
      "metadata": {
        "id": "jhZs6DcK0uHC"
      },
      "source": [
        "Before getting into performance metrics, Let's do all the data processing we learnt about in the lecture\n",
        "- Setting index as date\n",
        "- Perform linear interpolation\n",
        "- Taking care of anomalies by clipping values using quantiles\n",
        "- Plotting the resultant time series"
      ]
    },
    {
      "cell_type": "code",
      "execution_count": 14,
      "metadata": {
        "colab": {
          "base_uri": "https://localhost:8080/",
          "height": 406
        },
        "id": "pQV-Dayk0h5V",
        "outputId": "3563e6c9-d9a2-4ec8-ab40-c329d6ef1f83"
      },
      "outputs": [
        {
          "data": {
            "text/plain": [
              "<AxesSubplot:xlabel='DATE'>"
            ]
          },
          "execution_count": 14,
          "metadata": {},
          "output_type": "execute_result"
        },
        {
          "data": {
            "image/png": "[encoded data removed]",
            "text/plain": [
              "<Figure size 1440x432 with 1 Axes>"
            ]
          },
          "metadata": {
            "needs_background": "light"
          },
          "output_type": "display_data"
        }
      ],
      "source": [
        "# index already set as date column\n",
        "\n",
        "# linear interpolation \n",
        "mobile_sales.Sales = mobile_sales.Sales.interpolate(method='linear')\n",
        "\n",
        "# anomalies - clip quantiles\n",
        "mobile_sales.Sales = mobile_sales.Sales.clip(upper=mobile_sales.Sales.quantile(0.98), lower=mobile_sales.Sales.quantile(0.02))\n",
        "\n",
        "# plot\n",
        "mobile_sales.Sales.plot(style='-o', figsize=(20,6))"
      ]
    },
    {
      "cell_type": "code",
      "execution_count": 15,
      "metadata": {
        "id": "gKpFSSX6xO7Z"
      },
      "outputs": [],
      "source": [
        "# Splitting our data in train and test sets\n",
        "# Will be covered in Lecture 2 of time series\n",
        "\n",
        "train_x = mobile_sales.loc[mobile_sales.index < mobile_sales.index[-12]].copy()\n",
        "test_x = mobile_sales.loc[mobile_sales.index >= mobile_sales.index[-12]].copy()"
      ]
    },
    {
      "cell_type": "markdown",
      "metadata": {
        "id": "3NmZ93dQX_2L"
      },
      "source": [
        "\n",
        "\n",
        "Lets take a look at a few performance metrics that help us evaluate how good or bad our forecasts are in a time series, by implementing them over a simple **Naive Model** of forecasting.\n",
        "\n",
        "You have already learnt all of these metrics.\n",
        "\n",
        "Let's see them getting used in context  of time series."
      ]
    },
    {
      "cell_type": "code",
      "execution_count": 16,
      "metadata": {
        "id": "H_0_7QH_xqHC"
      },
      "outputs": [],
      "source": [
        "# Naive forecast: Forecasting the last value of the series forever\n",
        "\n",
        "test_x['pred'] = train_x['Sales'][-1]"
      ]
    },
    {
      "cell_type": "markdown",
      "metadata": {
        "id": "HD4n1jkI1RQf"
      },
      "source": [
        "### 1. Mean Error"
      ]
    },
    {
      "cell_type": "markdown",
      "metadata": {
        "id": "Zyo1h15x1VLP"
      },
      "source": [
        "ME is a measure of the average of the difference between each Actual and predicted value.\n",
        "\n",
        "The formula for Mean Absolute Error is as follows:\n"
      ]
    },
    {
      "cell_type": "markdown",
      "metadata": {
        "id": "TKcLZwFx327O"
      },
      "source": [
        "<center><h3> $ME = \\frac{1}{N} \\sum_{i=1}^{N} y_{i}-\\hat{y}_{i}$</h3></center>\n",
        "\n",
        "In the above equation, \n",
        "\n",
        "$\\hat{y}$ -> predicted value and  <br>\n",
        "y -> actual value. <br>\n",
        "N -> total no. of observations\n",
        "\n",
        "\n",
        "AIM: to get a ME value near 0"
      ]
    },
    {
      "cell_type": "code",
      "execution_count": 17,
      "metadata": {
        "colab": {
          "base_uri": "https://localhost:8080/"
        },
        "id": "i9C8jCoDxn7k",
        "outputId": "b7c677cc-393a-4224-c00f-dec4a2342bd6"
      },
      "outputs": [
        {
          "name": "stdout",
          "output_type": "stream",
          "text": [
            "3434.2333333333336\n"
          ]
        }
      ],
      "source": [
        "mean_error = np.sum(test_x['Sales'] - test_x['pred']) / len(test_x)\n",
        "\n",
        "print(mean_error)"
      ]
    },
    {
      "cell_type": "markdown",
      "metadata": {
        "id": "D8BQ-Jgw2AOB"
      },
      "source": [
        "\n",
        "**Note:** This is the same as **residual** we looked in the lecture.\n",
        "\n",
        "<br>\n",
        "\n",
        "#### Q. What do we want our residual to look like?\n",
        "- Ideally we would like a value near 0, this way we know that even though sometimes we overpredict or underpredict, on an average, we're getting negligible error.\n",
        "\n",
        "- Expected to be **normal** distribution.\n",
        "- Have lower standard deviation.\n",
        "\n",
        "<br>\n",
        "\n",
        "#### Q. What is the problem with ME?\n",
        "The problem is that, positive and negative errors cancel each other's effect. \n",
        "\n",
        "So we can get a very good ME score, but the model would actually be performing very bad."
      ]
    },
    {
      "cell_type": "markdown",
      "metadata": {
        "id": "2DihiA2DZUWG"
      },
      "source": [
        "### 2. Mean Absolute Error (MAE)\n",
        "\n",
        "So to overcome this cancellation of negative and positive errors we use **Mean Absolute error** which takes the **absolute error of the terms** \n",
        "\n",
        "Mean Absolute Error is a measure of the average of the absolute difference between each Actual and predicted value.  \n",
        "\n",
        "The formula for Mean Absolute Error is as follows:\n"
      ]
    },
    {
      "cell_type": "markdown",
      "metadata": {
        "id": "v-K8eG7Xnb4_"
      },
      "source": [
        "<center><h3> $MAE = \\frac{1}{N} \\sum_{i=1}^{N}\\left | y_{i}-\\hat{y}_{i} \\right |$</h3></center>"
      ]
    },
    {
      "cell_type": "code",
      "execution_count": 18,
      "metadata": {
        "colab": {
          "base_uri": "https://localhost:8080/"
        },
        "id": "7OqZvC7hyzMl",
        "outputId": "0104b932-62e4-4b89-f79f-410c5d02e7c0"
      },
      "outputs": [
        {
          "name": "stdout",
          "output_type": "stream",
          "text": [
            "3434.2333333333336\n"
          ]
        }
      ],
      "source": [
        "from sklearn.metrics import mean_absolute_error as mae\n",
        "\n",
        "print(mae(test_x['Sales'], test_x['pred']))"
      ]
    },
    {
      "cell_type": "markdown",
      "metadata": {
        "id": "UDg2NoD1a1cW"
      },
      "source": [
        "\n",
        "AIM: to get a minimum MAE value\n",
        "\n",
        "This will always be a positive value."
      ]
    },
    {
      "cell_type": "markdown",
      "metadata": {
        "id": "SGhRhGX4br7g"
      },
      "source": [
        "### 3. Mean Square Error (MSE)\n",
        "- Takes the average of the square of the difference between the original values and the predicted values.\n",
        "- As we take square of the error, the effect of **larger errors** (sometimes outliers) become **more pronounced** then smaller error as a result of which model will be **penalized more for bad predictions**.\n",
        "- Before applying MSE, we must **eliminate all nulls/infinites** from the input.\n",
        "- **Not robust** to outliers\n",
        "- **Range (0, + infinity]**\n",
        "\n",
        "Formula to calculate MSE is as follows:-"
      ]
    },
    {
      "cell_type": "markdown",
      "metadata": {
        "id": "uJYIoNFxnIcz"
      },
      "source": [
        "<center><h3> $MSE = \\frac{1}{N}\\sum_{i=1}^{N} (y_{i} - \\hat{y}_{i})^2$ </h3></center>"
      ]
    },
    {
      "cell_type": "markdown",
      "metadata": {
        "id": "A927LlJ9cslC"
      },
      "source": [
        "AIM: To get minimum MSE value"
      ]
    },
    {
      "cell_type": "code",
      "execution_count": 19,
      "metadata": {
        "colab": {
          "base_uri": "https://localhost:8080/"
        },
        "id": "CuXkyx9Rcw4D",
        "outputId": "61ecae89-44cb-4f47-9a93-0d7a07e8f1b9"
      },
      "outputs": [
        {
          "name": "stdout",
          "output_type": "stream",
          "text": [
            "MSE:  13667844.726666668\n"
          ]
        }
      ],
      "source": [
        "# Importing in-built function from sklearn.metrics\n",
        "from sklearn.metrics import mean_squared_error\n",
        "\n",
        "print(\"MSE: \", mean_squared_error(test_x['Sales'], test_x['pred']))"
      ]
    },
    {
      "cell_type": "markdown",
      "metadata": {
        "id": "35hx_ugfuUMQ"
      },
      "source": [
        "The problem with MSE is that, it becomes **exponentially larger**.\n",
        "\n",
        "It is not in the scale of unit of time series, it is in $(unit)^2$.\n",
        "- Our time series is in range of 6000 to 16,000\n",
        "- MSE is 1,36,67,844.727\n",
        "\n",
        "Hence we look at RMSE."
      ]
    },
    {
      "cell_type": "markdown",
      "metadata": {
        "id": "nlZhdecUdA7B"
      },
      "source": [
        "### 4. Root Mean Square Error (RMSE)\n",
        "Root mean Squared Error is defined as the square root of the average of the squared difference between the predicted values and actual values.\n",
        "\n",
        "It is essentially the square root of MSE"
      ]
    },
    {
      "cell_type": "markdown",
      "metadata": {
        "id": "_vMPBms2m7Nn"
      },
      "source": [
        "<center><h3> $RMSE = \\sqrt{\\frac{\\sum_{i=1}^{N} (y_{i} - \\hat{y}_{i})^2}{N}}$</h3></center>"
      ]
    },
    {
      "cell_type": "code",
      "execution_count": 20,
      "metadata": {
        "colab": {
          "base_uri": "https://localhost:8080/"
        },
        "id": "YP4vOkcodY9f",
        "outputId": "fe96ea99-c647-4284-f267-4574bd2f5e42"
      },
      "outputs": [
        {
          "name": "stdout",
          "output_type": "stream",
          "text": [
            "RMSE:  3697.0048318424833\n"
          ]
        }
      ],
      "source": [
        "print(\"RMSE: \", np.sqrt(mean_squared_error(test_x['Sales'], test_x['pred'])))"
      ]
    },
    {
      "cell_type": "markdown",
      "metadata": {
        "id": "sxgJhza3dZc5"
      },
      "source": [
        "- Notice that the RMSE is **greater than MAE**. \n",
        "- The reason is RMSE is squaring the difference between the predictions and the ground truth, any significant difference is made more substantial when it is being squared. \n",
        "- **RMSE is more sensitive to outliers.**\n",
        "\n",
        "AIM: To get a minimum RMSE value"
      ]
    },
    {
      "cell_type": "markdown",
      "metadata": {
        "id": "9W3EUL1o7lYO"
      },
      "source": [
        "### 5. Mean Absolute Percentage Error (MAPE)"
      ]
    },
    {
      "cell_type": "markdown",
      "metadata": {
        "id": "o5VGUfKcRqr2"
      },
      "source": [
        "To get the percentage error values we use **Mean Absolute Percentage Error** (MAPE), which is obtained by dividing the absolute error with actual value and finding the mean of these terms.\n",
        "\n",
        "Formula:\n",
        " "
      ]
    },
    {
      "cell_type": "markdown",
      "metadata": {
        "id": "1dWg13hI7xQv"
      },
      "source": [
        "<center><h3> $MAPE = \\frac{1}{N} \\sum_{i=1}^{N}\\left | \\frac{y_{i}-\\hat{y}_{i}}{y_i} \\right |$</h3></center>"
      ]
    },
    {
      "cell_type": "code",
      "execution_count": 21,
      "metadata": {
        "colab": {
          "base_uri": "https://localhost:8080/"
        },
        "id": "-QQgEDkBzycl",
        "outputId": "b44dddc7-5317-4959-a972-2ee73036aa1f"
      },
      "outputs": [
        {
          "name": "stdout",
          "output_type": "stream",
          "text": [
            "0.2304265941596256\n"
          ]
        }
      ],
      "source": [
        "from sklearn.metrics import mean_absolute_percentage_error as mape\n",
        "\n",
        "print(mape(test_x['Sales'], test_x['pred']))"
      ]
    },
    {
      "cell_type": "markdown",
      "metadata": {
        "id": "8RBrpW_8sCbp"
      },
      "source": [
        "So, there is a 23% error in these forecasts. \n",
        "\n",
        "#### Q. What is advantage of MAPE?\n",
        "In other metrics we've seen, we would need to look at that metric's value for all the models we're trying, to understand how each model performs. \n",
        "\n",
        "They provide relative comparison of models.\n",
        "\n",
        "With MAPE, we get an percentage of correct forecasts. We don't need to to look at MAPE values of other models to get an idea of how our model is performing.\n",
        "\n",
        "<br>\n",
        "\n",
        "#### Q. What if y = 0 for a point?\n",
        "That would be a problem as MAPE would become **undefined** for the entire data that way.\n",
        "\n",
        "Therefore, one would have to use another metric for the points where real value is 0. This is just inconvenient.\n"
      ]
    },
    {
      "cell_type": "markdown",
      "metadata": {
        "id": "2qDGWpkuuf6S"
      },
      "source": [
        "**NOTE:**\n",
        "- It isn't always easy to select one single metric for performance evaluation.\n",
        "- Sometimes, based on the domain, you would need to try out a bunch of different metrics, to check the performance."
      ]
    },
    {
      "cell_type": "markdown",
      "metadata": {
        "id": "SCML6lB-0MPB"
      },
      "source": [
        "So, we can see that the Naive Method of forecasting is not a very good performing method.\n",
        "\n",
        "In the next lecture, we will look at other models of forecasting a time series."
      ]
    },
    {
      "cell_type": "markdown",
      "metadata": {},
      "source": []
    }
  ],
  "metadata": {
    "colab": {
      "provenance": []
    },
    "kernelspec": {
      "display_name": "minimal_ds",
      "language": "python",
      "name": "python3"
    },
    "language_info": {
      "codemirror_mode": {
        "name": "ipython",
        "version": 3
      },
      "file_extension": ".py",
      "mimetype": "text/x-python",
      "name": "python",
      "nbconvert_exporter": "python",
      "pygments_lexer": "ipython3",
      "version": "3.10.9"
    },
    "vscode": {
      "interpreter": {
        "hash": "7f7d8aebfb8ed67d8e060a6bf4936798a2360aa499d0502633b79ce658c2dda8"
      }
    }
  },
  "nbformat": 4,
  "nbformat_minor": 0
}
