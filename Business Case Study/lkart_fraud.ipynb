{
 "cells": [
  {
   "attachments": {},
   "cell_type": "markdown",
   "metadata": {},
   "source": [
    "## Importing all the required libraries"
   ]
  },
  {
   "cell_type": "code",
   "execution_count": 128,
   "metadata": {},
   "outputs": [],
   "source": [
    "import numpy as np\n",
    "import pandas as pd\n",
    "import matplotlib.pyplot as plt\n",
    "import seaborn as sns"
   ]
  },
  {
   "cell_type": "code",
   "execution_count": 129,
   "metadata": {},
   "outputs": [],
   "source": [
    "train = pd.read_csv('../data/lkart/train.csv')\n",
    "test = pd.read_csv('../data/lkart/test.csv')"
   ]
  },
  {
   "attachments": {},
   "cell_type": "markdown",
   "metadata": {},
   "source": [
    "## EDA"
   ]
  },
  {
   "cell_type": "code",
   "execution_count": 130,
   "metadata": {},
   "outputs": [
    {
     "data": {
      "text/plain": [
       "(40705, 21)"
      ]
     },
     "execution_count": 130,
     "metadata": {},
     "output_type": "execute_result"
    }
   ],
   "source": [
    "train.shape"
   ]
  },
  {
   "cell_type": "code",
   "execution_count": 131,
   "metadata": {},
   "outputs": [
    {
     "data": {
      "text/plain": [
       "(9295, 20)"
      ]
     },
     "execution_count": 131,
     "metadata": {},
     "output_type": "execute_result"
    }
   ],
   "source": [
    "test.shape"
   ]
  },
  {
   "cell_type": "code",
   "execution_count": 132,
   "metadata": {},
   "outputs": [
    {
     "data": {
      "text/plain": [
       "Index(['transaction_id', 'days_since_account_opening',\n",
       "       'total_transaction_amount', 'processing_charge',\n",
       "       'data_packets_exchange_frequency', 'ip_address', 'user_device',\n",
       "       'domain', 'transaction_city', 'transaction_pin_code',\n",
       "       'transaction_state', 'account_balance_limit', 'currency',\n",
       "       'requested_authentication', 'transaction_type', 'transaction_category',\n",
       "       'transaction_timestamp', 'transaction_time(mins)',\n",
       "       'days_since_last_login', 'single_transaction_max_limit', 'is_fraud'],\n",
       "      dtype='object')"
      ]
     },
     "execution_count": 132,
     "metadata": {},
     "output_type": "execute_result"
    }
   ],
   "source": [
    "train.columns"
   ]
  },
  {
   "cell_type": "code",
   "execution_count": 133,
   "metadata": {},
   "outputs": [
    {
     "data": {
      "text/html": [
       "<div>\n",
       "<style scoped>\n",
       "    .dataframe tbody tr th:only-of-type {\n",
       "        vertical-align: middle;\n",
       "    }\n",
       "\n",
       "    .dataframe tbody tr th {\n",
       "        vertical-align: top;\n",
       "    }\n",
       "\n",
       "    .dataframe thead th {\n",
       "        text-align: right;\n",
       "    }\n",
       "</style>\n",
       "<table border=\"1\" class=\"dataframe\">\n",
       "  <thead>\n",
       "    <tr style=\"text-align: right;\">\n",
       "      <th></th>\n",
       "      <th>transaction_id</th>\n",
       "      <th>days_since_account_opening</th>\n",
       "      <th>total_transaction_amount</th>\n",
       "      <th>processing_charge</th>\n",
       "      <th>data_packets_exchange_frequency</th>\n",
       "      <th>ip_address</th>\n",
       "      <th>user_device</th>\n",
       "      <th>domain</th>\n",
       "      <th>transaction_city</th>\n",
       "      <th>transaction_pin_code</th>\n",
       "      <th>...</th>\n",
       "      <th>account_balance_limit</th>\n",
       "      <th>currency</th>\n",
       "      <th>requested_authentication</th>\n",
       "      <th>transaction_type</th>\n",
       "      <th>transaction_category</th>\n",
       "      <th>transaction_timestamp</th>\n",
       "      <th>transaction_time(mins)</th>\n",
       "      <th>days_since_last_login</th>\n",
       "      <th>single_transaction_max_limit</th>\n",
       "      <th>is_fraud</th>\n",
       "    </tr>\n",
       "  </thead>\n",
       "  <tbody>\n",
       "    <tr>\n",
       "      <th>0</th>\n",
       "      <td>TR_8845</td>\n",
       "      <td>4981.0</td>\n",
       "      <td>1917.854</td>\n",
       "      <td>47.779</td>\n",
       "      <td>5188.0</td>\n",
       "      <td>130.168.168.109</td>\n",
       "      <td>Mozilla/5.0 (Macintosh; PPC Mac OS X 10 6_1; r...</td>\n",
       "      <td>hernandezcom</td>\n",
       "      <td>Baileytown</td>\n",
       "      <td>54133.0</td>\n",
       "      <td>...</td>\n",
       "      <td>59125.681</td>\n",
       "      <td>usd</td>\n",
       "      <td>0.0</td>\n",
       "      <td>Insurance Premium</td>\n",
       "      <td>International</td>\n",
       "      <td>2020-10-31 07:00:14</td>\n",
       "      <td>2.233</td>\n",
       "      <td>97.0</td>\n",
       "      <td>7973.168000000001</td>\n",
       "      <td>0</td>\n",
       "    </tr>\n",
       "    <tr>\n",
       "      <th>1</th>\n",
       "      <td>TR_28089</td>\n",
       "      <td>5516.0</td>\n",
       "      <td>3881.569</td>\n",
       "      <td>82.824</td>\n",
       "      <td>6704.0</td>\n",
       "      <td>116.254.133.63</td>\n",
       "      <td>Mozilla/5.0 (Windows; U; Windows 98) AppleWebK...</td>\n",
       "      <td>fryecom</td>\n",
       "      <td>West Julie</td>\n",
       "      <td>62799.0</td>\n",
       "      <td>...</td>\n",
       "      <td>$&amp;%$</td>\n",
       "      <td>cad</td>\n",
       "      <td>NaN</td>\n",
       "      <td>Bill Payment</td>\n",
       "      <td>International</td>\n",
       "      <td>2021-08-24 19:43:58</td>\n",
       "      <td>0.723</td>\n",
       "      <td>38.0</td>\n",
       "      <td>9262.768</td>\n",
       "      <td>0</td>\n",
       "    </tr>\n",
       "    <tr>\n",
       "      <th>2</th>\n",
       "      <td>TR_39517</td>\n",
       "      <td>4893.0</td>\n",
       "      <td>2995.472</td>\n",
       "      <td>72.710</td>\n",
       "      <td>5217.0</td>\n",
       "      <td>113.125.149.223</td>\n",
       "      <td>Mozilla/5.0 (Macintosh; Intel Mac OS X 10 9_7 ...</td>\n",
       "      <td>hicks.net</td>\n",
       "      <td>New Elizabeth</td>\n",
       "      <td>56643.0</td>\n",
       "      <td>...</td>\n",
       "      <td>38192.604</td>\n",
       "      <td>cad</td>\n",
       "      <td>0.0</td>\n",
       "      <td>Ecommerce</td>\n",
       "      <td>International</td>\n",
       "      <td>2021-01-08 03:36:31</td>\n",
       "      <td>1.329</td>\n",
       "      <td>45.0</td>\n",
       "      <td>12486.983999999999</td>\n",
       "      <td>0</td>\n",
       "    </tr>\n",
       "    <tr>\n",
       "      <th>3</th>\n",
       "      <td>TR_30045</td>\n",
       "      <td>2297.0</td>\n",
       "      <td>1819.151</td>\n",
       "      <td>59.894</td>\n",
       "      <td>2698.0</td>\n",
       "      <td>142.1.113.242</td>\n",
       "      <td>Mozilla/5.0 (Windows NT 6.1; fil-PH; rv:1.9.1....</td>\n",
       "      <td>garciacom</td>\n",
       "      <td>South Curtisville</td>\n",
       "      <td>34578.0</td>\n",
       "      <td>...</td>\n",
       "      <td>72827.407</td>\n",
       "      <td>cad</td>\n",
       "      <td>NaN</td>\n",
       "      <td>Insurance Premium</td>\n",
       "      <td>International</td>\n",
       "      <td>2021-02-15 17:17:22</td>\n",
       "      <td>1.924</td>\n",
       "      <td>78.0</td>\n",
       "      <td>14957.028999999999</td>\n",
       "      <td>1</td>\n",
       "    </tr>\n",
       "    <tr>\n",
       "      <th>4</th>\n",
       "      <td>TR_25864</td>\n",
       "      <td>NAT</td>\n",
       "      <td>1311.352</td>\n",
       "      <td>56.689</td>\n",
       "      <td>4531.0</td>\n",
       "      <td>51.224.152.133</td>\n",
       "      <td>Mozilla/5.0 (Macintosh; U; PPC Mac OS X 10 5_0...</td>\n",
       "      <td>campbellinfo</td>\n",
       "      <td>Coxmouth</td>\n",
       "      <td>50426.0</td>\n",
       "      <td>...</td>\n",
       "      <td>38599.68</td>\n",
       "      <td>eur</td>\n",
       "      <td>NaN</td>\n",
       "      <td>Betting</td>\n",
       "      <td>Domestic</td>\n",
       "      <td>2021-08-29 02:00:17</td>\n",
       "      <td>0.425</td>\n",
       "      <td>43.0</td>\n",
       "      <td>10458.058</td>\n",
       "      <td>0</td>\n",
       "    </tr>\n",
       "  </tbody>\n",
       "</table>\n",
       "<p>5 rows × 21 columns</p>\n",
       "</div>"
      ],
      "text/plain": [
       "  transaction_id days_since_account_opening  total_transaction_amount  \\\n",
       "0        TR_8845                     4981.0                  1917.854   \n",
       "1       TR_28089                     5516.0                  3881.569   \n",
       "2       TR_39517                     4893.0                  2995.472   \n",
       "3       TR_30045                     2297.0                  1819.151   \n",
       "4       TR_25864                        NAT                  1311.352   \n",
       "\n",
       "   processing_charge  data_packets_exchange_frequency       ip_address  \\\n",
       "0             47.779                           5188.0  130.168.168.109   \n",
       "1             82.824                           6704.0   116.254.133.63   \n",
       "2             72.710                           5217.0  113.125.149.223   \n",
       "3             59.894                           2698.0    142.1.113.242   \n",
       "4             56.689                           4531.0   51.224.152.133   \n",
       "\n",
       "                                         user_device        domain  \\\n",
       "0  Mozilla/5.0 (Macintosh; PPC Mac OS X 10 6_1; r...  hernandezcom   \n",
       "1  Mozilla/5.0 (Windows; U; Windows 98) AppleWebK...       fryecom   \n",
       "2  Mozilla/5.0 (Macintosh; Intel Mac OS X 10 9_7 ...     hicks.net   \n",
       "3  Mozilla/5.0 (Windows NT 6.1; fil-PH; rv:1.9.1....     garciacom   \n",
       "4  Mozilla/5.0 (Macintosh; U; PPC Mac OS X 10 5_0...  campbellinfo   \n",
       "\n",
       "    transaction_city  transaction_pin_code  ... account_balance_limit  \\\n",
       "0         Baileytown               54133.0  ...             59125.681   \n",
       "1         West Julie               62799.0  ...                  $&%$   \n",
       "2      New Elizabeth               56643.0  ...             38192.604   \n",
       "3  South Curtisville               34578.0  ...             72827.407   \n",
       "4           Coxmouth               50426.0  ...              38599.68   \n",
       "\n",
       "  currency requested_authentication   transaction_type transaction_category  \\\n",
       "0      usd                      0.0  Insurance Premium        International   \n",
       "1      cad                      NaN       Bill Payment        International   \n",
       "2      cad                      0.0          Ecommerce        International   \n",
       "3      cad                      NaN  Insurance Premium        International   \n",
       "4      eur                      NaN            Betting             Domestic   \n",
       "\n",
       "  transaction_timestamp transaction_time(mins)  days_since_last_login  \\\n",
       "0   2020-10-31 07:00:14                  2.233                   97.0   \n",
       "1   2021-08-24 19:43:58                  0.723                   38.0   \n",
       "2   2021-01-08 03:36:31                  1.329                   45.0   \n",
       "3   2021-02-15 17:17:22                  1.924                   78.0   \n",
       "4   2021-08-29 02:00:17                  0.425                   43.0   \n",
       "\n",
       "  single_transaction_max_limit is_fraud  \n",
       "0            7973.168000000001        0  \n",
       "1                     9262.768        0  \n",
       "2           12486.983999999999        0  \n",
       "3           14957.028999999999        1  \n",
       "4                    10458.058        0  \n",
       "\n",
       "[5 rows x 21 columns]"
      ]
     },
     "execution_count": 133,
     "metadata": {},
     "output_type": "execute_result"
    }
   ],
   "source": [
    "train.head()"
   ]
  },
  {
   "cell_type": "code",
   "execution_count": 134,
   "metadata": {},
   "outputs": [
    {
     "data": {
      "text/plain": [
       "array(['usd', 'cad', 'eur', nan], dtype=object)"
      ]
     },
     "execution_count": 134,
     "metadata": {},
     "output_type": "execute_result"
    }
   ],
   "source": [
    "train['currency'].unique()"
   ]
  },
  {
   "cell_type": "code",
   "execution_count": 135,
   "metadata": {},
   "outputs": [
    {
     "data": {
      "text/plain": [
       "array(['cad', 'usd', 'eur', nan], dtype=object)"
      ]
     },
     "execution_count": 135,
     "metadata": {},
     "output_type": "execute_result"
    }
   ],
   "source": [
    "test['currency'].unique()"
   ]
  },
  {
   "cell_type": "code",
   "execution_count": 136,
   "metadata": {},
   "outputs": [
    {
     "data": {
      "text/plain": [
       "array(['Insurance Premium', 'Bill Payment', 'Ecommerce', 'Betting',\n",
       "       'Unknown', 'Grocery Shopping', nan, 'NA#@^666'], dtype=object)"
      ]
     },
     "execution_count": 136,
     "metadata": {},
     "output_type": "execute_result"
    }
   ],
   "source": [
    "train['transaction_type'].unique()"
   ]
  },
  {
   "cell_type": "code",
   "execution_count": 137,
   "metadata": {},
   "outputs": [
    {
     "data": {
      "text/plain": [
       "array(['Ecommerce', 'Grocery Shopping', 'Insurance Premium',\n",
       "       'Bill Payment', 'Betting', 'Unknown', nan, 'NA#@^666'],\n",
       "      dtype=object)"
      ]
     },
     "execution_count": 137,
     "metadata": {},
     "output_type": "execute_result"
    }
   ],
   "source": [
    "test['transaction_type'].unique()"
   ]
  },
  {
   "cell_type": "code",
   "execution_count": 138,
   "metadata": {},
   "outputs": [
    {
     "data": {
      "text/plain": [
       "Index(['transaction_id', 'days_since_account_opening',\n",
       "       'total_transaction_amount', 'processing_charge',\n",
       "       'data_packets_exchange_frequency', 'ip_address', 'user_device',\n",
       "       'domain', 'transaction_city', 'transaction_pin_code',\n",
       "       'transaction_state', 'account_balance_limit', 'currency',\n",
       "       'requested_authentication', 'transaction_type', 'transaction_category',\n",
       "       'transaction_timestamp', 'transaction_time(mins)',\n",
       "       'days_since_last_login', 'single_transaction_max_limit', 'is_fraud'],\n",
       "      dtype='object')"
      ]
     },
     "execution_count": 138,
     "metadata": {},
     "output_type": "execute_result"
    }
   ],
   "source": [
    "train.columns "
   ]
  },
  {
   "cell_type": "code",
   "execution_count": 139,
   "metadata": {},
   "outputs": [
    {
     "data": {
      "text/plain": [
       "transaction_id                         0\n",
       "days_since_account_opening           596\n",
       "total_transaction_amount              35\n",
       "processing_charge                     40\n",
       "data_packets_exchange_frequency       29\n",
       "ip_address                            33\n",
       "user_device                           34\n",
       "domain                                 0\n",
       "transaction_city                      36\n",
       "transaction_pin_code                  30\n",
       "transaction_state                     29\n",
       "account_balance_limit                441\n",
       "currency                              25\n",
       "requested_authentication           13555\n",
       "transaction_type                     683\n",
       "transaction_category                 599\n",
       "transaction_timestamp                 32\n",
       "transaction_time(mins)                89\n",
       "days_since_last_login               1029\n",
       "single_transaction_max_limit         239\n",
       "is_fraud                               0\n",
       "dtype: int64"
      ]
     },
     "execution_count": 139,
     "metadata": {},
     "output_type": "execute_result"
    }
   ],
   "source": [
    "train.isnull().sum()"
   ]
  },
  {
   "cell_type": "code",
   "execution_count": 140,
   "metadata": {},
   "outputs": [],
   "source": [
    "drop_columns = ['transaction_id','ip_address','user_device','domain','transaction_city','transaction_pin_code','transaction_state','requested_authentication','transaction_timestamp']\n",
    "\n",
    "train.drop(columns= drop_columns, inplace=True)\n",
    "test.drop(columns= drop_columns, inplace=True)\n"
   ]
  },
  {
   "cell_type": "code",
   "execution_count": 141,
   "metadata": {},
   "outputs": [
    {
     "data": {
      "text/plain": [
       "Index(['days_since_account_opening', 'total_transaction_amount',\n",
       "       'processing_charge', 'data_packets_exchange_frequency',\n",
       "       'account_balance_limit', 'currency', 'transaction_type',\n",
       "       'transaction_category', 'transaction_time(mins)',\n",
       "       'days_since_last_login', 'single_transaction_max_limit', 'is_fraud'],\n",
       "      dtype='object')"
      ]
     },
     "execution_count": 141,
     "metadata": {},
     "output_type": "execute_result"
    }
   ],
   "source": [
    "train.columns"
   ]
  },
  {
   "cell_type": "code",
   "execution_count": 142,
   "metadata": {},
   "outputs": [
    {
     "name": "stdout",
     "output_type": "stream",
     "text": [
      "days_since_account_opening\n",
      "account_balance_limit\n",
      "currency\n",
      "transaction_type\n",
      "transaction_category\n",
      "days_since_last_login\n",
      "single_transaction_max_limit\n"
     ]
    }
   ],
   "source": [
    "for items in train.columns:\n",
    "    if train[items].dtypes == 'O':\n",
    "        print(items)"
   ]
  },
  {
   "cell_type": "code",
   "execution_count": 143,
   "metadata": {},
   "outputs": [
    {
     "data": {
      "text/html": [
       "<div>\n",
       "<style scoped>\n",
       "    .dataframe tbody tr th:only-of-type {\n",
       "        vertical-align: middle;\n",
       "    }\n",
       "\n",
       "    .dataframe tbody tr th {\n",
       "        vertical-align: top;\n",
       "    }\n",
       "\n",
       "    .dataframe thead th {\n",
       "        text-align: right;\n",
       "    }\n",
       "</style>\n",
       "<table border=\"1\" class=\"dataframe\">\n",
       "  <thead>\n",
       "    <tr style=\"text-align: right;\">\n",
       "      <th></th>\n",
       "      <th>days_since_account_opening</th>\n",
       "      <th>total_transaction_amount</th>\n",
       "      <th>processing_charge</th>\n",
       "      <th>data_packets_exchange_frequency</th>\n",
       "      <th>account_balance_limit</th>\n",
       "      <th>currency</th>\n",
       "      <th>transaction_type</th>\n",
       "      <th>transaction_category</th>\n",
       "      <th>transaction_time(mins)</th>\n",
       "      <th>days_since_last_login</th>\n",
       "      <th>single_transaction_max_limit</th>\n",
       "      <th>is_fraud</th>\n",
       "    </tr>\n",
       "  </thead>\n",
       "  <tbody>\n",
       "    <tr>\n",
       "      <th>0</th>\n",
       "      <td>4981.0</td>\n",
       "      <td>1917.854</td>\n",
       "      <td>47.779</td>\n",
       "      <td>5188.0</td>\n",
       "      <td>59125.681</td>\n",
       "      <td>usd</td>\n",
       "      <td>Insurance Premium</td>\n",
       "      <td>International</td>\n",
       "      <td>2.233</td>\n",
       "      <td>97.0</td>\n",
       "      <td>7973.168000000001</td>\n",
       "      <td>0</td>\n",
       "    </tr>\n",
       "    <tr>\n",
       "      <th>1</th>\n",
       "      <td>5516.0</td>\n",
       "      <td>3881.569</td>\n",
       "      <td>82.824</td>\n",
       "      <td>6704.0</td>\n",
       "      <td>$&amp;%$</td>\n",
       "      <td>cad</td>\n",
       "      <td>Bill Payment</td>\n",
       "      <td>International</td>\n",
       "      <td>0.723</td>\n",
       "      <td>38.0</td>\n",
       "      <td>9262.768</td>\n",
       "      <td>0</td>\n",
       "    </tr>\n",
       "    <tr>\n",
       "      <th>2</th>\n",
       "      <td>4893.0</td>\n",
       "      <td>2995.472</td>\n",
       "      <td>72.710</td>\n",
       "      <td>5217.0</td>\n",
       "      <td>38192.604</td>\n",
       "      <td>cad</td>\n",
       "      <td>Ecommerce</td>\n",
       "      <td>International</td>\n",
       "      <td>1.329</td>\n",
       "      <td>45.0</td>\n",
       "      <td>12486.983999999999</td>\n",
       "      <td>0</td>\n",
       "    </tr>\n",
       "    <tr>\n",
       "      <th>3</th>\n",
       "      <td>2297.0</td>\n",
       "      <td>1819.151</td>\n",
       "      <td>59.894</td>\n",
       "      <td>2698.0</td>\n",
       "      <td>72827.407</td>\n",
       "      <td>cad</td>\n",
       "      <td>Insurance Premium</td>\n",
       "      <td>International</td>\n",
       "      <td>1.924</td>\n",
       "      <td>78.0</td>\n",
       "      <td>14957.028999999999</td>\n",
       "      <td>1</td>\n",
       "    </tr>\n",
       "    <tr>\n",
       "      <th>4</th>\n",
       "      <td>NAT</td>\n",
       "      <td>1311.352</td>\n",
       "      <td>56.689</td>\n",
       "      <td>4531.0</td>\n",
       "      <td>38599.68</td>\n",
       "      <td>eur</td>\n",
       "      <td>Betting</td>\n",
       "      <td>Domestic</td>\n",
       "      <td>0.425</td>\n",
       "      <td>43.0</td>\n",
       "      <td>10458.058</td>\n",
       "      <td>0</td>\n",
       "    </tr>\n",
       "  </tbody>\n",
       "</table>\n",
       "</div>"
      ],
      "text/plain": [
       "  days_since_account_opening  total_transaction_amount  processing_charge  \\\n",
       "0                     4981.0                  1917.854             47.779   \n",
       "1                     5516.0                  3881.569             82.824   \n",
       "2                     4893.0                  2995.472             72.710   \n",
       "3                     2297.0                  1819.151             59.894   \n",
       "4                        NAT                  1311.352             56.689   \n",
       "\n",
       "   data_packets_exchange_frequency account_balance_limit currency  \\\n",
       "0                           5188.0             59125.681      usd   \n",
       "1                           6704.0                  $&%$      cad   \n",
       "2                           5217.0             38192.604      cad   \n",
       "3                           2698.0             72827.407      cad   \n",
       "4                           4531.0              38599.68      eur   \n",
       "\n",
       "    transaction_type transaction_category  transaction_time(mins)  \\\n",
       "0  Insurance Premium        International                   2.233   \n",
       "1       Bill Payment        International                   0.723   \n",
       "2          Ecommerce        International                   1.329   \n",
       "3  Insurance Premium        International                   1.924   \n",
       "4            Betting             Domestic                   0.425   \n",
       "\n",
       "  days_since_last_login single_transaction_max_limit  is_fraud  \n",
       "0                  97.0            7973.168000000001         0  \n",
       "1                  38.0                     9262.768         0  \n",
       "2                  45.0           12486.983999999999         0  \n",
       "3                  78.0           14957.028999999999         1  \n",
       "4                  43.0                    10458.058         0  "
      ]
     },
     "execution_count": 143,
     "metadata": {},
     "output_type": "execute_result"
    }
   ],
   "source": [
    "train.head()"
   ]
  },
  {
   "cell_type": "code",
   "execution_count": 144,
   "metadata": {},
   "outputs": [],
   "source": [
    "train['days_since_account_opening'] = pd.to_numeric(train['days_since_account_opening'], errors='coerce')\n",
    "train['account_balance_limit'] = pd.to_numeric(train['account_balance_limit'], errors='coerce')\n",
    "train['days_since_last_login'] = pd.to_numeric(train['days_since_last_login'], errors='coerce')\n",
    "train['single_transaction_max_limit'] = pd.to_numeric(train['single_transaction_max_limit'], errors='coerce')\n"
   ]
  },
  {
   "cell_type": "code",
   "execution_count": 145,
   "metadata": {},
   "outputs": [
    {
     "data": {
      "text/html": [
       "<div>\n",
       "<style scoped>\n",
       "    .dataframe tbody tr th:only-of-type {\n",
       "        vertical-align: middle;\n",
       "    }\n",
       "\n",
       "    .dataframe tbody tr th {\n",
       "        vertical-align: top;\n",
       "    }\n",
       "\n",
       "    .dataframe thead th {\n",
       "        text-align: right;\n",
       "    }\n",
       "</style>\n",
       "<table border=\"1\" class=\"dataframe\">\n",
       "  <thead>\n",
       "    <tr style=\"text-align: right;\">\n",
       "      <th></th>\n",
       "      <th>days_since_account_opening</th>\n",
       "      <th>total_transaction_amount</th>\n",
       "      <th>processing_charge</th>\n",
       "      <th>data_packets_exchange_frequency</th>\n",
       "      <th>account_balance_limit</th>\n",
       "      <th>currency</th>\n",
       "      <th>transaction_type</th>\n",
       "      <th>transaction_category</th>\n",
       "      <th>transaction_time(mins)</th>\n",
       "      <th>days_since_last_login</th>\n",
       "      <th>single_transaction_max_limit</th>\n",
       "      <th>is_fraud</th>\n",
       "    </tr>\n",
       "  </thead>\n",
       "  <tbody>\n",
       "    <tr>\n",
       "      <th>0</th>\n",
       "      <td>4981.0</td>\n",
       "      <td>1917.854</td>\n",
       "      <td>47.779</td>\n",
       "      <td>5188.0</td>\n",
       "      <td>59125.681</td>\n",
       "      <td>usd</td>\n",
       "      <td>Insurance Premium</td>\n",
       "      <td>International</td>\n",
       "      <td>2.233</td>\n",
       "      <td>97.0</td>\n",
       "      <td>7973.168</td>\n",
       "      <td>0</td>\n",
       "    </tr>\n",
       "    <tr>\n",
       "      <th>1</th>\n",
       "      <td>5516.0</td>\n",
       "      <td>3881.569</td>\n",
       "      <td>82.824</td>\n",
       "      <td>6704.0</td>\n",
       "      <td>NaN</td>\n",
       "      <td>cad</td>\n",
       "      <td>Bill Payment</td>\n",
       "      <td>International</td>\n",
       "      <td>0.723</td>\n",
       "      <td>38.0</td>\n",
       "      <td>9262.768</td>\n",
       "      <td>0</td>\n",
       "    </tr>\n",
       "    <tr>\n",
       "      <th>2</th>\n",
       "      <td>4893.0</td>\n",
       "      <td>2995.472</td>\n",
       "      <td>72.710</td>\n",
       "      <td>5217.0</td>\n",
       "      <td>38192.604</td>\n",
       "      <td>cad</td>\n",
       "      <td>Ecommerce</td>\n",
       "      <td>International</td>\n",
       "      <td>1.329</td>\n",
       "      <td>45.0</td>\n",
       "      <td>12486.984</td>\n",
       "      <td>0</td>\n",
       "    </tr>\n",
       "    <tr>\n",
       "      <th>3</th>\n",
       "      <td>2297.0</td>\n",
       "      <td>1819.151</td>\n",
       "      <td>59.894</td>\n",
       "      <td>2698.0</td>\n",
       "      <td>72827.407</td>\n",
       "      <td>cad</td>\n",
       "      <td>Insurance Premium</td>\n",
       "      <td>International</td>\n",
       "      <td>1.924</td>\n",
       "      <td>78.0</td>\n",
       "      <td>14957.029</td>\n",
       "      <td>1</td>\n",
       "    </tr>\n",
       "    <tr>\n",
       "      <th>4</th>\n",
       "      <td>NaN</td>\n",
       "      <td>1311.352</td>\n",
       "      <td>56.689</td>\n",
       "      <td>4531.0</td>\n",
       "      <td>38599.680</td>\n",
       "      <td>eur</td>\n",
       "      <td>Betting</td>\n",
       "      <td>Domestic</td>\n",
       "      <td>0.425</td>\n",
       "      <td>43.0</td>\n",
       "      <td>10458.058</td>\n",
       "      <td>0</td>\n",
       "    </tr>\n",
       "  </tbody>\n",
       "</table>\n",
       "</div>"
      ],
      "text/plain": [
       "   days_since_account_opening  total_transaction_amount  processing_charge  \\\n",
       "0                      4981.0                  1917.854             47.779   \n",
       "1                      5516.0                  3881.569             82.824   \n",
       "2                      4893.0                  2995.472             72.710   \n",
       "3                      2297.0                  1819.151             59.894   \n",
       "4                         NaN                  1311.352             56.689   \n",
       "\n",
       "   data_packets_exchange_frequency  account_balance_limit currency  \\\n",
       "0                           5188.0              59125.681      usd   \n",
       "1                           6704.0                    NaN      cad   \n",
       "2                           5217.0              38192.604      cad   \n",
       "3                           2698.0              72827.407      cad   \n",
       "4                           4531.0              38599.680      eur   \n",
       "\n",
       "    transaction_type transaction_category  transaction_time(mins)  \\\n",
       "0  Insurance Premium        International                   2.233   \n",
       "1       Bill Payment        International                   0.723   \n",
       "2          Ecommerce        International                   1.329   \n",
       "3  Insurance Premium        International                   1.924   \n",
       "4            Betting             Domestic                   0.425   \n",
       "\n",
       "   days_since_last_login  single_transaction_max_limit  is_fraud  \n",
       "0                   97.0                      7973.168         0  \n",
       "1                   38.0                      9262.768         0  \n",
       "2                   45.0                     12486.984         0  \n",
       "3                   78.0                     14957.029         1  \n",
       "4                   43.0                     10458.058         0  "
      ]
     },
     "execution_count": 145,
     "metadata": {},
     "output_type": "execute_result"
    }
   ],
   "source": [
    "train.head()"
   ]
  },
  {
   "cell_type": "code",
   "execution_count": 146,
   "metadata": {},
   "outputs": [],
   "source": [
    "test['days_since_account_opening'] = pd.to_numeric(test['days_since_account_opening'], errors='coerce')\n",
    "test['account_balance_limit'] = pd.to_numeric(test['account_balance_limit'], errors='coerce')\n",
    "test['days_since_last_login'] = pd.to_numeric(test['days_since_last_login'], errors='coerce')\n",
    "test['single_transaction_max_limit'] = pd.to_numeric(test['single_transaction_max_limit'], errors='coerce')"
   ]
  },
  {
   "cell_type": "code",
   "execution_count": 147,
   "metadata": {},
   "outputs": [
    {
     "data": {
      "text/html": [
       "<div>\n",
       "<style scoped>\n",
       "    .dataframe tbody tr th:only-of-type {\n",
       "        vertical-align: middle;\n",
       "    }\n",
       "\n",
       "    .dataframe tbody tr th {\n",
       "        vertical-align: top;\n",
       "    }\n",
       "\n",
       "    .dataframe thead th {\n",
       "        text-align: right;\n",
       "    }\n",
       "</style>\n",
       "<table border=\"1\" class=\"dataframe\">\n",
       "  <thead>\n",
       "    <tr style=\"text-align: right;\">\n",
       "      <th></th>\n",
       "      <th>days_since_account_opening</th>\n",
       "      <th>total_transaction_amount</th>\n",
       "      <th>processing_charge</th>\n",
       "      <th>data_packets_exchange_frequency</th>\n",
       "      <th>account_balance_limit</th>\n",
       "      <th>currency</th>\n",
       "      <th>transaction_type</th>\n",
       "      <th>transaction_category</th>\n",
       "      <th>transaction_time(mins)</th>\n",
       "      <th>days_since_last_login</th>\n",
       "      <th>single_transaction_max_limit</th>\n",
       "    </tr>\n",
       "  </thead>\n",
       "  <tbody>\n",
       "    <tr>\n",
       "      <th>0</th>\n",
       "      <td>5898.0</td>\n",
       "      <td>3351.186</td>\n",
       "      <td>68.485</td>\n",
       "      <td>5032.0</td>\n",
       "      <td>41981.132</td>\n",
       "      <td>cad</td>\n",
       "      <td>Ecommerce</td>\n",
       "      <td>International</td>\n",
       "      <td>0.470</td>\n",
       "      <td>68.0</td>\n",
       "      <td>2286.460</td>\n",
       "    </tr>\n",
       "    <tr>\n",
       "      <th>1</th>\n",
       "      <td>5603.0</td>\n",
       "      <td>2943.762</td>\n",
       "      <td>50.556</td>\n",
       "      <td>5496.0</td>\n",
       "      <td>37890.234</td>\n",
       "      <td>usd</td>\n",
       "      <td>Grocery Shopping</td>\n",
       "      <td>Domestic</td>\n",
       "      <td>0.204</td>\n",
       "      <td>83.0</td>\n",
       "      <td>16786.775</td>\n",
       "    </tr>\n",
       "    <tr>\n",
       "      <th>2</th>\n",
       "      <td>3997.0</td>\n",
       "      <td>1918.628</td>\n",
       "      <td>59.885</td>\n",
       "      <td>4069.0</td>\n",
       "      <td>38921.761</td>\n",
       "      <td>cad</td>\n",
       "      <td>Insurance Premium</td>\n",
       "      <td>Domestic</td>\n",
       "      <td>2.123</td>\n",
       "      <td>27.0</td>\n",
       "      <td>4867.169</td>\n",
       "    </tr>\n",
       "    <tr>\n",
       "      <th>3</th>\n",
       "      <td>5354.0</td>\n",
       "      <td>2999.034</td>\n",
       "      <td>54.533</td>\n",
       "      <td>6994.0</td>\n",
       "      <td>48328.430</td>\n",
       "      <td>cad</td>\n",
       "      <td>Ecommerce</td>\n",
       "      <td>International</td>\n",
       "      <td>0.820</td>\n",
       "      <td>96.0</td>\n",
       "      <td>6204.374</td>\n",
       "    </tr>\n",
       "    <tr>\n",
       "      <th>4</th>\n",
       "      <td>3422.0</td>\n",
       "      <td>2149.749</td>\n",
       "      <td>52.917</td>\n",
       "      <td>2212.0</td>\n",
       "      <td>NaN</td>\n",
       "      <td>cad</td>\n",
       "      <td>Bill Payment</td>\n",
       "      <td>Domestic</td>\n",
       "      <td>1.839</td>\n",
       "      <td>90.0</td>\n",
       "      <td>NaN</td>\n",
       "    </tr>\n",
       "  </tbody>\n",
       "</table>\n",
       "</div>"
      ],
      "text/plain": [
       "   days_since_account_opening  total_transaction_amount  processing_charge  \\\n",
       "0                      5898.0                  3351.186             68.485   \n",
       "1                      5603.0                  2943.762             50.556   \n",
       "2                      3997.0                  1918.628             59.885   \n",
       "3                      5354.0                  2999.034             54.533   \n",
       "4                      3422.0                  2149.749             52.917   \n",
       "\n",
       "   data_packets_exchange_frequency  account_balance_limit currency  \\\n",
       "0                           5032.0              41981.132      cad   \n",
       "1                           5496.0              37890.234      usd   \n",
       "2                           4069.0              38921.761      cad   \n",
       "3                           6994.0              48328.430      cad   \n",
       "4                           2212.0                    NaN      cad   \n",
       "\n",
       "    transaction_type transaction_category  transaction_time(mins)  \\\n",
       "0          Ecommerce        International                   0.470   \n",
       "1   Grocery Shopping             Domestic                   0.204   \n",
       "2  Insurance Premium             Domestic                   2.123   \n",
       "3          Ecommerce        International                   0.820   \n",
       "4       Bill Payment             Domestic                   1.839   \n",
       "\n",
       "   days_since_last_login  single_transaction_max_limit  \n",
       "0                   68.0                      2286.460  \n",
       "1                   83.0                     16786.775  \n",
       "2                   27.0                      4867.169  \n",
       "3                   96.0                      6204.374  \n",
       "4                   90.0                           NaN  "
      ]
     },
     "execution_count": 147,
     "metadata": {},
     "output_type": "execute_result"
    }
   ],
   "source": [
    "test.head()"
   ]
  },
  {
   "cell_type": "code",
   "execution_count": 148,
   "metadata": {},
   "outputs": [],
   "source": [
    "from sklearn.impute import SimpleImputer\n",
    "\n",
    "imputer = SimpleImputer(strategy='most_frequent')"
   ]
  },
  {
   "cell_type": "code",
   "execution_count": 149,
   "metadata": {},
   "outputs": [],
   "source": [
    "train_null = train.isnull().sum().reset_index()\n",
    "train_null.columns = ['columns','values']\n",
    "\n",
    "train_null_cols_list = train_null[train_null['values'] > 0 ]['columns'].to_list()"
   ]
  },
  {
   "cell_type": "code",
   "execution_count": 150,
   "metadata": {},
   "outputs": [],
   "source": [
    "test_null = test.isnull().sum().reset_index()\n",
    "test_null.columns = ['columns','values']\n",
    "\n",
    "test_null_cols_list = test_null[test_null['values'] > 0 ]['columns'].to_list()"
   ]
  },
  {
   "cell_type": "code",
   "execution_count": 151,
   "metadata": {},
   "outputs": [
    {
     "name": "stdout",
     "output_type": "stream",
     "text": [
      "['days_since_account_opening', 'total_transaction_amount', 'processing_charge', 'data_packets_exchange_frequency', 'account_balance_limit', 'currency', 'transaction_type', 'transaction_category', 'transaction_time(mins)', 'days_since_last_login', 'single_transaction_max_limit']\n",
      "['days_since_account_opening', 'total_transaction_amount', 'processing_charge', 'data_packets_exchange_frequency', 'account_balance_limit', 'currency', 'transaction_type', 'transaction_category', 'transaction_time(mins)', 'days_since_last_login', 'single_transaction_max_limit']\n"
     ]
    }
   ],
   "source": [
    "print(train_null_cols_list)\n",
    "print(test_null_cols_list)"
   ]
  },
  {
   "cell_type": "code",
   "execution_count": 152,
   "metadata": {},
   "outputs": [],
   "source": [
    "def train_null_imputer(list):\n",
    "    for items in list:\n",
    "        train[items] = imputer.fit_transform(train[items].values.reshape(-1,1))\n",
    "\n",
    "\n",
    "def test_null_imputer(list):\n",
    "    for items in list:\n",
    "        test[items] = imputer.fit_transform(test[items].values.reshape(-1,1))\n",
    "\n",
    "\n",
    "train_null_imputer(train_null_cols_list)\n",
    "test_null_imputer(test_null_cols_list)\n",
    "\n"
   ]
  },
  {
   "cell_type": "code",
   "execution_count": 153,
   "metadata": {},
   "outputs": [
    {
     "data": {
      "text/plain": [
       "days_since_account_opening         0\n",
       "total_transaction_amount           0\n",
       "processing_charge                  0\n",
       "data_packets_exchange_frequency    0\n",
       "account_balance_limit              0\n",
       "currency                           0\n",
       "transaction_type                   0\n",
       "transaction_category               0\n",
       "transaction_time(mins)             0\n",
       "days_since_last_login              0\n",
       "single_transaction_max_limit       0\n",
       "dtype: int64"
      ]
     },
     "execution_count": 153,
     "metadata": {},
     "output_type": "execute_result"
    }
   ],
   "source": [
    "test.isnull().sum()"
   ]
  },
  {
   "cell_type": "code",
   "execution_count": 154,
   "metadata": {},
   "outputs": [
    {
     "data": {
      "text/plain": [
       "days_since_account_opening         0\n",
       "total_transaction_amount           0\n",
       "processing_charge                  0\n",
       "data_packets_exchange_frequency    0\n",
       "account_balance_limit              0\n",
       "currency                           0\n",
       "transaction_type                   0\n",
       "transaction_category               0\n",
       "transaction_time(mins)             0\n",
       "days_since_last_login              0\n",
       "single_transaction_max_limit       0\n",
       "is_fraud                           0\n",
       "dtype: int64"
      ]
     },
     "execution_count": 154,
     "metadata": {},
     "output_type": "execute_result"
    }
   ],
   "source": [
    "train.isnull().sum()"
   ]
  },
  {
   "cell_type": "code",
   "execution_count": 155,
   "metadata": {},
   "outputs": [
    {
     "data": {
      "text/html": [
       "<div>\n",
       "<style scoped>\n",
       "    .dataframe tbody tr th:only-of-type {\n",
       "        vertical-align: middle;\n",
       "    }\n",
       "\n",
       "    .dataframe tbody tr th {\n",
       "        vertical-align: top;\n",
       "    }\n",
       "\n",
       "    .dataframe thead th {\n",
       "        text-align: right;\n",
       "    }\n",
       "</style>\n",
       "<table border=\"1\" class=\"dataframe\">\n",
       "  <thead>\n",
       "    <tr style=\"text-align: right;\">\n",
       "      <th></th>\n",
       "      <th>days_since_account_opening</th>\n",
       "      <th>total_transaction_amount</th>\n",
       "      <th>processing_charge</th>\n",
       "      <th>data_packets_exchange_frequency</th>\n",
       "      <th>account_balance_limit</th>\n",
       "      <th>currency</th>\n",
       "      <th>transaction_type</th>\n",
       "      <th>transaction_category</th>\n",
       "      <th>transaction_time(mins)</th>\n",
       "      <th>days_since_last_login</th>\n",
       "      <th>single_transaction_max_limit</th>\n",
       "      <th>is_fraud</th>\n",
       "    </tr>\n",
       "  </thead>\n",
       "  <tbody>\n",
       "    <tr>\n",
       "      <th>0</th>\n",
       "      <td>4981.0</td>\n",
       "      <td>1917.854</td>\n",
       "      <td>47.779</td>\n",
       "      <td>5188.0</td>\n",
       "      <td>59125.681</td>\n",
       "      <td>usd</td>\n",
       "      <td>Insurance Premium</td>\n",
       "      <td>International</td>\n",
       "      <td>2.233</td>\n",
       "      <td>97.0</td>\n",
       "      <td>7973.168</td>\n",
       "      <td>0</td>\n",
       "    </tr>\n",
       "    <tr>\n",
       "      <th>1</th>\n",
       "      <td>5516.0</td>\n",
       "      <td>3881.569</td>\n",
       "      <td>82.824</td>\n",
       "      <td>6704.0</td>\n",
       "      <td>44971.297</td>\n",
       "      <td>cad</td>\n",
       "      <td>Bill Payment</td>\n",
       "      <td>International</td>\n",
       "      <td>0.723</td>\n",
       "      <td>38.0</td>\n",
       "      <td>9262.768</td>\n",
       "      <td>0</td>\n",
       "    </tr>\n",
       "    <tr>\n",
       "      <th>2</th>\n",
       "      <td>4893.0</td>\n",
       "      <td>2995.472</td>\n",
       "      <td>72.710</td>\n",
       "      <td>5217.0</td>\n",
       "      <td>38192.604</td>\n",
       "      <td>cad</td>\n",
       "      <td>Ecommerce</td>\n",
       "      <td>International</td>\n",
       "      <td>1.329</td>\n",
       "      <td>45.0</td>\n",
       "      <td>12486.984</td>\n",
       "      <td>0</td>\n",
       "    </tr>\n",
       "    <tr>\n",
       "      <th>3</th>\n",
       "      <td>2297.0</td>\n",
       "      <td>1819.151</td>\n",
       "      <td>59.894</td>\n",
       "      <td>2698.0</td>\n",
       "      <td>72827.407</td>\n",
       "      <td>cad</td>\n",
       "      <td>Insurance Premium</td>\n",
       "      <td>International</td>\n",
       "      <td>1.924</td>\n",
       "      <td>78.0</td>\n",
       "      <td>14957.029</td>\n",
       "      <td>1</td>\n",
       "    </tr>\n",
       "    <tr>\n",
       "      <th>4</th>\n",
       "      <td>4872.0</td>\n",
       "      <td>1311.352</td>\n",
       "      <td>56.689</td>\n",
       "      <td>4531.0</td>\n",
       "      <td>38599.680</td>\n",
       "      <td>eur</td>\n",
       "      <td>Betting</td>\n",
       "      <td>Domestic</td>\n",
       "      <td>0.425</td>\n",
       "      <td>43.0</td>\n",
       "      <td>10458.058</td>\n",
       "      <td>0</td>\n",
       "    </tr>\n",
       "    <tr>\n",
       "      <th>...</th>\n",
       "      <td>...</td>\n",
       "      <td>...</td>\n",
       "      <td>...</td>\n",
       "      <td>...</td>\n",
       "      <td>...</td>\n",
       "      <td>...</td>\n",
       "      <td>...</td>\n",
       "      <td>...</td>\n",
       "      <td>...</td>\n",
       "      <td>...</td>\n",
       "      <td>...</td>\n",
       "      <td>...</td>\n",
       "    </tr>\n",
       "    <tr>\n",
       "      <th>40700</th>\n",
       "      <td>6479.0</td>\n",
       "      <td>2719.818</td>\n",
       "      <td>61.253</td>\n",
       "      <td>5955.0</td>\n",
       "      <td>44248.645</td>\n",
       "      <td>usd</td>\n",
       "      <td>Unknown</td>\n",
       "      <td>International</td>\n",
       "      <td>1.188</td>\n",
       "      <td>63.0</td>\n",
       "      <td>5017.403</td>\n",
       "      <td>0</td>\n",
       "    </tr>\n",
       "    <tr>\n",
       "      <th>40701</th>\n",
       "      <td>5918.0</td>\n",
       "      <td>3012.406</td>\n",
       "      <td>48.183</td>\n",
       "      <td>4684.0</td>\n",
       "      <td>34983.123</td>\n",
       "      <td>cad</td>\n",
       "      <td>Betting</td>\n",
       "      <td>Domestic</td>\n",
       "      <td>2.151</td>\n",
       "      <td>76.0</td>\n",
       "      <td>15153.151</td>\n",
       "      <td>1</td>\n",
       "    </tr>\n",
       "    <tr>\n",
       "      <th>40702</th>\n",
       "      <td>3826.0</td>\n",
       "      <td>2175.409</td>\n",
       "      <td>56.514</td>\n",
       "      <td>4212.0</td>\n",
       "      <td>48280.731</td>\n",
       "      <td>cad</td>\n",
       "      <td>Betting</td>\n",
       "      <td>International</td>\n",
       "      <td>1.574</td>\n",
       "      <td>88.0</td>\n",
       "      <td>11680.735</td>\n",
       "      <td>0</td>\n",
       "    </tr>\n",
       "    <tr>\n",
       "      <th>40703</th>\n",
       "      <td>4180.0</td>\n",
       "      <td>3824.678</td>\n",
       "      <td>43.879</td>\n",
       "      <td>6193.0</td>\n",
       "      <td>50379.080</td>\n",
       "      <td>cad</td>\n",
       "      <td>Ecommerce</td>\n",
       "      <td>International</td>\n",
       "      <td>1.455</td>\n",
       "      <td>23.0</td>\n",
       "      <td>2960.325</td>\n",
       "      <td>0</td>\n",
       "    </tr>\n",
       "    <tr>\n",
       "      <th>40704</th>\n",
       "      <td>2224.0</td>\n",
       "      <td>2932.797</td>\n",
       "      <td>51.817</td>\n",
       "      <td>4465.0</td>\n",
       "      <td>48739.675</td>\n",
       "      <td>cad</td>\n",
       "      <td>Betting</td>\n",
       "      <td>International</td>\n",
       "      <td>1.891</td>\n",
       "      <td>70.0</td>\n",
       "      <td>15895.250</td>\n",
       "      <td>0</td>\n",
       "    </tr>\n",
       "  </tbody>\n",
       "</table>\n",
       "<p>40705 rows × 12 columns</p>\n",
       "</div>"
      ],
      "text/plain": [
       "       days_since_account_opening  total_transaction_amount  \\\n",
       "0                          4981.0                  1917.854   \n",
       "1                          5516.0                  3881.569   \n",
       "2                          4893.0                  2995.472   \n",
       "3                          2297.0                  1819.151   \n",
       "4                          4872.0                  1311.352   \n",
       "...                           ...                       ...   \n",
       "40700                      6479.0                  2719.818   \n",
       "40701                      5918.0                  3012.406   \n",
       "40702                      3826.0                  2175.409   \n",
       "40703                      4180.0                  3824.678   \n",
       "40704                      2224.0                  2932.797   \n",
       "\n",
       "       processing_charge  data_packets_exchange_frequency  \\\n",
       "0                 47.779                           5188.0   \n",
       "1                 82.824                           6704.0   \n",
       "2                 72.710                           5217.0   \n",
       "3                 59.894                           2698.0   \n",
       "4                 56.689                           4531.0   \n",
       "...                  ...                              ...   \n",
       "40700             61.253                           5955.0   \n",
       "40701             48.183                           4684.0   \n",
       "40702             56.514                           4212.0   \n",
       "40703             43.879                           6193.0   \n",
       "40704             51.817                           4465.0   \n",
       "\n",
       "       account_balance_limit currency   transaction_type transaction_category  \\\n",
       "0                  59125.681      usd  Insurance Premium        International   \n",
       "1                  44971.297      cad       Bill Payment        International   \n",
       "2                  38192.604      cad          Ecommerce        International   \n",
       "3                  72827.407      cad  Insurance Premium        International   \n",
       "4                  38599.680      eur            Betting             Domestic   \n",
       "...                      ...      ...                ...                  ...   \n",
       "40700              44248.645      usd            Unknown        International   \n",
       "40701              34983.123      cad            Betting             Domestic   \n",
       "40702              48280.731      cad            Betting        International   \n",
       "40703              50379.080      cad          Ecommerce        International   \n",
       "40704              48739.675      cad            Betting        International   \n",
       "\n",
       "       transaction_time(mins)  days_since_last_login  \\\n",
       "0                       2.233                   97.0   \n",
       "1                       0.723                   38.0   \n",
       "2                       1.329                   45.0   \n",
       "3                       1.924                   78.0   \n",
       "4                       0.425                   43.0   \n",
       "...                       ...                    ...   \n",
       "40700                   1.188                   63.0   \n",
       "40701                   2.151                   76.0   \n",
       "40702                   1.574                   88.0   \n",
       "40703                   1.455                   23.0   \n",
       "40704                   1.891                   70.0   \n",
       "\n",
       "       single_transaction_max_limit  is_fraud  \n",
       "0                          7973.168         0  \n",
       "1                          9262.768         0  \n",
       "2                         12486.984         0  \n",
       "3                         14957.029         1  \n",
       "4                         10458.058         0  \n",
       "...                             ...       ...  \n",
       "40700                      5017.403         0  \n",
       "40701                     15153.151         1  \n",
       "40702                     11680.735         0  \n",
       "40703                      2960.325         0  \n",
       "40704                     15895.250         0  \n",
       "\n",
       "[40705 rows x 12 columns]"
      ]
     },
     "execution_count": 155,
     "metadata": {},
     "output_type": "execute_result"
    }
   ],
   "source": [
    "train"
   ]
  },
  {
   "cell_type": "code",
   "execution_count": 156,
   "metadata": {},
   "outputs": [
    {
     "name": "stdout",
     "output_type": "stream",
     "text": [
      "currency\n",
      "transaction_type\n",
      "transaction_category\n"
     ]
    }
   ],
   "source": [
    "for items in train.columns:\n",
    "    if train[items].dtypes == 'O':\n",
    "        print(items)"
   ]
  },
  {
   "cell_type": "code",
   "execution_count": 157,
   "metadata": {},
   "outputs": [
    {
     "data": {
      "text/plain": [
       "array(['usd', 'cad', 'eur'], dtype=object)"
      ]
     },
     "execution_count": 157,
     "metadata": {},
     "output_type": "execute_result"
    }
   ],
   "source": [
    "train['currency'].unique()"
   ]
  },
  {
   "cell_type": "code",
   "execution_count": 158,
   "metadata": {},
   "outputs": [
    {
     "data": {
      "text/plain": [
       "array(['cad', 'usd', 'eur'], dtype=object)"
      ]
     },
     "execution_count": 158,
     "metadata": {},
     "output_type": "execute_result"
    }
   ],
   "source": [
    "test['currency'].unique()"
   ]
  },
  {
   "cell_type": "code",
   "execution_count": 159,
   "metadata": {},
   "outputs": [],
   "source": [
    "from sklearn.preprocessing import LabelEncoder"
   ]
  },
  {
   "cell_type": "code",
   "execution_count": 162,
   "metadata": {},
   "outputs": [],
   "source": [
    "encoder = LabelEncoder()"
   ]
  },
  {
   "cell_type": "code",
   "execution_count": 163,
   "metadata": {},
   "outputs": [],
   "source": [
    "encoder.fit(train['currency'])\n",
    "train['currency'] = encoder.transform(train['currency'])\n",
    "test['currency'] = encoder.transform(test['currency'])"
   ]
  },
  {
   "cell_type": "code",
   "execution_count": 167,
   "metadata": {},
   "outputs": [],
   "source": [
    "encoder.fit(train['transaction_type'])\n",
    "train['transaction_type'] = encoder.transform(train['transaction_type'])\n",
    "test['transaction_type'] = encoder.transform(test['transaction_type'])"
   ]
  },
  {
   "cell_type": "code",
   "execution_count": 168,
   "metadata": {},
   "outputs": [],
   "source": [
    "encoder.fit(train['transaction_category'])\n",
    "train['transaction_category'] = encoder.transform(train['transaction_category'])\n",
    "test['transaction_category'] = encoder.transform(test['transaction_category'])"
   ]
  },
  {
   "attachments": {},
   "cell_type": "markdown",
   "metadata": {},
   "source": [
    "## Model Development"
   ]
  },
  {
   "cell_type": "code",
   "execution_count": 172,
   "metadata": {},
   "outputs": [],
   "source": [
    "X_train = train.drop(columns='is_fraud')\n",
    "y_train = train['is_fraud']\n",
    "\n",
    "X_test = test"
   ]
  },
  {
   "cell_type": "code",
   "execution_count": 176,
   "metadata": {},
   "outputs": [],
   "source": [
    "from sklearn.preprocessing import StandardScaler\n",
    "\n",
    "\n",
    "scaler = StandardScaler()\n",
    "\n",
    "X_train_scaled = scaler.fit_transform(X_train)\n",
    "X_test = scaler.transform(X_test)"
   ]
  },
  {
   "cell_type": "code",
   "execution_count": 173,
   "metadata": {},
   "outputs": [],
   "source": [
    "from sklearn.ensemble import RandomForestClassifier"
   ]
  },
  {
   "cell_type": "code",
   "execution_count": 187,
   "metadata": {},
   "outputs": [],
   "source": [
    "rfc = RF = RandomForestClassifier(n_estimators=100,\n",
    "    criterion='entropy',\n",
    "    max_depth=10,\n",
    "    min_samples_split=2,\n",
    "    min_samples_leaf=1,\n",
    "    min_weight_fraction_leaf=0.0,\n",
    "    max_features='sqrt',\n",
    "    max_leaf_nodes=None,\n",
    "    min_impurity_decrease=0.0,\n",
    "    bootstrap=True,\n",
    "    oob_score=False,\n",
    "    n_jobs=None,\n",
    "    random_state=None,\n",
    "    verbose=0,\n",
    "    warm_start=False,\n",
    "    class_weight=\"balanced\",\n",
    "    ccp_alpha=0.0085,\n",
    "    max_samples=None,)"
   ]
  },
  {
   "cell_type": "code",
   "execution_count": 188,
   "metadata": {},
   "outputs": [
    {
     "data": {
      "text/html": [
       "<style>#sk-container-id-3 {color: black;background-color: white;}#sk-container-id-3 pre{padding: 0;}#sk-container-id-3 div.sk-toggleable {background-color: white;}#sk-container-id-3 label.sk-toggleable__label {cursor: pointer;display: block;width: 100%;margin-bottom: 0;padding: 0.3em;box-sizing: border-box;text-align: center;}#sk-container-id-3 label.sk-toggleable__label-arrow:before {content: \"▸\";float: left;margin-right: 0.25em;color: #696969;}#sk-container-id-3 label.sk-toggleable__label-arrow:hover:before {color: black;}#sk-container-id-3 div.sk-estimator:hover label.sk-toggleable__label-arrow:before {color: black;}#sk-container-id-3 div.sk-toggleable__content {max-height: 0;max-width: 0;overflow: hidden;text-align: left;background-color: #f0f8ff;}#sk-container-id-3 div.sk-toggleable__content pre {margin: 0.2em;color: black;border-radius: 0.25em;background-color: #f0f8ff;}#sk-container-id-3 input.sk-toggleable__control:checked~div.sk-toggleable__content {max-height: 200px;max-width: 100%;overflow: auto;}#sk-container-id-3 input.sk-toggleable__control:checked~label.sk-toggleable__label-arrow:before {content: \"▾\";}#sk-container-id-3 div.sk-estimator input.sk-toggleable__control:checked~label.sk-toggleable__label {background-color: #d4ebff;}#sk-container-id-3 div.sk-label input.sk-toggleable__control:checked~label.sk-toggleable__label {background-color: #d4ebff;}#sk-container-id-3 input.sk-hidden--visually {border: 0;clip: rect(1px 1px 1px 1px);clip: rect(1px, 1px, 1px, 1px);height: 1px;margin: -1px;overflow: hidden;padding: 0;position: absolute;width: 1px;}#sk-container-id-3 div.sk-estimator {font-family: monospace;background-color: #f0f8ff;border: 1px dotted black;border-radius: 0.25em;box-sizing: border-box;margin-bottom: 0.5em;}#sk-container-id-3 div.sk-estimator:hover {background-color: #d4ebff;}#sk-container-id-3 div.sk-parallel-item::after {content: \"\";width: 100%;border-bottom: 1px solid gray;flex-grow: 1;}#sk-container-id-3 div.sk-label:hover label.sk-toggleable__label {background-color: #d4ebff;}#sk-container-id-3 div.sk-serial::before {content: \"\";position: absolute;border-left: 1px solid gray;box-sizing: border-box;top: 0;bottom: 0;left: 50%;z-index: 0;}#sk-container-id-3 div.sk-serial {display: flex;flex-direction: column;align-items: center;background-color: white;padding-right: 0.2em;padding-left: 0.2em;position: relative;}#sk-container-id-3 div.sk-item {position: relative;z-index: 1;}#sk-container-id-3 div.sk-parallel {display: flex;align-items: stretch;justify-content: center;background-color: white;position: relative;}#sk-container-id-3 div.sk-item::before, #sk-container-id-3 div.sk-parallel-item::before {content: \"\";position: absolute;border-left: 1px solid gray;box-sizing: border-box;top: 0;bottom: 0;left: 50%;z-index: -1;}#sk-container-id-3 div.sk-parallel-item {display: flex;flex-direction: column;z-index: 1;position: relative;background-color: white;}#sk-container-id-3 div.sk-parallel-item:first-child::after {align-self: flex-end;width: 50%;}#sk-container-id-3 div.sk-parallel-item:last-child::after {align-self: flex-start;width: 50%;}#sk-container-id-3 div.sk-parallel-item:only-child::after {width: 0;}#sk-container-id-3 div.sk-dashed-wrapped {border: 1px dashed gray;margin: 0 0.4em 0.5em 0.4em;box-sizing: border-box;padding-bottom: 0.4em;background-color: white;}#sk-container-id-3 div.sk-label label {font-family: monospace;font-weight: bold;display: inline-block;line-height: 1.2em;}#sk-container-id-3 div.sk-label-container {text-align: center;}#sk-container-id-3 div.sk-container {/* jupyter's `normalize.less` sets `[hidden] { display: none; }` but bootstrap.min.css set `[hidden] { display: none !important; }` so we also need the `!important` here to be able to override the default hidden behavior on the sphinx rendered scikit-learn.org. See: https://github.com/scikit-learn/scikit-learn/issues/21755 */display: inline-block !important;position: relative;}#sk-container-id-3 div.sk-text-repr-fallback {display: none;}</style><div id=\"sk-container-id-3\" class=\"sk-top-container\"><div class=\"sk-text-repr-fallback\"><pre>RandomForestClassifier(ccp_alpha=0.0085, class_weight=&#x27;balanced&#x27;,\n",
       "                       criterion=&#x27;entropy&#x27;, max_depth=10)</pre><b>In a Jupyter environment, please rerun this cell to show the HTML representation or trust the notebook. <br />On GitHub, the HTML representation is unable to render, please try loading this page with nbviewer.org.</b></div><div class=\"sk-container\" hidden><div class=\"sk-item\"><div class=\"sk-estimator sk-toggleable\"><input class=\"sk-toggleable__control sk-hidden--visually\" id=\"sk-estimator-id-3\" type=\"checkbox\" checked><label for=\"sk-estimator-id-3\" class=\"sk-toggleable__label sk-toggleable__label-arrow\">RandomForestClassifier</label><div class=\"sk-toggleable__content\"><pre>RandomForestClassifier(ccp_alpha=0.0085, class_weight=&#x27;balanced&#x27;,\n",
       "                       criterion=&#x27;entropy&#x27;, max_depth=10)</pre></div></div></div></div></div>"
      ],
      "text/plain": [
       "RandomForestClassifier(ccp_alpha=0.0085, class_weight='balanced',\n",
       "                       criterion='entropy', max_depth=10)"
      ]
     },
     "execution_count": 188,
     "metadata": {},
     "output_type": "execute_result"
    }
   ],
   "source": [
    "rfc.fit(X_train_scaled,y_train)"
   ]
  },
  {
   "cell_type": "code",
   "execution_count": 189,
   "metadata": {},
   "outputs": [
    {
     "data": {
      "text/plain": [
       "0.8767227613315317"
      ]
     },
     "execution_count": 189,
     "metadata": {},
     "output_type": "execute_result"
    }
   ],
   "source": [
    "rfc.score(X_train_scaled,y_train)"
   ]
  },
  {
   "cell_type": "code",
   "execution_count": 190,
   "metadata": {},
   "outputs": [
    {
     "data": {
      "text/plain": [
       "array([1.58072899e-01, 8.74467968e-02, 7.19797153e-01, 2.51590940e-02,\n",
       "       3.20067508e-04, 8.25441954e-03, 8.46925859e-05, 1.15307471e-04,\n",
       "       2.23321470e-04, 1.18956392e-04, 4.07292512e-04])"
      ]
     },
     "execution_count": 190,
     "metadata": {},
     "output_type": "execute_result"
    }
   ],
   "source": [
    "rfc.feature_importances_"
   ]
  },
  {
   "cell_type": "code",
   "execution_count": 191,
   "metadata": {},
   "outputs": [
    {
     "data": {
      "text/plain": [
       "<Axes: >"
      ]
     },
     "execution_count": 191,
     "metadata": {},
     "output_type": "execute_result"
    },
    {
     "data": {
      "image/png": "[encoded data removed]",
      "text/plain": [
       "<Figure size 640x480 with 1 Axes>"
      ]
     },
     "metadata": {},
     "output_type": "display_data"
    }
   ],
   "source": [
    "pd.DataFrame(data = rfc.feature_importances_, index = X_train.columns).plot(kind = 'bar')"
   ]
  },
  {
   "cell_type": "code",
   "execution_count": 192,
   "metadata": {},
   "outputs": [],
   "source": [
    "from sklearn.metrics import precision_recall_curve, precision_score, recall_score, confusion_matrix, f1_score"
   ]
  },
  {
   "cell_type": "code",
   "execution_count": 194,
   "metadata": {},
   "outputs": [
    {
     "data": {
      "text/plain": [
       "0.6718974761344317"
      ]
     },
     "execution_count": 194,
     "metadata": {},
     "output_type": "execute_result"
    }
   ],
   "source": [
    "f1_score(y_train,rfc.predict(X_train_scaled))"
   ]
  },
  {
   "cell_type": "code",
   "execution_count": 196,
   "metadata": {},
   "outputs": [
    {
     "data": {
      "text/plain": [
       "0.594263243118205"
      ]
     },
     "execution_count": 196,
     "metadata": {},
     "output_type": "execute_result"
    }
   ],
   "source": [
    "precision_score(y_train,RF.predict(X_train_scaled))"
   ]
  },
  {
   "cell_type": "code",
   "execution_count": 197,
   "metadata": {},
   "outputs": [
    {
     "data": {
      "text/plain": [
       "0.7728640192539109"
      ]
     },
     "execution_count": 197,
     "metadata": {},
     "output_type": "execute_result"
    }
   ],
   "source": [
    "recall_score(y_train, rfc.predict(X_train_scaled))"
   ]
  },
  {
   "cell_type": "code",
   "execution_count": null,
   "metadata": {},
   "outputs": [],
   "source": []
  }
 ],
 "metadata": {
  "kernelspec": {
   "display_name": "adv_ds",
   "language": "python",
   "name": "python3"
  },
  "language_info": {
   "codemirror_mode": {
    "name": "ipython",
    "version": 3
   },
   "file_extension": ".py",
   "mimetype": "text/x-python",
   "name": "python",
   "nbconvert_exporter": "python",
   "pygments_lexer": "ipython3",
   "version": "3.10.9"
  },
  "orig_nbformat": 4
 },
 "nbformat": 4,
 "nbformat_minor": 2
}
