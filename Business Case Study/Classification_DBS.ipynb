{
 "cells": [
  {
   "cell_type": "code",
   "execution_count": 328,
   "metadata": {},
   "outputs": [],
   "source": [
    "import pandas as pd\n",
    "import numpy as np\n",
    "import matplotlib.pyplot as plt\n",
    "import seaborn as sns\n",
    "\n",
    "import warnings\n",
    "warnings.filterwarnings('ignore')\n",
    "\n",
    "\n",
    "from category_encoders import TargetEncoder\n",
    "\n",
    "from sklearn.model_selection import train_test_split\n",
    "from sklearn.preprocessing import StandardScaler,MinMaxScaler\n",
    "from sklearn.ensemble import RandomForestClassifier\n",
    "from sklearn.metrics import accuracy_score, classification_report,confusion_matrix,f1_score\n"
   ]
  },
  {
   "cell_type": "code",
   "execution_count": 329,
   "metadata": {},
   "outputs": [],
   "source": [
    "train = pd.read_csv('../data/dbs/train.csv')\n",
    "test = pd.read_csv('../data/dbs/test.csv')"
   ]
  },
  {
   "cell_type": "code",
   "execution_count": 330,
   "metadata": {},
   "outputs": [
    {
     "data": {
      "text/html": [
       "<div>\n",
       "<style scoped>\n",
       "    .dataframe tbody tr th:only-of-type {\n",
       "        vertical-align: middle;\n",
       "    }\n",
       "\n",
       "    .dataframe tbody tr th {\n",
       "        vertical-align: top;\n",
       "    }\n",
       "\n",
       "    .dataframe thead th {\n",
       "        text-align: right;\n",
       "    }\n",
       "</style>\n",
       "<table border=\"1\" class=\"dataframe\">\n",
       "  <thead>\n",
       "    <tr style=\"text-align: right;\">\n",
       "      <th></th>\n",
       "      <th>pet_sale_id</th>\n",
       "      <th>issue_date</th>\n",
       "      <th>listing_date</th>\n",
       "      <th>condition</th>\n",
       "      <th>color_type</th>\n",
       "      <th>length(m)</th>\n",
       "      <th>height(cm)</th>\n",
       "      <th>X1</th>\n",
       "      <th>X2</th>\n",
       "      <th>breed_category</th>\n",
       "      <th>pet_category</th>\n",
       "    </tr>\n",
       "  </thead>\n",
       "  <tbody>\n",
       "    <tr>\n",
       "      <th>0</th>\n",
       "      <td>ANSL_36614</td>\n",
       "      <td>2011-01-12 00:00:00</td>\n",
       "      <td>2018-02-18 15:56:00</td>\n",
       "      <td>0.0</td>\n",
       "      <td>Torbie</td>\n",
       "      <td>0.11</td>\n",
       "      <td>9.51</td>\n",
       "      <td>13</td>\n",
       "      <td>9</td>\n",
       "      <td>1</td>\n",
       "      <td>1</td>\n",
       "    </tr>\n",
       "    <tr>\n",
       "      <th>1</th>\n",
       "      <td>ANSL_22109</td>\n",
       "      <td>2015-07-24 00:00:00</td>\n",
       "      <td>2015-10-14 12:06:00</td>\n",
       "      <td>2.0</td>\n",
       "      <td>Brown Tabby</td>\n",
       "      <td>0.42</td>\n",
       "      <td>48.74</td>\n",
       "      <td>0</td>\n",
       "      <td>2</td>\n",
       "      <td>0</td>\n",
       "      <td>1</td>\n",
       "    </tr>\n",
       "    <tr>\n",
       "      <th>2</th>\n",
       "      <td>ANSL_27582</td>\n",
       "      <td>2016-12-02 00:00:00</td>\n",
       "      <td>2017-02-11 14:24:00</td>\n",
       "      <td>2.0</td>\n",
       "      <td>Black</td>\n",
       "      <td>0.90</td>\n",
       "      <td>34.45</td>\n",
       "      <td>13</td>\n",
       "      <td>9</td>\n",
       "      <td>1</td>\n",
       "      <td>1</td>\n",
       "    </tr>\n",
       "    <tr>\n",
       "      <th>3</th>\n",
       "      <td>ANSL_637</td>\n",
       "      <td>2015-07-05 00:00:00</td>\n",
       "      <td>2015-10-13 17:40:00</td>\n",
       "      <td>1.0</td>\n",
       "      <td>Flame Point</td>\n",
       "      <td>0.94</td>\n",
       "      <td>48.91</td>\n",
       "      <td>7</td>\n",
       "      <td>1</td>\n",
       "      <td>0</td>\n",
       "      <td>1</td>\n",
       "    </tr>\n",
       "    <tr>\n",
       "      <th>4</th>\n",
       "      <td>ANSL_27541</td>\n",
       "      <td>2016-01-16 00:00:00</td>\n",
       "      <td>2017-08-31 18:06:00</td>\n",
       "      <td>1.0</td>\n",
       "      <td>Yellow Brindle</td>\n",
       "      <td>0.78</td>\n",
       "      <td>17.07</td>\n",
       "      <td>0</td>\n",
       "      <td>7</td>\n",
       "      <td>0</td>\n",
       "      <td>2</td>\n",
       "    </tr>\n",
       "  </tbody>\n",
       "</table>\n",
       "</div>"
      ],
      "text/plain": [
       "  pet_sale_id           issue_date         listing_date  condition  \\\n",
       "0  ANSL_36614  2011-01-12 00:00:00  2018-02-18 15:56:00        0.0   \n",
       "1  ANSL_22109  2015-07-24 00:00:00  2015-10-14 12:06:00        2.0   \n",
       "2  ANSL_27582  2016-12-02 00:00:00  2017-02-11 14:24:00        2.0   \n",
       "3    ANSL_637  2015-07-05 00:00:00  2015-10-13 17:40:00        1.0   \n",
       "4  ANSL_27541  2016-01-16 00:00:00  2017-08-31 18:06:00        1.0   \n",
       "\n",
       "       color_type  length(m)  height(cm)  X1  X2  breed_category  pet_category  \n",
       "0          Torbie       0.11        9.51  13   9               1             1  \n",
       "1     Brown Tabby       0.42       48.74   0   2               0             1  \n",
       "2           Black       0.90       34.45  13   9               1             1  \n",
       "3     Flame Point       0.94       48.91   7   1               0             1  \n",
       "4  Yellow Brindle       0.78       17.07   0   7               0             2  "
      ]
     },
     "execution_count": 330,
     "metadata": {},
     "output_type": "execute_result"
    }
   ],
   "source": [
    "train.head()"
   ]
  },
  {
   "cell_type": "markdown",
   "metadata": {},
   "source": [
    "## Basic Exploration"
   ]
  },
  {
   "cell_type": "code",
   "execution_count": 331,
   "metadata": {},
   "outputs": [
    {
     "name": "stdout",
     "output_type": "stream",
     "text": [
      "The number of records in train: (13991, 11)\n",
      "The number of records in test: (5997, 9)\n"
     ]
    }
   ],
   "source": [
    "print(f\"The number of records in train: {train.shape}\")\n",
    "print(f\"The number of records in test: {test.shape}\")"
   ]
  },
  {
   "cell_type": "code",
   "execution_count": 332,
   "metadata": {},
   "outputs": [
    {
     "name": "stdout",
     "output_type": "stream",
     "text": [
      "<class 'pandas.core.frame.DataFrame'>\n",
      "RangeIndex: 13991 entries, 0 to 13990\n",
      "Data columns (total 11 columns):\n",
      " #   Column          Non-Null Count  Dtype  \n",
      "---  ------          --------------  -----  \n",
      " 0   pet_sale_id     13991 non-null  object \n",
      " 1   issue_date      13991 non-null  object \n",
      " 2   listing_date    13991 non-null  object \n",
      " 3   condition       12935 non-null  float64\n",
      " 4   color_type      13991 non-null  object \n",
      " 5   length(m)       13991 non-null  float64\n",
      " 6   height(cm)      13991 non-null  float64\n",
      " 7   X1              13991 non-null  int64  \n",
      " 8   X2              13991 non-null  int64  \n",
      " 9   breed_category  13991 non-null  int64  \n",
      " 10  pet_category    13991 non-null  int64  \n",
      "dtypes: float64(3), int64(4), object(4)\n",
      "memory usage: 1.2+ MB\n"
     ]
    }
   ],
   "source": [
    "train.info()"
   ]
  },
  {
   "cell_type": "markdown",
   "metadata": {},
   "source": [
    "### Missing value"
   ]
  },
  {
   "cell_type": "code",
   "execution_count": 333,
   "metadata": {},
   "outputs": [
    {
     "data": {
      "text/plain": [
       "pet_sale_id          0\n",
       "issue_date           0\n",
       "listing_date         0\n",
       "condition         1056\n",
       "color_type           0\n",
       "length(m)            0\n",
       "height(cm)           0\n",
       "X1                   0\n",
       "X2                   0\n",
       "breed_category       0\n",
       "pet_category         0\n",
       "dtype: int64"
      ]
     },
     "execution_count": 333,
     "metadata": {},
     "output_type": "execute_result"
    }
   ],
   "source": [
    "train.isnull().sum()"
   ]
  },
  {
   "cell_type": "markdown",
   "metadata": {},
   "source": [
    "There are some missing value in the 'condition' column. Need to impute with some value "
   ]
  },
  {
   "cell_type": "markdown",
   "metadata": {},
   "source": [
    "### Lets explore each column one by one"
   ]
  },
  {
   "cell_type": "code",
   "execution_count": 334,
   "metadata": {},
   "outputs": [
    {
     "data": {
      "text/plain": [
       "Index(['pet_sale_id', 'issue_date', 'listing_date', 'condition', 'color_type',\n",
       "       'length(m)', 'height(cm)', 'X1', 'X2', 'breed_category',\n",
       "       'pet_category'],\n",
       "      dtype='object')"
      ]
     },
     "execution_count": 334,
     "metadata": {},
     "output_type": "execute_result"
    }
   ],
   "source": [
    "train.columns"
   ]
  },
  {
   "cell_type": "code",
   "execution_count": 335,
   "metadata": {},
   "outputs": [
    {
     "data": {
      "text/html": [
       "<div>\n",
       "<style scoped>\n",
       "    .dataframe tbody tr th:only-of-type {\n",
       "        vertical-align: middle;\n",
       "    }\n",
       "\n",
       "    .dataframe tbody tr th {\n",
       "        vertical-align: top;\n",
       "    }\n",
       "\n",
       "    .dataframe thead th {\n",
       "        text-align: right;\n",
       "    }\n",
       "</style>\n",
       "<table border=\"1\" class=\"dataframe\">\n",
       "  <thead>\n",
       "    <tr style=\"text-align: right;\">\n",
       "      <th></th>\n",
       "      <th>pet_sale_id</th>\n",
       "      <th>issue_date</th>\n",
       "      <th>listing_date</th>\n",
       "      <th>condition</th>\n",
       "      <th>color_type</th>\n",
       "      <th>length(m)</th>\n",
       "      <th>height(cm)</th>\n",
       "      <th>X1</th>\n",
       "      <th>X2</th>\n",
       "      <th>breed_category</th>\n",
       "      <th>pet_category</th>\n",
       "    </tr>\n",
       "  </thead>\n",
       "  <tbody>\n",
       "    <tr>\n",
       "      <th>0</th>\n",
       "      <td>ANSL_36614</td>\n",
       "      <td>2011-01-12 00:00:00</td>\n",
       "      <td>2018-02-18 15:56:00</td>\n",
       "      <td>0.0</td>\n",
       "      <td>Torbie</td>\n",
       "      <td>0.11</td>\n",
       "      <td>9.51</td>\n",
       "      <td>13</td>\n",
       "      <td>9</td>\n",
       "      <td>1</td>\n",
       "      <td>1</td>\n",
       "    </tr>\n",
       "    <tr>\n",
       "      <th>1</th>\n",
       "      <td>ANSL_22109</td>\n",
       "      <td>2015-07-24 00:00:00</td>\n",
       "      <td>2015-10-14 12:06:00</td>\n",
       "      <td>2.0</td>\n",
       "      <td>Brown Tabby</td>\n",
       "      <td>0.42</td>\n",
       "      <td>48.74</td>\n",
       "      <td>0</td>\n",
       "      <td>2</td>\n",
       "      <td>0</td>\n",
       "      <td>1</td>\n",
       "    </tr>\n",
       "    <tr>\n",
       "      <th>2</th>\n",
       "      <td>ANSL_27582</td>\n",
       "      <td>2016-12-02 00:00:00</td>\n",
       "      <td>2017-02-11 14:24:00</td>\n",
       "      <td>2.0</td>\n",
       "      <td>Black</td>\n",
       "      <td>0.90</td>\n",
       "      <td>34.45</td>\n",
       "      <td>13</td>\n",
       "      <td>9</td>\n",
       "      <td>1</td>\n",
       "      <td>1</td>\n",
       "    </tr>\n",
       "    <tr>\n",
       "      <th>3</th>\n",
       "      <td>ANSL_637</td>\n",
       "      <td>2015-07-05 00:00:00</td>\n",
       "      <td>2015-10-13 17:40:00</td>\n",
       "      <td>1.0</td>\n",
       "      <td>Flame Point</td>\n",
       "      <td>0.94</td>\n",
       "      <td>48.91</td>\n",
       "      <td>7</td>\n",
       "      <td>1</td>\n",
       "      <td>0</td>\n",
       "      <td>1</td>\n",
       "    </tr>\n",
       "    <tr>\n",
       "      <th>4</th>\n",
       "      <td>ANSL_27541</td>\n",
       "      <td>2016-01-16 00:00:00</td>\n",
       "      <td>2017-08-31 18:06:00</td>\n",
       "      <td>1.0</td>\n",
       "      <td>Yellow Brindle</td>\n",
       "      <td>0.78</td>\n",
       "      <td>17.07</td>\n",
       "      <td>0</td>\n",
       "      <td>7</td>\n",
       "      <td>0</td>\n",
       "      <td>2</td>\n",
       "    </tr>\n",
       "  </tbody>\n",
       "</table>\n",
       "</div>"
      ],
      "text/plain": [
       "  pet_sale_id           issue_date         listing_date  condition  \\\n",
       "0  ANSL_36614  2011-01-12 00:00:00  2018-02-18 15:56:00        0.0   \n",
       "1  ANSL_22109  2015-07-24 00:00:00  2015-10-14 12:06:00        2.0   \n",
       "2  ANSL_27582  2016-12-02 00:00:00  2017-02-11 14:24:00        2.0   \n",
       "3    ANSL_637  2015-07-05 00:00:00  2015-10-13 17:40:00        1.0   \n",
       "4  ANSL_27541  2016-01-16 00:00:00  2017-08-31 18:06:00        1.0   \n",
       "\n",
       "       color_type  length(m)  height(cm)  X1  X2  breed_category  pet_category  \n",
       "0          Torbie       0.11        9.51  13   9               1             1  \n",
       "1     Brown Tabby       0.42       48.74   0   2               0             1  \n",
       "2           Black       0.90       34.45  13   9               1             1  \n",
       "3     Flame Point       0.94       48.91   7   1               0             1  \n",
       "4  Yellow Brindle       0.78       17.07   0   7               0             2  "
      ]
     },
     "execution_count": 335,
     "metadata": {},
     "output_type": "execute_result"
    }
   ],
   "source": [
    "train.head()"
   ]
  },
  {
   "cell_type": "markdown",
   "metadata": {},
   "source": [
    "1. PET SALE ID"
   ]
  },
  {
   "cell_type": "code",
   "execution_count": 336,
   "metadata": {},
   "outputs": [
    {
     "data": {
      "text/plain": [
       "13991"
      ]
     },
     "execution_count": 336,
     "metadata": {},
     "output_type": "execute_result"
    }
   ],
   "source": [
    "train['pet_sale_id'].nunique()"
   ]
  },
  {
   "cell_type": "code",
   "execution_count": 337,
   "metadata": {},
   "outputs": [
    {
     "data": {
      "text/html": [
       "<div>\n",
       "<style scoped>\n",
       "    .dataframe tbody tr th:only-of-type {\n",
       "        vertical-align: middle;\n",
       "    }\n",
       "\n",
       "    .dataframe tbody tr th {\n",
       "        vertical-align: top;\n",
       "    }\n",
       "\n",
       "    .dataframe thead th {\n",
       "        text-align: right;\n",
       "    }\n",
       "</style>\n",
       "<table border=\"1\" class=\"dataframe\">\n",
       "  <thead>\n",
       "    <tr style=\"text-align: right;\">\n",
       "      <th></th>\n",
       "      <th>pet_sale_id</th>\n",
       "      <th>issue_date</th>\n",
       "      <th>listing_date</th>\n",
       "      <th>condition</th>\n",
       "      <th>color_type</th>\n",
       "      <th>length(m)</th>\n",
       "      <th>height(cm)</th>\n",
       "      <th>X1</th>\n",
       "      <th>X2</th>\n",
       "      <th>breed_category</th>\n",
       "      <th>pet_category</th>\n",
       "    </tr>\n",
       "  </thead>\n",
       "  <tbody>\n",
       "    <tr>\n",
       "      <th>4</th>\n",
       "      <td>ANSL_27541</td>\n",
       "      <td>2016-01-16 00:00:00</td>\n",
       "      <td>2017-08-31 18:06:00</td>\n",
       "      <td>1.0</td>\n",
       "      <td>Yellow Brindle</td>\n",
       "      <td>0.78</td>\n",
       "      <td>17.07</td>\n",
       "      <td>0</td>\n",
       "      <td>7</td>\n",
       "      <td>0</td>\n",
       "      <td>2</td>\n",
       "    </tr>\n",
       "  </tbody>\n",
       "</table>\n",
       "</div>"
      ],
      "text/plain": [
       "  pet_sale_id           issue_date         listing_date  condition  \\\n",
       "4  ANSL_27541  2016-01-16 00:00:00  2017-08-31 18:06:00        1.0   \n",
       "\n",
       "       color_type  length(m)  height(cm)  X1  X2  breed_category  pet_category  \n",
       "4  Yellow Brindle       0.78       17.07   0   7               0             2  "
      ]
     },
     "execution_count": 337,
     "metadata": {},
     "output_type": "execute_result"
    }
   ],
   "source": [
    "train[train['pet_sale_id'] == 'ANSL_27541']"
   ]
  },
  {
   "cell_type": "code",
   "execution_count": 338,
   "metadata": {},
   "outputs": [],
   "source": [
    "# Lets keep this column for now as this is going to be our input column for our final prediction. \n",
    "# Note: There is a little confusion here on how just the sale id going to predict"
   ]
  },
  {
   "cell_type": "markdown",
   "metadata": {},
   "source": [
    "2. Condition"
   ]
  },
  {
   "cell_type": "code",
   "execution_count": 339,
   "metadata": {},
   "outputs": [
    {
     "data": {
      "text/plain": [
       "array([ 0.,  2.,  1., nan])"
      ]
     },
     "execution_count": 339,
     "metadata": {},
     "output_type": "execute_result"
    }
   ],
   "source": [
    "train['condition'].unique()"
   ]
  },
  {
   "cell_type": "code",
   "execution_count": 340,
   "metadata": {},
   "outputs": [
    {
     "data": {
      "text/plain": [
       "1.0    4997\n",
       "0.0    4611\n",
       "2.0    3327\n",
       "Name: condition, dtype: int64"
      ]
     },
     "execution_count": 340,
     "metadata": {},
     "output_type": "execute_result"
    }
   ],
   "source": [
    "train['condition'].value_counts()"
   ]
  },
  {
   "cell_type": "code",
   "execution_count": 341,
   "metadata": {},
   "outputs": [
    {
     "data": {
      "text/plain": [
       "0    1.0\n",
       "Name: condition, dtype: float64"
      ]
     },
     "execution_count": 341,
     "metadata": {},
     "output_type": "execute_result"
    }
   ],
   "source": [
    "train['condition'].mode()"
   ]
  },
  {
   "cell_type": "markdown",
   "metadata": {},
   "source": [
    "Lets impute the null values with mode values of this columns"
   ]
  },
  {
   "cell_type": "code",
   "execution_count": 342,
   "metadata": {},
   "outputs": [
    {
     "name": "stdout",
     "output_type": "stream",
     "text": [
      "1.0\n"
     ]
    }
   ],
   "source": [
    "value = train['condition'].mode()[0]\n",
    "\n",
    "print(value)\n",
    "\n",
    "train['condition'].fillna(value, inplace=True)"
   ]
  },
  {
   "cell_type": "code",
   "execution_count": 343,
   "metadata": {},
   "outputs": [
    {
     "data": {
      "text/plain": [
       "1.0    6053\n",
       "0.0    4611\n",
       "2.0    3327\n",
       "Name: condition, dtype: int64"
      ]
     },
     "execution_count": 343,
     "metadata": {},
     "output_type": "execute_result"
    }
   ],
   "source": [
    "train['condition'].value_counts()"
   ]
  },
  {
   "cell_type": "code",
   "execution_count": 344,
   "metadata": {},
   "outputs": [
    {
     "data": {
      "text/plain": [
       "pet_sale_id       0\n",
       "issue_date        0\n",
       "listing_date      0\n",
       "condition         0\n",
       "color_type        0\n",
       "length(m)         0\n",
       "height(cm)        0\n",
       "X1                0\n",
       "X2                0\n",
       "breed_category    0\n",
       "pet_category      0\n",
       "dtype: int64"
      ]
     },
     "execution_count": 344,
     "metadata": {},
     "output_type": "execute_result"
    }
   ],
   "source": [
    "train.isnull().sum()"
   ]
  },
  {
   "cell_type": "markdown",
   "metadata": {},
   "source": [
    "3. Color Type"
   ]
  },
  {
   "cell_type": "code",
   "execution_count": 345,
   "metadata": {},
   "outputs": [
    {
     "data": {
      "text/plain": [
       "Black              3364\n",
       "White              1703\n",
       "Brown              1427\n",
       "Brown Tabby        1180\n",
       "Tan                 930\n",
       "Blue                624\n",
       "Orange Tabby        585\n",
       "Red                 417\n",
       "Brown Brindle       398\n",
       "Tricolor            390\n",
       "Blue Tabby          328\n",
       "Tortie              281\n",
       "Calico              260\n",
       "Chocolate           231\n",
       "Gray                225\n",
       "Torbie              178\n",
       "Sable               143\n",
       "Yellow              134\n",
       "Cream Tabby         131\n",
       "Cream               116\n",
       "Buff                 98\n",
       "Fawn                 94\n",
       "Lynx Point           89\n",
       "Seal Point           74\n",
       "Blue Merle           66\n",
       "Black Brindle        50\n",
       "Gold                 42\n",
       "Black Tabby          39\n",
       "Flame Point          37\n",
       "Blue Tick            32\n",
       "Gray Tabby           31\n",
       "Black Smoke          28\n",
       "Silver               26\n",
       "Red Merle            25\n",
       "Red Tick             25\n",
       "Brown Merle          24\n",
       "Orange               19\n",
       "Yellow Brindle       17\n",
       "Lilac Point          16\n",
       "Apricot              16\n",
       "Silver Tabby         14\n",
       "Tortie Point         13\n",
       "Calico Point         11\n",
       "Blue Tiger            9\n",
       "Chocolate Point       9\n",
       "Blue Point            9\n",
       "Blue Cream            8\n",
       "Liver                 7\n",
       "Green                 6\n",
       "Agouti                4\n",
       "Pink                  3\n",
       "Brown Tiger           2\n",
       "Blue Smoke            1\n",
       "Orange Tiger          1\n",
       "Liver Tick            1\n",
       "Name: color_type, dtype: int64"
      ]
     },
     "execution_count": 345,
     "metadata": {},
     "output_type": "execute_result"
    }
   ],
   "source": [
    "train['color_type'].value_counts()"
   ]
  },
  {
   "cell_type": "code",
   "execution_count": 346,
   "metadata": {},
   "outputs": [
    {
     "data": {
      "text/plain": [
       "(13991, 11)"
      ]
     },
     "execution_count": 346,
     "metadata": {},
     "output_type": "execute_result"
    }
   ],
   "source": [
    "train.shape"
   ]
  },
  {
   "cell_type": "code",
   "execution_count": 347,
   "metadata": {},
   "outputs": [
    {
     "data": {
      "text/plain": [
       "55"
      ]
     },
     "execution_count": 347,
     "metadata": {},
     "output_type": "execute_result"
    }
   ],
   "source": [
    "train['color_type'].nunique()"
   ]
  },
  {
   "cell_type": "code",
   "execution_count": 348,
   "metadata": {},
   "outputs": [
    {
     "data": {
      "text/plain": [
       "254.38181818181818"
      ]
     },
     "execution_count": 348,
     "metadata": {},
     "output_type": "execute_result"
    }
   ],
   "source": [
    "13991/55"
   ]
  },
  {
   "cell_type": "code",
   "execution_count": 349,
   "metadata": {},
   "outputs": [],
   "source": [
    "df_color_type = train['color_type'].value_counts().reset_index()\n",
    "df_color_type.columns = ['color_type','value']\n",
    "\n",
    "\n",
    "colors = df_color_type[df_color_type['value'] < 255]['color_type']"
   ]
  },
  {
   "cell_type": "markdown",
   "metadata": {},
   "source": [
    "4. length"
   ]
  },
  {
   "cell_type": "code",
   "execution_count": 350,
   "metadata": {},
   "outputs": [
    {
     "data": {
      "text/plain": [
       "count    13991.000000\n",
       "mean         0.499457\n",
       "std          0.289461\n",
       "min          0.000000\n",
       "25%          0.250000\n",
       "50%          0.500000\n",
       "75%          0.750000\n",
       "max          1.000000\n",
       "Name: length(m), dtype: float64"
      ]
     },
     "execution_count": 350,
     "metadata": {},
     "output_type": "execute_result"
    }
   ],
   "source": [
    "train['length(m)'].describe()"
   ]
  },
  {
   "cell_type": "markdown",
   "metadata": {},
   "source": [
    "5. height(cm)"
   ]
  },
  {
   "cell_type": "code",
   "execution_count": 351,
   "metadata": {},
   "outputs": [
    {
     "data": {
      "text/plain": [
       "count    13991.000000\n",
       "mean        27.291664\n",
       "std         13.048867\n",
       "min          5.000000\n",
       "25%         16.025000\n",
       "50%         27.140000\n",
       "75%         38.535000\n",
       "max         50.000000\n",
       "Name: height(cm), dtype: float64"
      ]
     },
     "execution_count": 351,
     "metadata": {},
     "output_type": "execute_result"
    }
   ],
   "source": [
    "train['height(cm)'].describe()"
   ]
  },
  {
   "cell_type": "markdown",
   "metadata": {},
   "source": [
    "6. X1"
   ]
  },
  {
   "cell_type": "code",
   "execution_count": 352,
   "metadata": {},
   "outputs": [
    {
     "data": {
      "text/plain": [
       "[0, 1, 2, 3, 4, 5, 6, 7, 8, 9, 10, 11, 12, 13, 15, 16, 17, 18, 19]"
      ]
     },
     "execution_count": 352,
     "metadata": {},
     "output_type": "execute_result"
    }
   ],
   "source": [
    "sorted(train['X1'].unique())"
   ]
  },
  {
   "cell_type": "code",
   "execution_count": 353,
   "metadata": {},
   "outputs": [
    {
     "data": {
      "text/plain": [
       "count    13991.000000\n",
       "mean         5.803016\n",
       "std          6.690626\n",
       "min          0.000000\n",
       "25%          0.000000\n",
       "50%          0.000000\n",
       "75%         13.000000\n",
       "max         19.000000\n",
       "Name: X1, dtype: float64"
      ]
     },
     "execution_count": 353,
     "metadata": {},
     "output_type": "execute_result"
    }
   ],
   "source": [
    "train['X1'].describe()"
   ]
  },
  {
   "cell_type": "markdown",
   "metadata": {},
   "source": [
    "7. X2"
   ]
  },
  {
   "cell_type": "code",
   "execution_count": 354,
   "metadata": {},
   "outputs": [
    {
     "data": {
      "text/plain": [
       "[0, 1, 2, 3, 4, 5, 6, 7, 8, 9]"
      ]
     },
     "execution_count": 354,
     "metadata": {},
     "output_type": "execute_result"
    }
   ],
   "source": [
    "sorted(train['X2'].unique())"
   ]
  },
  {
   "cell_type": "code",
   "execution_count": 355,
   "metadata": {},
   "outputs": [
    {
     "data": {
      "text/plain": [
       "count    13991.000000\n",
       "mean         4.770281\n",
       "std          3.515977\n",
       "min          0.000000\n",
       "25%          1.000000\n",
       "50%          4.000000\n",
       "75%          9.000000\n",
       "max          9.000000\n",
       "Name: X2, dtype: float64"
      ]
     },
     "execution_count": 355,
     "metadata": {},
     "output_type": "execute_result"
    }
   ],
   "source": [
    "train['X2'].describe()"
   ]
  },
  {
   "cell_type": "markdown",
   "metadata": {},
   "source": [
    "## Target columns "
   ]
  },
  {
   "cell_type": "code",
   "execution_count": 356,
   "metadata": {},
   "outputs": [
    {
     "data": {
      "text/plain": [
       "array([1, 0, 2])"
      ]
     },
     "execution_count": 356,
     "metadata": {},
     "output_type": "execute_result"
    }
   ],
   "source": [
    "train['breed_category'].unique()"
   ]
  },
  {
   "cell_type": "code",
   "execution_count": 357,
   "metadata": {},
   "outputs": [
    {
     "data": {
      "text/plain": [
       "array([1, 2, 4, 0, 3])"
      ]
     },
     "execution_count": 357,
     "metadata": {},
     "output_type": "execute_result"
    }
   ],
   "source": [
    "train['pet_category'].unique()"
   ]
  },
  {
   "cell_type": "markdown",
   "metadata": {},
   "source": [
    "## Data Transformation for Model"
   ]
  },
  {
   "cell_type": "code",
   "execution_count": 358,
   "metadata": {},
   "outputs": [
    {
     "data": {
      "text/html": [
       "<div>\n",
       "<style scoped>\n",
       "    .dataframe tbody tr th:only-of-type {\n",
       "        vertical-align: middle;\n",
       "    }\n",
       "\n",
       "    .dataframe tbody tr th {\n",
       "        vertical-align: top;\n",
       "    }\n",
       "\n",
       "    .dataframe thead th {\n",
       "        text-align: right;\n",
       "    }\n",
       "</style>\n",
       "<table border=\"1\" class=\"dataframe\">\n",
       "  <thead>\n",
       "    <tr style=\"text-align: right;\">\n",
       "      <th></th>\n",
       "      <th>pet_sale_id</th>\n",
       "      <th>issue_date</th>\n",
       "      <th>listing_date</th>\n",
       "      <th>condition</th>\n",
       "      <th>color_type</th>\n",
       "      <th>length(m)</th>\n",
       "      <th>height(cm)</th>\n",
       "      <th>X1</th>\n",
       "      <th>X2</th>\n",
       "      <th>breed_category</th>\n",
       "      <th>pet_category</th>\n",
       "    </tr>\n",
       "  </thead>\n",
       "  <tbody>\n",
       "    <tr>\n",
       "      <th>0</th>\n",
       "      <td>ANSL_36614</td>\n",
       "      <td>2011-01-12 00:00:00</td>\n",
       "      <td>2018-02-18 15:56:00</td>\n",
       "      <td>0.0</td>\n",
       "      <td>Torbie</td>\n",
       "      <td>0.11</td>\n",
       "      <td>9.51</td>\n",
       "      <td>13</td>\n",
       "      <td>9</td>\n",
       "      <td>1</td>\n",
       "      <td>1</td>\n",
       "    </tr>\n",
       "    <tr>\n",
       "      <th>1</th>\n",
       "      <td>ANSL_22109</td>\n",
       "      <td>2015-07-24 00:00:00</td>\n",
       "      <td>2015-10-14 12:06:00</td>\n",
       "      <td>2.0</td>\n",
       "      <td>Brown Tabby</td>\n",
       "      <td>0.42</td>\n",
       "      <td>48.74</td>\n",
       "      <td>0</td>\n",
       "      <td>2</td>\n",
       "      <td>0</td>\n",
       "      <td>1</td>\n",
       "    </tr>\n",
       "    <tr>\n",
       "      <th>2</th>\n",
       "      <td>ANSL_27582</td>\n",
       "      <td>2016-12-02 00:00:00</td>\n",
       "      <td>2017-02-11 14:24:00</td>\n",
       "      <td>2.0</td>\n",
       "      <td>Black</td>\n",
       "      <td>0.90</td>\n",
       "      <td>34.45</td>\n",
       "      <td>13</td>\n",
       "      <td>9</td>\n",
       "      <td>1</td>\n",
       "      <td>1</td>\n",
       "    </tr>\n",
       "    <tr>\n",
       "      <th>3</th>\n",
       "      <td>ANSL_637</td>\n",
       "      <td>2015-07-05 00:00:00</td>\n",
       "      <td>2015-10-13 17:40:00</td>\n",
       "      <td>1.0</td>\n",
       "      <td>Flame Point</td>\n",
       "      <td>0.94</td>\n",
       "      <td>48.91</td>\n",
       "      <td>7</td>\n",
       "      <td>1</td>\n",
       "      <td>0</td>\n",
       "      <td>1</td>\n",
       "    </tr>\n",
       "    <tr>\n",
       "      <th>4</th>\n",
       "      <td>ANSL_27541</td>\n",
       "      <td>2016-01-16 00:00:00</td>\n",
       "      <td>2017-08-31 18:06:00</td>\n",
       "      <td>1.0</td>\n",
       "      <td>Yellow Brindle</td>\n",
       "      <td>0.78</td>\n",
       "      <td>17.07</td>\n",
       "      <td>0</td>\n",
       "      <td>7</td>\n",
       "      <td>0</td>\n",
       "      <td>2</td>\n",
       "    </tr>\n",
       "  </tbody>\n",
       "</table>\n",
       "</div>"
      ],
      "text/plain": [
       "  pet_sale_id           issue_date         listing_date  condition  \\\n",
       "0  ANSL_36614  2011-01-12 00:00:00  2018-02-18 15:56:00        0.0   \n",
       "1  ANSL_22109  2015-07-24 00:00:00  2015-10-14 12:06:00        2.0   \n",
       "2  ANSL_27582  2016-12-02 00:00:00  2017-02-11 14:24:00        2.0   \n",
       "3    ANSL_637  2015-07-05 00:00:00  2015-10-13 17:40:00        1.0   \n",
       "4  ANSL_27541  2016-01-16 00:00:00  2017-08-31 18:06:00        1.0   \n",
       "\n",
       "       color_type  length(m)  height(cm)  X1  X2  breed_category  pet_category  \n",
       "0          Torbie       0.11        9.51  13   9               1             1  \n",
       "1     Brown Tabby       0.42       48.74   0   2               0             1  \n",
       "2           Black       0.90       34.45  13   9               1             1  \n",
       "3     Flame Point       0.94       48.91   7   1               0             1  \n",
       "4  Yellow Brindle       0.78       17.07   0   7               0             2  "
      ]
     },
     "execution_count": 358,
     "metadata": {},
     "output_type": "execute_result"
    }
   ],
   "source": [
    "train.head()"
   ]
  },
  {
   "cell_type": "code",
   "execution_count": 359,
   "metadata": {},
   "outputs": [
    {
     "data": {
      "text/plain": [
       "Index(['pet_sale_id', 'issue_date', 'listing_date', 'condition', 'color_type',\n",
       "       'length(m)', 'height(cm)', 'X1', 'X2', 'breed_category',\n",
       "       'pet_category'],\n",
       "      dtype='object')"
      ]
     },
     "execution_count": 359,
     "metadata": {},
     "output_type": "execute_result"
    }
   ],
   "source": [
    "train.columns"
   ]
  },
  {
   "cell_type": "code",
   "execution_count": 360,
   "metadata": {},
   "outputs": [],
   "source": [
    "train_breed_category = train[['pet_sale_id', 'issue_date', 'listing_date', 'condition', 'color_type',\n",
    "       'length(m)', 'height(cm)', 'X1', 'X2', 'breed_category']]\n",
    "\n",
    "train_pet_category = train[['pet_sale_id', 'issue_date', 'listing_date', 'condition', 'color_type',\n",
    "       'length(m)', 'height(cm)', 'X1', 'X2', 'pet_category']]\n",
    "\n",
    "test_breed_category = test.copy()\n",
    "test_pet_category = test.copy()"
   ]
  },
  {
   "cell_type": "code",
   "execution_count": 361,
   "metadata": {},
   "outputs": [
    {
     "data": {
      "text/plain": [
       "Index(['pet_sale_id', 'issue_date', 'listing_date', 'condition', 'color_type',\n",
       "       'length(m)', 'height(cm)', 'X1', 'X2'],\n",
       "      dtype='object')"
      ]
     },
     "execution_count": 361,
     "metadata": {},
     "output_type": "execute_result"
    }
   ],
   "source": [
    "test.columns"
   ]
  },
  {
   "cell_type": "code",
   "execution_count": 362,
   "metadata": {},
   "outputs": [
    {
     "data": {
      "text/html": [
       "<div>\n",
       "<style scoped>\n",
       "    .dataframe tbody tr th:only-of-type {\n",
       "        vertical-align: middle;\n",
       "    }\n",
       "\n",
       "    .dataframe tbody tr th {\n",
       "        vertical-align: top;\n",
       "    }\n",
       "\n",
       "    .dataframe thead th {\n",
       "        text-align: right;\n",
       "    }\n",
       "</style>\n",
       "<table border=\"1\" class=\"dataframe\">\n",
       "  <thead>\n",
       "    <tr style=\"text-align: right;\">\n",
       "      <th></th>\n",
       "      <th>pet_sale_id</th>\n",
       "      <th>issue_date</th>\n",
       "      <th>listing_date</th>\n",
       "      <th>condition</th>\n",
       "      <th>color_type</th>\n",
       "      <th>length(m)</th>\n",
       "      <th>height(cm)</th>\n",
       "      <th>X1</th>\n",
       "      <th>X2</th>\n",
       "    </tr>\n",
       "  </thead>\n",
       "  <tbody>\n",
       "    <tr>\n",
       "      <th>0</th>\n",
       "      <td>ANSL_1354</td>\n",
       "      <td>2015-06-19 00:00:00</td>\n",
       "      <td>2015-07-24 13:20:00</td>\n",
       "      <td>2.0</td>\n",
       "      <td>Black</td>\n",
       "      <td>0.27</td>\n",
       "      <td>22.75</td>\n",
       "      <td>13</td>\n",
       "      <td>9</td>\n",
       "    </tr>\n",
       "    <tr>\n",
       "      <th>1</th>\n",
       "      <td>ANSL_22102</td>\n",
       "      <td>2015-08-28 00:00:00</td>\n",
       "      <td>2015-12-05 14:13:00</td>\n",
       "      <td>1.0</td>\n",
       "      <td>Black</td>\n",
       "      <td>0.57</td>\n",
       "      <td>21.17</td>\n",
       "      <td>0</td>\n",
       "      <td>1</td>\n",
       "    </tr>\n",
       "    <tr>\n",
       "      <th>2</th>\n",
       "      <td>ANSL_12994</td>\n",
       "      <td>2015-06-21 00:00:00</td>\n",
       "      <td>2015-10-30 18:08:00</td>\n",
       "      <td>1.0</td>\n",
       "      <td>Orange Tabby</td>\n",
       "      <td>0.00</td>\n",
       "      <td>34.34</td>\n",
       "      <td>0</td>\n",
       "      <td>1</td>\n",
       "    </tr>\n",
       "    <tr>\n",
       "      <th>3</th>\n",
       "      <td>ANSL_35930</td>\n",
       "      <td>2010-04-14 00:00:00</td>\n",
       "      <td>2018-05-10 14:55:00</td>\n",
       "      <td>0.0</td>\n",
       "      <td>Tan</td>\n",
       "      <td>0.46</td>\n",
       "      <td>44.66</td>\n",
       "      <td>13</td>\n",
       "      <td>9</td>\n",
       "    </tr>\n",
       "    <tr>\n",
       "      <th>4</th>\n",
       "      <td>ANSL_41868</td>\n",
       "      <td>2016-08-16 00:00:00</td>\n",
       "      <td>2016-09-16 19:06:00</td>\n",
       "      <td>NaN</td>\n",
       "      <td>Black</td>\n",
       "      <td>0.89</td>\n",
       "      <td>14.72</td>\n",
       "      <td>13</td>\n",
       "      <td>9</td>\n",
       "    </tr>\n",
       "    <tr>\n",
       "      <th>...</th>\n",
       "      <td>...</td>\n",
       "      <td>...</td>\n",
       "      <td>...</td>\n",
       "      <td>...</td>\n",
       "      <td>...</td>\n",
       "      <td>...</td>\n",
       "      <td>...</td>\n",
       "      <td>...</td>\n",
       "      <td>...</td>\n",
       "    </tr>\n",
       "    <tr>\n",
       "      <th>5992</th>\n",
       "      <td>ANSL_9471</td>\n",
       "      <td>2015-10-06 00:00:00</td>\n",
       "      <td>2015-11-04 16:50:00</td>\n",
       "      <td>2.0</td>\n",
       "      <td>Orange Tabby</td>\n",
       "      <td>0.60</td>\n",
       "      <td>32.68</td>\n",
       "      <td>13</td>\n",
       "      <td>9</td>\n",
       "    </tr>\n",
       "    <tr>\n",
       "      <th>5993</th>\n",
       "      <td>ANSL_49040</td>\n",
       "      <td>2017-04-13 00:00:00</td>\n",
       "      <td>2017-07-08 19:00:00</td>\n",
       "      <td>1.0</td>\n",
       "      <td>Chocolate</td>\n",
       "      <td>0.40</td>\n",
       "      <td>48.06</td>\n",
       "      <td>0</td>\n",
       "      <td>1</td>\n",
       "    </tr>\n",
       "    <tr>\n",
       "      <th>5994</th>\n",
       "      <td>ANSL_16530</td>\n",
       "      <td>2015-11-21 00:00:00</td>\n",
       "      <td>2016-03-12 12:37:00</td>\n",
       "      <td>1.0</td>\n",
       "      <td>Black</td>\n",
       "      <td>0.53</td>\n",
       "      <td>10.97</td>\n",
       "      <td>7</td>\n",
       "      <td>1</td>\n",
       "    </tr>\n",
       "    <tr>\n",
       "      <th>5995</th>\n",
       "      <td>ANSL_42416</td>\n",
       "      <td>2016-09-07 00:00:00</td>\n",
       "      <td>2017-12-04 12:22:00</td>\n",
       "      <td>1.0</td>\n",
       "      <td>Red</td>\n",
       "      <td>0.13</td>\n",
       "      <td>19.53</td>\n",
       "      <td>0</td>\n",
       "      <td>1</td>\n",
       "    </tr>\n",
       "    <tr>\n",
       "      <th>5996</th>\n",
       "      <td>ANSL_14847</td>\n",
       "      <td>2007-09-10 00:00:00</td>\n",
       "      <td>2015-10-01 16:37:00</td>\n",
       "      <td>2.0</td>\n",
       "      <td>Black</td>\n",
       "      <td>0.96</td>\n",
       "      <td>38.94</td>\n",
       "      <td>18</td>\n",
       "      <td>4</td>\n",
       "    </tr>\n",
       "  </tbody>\n",
       "</table>\n",
       "<p>5997 rows × 9 columns</p>\n",
       "</div>"
      ],
      "text/plain": [
       "     pet_sale_id           issue_date         listing_date  condition  \\\n",
       "0      ANSL_1354  2015-06-19 00:00:00  2015-07-24 13:20:00        2.0   \n",
       "1     ANSL_22102  2015-08-28 00:00:00  2015-12-05 14:13:00        1.0   \n",
       "2     ANSL_12994  2015-06-21 00:00:00  2015-10-30 18:08:00        1.0   \n",
       "3     ANSL_35930  2010-04-14 00:00:00  2018-05-10 14:55:00        0.0   \n",
       "4     ANSL_41868  2016-08-16 00:00:00  2016-09-16 19:06:00        NaN   \n",
       "...          ...                  ...                  ...        ...   \n",
       "5992   ANSL_9471  2015-10-06 00:00:00  2015-11-04 16:50:00        2.0   \n",
       "5993  ANSL_49040  2017-04-13 00:00:00  2017-07-08 19:00:00        1.0   \n",
       "5994  ANSL_16530  2015-11-21 00:00:00  2016-03-12 12:37:00        1.0   \n",
       "5995  ANSL_42416  2016-09-07 00:00:00  2017-12-04 12:22:00        1.0   \n",
       "5996  ANSL_14847  2007-09-10 00:00:00  2015-10-01 16:37:00        2.0   \n",
       "\n",
       "        color_type  length(m)  height(cm)  X1  X2  \n",
       "0            Black       0.27       22.75  13   9  \n",
       "1            Black       0.57       21.17   0   1  \n",
       "2     Orange Tabby       0.00       34.34   0   1  \n",
       "3              Tan       0.46       44.66  13   9  \n",
       "4            Black       0.89       14.72  13   9  \n",
       "...            ...        ...         ...  ..  ..  \n",
       "5992  Orange Tabby       0.60       32.68  13   9  \n",
       "5993     Chocolate       0.40       48.06   0   1  \n",
       "5994         Black       0.53       10.97   7   1  \n",
       "5995           Red       0.13       19.53   0   1  \n",
       "5996         Black       0.96       38.94  18   4  \n",
       "\n",
       "[5997 rows x 9 columns]"
      ]
     },
     "execution_count": 362,
     "metadata": {},
     "output_type": "execute_result"
    }
   ],
   "source": [
    "test_breed_category"
   ]
  },
  {
   "cell_type": "code",
   "execution_count": 363,
   "metadata": {},
   "outputs": [],
   "source": [
    "def data_transformation():\n",
    "\n",
    "    # Dropping the issue date and listing date from the data\n",
    "    train_breed_category.drop(columns = ['issue_date','listing_date'], inplace=True)\n",
    "    train_pet_category.drop(columns = ['issue_date','listing_date'], inplace=True)\n",
    "\n",
    "    test_breed_category.drop(columns = ['issue_date','listing_date'], inplace=True)\n",
    "    test_pet_category.drop(columns = ['issue_date','listing_date'], inplace=True)\n",
    "\n",
    "\n",
    "    #Imputing the null values in condition columns\n",
    "    breed_condition_value = train_breed_category['condition'].mode()[0]\n",
    "    pet_condition_value = train_pet_category['condition'].mode()[0]\n",
    "\n",
    "    test_breed_condition_value = test_breed_category['condition'].mode()[0]\n",
    "    test_pet_condition_value = test_pet_category['condition'].mode()[0]\n",
    "    \n",
    "    train_breed_category['condition'].fillna(breed_condition_value, inplace=True)\n",
    "    train_pet_category['condition'].fillna(pet_condition_value, inplace=True)\n",
    "\n",
    "    test_breed_category['condition'].fillna(test_breed_condition_value, inplace=True)\n",
    "    test_pet_category['condition'].fillna(test_pet_condition_value, inplace=True)\n",
    "\n",
    "\n",
    "    traget_encoding_cols = ['pet_sale_id', 'color_type']\n",
    "\n",
    "    for items in traget_encoding_cols:\n",
    "\n",
    "        # Initialize the TargetEncoder for pet_sale_id\n",
    "        encoder_breed = TargetEncoder(cols=[items])\n",
    "        encoder_pet = TargetEncoder(cols=[items])\n",
    "\n",
    "        # Fit the encoder on the data (pet_sale_id) and target (breed_category)\n",
    "        encoder_breed.fit(train_breed_category[items], train_breed_category['breed_category'])\n",
    "        encoder_pet.fit(train_pet_category[items], train_pet_category['pet_category'])\n",
    "        \n",
    "\n",
    "        # Transform the 'pet_sale_id' column to target-encoded values\n",
    "        train_breed_category[items] = encoder_breed.transform(train_breed_category[items])\n",
    "        test_breed_category[items] = encoder_breed.transform(test_breed_category[items])\n",
    "\n",
    "        train_pet_category[items] = encoder_pet.transform(train_pet_category[items])\n",
    "        test_pet_category[items] = encoder_pet.transform(test_pet_category[items])\n",
    "\n",
    "\n",
    "\n",
    "    # Perform one-hot encoding\n",
    "    train_breed = pd.get_dummies(train_breed_category, columns=['condition'], prefix=['condition'])\n",
    "    test_breed = pd.get_dummies(test_breed_category, columns=['condition'], prefix=['condition'])\n",
    "    train_pet = pd.get_dummies(train_pet_category, columns=['condition'], prefix=['condition'])\n",
    "    test_pet = pd.get_dummies(test_pet_category, columns=['condition'], prefix=['condition'])\n",
    "    \n",
    "\n",
    "\n",
    "    return train_breed,test_breed,train_pet,test_pet\n",
    "\n",
    "\n",
    "train_breed,test_breed,train_pet,test_pet = data_transformation()\n",
    "\n"
   ]
  },
  {
   "cell_type": "code",
   "execution_count": 364,
   "metadata": {},
   "outputs": [
    {
     "data": {
      "text/html": [
       "<div>\n",
       "<style scoped>\n",
       "    .dataframe tbody tr th:only-of-type {\n",
       "        vertical-align: middle;\n",
       "    }\n",
       "\n",
       "    .dataframe tbody tr th {\n",
       "        vertical-align: top;\n",
       "    }\n",
       "\n",
       "    .dataframe thead th {\n",
       "        text-align: right;\n",
       "    }\n",
       "</style>\n",
       "<table border=\"1\" class=\"dataframe\">\n",
       "  <thead>\n",
       "    <tr style=\"text-align: right;\">\n",
       "      <th></th>\n",
       "      <th>pet_sale_id</th>\n",
       "      <th>color_type</th>\n",
       "      <th>length(m)</th>\n",
       "      <th>height(cm)</th>\n",
       "      <th>X1</th>\n",
       "      <th>X2</th>\n",
       "      <th>breed_category</th>\n",
       "      <th>condition_0.0</th>\n",
       "      <th>condition_1.0</th>\n",
       "      <th>condition_2.0</th>\n",
       "    </tr>\n",
       "  </thead>\n",
       "  <tbody>\n",
       "    <tr>\n",
       "      <th>0</th>\n",
       "      <td>0.652193</td>\n",
       "      <td>1.028090</td>\n",
       "      <td>0.11</td>\n",
       "      <td>9.51</td>\n",
       "      <td>13</td>\n",
       "      <td>9</td>\n",
       "      <td>1</td>\n",
       "      <td>1</td>\n",
       "      <td>0</td>\n",
       "      <td>0</td>\n",
       "    </tr>\n",
       "    <tr>\n",
       "      <th>1</th>\n",
       "      <td>0.522084</td>\n",
       "      <td>0.601695</td>\n",
       "      <td>0.42</td>\n",
       "      <td>48.74</td>\n",
       "      <td>0</td>\n",
       "      <td>2</td>\n",
       "      <td>0</td>\n",
       "      <td>0</td>\n",
       "      <td>0</td>\n",
       "      <td>1</td>\n",
       "    </tr>\n",
       "    <tr>\n",
       "      <th>2</th>\n",
       "      <td>0.652193</td>\n",
       "      <td>0.560642</td>\n",
       "      <td>0.90</td>\n",
       "      <td>34.45</td>\n",
       "      <td>13</td>\n",
       "      <td>9</td>\n",
       "      <td>1</td>\n",
       "      <td>0</td>\n",
       "      <td>0</td>\n",
       "      <td>1</td>\n",
       "    </tr>\n",
       "    <tr>\n",
       "      <th>3</th>\n",
       "      <td>0.522084</td>\n",
       "      <td>0.366933</td>\n",
       "      <td>0.94</td>\n",
       "      <td>48.91</td>\n",
       "      <td>7</td>\n",
       "      <td>1</td>\n",
       "      <td>0</td>\n",
       "      <td>0</td>\n",
       "      <td>1</td>\n",
       "      <td>0</td>\n",
       "    </tr>\n",
       "    <tr>\n",
       "      <th>4</th>\n",
       "      <td>0.522084</td>\n",
       "      <td>0.570059</td>\n",
       "      <td>0.78</td>\n",
       "      <td>17.07</td>\n",
       "      <td>0</td>\n",
       "      <td>7</td>\n",
       "      <td>0</td>\n",
       "      <td>0</td>\n",
       "      <td>1</td>\n",
       "      <td>0</td>\n",
       "    </tr>\n",
       "  </tbody>\n",
       "</table>\n",
       "</div>"
      ],
      "text/plain": [
       "   pet_sale_id  color_type  length(m)  height(cm)  X1  X2  breed_category  \\\n",
       "0     0.652193    1.028090       0.11        9.51  13   9               1   \n",
       "1     0.522084    0.601695       0.42       48.74   0   2               0   \n",
       "2     0.652193    0.560642       0.90       34.45  13   9               1   \n",
       "3     0.522084    0.366933       0.94       48.91   7   1               0   \n",
       "4     0.522084    0.570059       0.78       17.07   0   7               0   \n",
       "\n",
       "   condition_0.0  condition_1.0  condition_2.0  \n",
       "0              1              0              0  \n",
       "1              0              0              1  \n",
       "2              0              0              1  \n",
       "3              0              1              0  \n",
       "4              0              1              0  "
      ]
     },
     "execution_count": 364,
     "metadata": {},
     "output_type": "execute_result"
    }
   ],
   "source": [
    "train_breed.head()"
   ]
  },
  {
   "cell_type": "code",
   "execution_count": 365,
   "metadata": {},
   "outputs": [
    {
     "data": {
      "text/html": [
       "<div>\n",
       "<style scoped>\n",
       "    .dataframe tbody tr th:only-of-type {\n",
       "        vertical-align: middle;\n",
       "    }\n",
       "\n",
       "    .dataframe tbody tr th {\n",
       "        vertical-align: top;\n",
       "    }\n",
       "\n",
       "    .dataframe thead th {\n",
       "        text-align: right;\n",
       "    }\n",
       "</style>\n",
       "<table border=\"1\" class=\"dataframe\">\n",
       "  <thead>\n",
       "    <tr style=\"text-align: right;\">\n",
       "      <th></th>\n",
       "      <th>pet_sale_id</th>\n",
       "      <th>color_type</th>\n",
       "      <th>length(m)</th>\n",
       "      <th>height(cm)</th>\n",
       "      <th>X1</th>\n",
       "      <th>X2</th>\n",
       "      <th>condition_0.0</th>\n",
       "      <th>condition_1.0</th>\n",
       "      <th>condition_2.0</th>\n",
       "    </tr>\n",
       "  </thead>\n",
       "  <tbody>\n",
       "    <tr>\n",
       "      <th>0</th>\n",
       "      <td>0.600172</td>\n",
       "      <td>0.560642</td>\n",
       "      <td>0.27</td>\n",
       "      <td>22.75</td>\n",
       "      <td>13</td>\n",
       "      <td>9</td>\n",
       "      <td>0</td>\n",
       "      <td>0</td>\n",
       "      <td>1</td>\n",
       "    </tr>\n",
       "    <tr>\n",
       "      <th>1</th>\n",
       "      <td>0.600172</td>\n",
       "      <td>0.560642</td>\n",
       "      <td>0.57</td>\n",
       "      <td>21.17</td>\n",
       "      <td>0</td>\n",
       "      <td>1</td>\n",
       "      <td>0</td>\n",
       "      <td>1</td>\n",
       "      <td>0</td>\n",
       "    </tr>\n",
       "    <tr>\n",
       "      <th>2</th>\n",
       "      <td>0.600172</td>\n",
       "      <td>0.340171</td>\n",
       "      <td>0.00</td>\n",
       "      <td>34.34</td>\n",
       "      <td>0</td>\n",
       "      <td>1</td>\n",
       "      <td>0</td>\n",
       "      <td>1</td>\n",
       "      <td>0</td>\n",
       "    </tr>\n",
       "    <tr>\n",
       "      <th>3</th>\n",
       "      <td>0.600172</td>\n",
       "      <td>0.503226</td>\n",
       "      <td>0.46</td>\n",
       "      <td>44.66</td>\n",
       "      <td>13</td>\n",
       "      <td>9</td>\n",
       "      <td>1</td>\n",
       "      <td>0</td>\n",
       "      <td>0</td>\n",
       "    </tr>\n",
       "    <tr>\n",
       "      <th>4</th>\n",
       "      <td>0.600172</td>\n",
       "      <td>0.560642</td>\n",
       "      <td>0.89</td>\n",
       "      <td>14.72</td>\n",
       "      <td>13</td>\n",
       "      <td>9</td>\n",
       "      <td>0</td>\n",
       "      <td>1</td>\n",
       "      <td>0</td>\n",
       "    </tr>\n",
       "  </tbody>\n",
       "</table>\n",
       "</div>"
      ],
      "text/plain": [
       "   pet_sale_id  color_type  length(m)  height(cm)  X1  X2  condition_0.0  \\\n",
       "0     0.600172    0.560642       0.27       22.75  13   9              0   \n",
       "1     0.600172    0.560642       0.57       21.17   0   1              0   \n",
       "2     0.600172    0.340171       0.00       34.34   0   1              0   \n",
       "3     0.600172    0.503226       0.46       44.66  13   9              1   \n",
       "4     0.600172    0.560642       0.89       14.72  13   9              0   \n",
       "\n",
       "   condition_1.0  condition_2.0  \n",
       "0              0              1  \n",
       "1              1              0  \n",
       "2              1              0  \n",
       "3              0              0  \n",
       "4              1              0  "
      ]
     },
     "execution_count": 365,
     "metadata": {},
     "output_type": "execute_result"
    }
   ],
   "source": [
    "test_breed.head()"
   ]
  },
  {
   "cell_type": "code",
   "execution_count": 366,
   "metadata": {},
   "outputs": [
    {
     "data": {
      "text/plain": [
       "Index(['pet_sale_id', 'color_type', 'length(m)', 'height(cm)', 'X1', 'X2',\n",
       "       'breed_category', 'condition_0.0', 'condition_1.0', 'condition_2.0'],\n",
       "      dtype='object')"
      ]
     },
     "execution_count": 366,
     "metadata": {},
     "output_type": "execute_result"
    }
   ],
   "source": [
    "train_breed.columns"
   ]
  },
  {
   "cell_type": "code",
   "execution_count": 367,
   "metadata": {},
   "outputs": [],
   "source": [
    "def get_variable_name(variable):\n",
    "    for name in globals():\n",
    "        if id(globals()[name]) == id(variable):\n",
    "            return name\n",
    "    for name in locals():\n",
    "        if id(locals()[name]) == id(variable):\n",
    "            return name\n",
    "    return None"
   ]
  },
  {
   "cell_type": "code",
   "execution_count": 368,
   "metadata": {},
   "outputs": [],
   "source": [
    "## Checking for coo-relation"
   ]
  },
  {
   "cell_type": "code",
   "execution_count": 371,
   "metadata": {},
   "outputs": [
    {
     "data": {
      "text/html": [
       "<div>\n",
       "<style scoped>\n",
       "    .dataframe tbody tr th:only-of-type {\n",
       "        vertical-align: middle;\n",
       "    }\n",
       "\n",
       "    .dataframe tbody tr th {\n",
       "        vertical-align: top;\n",
       "    }\n",
       "\n",
       "    .dataframe thead th {\n",
       "        text-align: right;\n",
       "    }\n",
       "</style>\n",
       "<table border=\"1\" class=\"dataframe\">\n",
       "  <thead>\n",
       "    <tr style=\"text-align: right;\">\n",
       "      <th></th>\n",
       "      <th>pet_sale_id</th>\n",
       "      <th>issue_date</th>\n",
       "      <th>listing_date</th>\n",
       "      <th>condition</th>\n",
       "      <th>color_type</th>\n",
       "      <th>length(m)</th>\n",
       "      <th>height(cm)</th>\n",
       "      <th>X1</th>\n",
       "      <th>X2</th>\n",
       "      <th>breed_category</th>\n",
       "      <th>pet_category</th>\n",
       "    </tr>\n",
       "  </thead>\n",
       "  <tbody>\n",
       "    <tr>\n",
       "      <th>0</th>\n",
       "      <td>ANSL_36614</td>\n",
       "      <td>2011-01-12 00:00:00</td>\n",
       "      <td>2018-02-18 15:56:00</td>\n",
       "      <td>0.0</td>\n",
       "      <td>Torbie</td>\n",
       "      <td>0.11</td>\n",
       "      <td>9.51</td>\n",
       "      <td>13</td>\n",
       "      <td>9</td>\n",
       "      <td>1</td>\n",
       "      <td>1</td>\n",
       "    </tr>\n",
       "    <tr>\n",
       "      <th>1</th>\n",
       "      <td>ANSL_22109</td>\n",
       "      <td>2015-07-24 00:00:00</td>\n",
       "      <td>2015-10-14 12:06:00</td>\n",
       "      <td>2.0</td>\n",
       "      <td>Brown Tabby</td>\n",
       "      <td>0.42</td>\n",
       "      <td>48.74</td>\n",
       "      <td>0</td>\n",
       "      <td>2</td>\n",
       "      <td>0</td>\n",
       "      <td>1</td>\n",
       "    </tr>\n",
       "    <tr>\n",
       "      <th>2</th>\n",
       "      <td>ANSL_27582</td>\n",
       "      <td>2016-12-02 00:00:00</td>\n",
       "      <td>2017-02-11 14:24:00</td>\n",
       "      <td>2.0</td>\n",
       "      <td>Black</td>\n",
       "      <td>0.90</td>\n",
       "      <td>34.45</td>\n",
       "      <td>13</td>\n",
       "      <td>9</td>\n",
       "      <td>1</td>\n",
       "      <td>1</td>\n",
       "    </tr>\n",
       "    <tr>\n",
       "      <th>3</th>\n",
       "      <td>ANSL_637</td>\n",
       "      <td>2015-07-05 00:00:00</td>\n",
       "      <td>2015-10-13 17:40:00</td>\n",
       "      <td>1.0</td>\n",
       "      <td>Flame Point</td>\n",
       "      <td>0.94</td>\n",
       "      <td>48.91</td>\n",
       "      <td>7</td>\n",
       "      <td>1</td>\n",
       "      <td>0</td>\n",
       "      <td>1</td>\n",
       "    </tr>\n",
       "    <tr>\n",
       "      <th>4</th>\n",
       "      <td>ANSL_27541</td>\n",
       "      <td>2016-01-16 00:00:00</td>\n",
       "      <td>2017-08-31 18:06:00</td>\n",
       "      <td>1.0</td>\n",
       "      <td>Yellow Brindle</td>\n",
       "      <td>0.78</td>\n",
       "      <td>17.07</td>\n",
       "      <td>0</td>\n",
       "      <td>7</td>\n",
       "      <td>0</td>\n",
       "      <td>2</td>\n",
       "    </tr>\n",
       "    <tr>\n",
       "      <th>...</th>\n",
       "      <td>...</td>\n",
       "      <td>...</td>\n",
       "      <td>...</td>\n",
       "      <td>...</td>\n",
       "      <td>...</td>\n",
       "      <td>...</td>\n",
       "      <td>...</td>\n",
       "      <td>...</td>\n",
       "      <td>...</td>\n",
       "      <td>...</td>\n",
       "      <td>...</td>\n",
       "    </tr>\n",
       "    <tr>\n",
       "      <th>13986</th>\n",
       "      <td>ANSL_34932</td>\n",
       "      <td>2015-06-10 00:00:00</td>\n",
       "      <td>2016-08-05 18:39:00</td>\n",
       "      <td>1.0</td>\n",
       "      <td>Yellow</td>\n",
       "      <td>0.74</td>\n",
       "      <td>43.17</td>\n",
       "      <td>0</td>\n",
       "      <td>1</td>\n",
       "      <td>0</td>\n",
       "      <td>2</td>\n",
       "    </tr>\n",
       "    <tr>\n",
       "      <th>13987</th>\n",
       "      <td>ANSL_8393</td>\n",
       "      <td>2014-05-16 00:00:00</td>\n",
       "      <td>2015-04-10 15:26:00</td>\n",
       "      <td>0.0</td>\n",
       "      <td>Calico</td>\n",
       "      <td>0.44</td>\n",
       "      <td>18.98</td>\n",
       "      <td>13</td>\n",
       "      <td>9</td>\n",
       "      <td>1</td>\n",
       "      <td>1</td>\n",
       "    </tr>\n",
       "    <tr>\n",
       "      <th>13988</th>\n",
       "      <td>ANSL_27370</td>\n",
       "      <td>2017-07-22 00:00:00</td>\n",
       "      <td>2018-07-29 08:38:00</td>\n",
       "      <td>0.0</td>\n",
       "      <td>Brown Brindle</td>\n",
       "      <td>1.00</td>\n",
       "      <td>24.39</td>\n",
       "      <td>7</td>\n",
       "      <td>1</td>\n",
       "      <td>1</td>\n",
       "      <td>2</td>\n",
       "    </tr>\n",
       "    <tr>\n",
       "      <th>13989</th>\n",
       "      <td>ANSL_37437</td>\n",
       "      <td>2017-06-08 00:00:00</td>\n",
       "      <td>2018-06-30 09:00:00</td>\n",
       "      <td>0.0</td>\n",
       "      <td>Brown Tabby</td>\n",
       "      <td>0.93</td>\n",
       "      <td>46.64</td>\n",
       "      <td>16</td>\n",
       "      <td>9</td>\n",
       "      <td>1</td>\n",
       "      <td>1</td>\n",
       "    </tr>\n",
       "    <tr>\n",
       "      <th>13990</th>\n",
       "      <td>ANSL_14742</td>\n",
       "      <td>2013-03-07 00:00:00</td>\n",
       "      <td>2015-03-28 14:03:00</td>\n",
       "      <td>2.0</td>\n",
       "      <td>Orange Tabby</td>\n",
       "      <td>0.23</td>\n",
       "      <td>13.64</td>\n",
       "      <td>16</td>\n",
       "      <td>9</td>\n",
       "      <td>0</td>\n",
       "      <td>1</td>\n",
       "    </tr>\n",
       "  </tbody>\n",
       "</table>\n",
       "<p>13991 rows × 11 columns</p>\n",
       "</div>"
      ],
      "text/plain": [
       "      pet_sale_id           issue_date         listing_date  condition  \\\n",
       "0      ANSL_36614  2011-01-12 00:00:00  2018-02-18 15:56:00        0.0   \n",
       "1      ANSL_22109  2015-07-24 00:00:00  2015-10-14 12:06:00        2.0   \n",
       "2      ANSL_27582  2016-12-02 00:00:00  2017-02-11 14:24:00        2.0   \n",
       "3        ANSL_637  2015-07-05 00:00:00  2015-10-13 17:40:00        1.0   \n",
       "4      ANSL_27541  2016-01-16 00:00:00  2017-08-31 18:06:00        1.0   \n",
       "...           ...                  ...                  ...        ...   \n",
       "13986  ANSL_34932  2015-06-10 00:00:00  2016-08-05 18:39:00        1.0   \n",
       "13987   ANSL_8393  2014-05-16 00:00:00  2015-04-10 15:26:00        0.0   \n",
       "13988  ANSL_27370  2017-07-22 00:00:00  2018-07-29 08:38:00        0.0   \n",
       "13989  ANSL_37437  2017-06-08 00:00:00  2018-06-30 09:00:00        0.0   \n",
       "13990  ANSL_14742  2013-03-07 00:00:00  2015-03-28 14:03:00        2.0   \n",
       "\n",
       "           color_type  length(m)  height(cm)  X1  X2  breed_category  \\\n",
       "0              Torbie       0.11        9.51  13   9               1   \n",
       "1         Brown Tabby       0.42       48.74   0   2               0   \n",
       "2               Black       0.90       34.45  13   9               1   \n",
       "3         Flame Point       0.94       48.91   7   1               0   \n",
       "4      Yellow Brindle       0.78       17.07   0   7               0   \n",
       "...               ...        ...         ...  ..  ..             ...   \n",
       "13986          Yellow       0.74       43.17   0   1               0   \n",
       "13987          Calico       0.44       18.98  13   9               1   \n",
       "13988   Brown Brindle       1.00       24.39   7   1               1   \n",
       "13989     Brown Tabby       0.93       46.64  16   9               1   \n",
       "13990    Orange Tabby       0.23       13.64  16   9               0   \n",
       "\n",
       "       pet_category  \n",
       "0                 1  \n",
       "1                 1  \n",
       "2                 1  \n",
       "3                 1  \n",
       "4                 2  \n",
       "...             ...  \n",
       "13986             2  \n",
       "13987             1  \n",
       "13988             2  \n",
       "13989             1  \n",
       "13990             1  \n",
       "\n",
       "[13991 rows x 11 columns]"
      ]
     },
     "execution_count": 371,
     "metadata": {},
     "output_type": "execute_result"
    }
   ],
   "source": [
    "train"
   ]
  },
  {
   "cell_type": "code",
   "execution_count": 372,
   "metadata": {},
   "outputs": [
    {
     "data": {
      "text/html": [
       "<div>\n",
       "<style scoped>\n",
       "    .dataframe tbody tr th:only-of-type {\n",
       "        vertical-align: middle;\n",
       "    }\n",
       "\n",
       "    .dataframe tbody tr th {\n",
       "        vertical-align: top;\n",
       "    }\n",
       "\n",
       "    .dataframe thead th {\n",
       "        text-align: right;\n",
       "    }\n",
       "</style>\n",
       "<table border=\"1\" class=\"dataframe\">\n",
       "  <thead>\n",
       "    <tr style=\"text-align: right;\">\n",
       "      <th></th>\n",
       "      <th>condition</th>\n",
       "      <th>length(m)</th>\n",
       "      <th>height(cm)</th>\n",
       "      <th>X1</th>\n",
       "      <th>X2</th>\n",
       "      <th>breed_category</th>\n",
       "    </tr>\n",
       "  </thead>\n",
       "  <tbody>\n",
       "    <tr>\n",
       "      <th>0</th>\n",
       "      <td>0.0</td>\n",
       "      <td>0.11</td>\n",
       "      <td>9.51</td>\n",
       "      <td>13</td>\n",
       "      <td>9</td>\n",
       "      <td>1</td>\n",
       "    </tr>\n",
       "    <tr>\n",
       "      <th>1</th>\n",
       "      <td>2.0</td>\n",
       "      <td>0.42</td>\n",
       "      <td>48.74</td>\n",
       "      <td>0</td>\n",
       "      <td>2</td>\n",
       "      <td>0</td>\n",
       "    </tr>\n",
       "    <tr>\n",
       "      <th>2</th>\n",
       "      <td>2.0</td>\n",
       "      <td>0.90</td>\n",
       "      <td>34.45</td>\n",
       "      <td>13</td>\n",
       "      <td>9</td>\n",
       "      <td>1</td>\n",
       "    </tr>\n",
       "    <tr>\n",
       "      <th>3</th>\n",
       "      <td>1.0</td>\n",
       "      <td>0.94</td>\n",
       "      <td>48.91</td>\n",
       "      <td>7</td>\n",
       "      <td>1</td>\n",
       "      <td>0</td>\n",
       "    </tr>\n",
       "    <tr>\n",
       "      <th>4</th>\n",
       "      <td>1.0</td>\n",
       "      <td>0.78</td>\n",
       "      <td>17.07</td>\n",
       "      <td>0</td>\n",
       "      <td>7</td>\n",
       "      <td>0</td>\n",
       "    </tr>\n",
       "    <tr>\n",
       "      <th>...</th>\n",
       "      <td>...</td>\n",
       "      <td>...</td>\n",
       "      <td>...</td>\n",
       "      <td>...</td>\n",
       "      <td>...</td>\n",
       "      <td>...</td>\n",
       "    </tr>\n",
       "    <tr>\n",
       "      <th>13986</th>\n",
       "      <td>1.0</td>\n",
       "      <td>0.74</td>\n",
       "      <td>43.17</td>\n",
       "      <td>0</td>\n",
       "      <td>1</td>\n",
       "      <td>0</td>\n",
       "    </tr>\n",
       "    <tr>\n",
       "      <th>13987</th>\n",
       "      <td>0.0</td>\n",
       "      <td>0.44</td>\n",
       "      <td>18.98</td>\n",
       "      <td>13</td>\n",
       "      <td>9</td>\n",
       "      <td>1</td>\n",
       "    </tr>\n",
       "    <tr>\n",
       "      <th>13988</th>\n",
       "      <td>0.0</td>\n",
       "      <td>1.00</td>\n",
       "      <td>24.39</td>\n",
       "      <td>7</td>\n",
       "      <td>1</td>\n",
       "      <td>1</td>\n",
       "    </tr>\n",
       "    <tr>\n",
       "      <th>13989</th>\n",
       "      <td>0.0</td>\n",
       "      <td>0.93</td>\n",
       "      <td>46.64</td>\n",
       "      <td>16</td>\n",
       "      <td>9</td>\n",
       "      <td>1</td>\n",
       "    </tr>\n",
       "    <tr>\n",
       "      <th>13990</th>\n",
       "      <td>2.0</td>\n",
       "      <td>0.23</td>\n",
       "      <td>13.64</td>\n",
       "      <td>16</td>\n",
       "      <td>9</td>\n",
       "      <td>0</td>\n",
       "    </tr>\n",
       "  </tbody>\n",
       "</table>\n",
       "<p>13991 rows × 6 columns</p>\n",
       "</div>"
      ],
      "text/plain": [
       "       condition  length(m)  height(cm)  X1  X2  breed_category\n",
       "0            0.0       0.11        9.51  13   9               1\n",
       "1            2.0       0.42       48.74   0   2               0\n",
       "2            2.0       0.90       34.45  13   9               1\n",
       "3            1.0       0.94       48.91   7   1               0\n",
       "4            1.0       0.78       17.07   0   7               0\n",
       "...          ...        ...         ...  ..  ..             ...\n",
       "13986        1.0       0.74       43.17   0   1               0\n",
       "13987        0.0       0.44       18.98  13   9               1\n",
       "13988        0.0       1.00       24.39   7   1               1\n",
       "13989        0.0       0.93       46.64  16   9               1\n",
       "13990        2.0       0.23       13.64  16   9               0\n",
       "\n",
       "[13991 rows x 6 columns]"
      ]
     },
     "execution_count": 372,
     "metadata": {},
     "output_type": "execute_result"
    }
   ],
   "source": [
    "train[['condition','length(m)','height(cm)','X1','X2','breed_category']]"
   ]
  },
  {
   "cell_type": "code",
   "execution_count": 373,
   "metadata": {},
   "outputs": [
    {
     "data": {
      "text/plain": [
       "<Axes: >"
      ]
     },
     "execution_count": 373,
     "metadata": {},
     "output_type": "execute_result"
    },
    {
     "data": {
      "image/png": "[encoded data removed]",
      "text/plain": [
       "<Figure size 1500x800 with 2 Axes>"
      ]
     },
     "metadata": {},
     "output_type": "display_data"
    }
   ],
   "source": [
    "plt.figure(figsize=(15,8))\n",
    "sns.heatmap(train[['condition','length(m)','height(cm)','X1','X2','breed_category']].corr(),cmap='magma',linecolor='white',linewidths=1,annot=True)"
   ]
  },
  {
   "cell_type": "code",
   "execution_count": 374,
   "metadata": {},
   "outputs": [
    {
     "name": "stdout",
     "output_type": "stream",
     "text": [
      "         Variable        VIF\n",
      "0           const  12.475322\n",
      "1       condition   1.538425\n",
      "2       length(m)   1.000445\n",
      "3      height(cm)   1.000712\n",
      "4              X1   1.843466\n",
      "5              X2   1.616432\n",
      "6  breed_category   1.334452\n"
     ]
    }
   ],
   "source": [
    "import statsmodels.api as sm\n",
    "from statsmodels.stats.outliers_influence import variance_inflation_factor\n",
    "\n",
    "# Add a constant for the intercept term\n",
    "X = sm.add_constant(train[['condition','length(m)','height(cm)','X1','X2','breed_category']])\n",
    "\n",
    "# Calculate VIF scores\n",
    "vif = pd.DataFrame()\n",
    "vif[\"Variable\"] = X.columns\n",
    "vif[\"VIF\"] = [variance_inflation_factor(X.values, i) for i in range(X.shape[1])]\n",
    "\n",
    "# Display the VIF scores\n",
    "print(vif)\n"
   ]
  },
  {
   "cell_type": "markdown",
   "metadata": {},
   "source": []
  },
  {
   "cell_type": "markdown",
   "metadata": {},
   "source": [
    "## Model building (Breed Category/Pet Category)"
   ]
  },
  {
   "cell_type": "code",
   "execution_count": 380,
   "metadata": {},
   "outputs": [],
   "source": [
    "# X_breed = train_breed[['pet_sale_id', 'color_type', 'length(m)', 'height(cm)', 'X1', 'X2','condition_0.0', 'condition_1.0', 'condition_2.0']]\n",
    "# y_breed = train_breed['breed_category']\n",
    "\n",
    "# X_pet = train_pet[['pet_sale_id', 'color_type', 'length(m)', 'height(cm)', 'X1', 'X2','condition_0.0', 'condition_1.0', 'condition_2.0']]\n",
    "# y_pet = train_pet['pet_category']\n",
    "\n",
    "X_breed = train_breed[['pet_sale_id', 'color_type', 'length(m)', 'height(cm)', 'X1', 'X2','condition_0.0', 'condition_1.0', 'condition_2.0']]\n",
    "y_breed = train_breed['breed_category']\n",
    "\n",
    "X_pet = train_pet[['pet_sale_id', 'color_type', 'length(m)', 'height(cm)', 'X1', 'X2','condition_0.0', 'condition_1.0', 'condition_2.0']]\n",
    "y_pet = train_pet['pet_category']\n"
   ]
  },
  {
   "cell_type": "code",
   "execution_count": 382,
   "metadata": {},
   "outputs": [
    {
     "name": "stdout",
     "output_type": "stream",
     "text": [
      "X_breed\n",
      "Shape of the Training and Test Data\n",
      "(9373, 9) (4618, 9)\n",
      "(9373,) (4618,)\n",
      "---------------------------\n",
      "Shape of the SCALED Training and Test Data\n",
      "(9373, 9) (4618, 9)\n",
      "(9373,) (4618,)\n",
      "---------------------------\n",
      "\n",
      "Important feature:==========\n",
      "pet_sale_id      0.609216\n",
      "condition_1.0    0.169606\n",
      "condition_0.0    0.132884\n",
      "condition_2.0    0.031996\n",
      "X1               0.026744\n",
      "color_type       0.013911\n",
      "X2               0.013268\n",
      "height(cm)       0.001357\n",
      "length(m)        0.001018\n",
      "dtype: float64\n",
      "Accuracy: 1.0\n",
      "F1 Score: 1.0\n"
     ]
    },
    {
     "data": {
      "image/png": "[encoded data removed]",
      "text/plain": [
       "<Figure size 640x480 with 2 Axes>"
      ]
     },
     "metadata": {},
     "output_type": "display_data"
    },
    {
     "name": "stdout",
     "output_type": "stream",
     "text": [
      "\n",
      "\n",
      "X_pet\n",
      "Shape of the Training and Test Data\n",
      "(9373, 9) (4618, 9)\n",
      "(9373,) (4618,)\n",
      "---------------------------\n",
      "Shape of the SCALED Training and Test Data\n",
      "(9373, 9) (4618, 9)\n",
      "(9373,) (4618,)\n",
      "---------------------------\n",
      "\n",
      "Important feature:==========\n",
      "pet_sale_id      0.670864\n",
      "color_type       0.231268\n",
      "X1               0.066259\n",
      "X2               0.014778\n",
      "condition_1.0    0.004605\n",
      "height(cm)       0.004425\n",
      "length(m)        0.003425\n",
      "condition_2.0    0.002995\n",
      "condition_0.0    0.001382\n",
      "dtype: float64\n",
      "Accuracy: 0.9997834560415765\n",
      "F1 Score: 0.7999618393436367\n"
     ]
    },
    {
     "data": {
      "image/png": "[encoded data removed]",
      "text/plain": [
       "<Figure size 640x480 with 2 Axes>"
      ]
     },
     "metadata": {},
     "output_type": "display_data"
    },
    {
     "name": "stdout",
     "output_type": "stream",
     "text": [
      "\n",
      "\n"
     ]
    }
   ],
   "source": [
    "X = [X_breed, X_pet]\n",
    "y = [y_breed, y_pet]\n",
    "\n",
    "def model_building(X,y):\n",
    "\n",
    "\n",
    "    for input, target in zip(X,y):\n",
    "\n",
    "        print(get_variable_name(input))\n",
    "        \n",
    "        X_train, X_test, y_train, y_test = train_test_split(input, target, test_size=0.33, random_state=42)\n",
    "\n",
    "\n",
    "        print('Shape of the Training and Test Data')\n",
    "        print(X_train.shape, X_test.shape)\n",
    "        print(y_train.shape,y_test.shape)\n",
    "        print(\"---------------------------\")\n",
    "        \n",
    "\n",
    "        scaler = StandardScaler()\n",
    "\n",
    "        scaler.fit(X_train)\n",
    "        X_train_scaled = scaler.transform(X_train)\n",
    "        X_test_scaled = scaler.transform(X_test)\n",
    "\n",
    "\n",
    "        print('Shape of the SCALED Training and Test Data')\n",
    "        print(X_train_scaled.shape, X_test_scaled.shape)\n",
    "        print(y_train.shape,y_test.shape)\n",
    "        print(\"---------------------------\\n\")\n",
    "\n",
    "\n",
    "        # Model \n",
    "        # Initialize and train the Random Forest classifier\n",
    "        clf = RandomForestClassifier(n_estimators=100, random_state=42)\n",
    "        clf.fit(X_train_scaled, y_train)\n",
    "\n",
    "        feature_scores = pd.Series(clf.feature_importances_, index=X_train.columns).sort_values(ascending=False)\n",
    "\n",
    "        print('Important feature:==========')\n",
    "        print(feature_scores)\n",
    "\n",
    "\n",
    "        # Make predictions on the test data\n",
    "        y_pred = clf.predict(X_test_scaled)\n",
    "\n",
    "        # Calculate accuracy\n",
    "        accuracy = accuracy_score(y_test, y_pred)\n",
    "        print(\"Accuracy:\", accuracy)\n",
    "\n",
    "        # Calculate f1_score\n",
    "        f1 = f1_score(y_test,y_pred, average='macro')\n",
    "        print(f'F1 Score: {f1}')\n",
    "\n",
    "        # Print classification report\n",
    "        report = confusion_matrix(y_test, y_pred,)\n",
    "        sns.heatmap(report,annot=True)\n",
    "        plt.show()\n",
    "\n",
    "        print('\\n')\n",
    "\n",
    "\n",
    "model_building(X,y)"
   ]
  },
  {
   "cell_type": "markdown",
   "metadata": {},
   "source": [
    "## Validation"
   ]
  },
  {
   "cell_type": "code",
   "execution_count": 383,
   "metadata": {},
   "outputs": [
    {
     "name": "stdout",
     "output_type": "stream",
     "text": [
      "Shape of the Training and Test Data\n",
      "(9373, 9) (4618, 9)\n",
      "(9373,) (4618,)\n",
      "---------------------------\n",
      "Shape of the SCALED Training and Test Data\n",
      "(9373, 9) (4618, 9)\n",
      "(9373,) (4618,)\n",
      "---------------------------\n",
      "\n",
      "Accuracy: 0.9997834560415765\n",
      "F1 Score: 0.7999618393436367\n"
     ]
    },
    {
     "data": {
      "image/png": "[encoded data removed]",
      "text/plain": [
       "<Figure size 640x480 with 2 Axes>"
      ]
     },
     "metadata": {},
     "output_type": "display_data"
    },
    {
     "name": "stdout",
     "output_type": "stream",
     "text": [
      "\n",
      "\n"
     ]
    }
   ],
   "source": [
    "X_pet = train_pet[['pet_sale_id', 'color_type', 'length(m)', 'height(cm)', 'X1', 'X2','condition_0.0', 'condition_1.0', 'condition_2.0']]\n",
    "y_pet = train_pet['pet_category']\n",
    "\n",
    "\n",
    "X_train, X_test, y_train, y_test = train_test_split(X_pet, y_pet, test_size=0.33, random_state=42)\n",
    "\n",
    "\n",
    "print('Shape of the Training and Test Data')\n",
    "print(X_train.shape, X_test.shape)\n",
    "print(y_train.shape,y_test.shape)\n",
    "print(\"---------------------------\")\n",
    "\n",
    "\n",
    "scaler = StandardScaler()\n",
    "\n",
    "scaler.fit(X_train)\n",
    "X_train_scaled = scaler.transform(X_train)\n",
    "X_test_scaled = scaler.transform(X_test)\n",
    "\n",
    "\n",
    "print('Shape of the SCALED Training and Test Data')\n",
    "print(X_train_scaled.shape, X_test_scaled.shape)\n",
    "print(y_train.shape,y_test.shape)\n",
    "print(\"---------------------------\\n\")\n",
    "\n",
    "\n",
    "# Model \n",
    "# Initialize and train the Random Forest classifier\n",
    "model_pet = RandomForestClassifier(n_estimators=100, random_state=42)\n",
    "model_pet.fit(X_train_scaled, y_train)\n",
    "\n",
    "# Make predictions on the test data\n",
    "y_pred = model_pet.predict(X_test_scaled)\n",
    "\n",
    "# Calculate accuracy\n",
    "accuracy = accuracy_score(y_test, y_pred)\n",
    "print(\"Accuracy:\", accuracy)\n",
    "\n",
    "# Calculate f1_score\n",
    "f1 = f1_score(y_test,y_pred, average='macro')\n",
    "print(f'F1 Score: {f1}')\n",
    "\n",
    "# Print classification report\n",
    "report = confusion_matrix(y_test, y_pred,)\n",
    "sns.heatmap(report,annot=True)\n",
    "plt.show()\n",
    "\n",
    "print('\\n')\n"
   ]
  },
  {
   "cell_type": "code",
   "execution_count": 395,
   "metadata": {},
   "outputs": [
    {
     "data": {
      "text/plain": [
       "array([ 0.37643697,  0.58699739, -1.34199929, -1.38065667, -0.87103427,\n",
       "        0.62601364, -0.69570746,  1.13825128, -0.55923617])"
      ]
     },
     "execution_count": 395,
     "metadata": {},
     "output_type": "execute_result"
    }
   ],
   "source": [
    "X_test_scaled[3143]"
   ]
  },
  {
   "cell_type": "code",
   "execution_count": 394,
   "metadata": {},
   "outputs": [
    {
     "data": {
      "text/plain": [
       "2"
      ]
     },
     "execution_count": 394,
     "metadata": {},
     "output_type": "execute_result"
    }
   ],
   "source": [
    "y_test[3143]"
   ]
  },
  {
   "cell_type": "code",
   "execution_count": 396,
   "metadata": {},
   "outputs": [
    {
     "data": {
      "text/plain": [
       "array([2])"
      ]
     },
     "execution_count": 396,
     "metadata": {},
     "output_type": "execute_result"
    }
   ],
   "source": [
    "input = [X_test_scaled[3143]]\n",
    "\n",
    "model_pet.predict(input)"
   ]
  },
  {
   "cell_type": "code",
   "execution_count": 43,
   "metadata": {},
   "outputs": [
    {
     "data": {
      "text/plain": [
       "8544     1\n",
       "6104     1\n",
       "6066     1\n",
       "11256    2\n",
       "8695     1\n",
       "        ..\n",
       "5191     2\n",
       "13418    2\n",
       "5390     2\n",
       "860      1\n",
       "7270     1\n",
       "Name: pet_category, Length: 9373, dtype: int64"
      ]
     },
     "execution_count": 43,
     "metadata": {},
     "output_type": "execute_result"
    }
   ],
   "source": [
    "y_train"
   ]
  },
  {
   "cell_type": "markdown",
   "metadata": {},
   "source": [
    "## Production Ready: Combining two models"
   ]
  },
  {
   "cell_type": "code",
   "execution_count": 16,
   "metadata": {},
   "outputs": [],
   "source": [
    "from sklearn.pipeline import Pipeline,make_pipeline\n",
    "from sklearn.preprocessing import LabelEncoder,OneHotEncoder\n",
    "from sklearn.compose import ColumnTransformer\n",
    "from sklearn.impute import SimpleImputer\n",
    "from sklearn.model_selection import GridSearchCV\n",
    "\n",
    "from sklearn.model_selection import train_test_split"
   ]
  },
  {
   "cell_type": "markdown",
   "metadata": {},
   "source": [
    "### Model: Breed Category"
   ]
  },
  {
   "cell_type": "code",
   "execution_count": 155,
   "metadata": {},
   "outputs": [],
   "source": [
    "X_breed = train[['pet_sale_id','condition', 'color_type','length(m)', 'height(cm)', 'X1', 'X2']]\n",
    "y_breed = train['breed_category']\n",
    "\n",
    "\n",
    "X_train, X_test, y_train, y_test = train_test_split(X_breed, y_breed, test_size=0.33, random_state=42)"
   ]
  },
  {
   "cell_type": "code",
   "execution_count": 156,
   "metadata": {},
   "outputs": [
    {
     "data": {
      "text/html": [
       "<div>\n",
       "<style scoped>\n",
       "    .dataframe tbody tr th:only-of-type {\n",
       "        vertical-align: middle;\n",
       "    }\n",
       "\n",
       "    .dataframe tbody tr th {\n",
       "        vertical-align: top;\n",
       "    }\n",
       "\n",
       "    .dataframe thead th {\n",
       "        text-align: right;\n",
       "    }\n",
       "</style>\n",
       "<table border=\"1\" class=\"dataframe\">\n",
       "  <thead>\n",
       "    <tr style=\"text-align: right;\">\n",
       "      <th></th>\n",
       "      <th>pet_sale_id</th>\n",
       "      <th>condition</th>\n",
       "      <th>color_type</th>\n",
       "      <th>length(m)</th>\n",
       "      <th>height(cm)</th>\n",
       "      <th>X1</th>\n",
       "      <th>X2</th>\n",
       "    </tr>\n",
       "  </thead>\n",
       "  <tbody>\n",
       "    <tr>\n",
       "      <th>0</th>\n",
       "      <td>ANSL_36614</td>\n",
       "      <td>0.0</td>\n",
       "      <td>Torbie</td>\n",
       "      <td>0.11</td>\n",
       "      <td>9.51</td>\n",
       "      <td>13</td>\n",
       "      <td>9</td>\n",
       "    </tr>\n",
       "    <tr>\n",
       "      <th>1</th>\n",
       "      <td>ANSL_22109</td>\n",
       "      <td>2.0</td>\n",
       "      <td>Brown Tabby</td>\n",
       "      <td>0.42</td>\n",
       "      <td>48.74</td>\n",
       "      <td>0</td>\n",
       "      <td>2</td>\n",
       "    </tr>\n",
       "    <tr>\n",
       "      <th>2</th>\n",
       "      <td>ANSL_27582</td>\n",
       "      <td>2.0</td>\n",
       "      <td>Black</td>\n",
       "      <td>0.90</td>\n",
       "      <td>34.45</td>\n",
       "      <td>13</td>\n",
       "      <td>9</td>\n",
       "    </tr>\n",
       "    <tr>\n",
       "      <th>3</th>\n",
       "      <td>ANSL_637</td>\n",
       "      <td>1.0</td>\n",
       "      <td>Flame Point</td>\n",
       "      <td>0.94</td>\n",
       "      <td>48.91</td>\n",
       "      <td>7</td>\n",
       "      <td>1</td>\n",
       "    </tr>\n",
       "    <tr>\n",
       "      <th>4</th>\n",
       "      <td>ANSL_27541</td>\n",
       "      <td>1.0</td>\n",
       "      <td>Yellow Brindle</td>\n",
       "      <td>0.78</td>\n",
       "      <td>17.07</td>\n",
       "      <td>0</td>\n",
       "      <td>7</td>\n",
       "    </tr>\n",
       "    <tr>\n",
       "      <th>...</th>\n",
       "      <td>...</td>\n",
       "      <td>...</td>\n",
       "      <td>...</td>\n",
       "      <td>...</td>\n",
       "      <td>...</td>\n",
       "      <td>...</td>\n",
       "      <td>...</td>\n",
       "    </tr>\n",
       "    <tr>\n",
       "      <th>13986</th>\n",
       "      <td>ANSL_34932</td>\n",
       "      <td>1.0</td>\n",
       "      <td>Yellow</td>\n",
       "      <td>0.74</td>\n",
       "      <td>43.17</td>\n",
       "      <td>0</td>\n",
       "      <td>1</td>\n",
       "    </tr>\n",
       "    <tr>\n",
       "      <th>13987</th>\n",
       "      <td>ANSL_8393</td>\n",
       "      <td>0.0</td>\n",
       "      <td>Calico</td>\n",
       "      <td>0.44</td>\n",
       "      <td>18.98</td>\n",
       "      <td>13</td>\n",
       "      <td>9</td>\n",
       "    </tr>\n",
       "    <tr>\n",
       "      <th>13988</th>\n",
       "      <td>ANSL_27370</td>\n",
       "      <td>0.0</td>\n",
       "      <td>Brown Brindle</td>\n",
       "      <td>1.00</td>\n",
       "      <td>24.39</td>\n",
       "      <td>7</td>\n",
       "      <td>1</td>\n",
       "    </tr>\n",
       "    <tr>\n",
       "      <th>13989</th>\n",
       "      <td>ANSL_37437</td>\n",
       "      <td>0.0</td>\n",
       "      <td>Brown Tabby</td>\n",
       "      <td>0.93</td>\n",
       "      <td>46.64</td>\n",
       "      <td>16</td>\n",
       "      <td>9</td>\n",
       "    </tr>\n",
       "    <tr>\n",
       "      <th>13990</th>\n",
       "      <td>ANSL_14742</td>\n",
       "      <td>2.0</td>\n",
       "      <td>Orange Tabby</td>\n",
       "      <td>0.23</td>\n",
       "      <td>13.64</td>\n",
       "      <td>16</td>\n",
       "      <td>9</td>\n",
       "    </tr>\n",
       "  </tbody>\n",
       "</table>\n",
       "<p>13991 rows × 7 columns</p>\n",
       "</div>"
      ],
      "text/plain": [
       "      pet_sale_id  condition      color_type  length(m)  height(cm)  X1  X2\n",
       "0      ANSL_36614        0.0          Torbie       0.11        9.51  13   9\n",
       "1      ANSL_22109        2.0     Brown Tabby       0.42       48.74   0   2\n",
       "2      ANSL_27582        2.0           Black       0.90       34.45  13   9\n",
       "3        ANSL_637        1.0     Flame Point       0.94       48.91   7   1\n",
       "4      ANSL_27541        1.0  Yellow Brindle       0.78       17.07   0   7\n",
       "...           ...        ...             ...        ...         ...  ..  ..\n",
       "13986  ANSL_34932        1.0          Yellow       0.74       43.17   0   1\n",
       "13987   ANSL_8393        0.0          Calico       0.44       18.98  13   9\n",
       "13988  ANSL_27370        0.0   Brown Brindle       1.00       24.39   7   1\n",
       "13989  ANSL_37437        0.0     Brown Tabby       0.93       46.64  16   9\n",
       "13990  ANSL_14742        2.0    Orange Tabby       0.23       13.64  16   9\n",
       "\n",
       "[13991 rows x 7 columns]"
      ]
     },
     "execution_count": 156,
     "metadata": {},
     "output_type": "execute_result"
    }
   ],
   "source": [
    "X_breed"
   ]
  },
  {
   "cell_type": "code",
   "execution_count": 157,
   "metadata": {},
   "outputs": [
    {
     "data": {
      "text/plain": [
       "0        1\n",
       "1        0\n",
       "2        1\n",
       "3        0\n",
       "4        0\n",
       "        ..\n",
       "13986    0\n",
       "13987    1\n",
       "13988    1\n",
       "13989    1\n",
       "13990    0\n",
       "Name: breed_category, Length: 13991, dtype: int64"
      ]
     },
     "execution_count": 157,
     "metadata": {},
     "output_type": "execute_result"
    }
   ],
   "source": [
    "y_breed"
   ]
  },
  {
   "cell_type": "code",
   "execution_count": 158,
   "metadata": {},
   "outputs": [
    {
     "data": {
      "text/plain": [
       "pet_sale_id    0\n",
       "condition      0\n",
       "color_type     0\n",
       "length(m)      0\n",
       "height(cm)     0\n",
       "X1             0\n",
       "X2             0\n",
       "dtype: int64"
      ]
     },
     "execution_count": 158,
     "metadata": {},
     "output_type": "execute_result"
    }
   ],
   "source": [
    "X_breed.isnull().sum()"
   ]
  },
  {
   "cell_type": "code",
   "execution_count": 171,
   "metadata": {},
   "outputs": [
    {
     "data": {
      "text/html": [
       "<div>\n",
       "<style scoped>\n",
       "    .dataframe tbody tr th:only-of-type {\n",
       "        vertical-align: middle;\n",
       "    }\n",
       "\n",
       "    .dataframe tbody tr th {\n",
       "        vertical-align: top;\n",
       "    }\n",
       "\n",
       "    .dataframe thead th {\n",
       "        text-align: right;\n",
       "    }\n",
       "</style>\n",
       "<table border=\"1\" class=\"dataframe\">\n",
       "  <thead>\n",
       "    <tr style=\"text-align: right;\">\n",
       "      <th></th>\n",
       "      <th>pet_sale_id</th>\n",
       "      <th>condition</th>\n",
       "      <th>color_type</th>\n",
       "      <th>length(m)</th>\n",
       "      <th>height(cm)</th>\n",
       "      <th>X1</th>\n",
       "      <th>X2</th>\n",
       "    </tr>\n",
       "  </thead>\n",
       "  <tbody>\n",
       "    <tr>\n",
       "      <th>0</th>\n",
       "      <td>ANSL_36614</td>\n",
       "      <td>0.0</td>\n",
       "      <td>Torbie</td>\n",
       "      <td>0.11</td>\n",
       "      <td>9.51</td>\n",
       "      <td>13</td>\n",
       "      <td>9</td>\n",
       "    </tr>\n",
       "  </tbody>\n",
       "</table>\n",
       "</div>"
      ],
      "text/plain": [
       "  pet_sale_id  condition color_type  length(m)  height(cm)  X1  X2\n",
       "0  ANSL_36614        0.0     Torbie       0.11        9.51  13   9"
      ]
     },
     "execution_count": 171,
     "metadata": {},
     "output_type": "execute_result"
    }
   ],
   "source": [
    "X_breed.head(1)"
   ]
  },
  {
   "cell_type": "code",
   "execution_count": 221,
   "metadata": {},
   "outputs": [
    {
     "name": "stdout",
     "output_type": "stream",
     "text": [
      "<class 'pandas.core.frame.DataFrame'>\n",
      "RangeIndex: 13991 entries, 0 to 13990\n",
      "Data columns (total 7 columns):\n",
      " #   Column       Non-Null Count  Dtype  \n",
      "---  ------       --------------  -----  \n",
      " 0   pet_sale_id  13991 non-null  object \n",
      " 1   condition    13991 non-null  float64\n",
      " 2   color_type   13991 non-null  object \n",
      " 3   length(m)    13991 non-null  float64\n",
      " 4   height(cm)   13991 non-null  float64\n",
      " 5   X1           13991 non-null  int64  \n",
      " 6   X2           13991 non-null  int64  \n",
      "dtypes: float64(3), int64(2), object(2)\n",
      "memory usage: 765.3+ KB\n"
     ]
    }
   ],
   "source": [
    "X_breed.info()"
   ]
  },
  {
   "cell_type": "code",
   "execution_count": 231,
   "metadata": {},
   "outputs": [],
   "source": [
    "# Imputing null\n",
    "trf1_breed = ColumnTransformer([\n",
    "    ('Target encoding', TargetEncoder(),[0,2]),\n",
    "    ('impute_condition', SimpleImputer(strategy='most_frequent'),[1])\n",
    "    ],remainder='passthrough'\n",
    ")\n",
    "\n",
    "#training the model\n",
    "trf2_breed = RandomForestClassifier()"
   ]
  },
  {
   "cell_type": "code",
   "execution_count": 232,
   "metadata": {},
   "outputs": [
    {
     "data": {
      "text/plain": [
       "(13991, 7)"
      ]
     },
     "execution_count": 232,
     "metadata": {},
     "output_type": "execute_result"
    }
   ],
   "source": [
    "X_breed.shape"
   ]
  },
  {
   "cell_type": "code",
   "execution_count": 233,
   "metadata": {},
   "outputs": [
    {
     "data": {
      "text/html": [
       "<div>\n",
       "<style scoped>\n",
       "    .dataframe tbody tr th:only-of-type {\n",
       "        vertical-align: middle;\n",
       "    }\n",
       "\n",
       "    .dataframe tbody tr th {\n",
       "        vertical-align: top;\n",
       "    }\n",
       "\n",
       "    .dataframe thead th {\n",
       "        text-align: right;\n",
       "    }\n",
       "</style>\n",
       "<table border=\"1\" class=\"dataframe\">\n",
       "  <thead>\n",
       "    <tr style=\"text-align: right;\">\n",
       "      <th></th>\n",
       "      <th>pet_sale_id</th>\n",
       "      <th>condition</th>\n",
       "      <th>color_type</th>\n",
       "      <th>length(m)</th>\n",
       "      <th>height(cm)</th>\n",
       "      <th>X1</th>\n",
       "      <th>X2</th>\n",
       "    </tr>\n",
       "  </thead>\n",
       "  <tbody>\n",
       "    <tr>\n",
       "      <th>0</th>\n",
       "      <td>0.652193</td>\n",
       "      <td>1.02809</td>\n",
       "      <td>0.0</td>\n",
       "      <td>0.11</td>\n",
       "      <td>9.51</td>\n",
       "      <td>13.0</td>\n",
       "      <td>9.0</td>\n",
       "    </tr>\n",
       "  </tbody>\n",
       "</table>\n",
       "</div>"
      ],
      "text/plain": [
       "   pet_sale_id  condition  color_type  length(m)  height(cm)    X1   X2\n",
       "0     0.652193    1.02809         0.0       0.11        9.51  13.0  9.0"
      ]
     },
     "execution_count": 233,
     "metadata": {},
     "output_type": "execute_result"
    }
   ],
   "source": [
    "pd.DataFrame(trf1_breed.fit_transform(X_breed,y_breed), columns=X_breed.columns).head(1)"
   ]
  },
  {
   "cell_type": "code",
   "execution_count": 50,
   "metadata": {},
   "outputs": [],
   "source": [
    "pipe_breed = Pipeline([\n",
    "    ('trf1',trf1_breed),\n",
    "    ('scale', StandardScaler()),\n",
    "    ('trf2', trf2_breed)\n",
    "])\n"
   ]
  },
  {
   "cell_type": "code",
   "execution_count": 51,
   "metadata": {},
   "outputs": [
    {
     "data": {
      "text/plain": [
       "0.4479889576663109"
      ]
     },
     "execution_count": 51,
     "metadata": {},
     "output_type": "execute_result"
    }
   ],
   "source": [
    "# cross validation using cross_val_score\n",
    "from sklearn.model_selection import cross_val_score\n",
    "cross_val_score(pipe_breed, X_train, y_train, cv=5, scoring='accuracy').mean()"
   ]
  },
  {
   "cell_type": "code",
   "execution_count": 52,
   "metadata": {},
   "outputs": [
    {
     "name": "stdout",
     "output_type": "stream",
     "text": [
      "Training the Random Forest Model.....\n",
      "Best parameters: {'trf2__max_depth': 300, 'trf2__max_features': 2, 'trf2__min_samples_leaf': 8, 'trf2__min_samples_split': 20, 'trf2__n_estimators': 100}\n",
      "Train accuracy: 0.46367134827463535\n",
      "Test accuracy: 0.4517106972715461\n",
      "\n",
      "\n",
      "The cell took 440.1736719608307 seconds to run.\n"
     ]
    }
   ],
   "source": [
    "import time\n",
    "print('Training the Random Forest Model.....')\n",
    "\n",
    "start_time = time.time()\n",
    "\n",
    "# Define the parameter grid for each model\n",
    "rf_param_grid = {'trf2__max_depth': [100,200,300],\n",
    "                'trf2__max_features': [2, 3],\n",
    "                'trf2__min_samples_leaf': [3,5,6,8,10],\n",
    "                'trf2__min_samples_split': [8,12,14,16,20],\n",
    "                'trf2__n_estimators': [100, 200]\n",
    "                }\n",
    "\n",
    "grid_breed = GridSearchCV(pipe_breed, rf_param_grid, cv=5, scoring='accuracy')\n",
    "grid_breed.fit(X_train, y_train)\n",
    "\n",
    "print(f'Best parameters: {grid_breed.best_params_}')\n",
    "print(f'Train accuracy: {grid_breed.best_score_}')\n",
    "print(f'Test accuracy: {grid_breed.score(X_test, y_test)}')\n",
    "print('\\n')\n",
    "\n",
    "end_time = time.time()\n",
    "\n",
    "print(f'The cell took {end_time - start_time} seconds to run.')"
   ]
  },
  {
   "cell_type": "markdown",
   "metadata": {},
   "source": [
    "### Model: Pet Category"
   ]
  },
  {
   "cell_type": "code",
   "execution_count": 53,
   "metadata": {},
   "outputs": [],
   "source": [
    "X_pet = train[['pet_sale_id','condition', 'color_type','length(m)', 'height(cm)', 'X1', 'X2']]\n",
    "y_pet = train['pet_category']\n",
    "\n",
    "\n",
    "X_train, X_test, y_train, y_test = train_test_split(X_pet, y_pet, test_size=0.33, random_state=42)"
   ]
  },
  {
   "cell_type": "code",
   "execution_count": 54,
   "metadata": {},
   "outputs": [],
   "source": [
    "# Imputing null\n",
    "trf1_pet = ColumnTransformer([\n",
    "    ('impute_condition', SimpleImputer(strategy='most_frequent'),[1]),\n",
    "    ('Target encoding', TargetEncoder(), [0,2])\n",
    "    ],remainder='passthrough'\n",
    ")\n",
    "\n",
    "#training the model\n",
    "trf2_pet = RandomForestClassifier()"
   ]
  },
  {
   "cell_type": "code",
   "execution_count": 55,
   "metadata": {},
   "outputs": [
    {
     "data": {
      "text/plain": [
       "0.5694015795090716"
      ]
     },
     "execution_count": 55,
     "metadata": {},
     "output_type": "execute_result"
    }
   ],
   "source": [
    "pipe_pet = Pipeline([\n",
    "    ('trf1',trf1_pet),\n",
    "    ('scale', StandardScaler()),\n",
    "    ('trf2', trf2_pet)\n",
    "])\n",
    "\n",
    "cross_val_score(pipe_pet, X_train, y_train, cv=5, scoring='accuracy').mean()"
   ]
  },
  {
   "cell_type": "code",
   "execution_count": 56,
   "metadata": {},
   "outputs": [
    {
     "name": "stdout",
     "output_type": "stream",
     "text": [
      "Training the Random Forest Model.....\n",
      "Best parameters: {'trf2__max_depth': 300, 'trf2__max_features': 2, 'trf2__min_samples_leaf': 6, 'trf2__min_samples_split': 20, 'trf2__n_estimators': 100}\n",
      "Train accuracy: 0.5718549128424049\n",
      "Test accuracy: 0.5673451710697271\n",
      "\n",
      "\n",
      "The cell took 546.5613570213318 seconds to run.\n"
     ]
    }
   ],
   "source": [
    "print('Training the Random Forest Model.....')\n",
    "\n",
    "start_time = time.time()\n",
    "\n",
    "# Define the parameter grid for each model\n",
    "rf_param_grid = {'trf2__max_depth': [100,200,300],\n",
    "                'trf2__max_features': [2, 3],\n",
    "                'trf2__min_samples_leaf': [3,5,6,8,10],\n",
    "                'trf2__min_samples_split': [8,12,14,16,20],\n",
    "                'trf2__n_estimators': [100, 200]\n",
    "                }\n",
    "\n",
    "grid_pet = GridSearchCV(pipe_pet, rf_param_grid, cv=5, scoring='accuracy')\n",
    "grid_pet.fit(X_train, y_train)\n",
    "\n",
    "print(f'Best parameters: {grid_pet.best_params_}')\n",
    "print(f'Train accuracy: {grid_pet.best_score_}')\n",
    "print(f'Test accuracy: {grid_pet.score(X_test, y_test)}')\n",
    "print('\\n')\n",
    "\n",
    "end_time = time.time()\n",
    "\n",
    "print(f'The cell took {end_time - start_time} seconds to run.')"
   ]
  },
  {
   "cell_type": "code",
   "execution_count": 57,
   "metadata": {},
   "outputs": [
    {
     "data": {
      "text/html": [
       "<div>\n",
       "<style scoped>\n",
       "    .dataframe tbody tr th:only-of-type {\n",
       "        vertical-align: middle;\n",
       "    }\n",
       "\n",
       "    .dataframe tbody tr th {\n",
       "        vertical-align: top;\n",
       "    }\n",
       "\n",
       "    .dataframe thead th {\n",
       "        text-align: right;\n",
       "    }\n",
       "</style>\n",
       "<table border=\"1\" class=\"dataframe\">\n",
       "  <thead>\n",
       "    <tr style=\"text-align: right;\">\n",
       "      <th></th>\n",
       "      <th>pet_sale_id</th>\n",
       "      <th>issue_date</th>\n",
       "      <th>listing_date</th>\n",
       "      <th>condition</th>\n",
       "      <th>color_type</th>\n",
       "      <th>length(m)</th>\n",
       "      <th>height(cm)</th>\n",
       "      <th>X1</th>\n",
       "      <th>X2</th>\n",
       "    </tr>\n",
       "  </thead>\n",
       "  <tbody>\n",
       "    <tr>\n",
       "      <th>0</th>\n",
       "      <td>ANSL_1354</td>\n",
       "      <td>2015-06-19 00:00:00</td>\n",
       "      <td>2015-07-24 13:20:00</td>\n",
       "      <td>2.0</td>\n",
       "      <td>Black</td>\n",
       "      <td>0.27</td>\n",
       "      <td>22.75</td>\n",
       "      <td>13</td>\n",
       "      <td>9</td>\n",
       "    </tr>\n",
       "    <tr>\n",
       "      <th>1</th>\n",
       "      <td>ANSL_22102</td>\n",
       "      <td>2015-08-28 00:00:00</td>\n",
       "      <td>2015-12-05 14:13:00</td>\n",
       "      <td>1.0</td>\n",
       "      <td>Black</td>\n",
       "      <td>0.57</td>\n",
       "      <td>21.17</td>\n",
       "      <td>0</td>\n",
       "      <td>1</td>\n",
       "    </tr>\n",
       "    <tr>\n",
       "      <th>2</th>\n",
       "      <td>ANSL_12994</td>\n",
       "      <td>2015-06-21 00:00:00</td>\n",
       "      <td>2015-10-30 18:08:00</td>\n",
       "      <td>1.0</td>\n",
       "      <td>Orange Tabby</td>\n",
       "      <td>0.00</td>\n",
       "      <td>34.34</td>\n",
       "      <td>0</td>\n",
       "      <td>1</td>\n",
       "    </tr>\n",
       "    <tr>\n",
       "      <th>3</th>\n",
       "      <td>ANSL_35930</td>\n",
       "      <td>2010-04-14 00:00:00</td>\n",
       "      <td>2018-05-10 14:55:00</td>\n",
       "      <td>0.0</td>\n",
       "      <td>Tan</td>\n",
       "      <td>0.46</td>\n",
       "      <td>44.66</td>\n",
       "      <td>13</td>\n",
       "      <td>9</td>\n",
       "    </tr>\n",
       "    <tr>\n",
       "      <th>4</th>\n",
       "      <td>ANSL_41868</td>\n",
       "      <td>2016-08-16 00:00:00</td>\n",
       "      <td>2016-09-16 19:06:00</td>\n",
       "      <td>NaN</td>\n",
       "      <td>Black</td>\n",
       "      <td>0.89</td>\n",
       "      <td>14.72</td>\n",
       "      <td>13</td>\n",
       "      <td>9</td>\n",
       "    </tr>\n",
       "    <tr>\n",
       "      <th>...</th>\n",
       "      <td>...</td>\n",
       "      <td>...</td>\n",
       "      <td>...</td>\n",
       "      <td>...</td>\n",
       "      <td>...</td>\n",
       "      <td>...</td>\n",
       "      <td>...</td>\n",
       "      <td>...</td>\n",
       "      <td>...</td>\n",
       "    </tr>\n",
       "    <tr>\n",
       "      <th>5992</th>\n",
       "      <td>ANSL_9471</td>\n",
       "      <td>2015-10-06 00:00:00</td>\n",
       "      <td>2015-11-04 16:50:00</td>\n",
       "      <td>2.0</td>\n",
       "      <td>Orange Tabby</td>\n",
       "      <td>0.60</td>\n",
       "      <td>32.68</td>\n",
       "      <td>13</td>\n",
       "      <td>9</td>\n",
       "    </tr>\n",
       "    <tr>\n",
       "      <th>5993</th>\n",
       "      <td>ANSL_49040</td>\n",
       "      <td>2017-04-13 00:00:00</td>\n",
       "      <td>2017-07-08 19:00:00</td>\n",
       "      <td>1.0</td>\n",
       "      <td>Chocolate</td>\n",
       "      <td>0.40</td>\n",
       "      <td>48.06</td>\n",
       "      <td>0</td>\n",
       "      <td>1</td>\n",
       "    </tr>\n",
       "    <tr>\n",
       "      <th>5994</th>\n",
       "      <td>ANSL_16530</td>\n",
       "      <td>2015-11-21 00:00:00</td>\n",
       "      <td>2016-03-12 12:37:00</td>\n",
       "      <td>1.0</td>\n",
       "      <td>Black</td>\n",
       "      <td>0.53</td>\n",
       "      <td>10.97</td>\n",
       "      <td>7</td>\n",
       "      <td>1</td>\n",
       "    </tr>\n",
       "    <tr>\n",
       "      <th>5995</th>\n",
       "      <td>ANSL_42416</td>\n",
       "      <td>2016-09-07 00:00:00</td>\n",
       "      <td>2017-12-04 12:22:00</td>\n",
       "      <td>1.0</td>\n",
       "      <td>Red</td>\n",
       "      <td>0.13</td>\n",
       "      <td>19.53</td>\n",
       "      <td>0</td>\n",
       "      <td>1</td>\n",
       "    </tr>\n",
       "    <tr>\n",
       "      <th>5996</th>\n",
       "      <td>ANSL_14847</td>\n",
       "      <td>2007-09-10 00:00:00</td>\n",
       "      <td>2015-10-01 16:37:00</td>\n",
       "      <td>2.0</td>\n",
       "      <td>Black</td>\n",
       "      <td>0.96</td>\n",
       "      <td>38.94</td>\n",
       "      <td>18</td>\n",
       "      <td>4</td>\n",
       "    </tr>\n",
       "  </tbody>\n",
       "</table>\n",
       "<p>5997 rows × 9 columns</p>\n",
       "</div>"
      ],
      "text/plain": [
       "     pet_sale_id           issue_date         listing_date  condition  \\\n",
       "0      ANSL_1354  2015-06-19 00:00:00  2015-07-24 13:20:00        2.0   \n",
       "1     ANSL_22102  2015-08-28 00:00:00  2015-12-05 14:13:00        1.0   \n",
       "2     ANSL_12994  2015-06-21 00:00:00  2015-10-30 18:08:00        1.0   \n",
       "3     ANSL_35930  2010-04-14 00:00:00  2018-05-10 14:55:00        0.0   \n",
       "4     ANSL_41868  2016-08-16 00:00:00  2016-09-16 19:06:00        NaN   \n",
       "...          ...                  ...                  ...        ...   \n",
       "5992   ANSL_9471  2015-10-06 00:00:00  2015-11-04 16:50:00        2.0   \n",
       "5993  ANSL_49040  2017-04-13 00:00:00  2017-07-08 19:00:00        1.0   \n",
       "5994  ANSL_16530  2015-11-21 00:00:00  2016-03-12 12:37:00        1.0   \n",
       "5995  ANSL_42416  2016-09-07 00:00:00  2017-12-04 12:22:00        1.0   \n",
       "5996  ANSL_14847  2007-09-10 00:00:00  2015-10-01 16:37:00        2.0   \n",
       "\n",
       "        color_type  length(m)  height(cm)  X1  X2  \n",
       "0            Black       0.27       22.75  13   9  \n",
       "1            Black       0.57       21.17   0   1  \n",
       "2     Orange Tabby       0.00       34.34   0   1  \n",
       "3              Tan       0.46       44.66  13   9  \n",
       "4            Black       0.89       14.72  13   9  \n",
       "...            ...        ...         ...  ..  ..  \n",
       "5992  Orange Tabby       0.60       32.68  13   9  \n",
       "5993     Chocolate       0.40       48.06   0   1  \n",
       "5994         Black       0.53       10.97   7   1  \n",
       "5995           Red       0.13       19.53   0   1  \n",
       "5996         Black       0.96       38.94  18   4  \n",
       "\n",
       "[5997 rows x 9 columns]"
      ]
     },
     "execution_count": 57,
     "metadata": {},
     "output_type": "execute_result"
    }
   ],
   "source": [
    "test"
   ]
  },
  {
   "cell_type": "code",
   "execution_count": 71,
   "metadata": {},
   "outputs": [],
   "source": [
    "breed_pred = grid_breed.predict(test[['pet_sale_id','condition', 'color_type',\n",
    "       'length(m)', 'height(cm)', 'X1', 'X2']])\n",
    "pet_pred = grid_pet.predict(test[['pet_sale_id','condition', 'color_type',\n",
    "       'length(m)', 'height(cm)', 'X1', 'X2']])"
   ]
  },
  {
   "cell_type": "code",
   "execution_count": 72,
   "metadata": {},
   "outputs": [],
   "source": [
    "submission = pd.DataFrame(test['pet_sale_id'])"
   ]
  },
  {
   "cell_type": "code",
   "execution_count": 73,
   "metadata": {},
   "outputs": [],
   "source": [
    "submission['breed_category'] = breed_pred\n",
    "submission['pet_category'] = pet_pred"
   ]
  },
  {
   "cell_type": "code",
   "execution_count": 74,
   "metadata": {},
   "outputs": [
    {
     "data": {
      "text/html": [
       "<div>\n",
       "<style scoped>\n",
       "    .dataframe tbody tr th:only-of-type {\n",
       "        vertical-align: middle;\n",
       "    }\n",
       "\n",
       "    .dataframe tbody tr th {\n",
       "        vertical-align: top;\n",
       "    }\n",
       "\n",
       "    .dataframe thead th {\n",
       "        text-align: right;\n",
       "    }\n",
       "</style>\n",
       "<table border=\"1\" class=\"dataframe\">\n",
       "  <thead>\n",
       "    <tr style=\"text-align: right;\">\n",
       "      <th></th>\n",
       "      <th>pet_sale_id</th>\n",
       "      <th>breed_category</th>\n",
       "      <th>pet_category</th>\n",
       "    </tr>\n",
       "  </thead>\n",
       "  <tbody>\n",
       "    <tr>\n",
       "      <th>0</th>\n",
       "      <td>ANSL_1354</td>\n",
       "      <td>1</td>\n",
       "      <td>2</td>\n",
       "    </tr>\n",
       "    <tr>\n",
       "      <th>1</th>\n",
       "      <td>ANSL_22102</td>\n",
       "      <td>1</td>\n",
       "      <td>2</td>\n",
       "    </tr>\n",
       "    <tr>\n",
       "      <th>2</th>\n",
       "      <td>ANSL_12994</td>\n",
       "      <td>1</td>\n",
       "      <td>2</td>\n",
       "    </tr>\n",
       "    <tr>\n",
       "      <th>3</th>\n",
       "      <td>ANSL_35930</td>\n",
       "      <td>1</td>\n",
       "      <td>2</td>\n",
       "    </tr>\n",
       "    <tr>\n",
       "      <th>4</th>\n",
       "      <td>ANSL_41868</td>\n",
       "      <td>1</td>\n",
       "      <td>2</td>\n",
       "    </tr>\n",
       "    <tr>\n",
       "      <th>...</th>\n",
       "      <td>...</td>\n",
       "      <td>...</td>\n",
       "      <td>...</td>\n",
       "    </tr>\n",
       "    <tr>\n",
       "      <th>5992</th>\n",
       "      <td>ANSL_9471</td>\n",
       "      <td>1</td>\n",
       "      <td>2</td>\n",
       "    </tr>\n",
       "    <tr>\n",
       "      <th>5993</th>\n",
       "      <td>ANSL_49040</td>\n",
       "      <td>1</td>\n",
       "      <td>2</td>\n",
       "    </tr>\n",
       "    <tr>\n",
       "      <th>5994</th>\n",
       "      <td>ANSL_16530</td>\n",
       "      <td>1</td>\n",
       "      <td>2</td>\n",
       "    </tr>\n",
       "    <tr>\n",
       "      <th>5995</th>\n",
       "      <td>ANSL_42416</td>\n",
       "      <td>1</td>\n",
       "      <td>2</td>\n",
       "    </tr>\n",
       "    <tr>\n",
       "      <th>5996</th>\n",
       "      <td>ANSL_14847</td>\n",
       "      <td>1</td>\n",
       "      <td>2</td>\n",
       "    </tr>\n",
       "  </tbody>\n",
       "</table>\n",
       "<p>5997 rows × 3 columns</p>\n",
       "</div>"
      ],
      "text/plain": [
       "     pet_sale_id  breed_category  pet_category\n",
       "0      ANSL_1354               1             2\n",
       "1     ANSL_22102               1             2\n",
       "2     ANSL_12994               1             2\n",
       "3     ANSL_35930               1             2\n",
       "4     ANSL_41868               1             2\n",
       "...          ...             ...           ...\n",
       "5992   ANSL_9471               1             2\n",
       "5993  ANSL_49040               1             2\n",
       "5994  ANSL_16530               1             2\n",
       "5995  ANSL_42416               1             2\n",
       "5996  ANSL_14847               1             2\n",
       "\n",
       "[5997 rows x 3 columns]"
      ]
     },
     "execution_count": 74,
     "metadata": {},
     "output_type": "execute_result"
    }
   ],
   "source": [
    "submission"
   ]
  },
  {
   "cell_type": "markdown",
   "metadata": {},
   "source": [
    "## Test Method: Only being used for now. "
   ]
  },
  {
   "cell_type": "code",
   "execution_count": 55,
   "metadata": {},
   "outputs": [
    {
     "data": {
      "text/html": [
       "<div>\n",
       "<style scoped>\n",
       "    .dataframe tbody tr th:only-of-type {\n",
       "        vertical-align: middle;\n",
       "    }\n",
       "\n",
       "    .dataframe tbody tr th {\n",
       "        vertical-align: top;\n",
       "    }\n",
       "\n",
       "    .dataframe thead th {\n",
       "        text-align: right;\n",
       "    }\n",
       "</style>\n",
       "<table border=\"1\" class=\"dataframe\">\n",
       "  <thead>\n",
       "    <tr style=\"text-align: right;\">\n",
       "      <th></th>\n",
       "      <th>pet_sale_id</th>\n",
       "      <th>issue_date</th>\n",
       "      <th>listing_date</th>\n",
       "      <th>condition</th>\n",
       "      <th>color_type</th>\n",
       "      <th>length(m)</th>\n",
       "      <th>height(cm)</th>\n",
       "      <th>X1</th>\n",
       "      <th>X2</th>\n",
       "      <th>breed_category</th>\n",
       "      <th>pet_category</th>\n",
       "      <th>listing_year</th>\n",
       "      <th>listing_month</th>\n",
       "      <th>listing_day</th>\n",
       "      <th>listing_dayofweek</th>\n",
       "      <th>issue_year</th>\n",
       "      <th>issue_month</th>\n",
       "      <th>issue_day</th>\n",
       "      <th>issue_dayofweek</th>\n",
       "      <th>datediff_listing_to_issue</th>\n",
       "    </tr>\n",
       "  </thead>\n",
       "  <tbody>\n",
       "    <tr>\n",
       "      <th>0</th>\n",
       "      <td>ANSL_36614</td>\n",
       "      <td>2011-01-12</td>\n",
       "      <td>2018-02-18 15:56:00</td>\n",
       "      <td>0.0</td>\n",
       "      <td>Torbie</td>\n",
       "      <td>0.11</td>\n",
       "      <td>9.51</td>\n",
       "      <td>13</td>\n",
       "      <td>9</td>\n",
       "      <td>1</td>\n",
       "      <td>1</td>\n",
       "      <td>2018</td>\n",
       "      <td>2</td>\n",
       "      <td>18</td>\n",
       "      <td>6</td>\n",
       "      <td>2011</td>\n",
       "      <td>1</td>\n",
       "      <td>12</td>\n",
       "      <td>2</td>\n",
       "      <td>224178960.0</td>\n",
       "    </tr>\n",
       "    <tr>\n",
       "      <th>1</th>\n",
       "      <td>ANSL_22109</td>\n",
       "      <td>2015-07-24</td>\n",
       "      <td>2015-10-14 12:06:00</td>\n",
       "      <td>2.0</td>\n",
       "      <td>Brown Tabby</td>\n",
       "      <td>0.42</td>\n",
       "      <td>48.74</td>\n",
       "      <td>0</td>\n",
       "      <td>2</td>\n",
       "      <td>0</td>\n",
       "      <td>1</td>\n",
       "      <td>2015</td>\n",
       "      <td>10</td>\n",
       "      <td>14</td>\n",
       "      <td>2</td>\n",
       "      <td>2015</td>\n",
       "      <td>7</td>\n",
       "      <td>24</td>\n",
       "      <td>4</td>\n",
       "      <td>7128360.0</td>\n",
       "    </tr>\n",
       "    <tr>\n",
       "      <th>2</th>\n",
       "      <td>ANSL_27582</td>\n",
       "      <td>2016-12-02</td>\n",
       "      <td>2017-02-11 14:24:00</td>\n",
       "      <td>2.0</td>\n",
       "      <td>Black</td>\n",
       "      <td>0.90</td>\n",
       "      <td>34.45</td>\n",
       "      <td>13</td>\n",
       "      <td>9</td>\n",
       "      <td>1</td>\n",
       "      <td>1</td>\n",
       "      <td>2017</td>\n",
       "      <td>2</td>\n",
       "      <td>11</td>\n",
       "      <td>5</td>\n",
       "      <td>2016</td>\n",
       "      <td>12</td>\n",
       "      <td>2</td>\n",
       "      <td>4</td>\n",
       "      <td>6186240.0</td>\n",
       "    </tr>\n",
       "    <tr>\n",
       "      <th>3</th>\n",
       "      <td>ANSL_637</td>\n",
       "      <td>2015-07-05</td>\n",
       "      <td>2015-10-13 17:40:00</td>\n",
       "      <td>1.0</td>\n",
       "      <td>Flame Point</td>\n",
       "      <td>0.94</td>\n",
       "      <td>48.91</td>\n",
       "      <td>7</td>\n",
       "      <td>1</td>\n",
       "      <td>0</td>\n",
       "      <td>1</td>\n",
       "      <td>2015</td>\n",
       "      <td>10</td>\n",
       "      <td>13</td>\n",
       "      <td>1</td>\n",
       "      <td>2015</td>\n",
       "      <td>7</td>\n",
       "      <td>5</td>\n",
       "      <td>6</td>\n",
       "      <td>8703600.0</td>\n",
       "    </tr>\n",
       "    <tr>\n",
       "      <th>4</th>\n",
       "      <td>ANSL_27541</td>\n",
       "      <td>2016-01-16</td>\n",
       "      <td>2017-08-31 18:06:00</td>\n",
       "      <td>1.0</td>\n",
       "      <td>Yellow Brindle</td>\n",
       "      <td>0.78</td>\n",
       "      <td>17.07</td>\n",
       "      <td>0</td>\n",
       "      <td>7</td>\n",
       "      <td>0</td>\n",
       "      <td>2</td>\n",
       "      <td>2017</td>\n",
       "      <td>8</td>\n",
       "      <td>31</td>\n",
       "      <td>3</td>\n",
       "      <td>2016</td>\n",
       "      <td>1</td>\n",
       "      <td>16</td>\n",
       "      <td>5</td>\n",
       "      <td>51300360.0</td>\n",
       "    </tr>\n",
       "  </tbody>\n",
       "</table>\n",
       "</div>"
      ],
      "text/plain": [
       "  pet_sale_id issue_date        listing_date  condition      color_type  \\\n",
       "0  ANSL_36614 2011-01-12 2018-02-18 15:56:00        0.0          Torbie   \n",
       "1  ANSL_22109 2015-07-24 2015-10-14 12:06:00        2.0     Brown Tabby   \n",
       "2  ANSL_27582 2016-12-02 2017-02-11 14:24:00        2.0           Black   \n",
       "3    ANSL_637 2015-07-05 2015-10-13 17:40:00        1.0     Flame Point   \n",
       "4  ANSL_27541 2016-01-16 2017-08-31 18:06:00        1.0  Yellow Brindle   \n",
       "\n",
       "   length(m)  height(cm)  X1  X2  breed_category  pet_category  listing_year  \\\n",
       "0       0.11        9.51  13   9               1             1          2018   \n",
       "1       0.42       48.74   0   2               0             1          2015   \n",
       "2       0.90       34.45  13   9               1             1          2017   \n",
       "3       0.94       48.91   7   1               0             1          2015   \n",
       "4       0.78       17.07   0   7               0             2          2017   \n",
       "\n",
       "   listing_month  listing_day  listing_dayofweek  issue_year  issue_month  \\\n",
       "0              2           18                  6        2011            1   \n",
       "1             10           14                  2        2015            7   \n",
       "2              2           11                  5        2016           12   \n",
       "3             10           13                  1        2015            7   \n",
       "4              8           31                  3        2016            1   \n",
       "\n",
       "   issue_day  issue_dayofweek  datediff_listing_to_issue  \n",
       "0         12                2                224178960.0  \n",
       "1         24                4                  7128360.0  \n",
       "2          2                4                  6186240.0  \n",
       "3          5                6                  8703600.0  \n",
       "4         16                5                 51300360.0  "
      ]
     },
     "execution_count": 55,
     "metadata": {},
     "output_type": "execute_result"
    }
   ],
   "source": [
    "train.head()"
   ]
  },
  {
   "cell_type": "code",
   "execution_count": 59,
   "metadata": {},
   "outputs": [],
   "source": [
    "train['listing_date'] = pd.to_datetime(train['listing_date'])\n",
    "train['listing_year'] = train['listing_date'].dt.year\n",
    "train['listing_month'] = train['listing_date'].dt.month\n",
    "train['listing_day'] = train['listing_date'].dt.day\n",
    "train['listing_dayofweek'] = train['listing_date'].dt.dayofweek\n",
    "\n",
    "\n",
    "\n",
    "train['issue_date'] = pd.to_datetime(train['issue_date'])\n",
    "train['issue_year'] = train['issue_date'].dt.year\n",
    "train['issue_month'] = train['issue_date'].dt.month\n",
    "train['issue_day'] = train['issue_date'].dt.day\n",
    "train['issue_dayofweek'] = train['issue_date'].dt.dayofweek\n",
    "\n",
    "\n",
    "train['datediff_listing_to_issue'] = (train['listing_date'] - train['issue_date']).dt.total_seconds()\n",
    "train['year_diff'] = train['listing_year'] - train['issue_year']\n"
   ]
  },
  {
   "cell_type": "code",
   "execution_count": 60,
   "metadata": {},
   "outputs": [
    {
     "data": {
      "text/html": [
       "<div>\n",
       "<style scoped>\n",
       "    .dataframe tbody tr th:only-of-type {\n",
       "        vertical-align: middle;\n",
       "    }\n",
       "\n",
       "    .dataframe tbody tr th {\n",
       "        vertical-align: top;\n",
       "    }\n",
       "\n",
       "    .dataframe thead th {\n",
       "        text-align: right;\n",
       "    }\n",
       "</style>\n",
       "<table border=\"1\" class=\"dataframe\">\n",
       "  <thead>\n",
       "    <tr style=\"text-align: right;\">\n",
       "      <th></th>\n",
       "      <th>pet_sale_id</th>\n",
       "      <th>issue_date</th>\n",
       "      <th>listing_date</th>\n",
       "      <th>condition</th>\n",
       "      <th>color_type</th>\n",
       "      <th>length(m)</th>\n",
       "      <th>height(cm)</th>\n",
       "      <th>X1</th>\n",
       "      <th>X2</th>\n",
       "      <th>breed_category</th>\n",
       "      <th>...</th>\n",
       "      <th>listing_year</th>\n",
       "      <th>listing_month</th>\n",
       "      <th>listing_day</th>\n",
       "      <th>listing_dayofweek</th>\n",
       "      <th>issue_year</th>\n",
       "      <th>issue_month</th>\n",
       "      <th>issue_day</th>\n",
       "      <th>issue_dayofweek</th>\n",
       "      <th>datediff_listing_to_issue</th>\n",
       "      <th>year_diff</th>\n",
       "    </tr>\n",
       "  </thead>\n",
       "  <tbody>\n",
       "    <tr>\n",
       "      <th>0</th>\n",
       "      <td>ANSL_36614</td>\n",
       "      <td>2011-01-12</td>\n",
       "      <td>2018-02-18 15:56:00</td>\n",
       "      <td>0.0</td>\n",
       "      <td>Torbie</td>\n",
       "      <td>0.11</td>\n",
       "      <td>9.51</td>\n",
       "      <td>13</td>\n",
       "      <td>9</td>\n",
       "      <td>1</td>\n",
       "      <td>...</td>\n",
       "      <td>2018</td>\n",
       "      <td>2</td>\n",
       "      <td>18</td>\n",
       "      <td>6</td>\n",
       "      <td>2011</td>\n",
       "      <td>1</td>\n",
       "      <td>12</td>\n",
       "      <td>2</td>\n",
       "      <td>224178960.0</td>\n",
       "      <td>7</td>\n",
       "    </tr>\n",
       "    <tr>\n",
       "      <th>1</th>\n",
       "      <td>ANSL_22109</td>\n",
       "      <td>2015-07-24</td>\n",
       "      <td>2015-10-14 12:06:00</td>\n",
       "      <td>2.0</td>\n",
       "      <td>Brown Tabby</td>\n",
       "      <td>0.42</td>\n",
       "      <td>48.74</td>\n",
       "      <td>0</td>\n",
       "      <td>2</td>\n",
       "      <td>0</td>\n",
       "      <td>...</td>\n",
       "      <td>2015</td>\n",
       "      <td>10</td>\n",
       "      <td>14</td>\n",
       "      <td>2</td>\n",
       "      <td>2015</td>\n",
       "      <td>7</td>\n",
       "      <td>24</td>\n",
       "      <td>4</td>\n",
       "      <td>7128360.0</td>\n",
       "      <td>0</td>\n",
       "    </tr>\n",
       "    <tr>\n",
       "      <th>2</th>\n",
       "      <td>ANSL_27582</td>\n",
       "      <td>2016-12-02</td>\n",
       "      <td>2017-02-11 14:24:00</td>\n",
       "      <td>2.0</td>\n",
       "      <td>Black</td>\n",
       "      <td>0.90</td>\n",
       "      <td>34.45</td>\n",
       "      <td>13</td>\n",
       "      <td>9</td>\n",
       "      <td>1</td>\n",
       "      <td>...</td>\n",
       "      <td>2017</td>\n",
       "      <td>2</td>\n",
       "      <td>11</td>\n",
       "      <td>5</td>\n",
       "      <td>2016</td>\n",
       "      <td>12</td>\n",
       "      <td>2</td>\n",
       "      <td>4</td>\n",
       "      <td>6186240.0</td>\n",
       "      <td>1</td>\n",
       "    </tr>\n",
       "    <tr>\n",
       "      <th>3</th>\n",
       "      <td>ANSL_637</td>\n",
       "      <td>2015-07-05</td>\n",
       "      <td>2015-10-13 17:40:00</td>\n",
       "      <td>1.0</td>\n",
       "      <td>Flame Point</td>\n",
       "      <td>0.94</td>\n",
       "      <td>48.91</td>\n",
       "      <td>7</td>\n",
       "      <td>1</td>\n",
       "      <td>0</td>\n",
       "      <td>...</td>\n",
       "      <td>2015</td>\n",
       "      <td>10</td>\n",
       "      <td>13</td>\n",
       "      <td>1</td>\n",
       "      <td>2015</td>\n",
       "      <td>7</td>\n",
       "      <td>5</td>\n",
       "      <td>6</td>\n",
       "      <td>8703600.0</td>\n",
       "      <td>0</td>\n",
       "    </tr>\n",
       "    <tr>\n",
       "      <th>4</th>\n",
       "      <td>ANSL_27541</td>\n",
       "      <td>2016-01-16</td>\n",
       "      <td>2017-08-31 18:06:00</td>\n",
       "      <td>1.0</td>\n",
       "      <td>Yellow Brindle</td>\n",
       "      <td>0.78</td>\n",
       "      <td>17.07</td>\n",
       "      <td>0</td>\n",
       "      <td>7</td>\n",
       "      <td>0</td>\n",
       "      <td>...</td>\n",
       "      <td>2017</td>\n",
       "      <td>8</td>\n",
       "      <td>31</td>\n",
       "      <td>3</td>\n",
       "      <td>2016</td>\n",
       "      <td>1</td>\n",
       "      <td>16</td>\n",
       "      <td>5</td>\n",
       "      <td>51300360.0</td>\n",
       "      <td>1</td>\n",
       "    </tr>\n",
       "    <tr>\n",
       "      <th>...</th>\n",
       "      <td>...</td>\n",
       "      <td>...</td>\n",
       "      <td>...</td>\n",
       "      <td>...</td>\n",
       "      <td>...</td>\n",
       "      <td>...</td>\n",
       "      <td>...</td>\n",
       "      <td>...</td>\n",
       "      <td>...</td>\n",
       "      <td>...</td>\n",
       "      <td>...</td>\n",
       "      <td>...</td>\n",
       "      <td>...</td>\n",
       "      <td>...</td>\n",
       "      <td>...</td>\n",
       "      <td>...</td>\n",
       "      <td>...</td>\n",
       "      <td>...</td>\n",
       "      <td>...</td>\n",
       "      <td>...</td>\n",
       "      <td>...</td>\n",
       "    </tr>\n",
       "    <tr>\n",
       "      <th>13986</th>\n",
       "      <td>ANSL_34932</td>\n",
       "      <td>2015-06-10</td>\n",
       "      <td>2016-08-05 18:39:00</td>\n",
       "      <td>1.0</td>\n",
       "      <td>Yellow</td>\n",
       "      <td>0.74</td>\n",
       "      <td>43.17</td>\n",
       "      <td>0</td>\n",
       "      <td>1</td>\n",
       "      <td>0</td>\n",
       "      <td>...</td>\n",
       "      <td>2016</td>\n",
       "      <td>8</td>\n",
       "      <td>5</td>\n",
       "      <td>4</td>\n",
       "      <td>2015</td>\n",
       "      <td>6</td>\n",
       "      <td>10</td>\n",
       "      <td>2</td>\n",
       "      <td>36527940.0</td>\n",
       "      <td>1</td>\n",
       "    </tr>\n",
       "    <tr>\n",
       "      <th>13987</th>\n",
       "      <td>ANSL_8393</td>\n",
       "      <td>2014-05-16</td>\n",
       "      <td>2015-04-10 15:26:00</td>\n",
       "      <td>0.0</td>\n",
       "      <td>Calico</td>\n",
       "      <td>0.44</td>\n",
       "      <td>18.98</td>\n",
       "      <td>13</td>\n",
       "      <td>9</td>\n",
       "      <td>1</td>\n",
       "      <td>...</td>\n",
       "      <td>2015</td>\n",
       "      <td>4</td>\n",
       "      <td>10</td>\n",
       "      <td>4</td>\n",
       "      <td>2014</td>\n",
       "      <td>5</td>\n",
       "      <td>16</td>\n",
       "      <td>4</td>\n",
       "      <td>28481160.0</td>\n",
       "      <td>1</td>\n",
       "    </tr>\n",
       "    <tr>\n",
       "      <th>13988</th>\n",
       "      <td>ANSL_27370</td>\n",
       "      <td>2017-07-22</td>\n",
       "      <td>2018-07-29 08:38:00</td>\n",
       "      <td>0.0</td>\n",
       "      <td>Brown Brindle</td>\n",
       "      <td>1.00</td>\n",
       "      <td>24.39</td>\n",
       "      <td>7</td>\n",
       "      <td>1</td>\n",
       "      <td>1</td>\n",
       "      <td>...</td>\n",
       "      <td>2018</td>\n",
       "      <td>7</td>\n",
       "      <td>29</td>\n",
       "      <td>6</td>\n",
       "      <td>2017</td>\n",
       "      <td>7</td>\n",
       "      <td>22</td>\n",
       "      <td>5</td>\n",
       "      <td>32171880.0</td>\n",
       "      <td>1</td>\n",
       "    </tr>\n",
       "    <tr>\n",
       "      <th>13989</th>\n",
       "      <td>ANSL_37437</td>\n",
       "      <td>2017-06-08</td>\n",
       "      <td>2018-06-30 09:00:00</td>\n",
       "      <td>0.0</td>\n",
       "      <td>Brown Tabby</td>\n",
       "      <td>0.93</td>\n",
       "      <td>46.64</td>\n",
       "      <td>16</td>\n",
       "      <td>9</td>\n",
       "      <td>1</td>\n",
       "      <td>...</td>\n",
       "      <td>2018</td>\n",
       "      <td>6</td>\n",
       "      <td>30</td>\n",
       "      <td>5</td>\n",
       "      <td>2017</td>\n",
       "      <td>6</td>\n",
       "      <td>8</td>\n",
       "      <td>3</td>\n",
       "      <td>33469200.0</td>\n",
       "      <td>1</td>\n",
       "    </tr>\n",
       "    <tr>\n",
       "      <th>13990</th>\n",
       "      <td>ANSL_14742</td>\n",
       "      <td>2013-03-07</td>\n",
       "      <td>2015-03-28 14:03:00</td>\n",
       "      <td>2.0</td>\n",
       "      <td>Orange Tabby</td>\n",
       "      <td>0.23</td>\n",
       "      <td>13.64</td>\n",
       "      <td>16</td>\n",
       "      <td>9</td>\n",
       "      <td>0</td>\n",
       "      <td>...</td>\n",
       "      <td>2015</td>\n",
       "      <td>3</td>\n",
       "      <td>28</td>\n",
       "      <td>5</td>\n",
       "      <td>2013</td>\n",
       "      <td>3</td>\n",
       "      <td>7</td>\n",
       "      <td>3</td>\n",
       "      <td>64936980.0</td>\n",
       "      <td>2</td>\n",
       "    </tr>\n",
       "  </tbody>\n",
       "</table>\n",
       "<p>13991 rows × 21 columns</p>\n",
       "</div>"
      ],
      "text/plain": [
       "      pet_sale_id issue_date        listing_date  condition      color_type  \\\n",
       "0      ANSL_36614 2011-01-12 2018-02-18 15:56:00        0.0          Torbie   \n",
       "1      ANSL_22109 2015-07-24 2015-10-14 12:06:00        2.0     Brown Tabby   \n",
       "2      ANSL_27582 2016-12-02 2017-02-11 14:24:00        2.0           Black   \n",
       "3        ANSL_637 2015-07-05 2015-10-13 17:40:00        1.0     Flame Point   \n",
       "4      ANSL_27541 2016-01-16 2017-08-31 18:06:00        1.0  Yellow Brindle   \n",
       "...           ...        ...                 ...        ...             ...   \n",
       "13986  ANSL_34932 2015-06-10 2016-08-05 18:39:00        1.0          Yellow   \n",
       "13987   ANSL_8393 2014-05-16 2015-04-10 15:26:00        0.0          Calico   \n",
       "13988  ANSL_27370 2017-07-22 2018-07-29 08:38:00        0.0   Brown Brindle   \n",
       "13989  ANSL_37437 2017-06-08 2018-06-30 09:00:00        0.0     Brown Tabby   \n",
       "13990  ANSL_14742 2013-03-07 2015-03-28 14:03:00        2.0    Orange Tabby   \n",
       "\n",
       "       length(m)  height(cm)  X1  X2  breed_category  ...  listing_year  \\\n",
       "0           0.11        9.51  13   9               1  ...          2018   \n",
       "1           0.42       48.74   0   2               0  ...          2015   \n",
       "2           0.90       34.45  13   9               1  ...          2017   \n",
       "3           0.94       48.91   7   1               0  ...          2015   \n",
       "4           0.78       17.07   0   7               0  ...          2017   \n",
       "...          ...         ...  ..  ..             ...  ...           ...   \n",
       "13986       0.74       43.17   0   1               0  ...          2016   \n",
       "13987       0.44       18.98  13   9               1  ...          2015   \n",
       "13988       1.00       24.39   7   1               1  ...          2018   \n",
       "13989       0.93       46.64  16   9               1  ...          2018   \n",
       "13990       0.23       13.64  16   9               0  ...          2015   \n",
       "\n",
       "       listing_month  listing_day  listing_dayofweek  issue_year  issue_month  \\\n",
       "0                  2           18                  6        2011            1   \n",
       "1                 10           14                  2        2015            7   \n",
       "2                  2           11                  5        2016           12   \n",
       "3                 10           13                  1        2015            7   \n",
       "4                  8           31                  3        2016            1   \n",
       "...              ...          ...                ...         ...          ...   \n",
       "13986              8            5                  4        2015            6   \n",
       "13987              4           10                  4        2014            5   \n",
       "13988              7           29                  6        2017            7   \n",
       "13989              6           30                  5        2017            6   \n",
       "13990              3           28                  5        2013            3   \n",
       "\n",
       "       issue_day  issue_dayofweek  datediff_listing_to_issue  year_diff  \n",
       "0             12                2                224178960.0          7  \n",
       "1             24                4                  7128360.0          0  \n",
       "2              2                4                  6186240.0          1  \n",
       "3              5                6                  8703600.0          0  \n",
       "4             16                5                 51300360.0          1  \n",
       "...          ...              ...                        ...        ...  \n",
       "13986         10                2                 36527940.0          1  \n",
       "13987         16                4                 28481160.0          1  \n",
       "13988         22                5                 32171880.0          1  \n",
       "13989          8                3                 33469200.0          1  \n",
       "13990          7                3                 64936980.0          2  \n",
       "\n",
       "[13991 rows x 21 columns]"
      ]
     },
     "execution_count": 60,
     "metadata": {},
     "output_type": "execute_result"
    }
   ],
   "source": [
    "train"
   ]
  },
  {
   "cell_type": "code",
   "execution_count": 61,
   "metadata": {},
   "outputs": [
    {
     "data": {
      "text/plain": [
       "[0, 1, 2, 3, 4, 5, 6]"
      ]
     },
     "execution_count": 61,
     "metadata": {},
     "output_type": "execute_result"
    }
   ],
   "source": [
    "sorted(pd.to_datetime(train['listing_date']).dt.dayofweek.unique())"
   ]
  },
  {
   "cell_type": "code",
   "execution_count": 62,
   "metadata": {},
   "outputs": [
    {
     "data": {
      "text/plain": [
       "0        2011\n",
       "1        2015\n",
       "2        2016\n",
       "3        2015\n",
       "4        2016\n",
       "         ... \n",
       "13986    2015\n",
       "13987    2014\n",
       "13988    2017\n",
       "13989    2017\n",
       "13990    2013\n",
       "Name: issue_date, Length: 13991, dtype: int64"
      ]
     },
     "execution_count": 62,
     "metadata": {},
     "output_type": "execute_result"
    }
   ],
   "source": [
    "pd.to_datetime(train['issue_date']).dt.year"
   ]
  },
  {
   "cell_type": "code",
   "execution_count": 270,
   "metadata": {},
   "outputs": [],
   "source": [
    "X = train[['pet_sale_id','condition', 'color_type','length(m)', 'height(cm)','X1', 'X2','year_diff','datediff_listing_to_issue']]\n",
    "y = train['breed_category']"
   ]
  },
  {
   "cell_type": "code",
   "execution_count": 271,
   "metadata": {},
   "outputs": [
    {
     "data": {
      "text/plain": [
       "2    1056\n",
       "1    6285\n",
       "0    6650\n",
       "Name: breed_category, dtype: int64"
      ]
     },
     "execution_count": 271,
     "metadata": {},
     "output_type": "execute_result"
    }
   ],
   "source": [
    "y.value_counts().sort_values()"
   ]
  },
  {
   "cell_type": "code",
   "execution_count": 272,
   "metadata": {},
   "outputs": [
    {
     "data": {
      "text/plain": [
       "[6.297348484848484, 5.951704545454545, 1.0]"
      ]
     },
     "execution_count": 272,
     "metadata": {},
     "output_type": "execute_result"
    }
   ],
   "source": [
    "class_frequencies = y.value_counts().sort_index().to_list()\n",
    "max_frequency = max(class_frequencies)\n",
    "imbalance_factors = [max_frequency / freq for freq in class_frequencies]\n",
    "class_weights = [max(imbalance_factors) / factor for factor in imbalance_factors]\n",
    "\n",
    "class_weights"
   ]
  },
  {
   "cell_type": "code",
   "execution_count": 273,
   "metadata": {},
   "outputs": [
    {
     "data": {
      "text/plain": [
       "{0: 6.297348484848484, 1: 5.951704545454545, 2: 1.0}"
      ]
     },
     "execution_count": 273,
     "metadata": {},
     "output_type": "execute_result"
    }
   ],
   "source": [
    "cw = my_dict = dict(zip(y.value_counts().sort_index().index, class_weights))\n",
    "cw"
   ]
  },
  {
   "cell_type": "code",
   "execution_count": 274,
   "metadata": {},
   "outputs": [],
   "source": [
    "X_train, X_test, y_train, y_test = train_test_split(X, y, test_size=0.33, random_state=42)"
   ]
  },
  {
   "cell_type": "code",
   "execution_count": 275,
   "metadata": {},
   "outputs": [],
   "source": [
    "encoder = TargetEncoder(cols = ['pet_sale_id','color_type'])\n",
    "\n",
    "encoder.fit(X_train,y_train)\n",
    "\n",
    "X_train_encoded = encoder.transform(X_train)\n",
    "X_test_encoded = encoder.transform(X_test)"
   ]
  },
  {
   "cell_type": "code",
   "execution_count": 276,
   "metadata": {},
   "outputs": [
    {
     "data": {
      "text/plain": [
       "pet_sale_id                    0\n",
       "condition                    320\n",
       "color_type                     0\n",
       "length(m)                      0\n",
       "height(cm)                     0\n",
       "X1                             0\n",
       "X2                             0\n",
       "year_diff                      0\n",
       "datediff_listing_to_issue      0\n",
       "dtype: int64"
      ]
     },
     "execution_count": 276,
     "metadata": {},
     "output_type": "execute_result"
    }
   ],
   "source": [
    "X_test_encoded.isnull().sum()"
   ]
  },
  {
   "cell_type": "code",
   "execution_count": 277,
   "metadata": {},
   "outputs": [],
   "source": [
    "imputer = SimpleImputer(strategy='most_frequent')\n",
    "\n",
    "imputer.fit(X_train_encoded, y_train)\n",
    "X_train_imputed = imputer.transform(X_train_encoded)\n",
    "X_test_imputed = imputer.transform(X_test_encoded)"
   ]
  },
  {
   "cell_type": "code",
   "execution_count": 293,
   "metadata": {},
   "outputs": [
    {
     "data": {
      "text/html": [
       "<div>\n",
       "<style scoped>\n",
       "    .dataframe tbody tr th:only-of-type {\n",
       "        vertical-align: middle;\n",
       "    }\n",
       "\n",
       "    .dataframe tbody tr th {\n",
       "        vertical-align: top;\n",
       "    }\n",
       "\n",
       "    .dataframe thead th {\n",
       "        text-align: right;\n",
       "    }\n",
       "</style>\n",
       "<table border=\"1\" class=\"dataframe\">\n",
       "  <thead>\n",
       "    <tr style=\"text-align: right;\">\n",
       "      <th></th>\n",
       "      <th>pet_sale_id</th>\n",
       "      <th>condition</th>\n",
       "      <th>color_type</th>\n",
       "      <th>length(m)</th>\n",
       "      <th>height(cm)</th>\n",
       "      <th>X1</th>\n",
       "      <th>X2</th>\n",
       "      <th>year_diff</th>\n",
       "      <th>datediff_listing_to_issue</th>\n",
       "    </tr>\n",
       "  </thead>\n",
       "  <tbody>\n",
       "    <tr>\n",
       "      <th>0</th>\n",
       "      <td>0.526315</td>\n",
       "      <td>2.0</td>\n",
       "      <td>0.349081</td>\n",
       "      <td>0.78</td>\n",
       "      <td>41.96</td>\n",
       "      <td>0.0</td>\n",
       "      <td>1.0</td>\n",
       "      <td>0.0</td>\n",
       "      <td>10351380.0</td>\n",
       "    </tr>\n",
       "    <tr>\n",
       "      <th>1</th>\n",
       "      <td>0.656424</td>\n",
       "      <td>2.0</td>\n",
       "      <td>0.349081</td>\n",
       "      <td>0.93</td>\n",
       "      <td>20.94</td>\n",
       "      <td>0.0</td>\n",
       "      <td>7.0</td>\n",
       "      <td>1.0</td>\n",
       "      <td>33485760.0</td>\n",
       "    </tr>\n",
       "    <tr>\n",
       "      <th>2</th>\n",
       "      <td>0.526315</td>\n",
       "      <td>2.0</td>\n",
       "      <td>0.565421</td>\n",
       "      <td>0.29</td>\n",
       "      <td>11.54</td>\n",
       "      <td>13.0</td>\n",
       "      <td>9.0</td>\n",
       "      <td>0.0</td>\n",
       "      <td>3760500.0</td>\n",
       "    </tr>\n",
       "    <tr>\n",
       "      <th>3</th>\n",
       "      <td>0.526315</td>\n",
       "      <td>1.0</td>\n",
       "      <td>0.547038</td>\n",
       "      <td>0.79</td>\n",
       "      <td>15.96</td>\n",
       "      <td>0.0</td>\n",
       "      <td>1.0</td>\n",
       "      <td>2.0</td>\n",
       "      <td>49573800.0</td>\n",
       "    </tr>\n",
       "    <tr>\n",
       "      <th>4</th>\n",
       "      <td>0.656424</td>\n",
       "      <td>2.0</td>\n",
       "      <td>1.032787</td>\n",
       "      <td>0.05</td>\n",
       "      <td>34.25</td>\n",
       "      <td>16.0</td>\n",
       "      <td>9.0</td>\n",
       "      <td>1.0</td>\n",
       "      <td>9994560.0</td>\n",
       "    </tr>\n",
       "    <tr>\n",
       "      <th>...</th>\n",
       "      <td>...</td>\n",
       "      <td>...</td>\n",
       "      <td>...</td>\n",
       "      <td>...</td>\n",
       "      <td>...</td>\n",
       "      <td>...</td>\n",
       "      <td>...</td>\n",
       "      <td>...</td>\n",
       "      <td>...</td>\n",
       "    </tr>\n",
       "    <tr>\n",
       "      <th>9368</th>\n",
       "      <td>0.526315</td>\n",
       "      <td>1.0</td>\n",
       "      <td>0.547038</td>\n",
       "      <td>0.97</td>\n",
       "      <td>31.95</td>\n",
       "      <td>0.0</td>\n",
       "      <td>1.0</td>\n",
       "      <td>1.0</td>\n",
       "      <td>34001700.0</td>\n",
       "    </tr>\n",
       "    <tr>\n",
       "      <th>9369</th>\n",
       "      <td>0.526315</td>\n",
       "      <td>1.0</td>\n",
       "      <td>0.871413</td>\n",
       "      <td>0.57</td>\n",
       "      <td>25.99</td>\n",
       "      <td>0.0</td>\n",
       "      <td>7.0</td>\n",
       "      <td>1.0</td>\n",
       "      <td>41447400.0</td>\n",
       "    </tr>\n",
       "    <tr>\n",
       "      <th>9370</th>\n",
       "      <td>0.526315</td>\n",
       "      <td>1.0</td>\n",
       "      <td>0.557098</td>\n",
       "      <td>0.78</td>\n",
       "      <td>26.39</td>\n",
       "      <td>0.0</td>\n",
       "      <td>1.0</td>\n",
       "      <td>1.0</td>\n",
       "      <td>30814860.0</td>\n",
       "    </tr>\n",
       "    <tr>\n",
       "      <th>9371</th>\n",
       "      <td>0.526315</td>\n",
       "      <td>2.0</td>\n",
       "      <td>0.616625</td>\n",
       "      <td>0.42</td>\n",
       "      <td>26.36</td>\n",
       "      <td>16.0</td>\n",
       "      <td>9.0</td>\n",
       "      <td>1.0</td>\n",
       "      <td>33469200.0</td>\n",
       "    </tr>\n",
       "    <tr>\n",
       "      <th>9372</th>\n",
       "      <td>0.656424</td>\n",
       "      <td>2.0</td>\n",
       "      <td>0.565421</td>\n",
       "      <td>0.45</td>\n",
       "      <td>41.44</td>\n",
       "      <td>13.0</td>\n",
       "      <td>9.0</td>\n",
       "      <td>0.0</td>\n",
       "      <td>7132260.0</td>\n",
       "    </tr>\n",
       "  </tbody>\n",
       "</table>\n",
       "<p>9373 rows × 9 columns</p>\n",
       "</div>"
      ],
      "text/plain": [
       "      pet_sale_id  condition  color_type  length(m)  height(cm)    X1   X2  \\\n",
       "0        0.526315        2.0    0.349081       0.78       41.96   0.0  1.0   \n",
       "1        0.656424        2.0    0.349081       0.93       20.94   0.0  7.0   \n",
       "2        0.526315        2.0    0.565421       0.29       11.54  13.0  9.0   \n",
       "3        0.526315        1.0    0.547038       0.79       15.96   0.0  1.0   \n",
       "4        0.656424        2.0    1.032787       0.05       34.25  16.0  9.0   \n",
       "...           ...        ...         ...        ...         ...   ...  ...   \n",
       "9368     0.526315        1.0    0.547038       0.97       31.95   0.0  1.0   \n",
       "9369     0.526315        1.0    0.871413       0.57       25.99   0.0  7.0   \n",
       "9370     0.526315        1.0    0.557098       0.78       26.39   0.0  1.0   \n",
       "9371     0.526315        2.0    0.616625       0.42       26.36  16.0  9.0   \n",
       "9372     0.656424        2.0    0.565421       0.45       41.44  13.0  9.0   \n",
       "\n",
       "      year_diff  datediff_listing_to_issue  \n",
       "0           0.0                 10351380.0  \n",
       "1           1.0                 33485760.0  \n",
       "2           0.0                  3760500.0  \n",
       "3           2.0                 49573800.0  \n",
       "4           1.0                  9994560.0  \n",
       "...         ...                        ...  \n",
       "9368        1.0                 34001700.0  \n",
       "9369        1.0                 41447400.0  \n",
       "9370        1.0                 30814860.0  \n",
       "9371        1.0                 33469200.0  \n",
       "9372        0.0                  7132260.0  \n",
       "\n",
       "[9373 rows x 9 columns]"
      ]
     },
     "execution_count": 293,
     "metadata": {},
     "output_type": "execute_result"
    }
   ],
   "source": [
    "pd.DataFrame(X_train_imputed, columns=X_train.columns)"
   ]
  },
  {
   "cell_type": "code",
   "execution_count": 278,
   "metadata": {},
   "outputs": [
    {
     "data": {
      "text/html": [
       "<div>\n",
       "<style scoped>\n",
       "    .dataframe tbody tr th:only-of-type {\n",
       "        vertical-align: middle;\n",
       "    }\n",
       "\n",
       "    .dataframe tbody tr th {\n",
       "        vertical-align: top;\n",
       "    }\n",
       "\n",
       "    .dataframe thead th {\n",
       "        text-align: right;\n",
       "    }\n",
       "</style>\n",
       "<table border=\"1\" class=\"dataframe\">\n",
       "  <thead>\n",
       "    <tr style=\"text-align: right;\">\n",
       "      <th></th>\n",
       "      <th>pet_sale_id</th>\n",
       "      <th>condition</th>\n",
       "      <th>color_type</th>\n",
       "      <th>length(m)</th>\n",
       "      <th>height(cm)</th>\n",
       "      <th>X1</th>\n",
       "      <th>X2</th>\n",
       "      <th>year_diff</th>\n",
       "      <th>datediff_listing_to_issue</th>\n",
       "    </tr>\n",
       "  </thead>\n",
       "  <tbody>\n",
       "    <tr>\n",
       "      <th>0</th>\n",
       "      <td>0.605036</td>\n",
       "      <td>0.0</td>\n",
       "      <td>0.582160</td>\n",
       "      <td>0.26</td>\n",
       "      <td>38.43</td>\n",
       "      <td>7.0</td>\n",
       "      <td>1.0</td>\n",
       "      <td>1.0</td>\n",
       "      <td>41447280.0</td>\n",
       "    </tr>\n",
       "    <tr>\n",
       "      <th>1</th>\n",
       "      <td>0.605036</td>\n",
       "      <td>0.0</td>\n",
       "      <td>0.483019</td>\n",
       "      <td>0.00</td>\n",
       "      <td>46.77</td>\n",
       "      <td>0.0</td>\n",
       "      <td>1.0</td>\n",
       "      <td>2.0</td>\n",
       "      <td>34106040.0</td>\n",
       "    </tr>\n",
       "    <tr>\n",
       "      <th>2</th>\n",
       "      <td>0.605036</td>\n",
       "      <td>2.0</td>\n",
       "      <td>0.557098</td>\n",
       "      <td>0.61</td>\n",
       "      <td>36.41</td>\n",
       "      <td>13.0</td>\n",
       "      <td>9.0</td>\n",
       "      <td>5.0</td>\n",
       "      <td>159970140.0</td>\n",
       "    </tr>\n",
       "    <tr>\n",
       "      <th>3</th>\n",
       "      <td>0.605036</td>\n",
       "      <td>0.0</td>\n",
       "      <td>0.871413</td>\n",
       "      <td>0.87</td>\n",
       "      <td>14.74</td>\n",
       "      <td>0.0</td>\n",
       "      <td>1.0</td>\n",
       "      <td>2.0</td>\n",
       "      <td>65978040.0</td>\n",
       "    </tr>\n",
       "    <tr>\n",
       "      <th>4</th>\n",
       "      <td>0.605036</td>\n",
       "      <td>2.0</td>\n",
       "      <td>0.616625</td>\n",
       "      <td>0.81</td>\n",
       "      <td>30.79</td>\n",
       "      <td>18.0</td>\n",
       "      <td>4.0</td>\n",
       "      <td>13.0</td>\n",
       "      <td>380629680.0</td>\n",
       "    </tr>\n",
       "    <tr>\n",
       "      <th>...</th>\n",
       "      <td>...</td>\n",
       "      <td>...</td>\n",
       "      <td>...</td>\n",
       "      <td>...</td>\n",
       "      <td>...</td>\n",
       "      <td>...</td>\n",
       "      <td>...</td>\n",
       "      <td>...</td>\n",
       "      <td>...</td>\n",
       "    </tr>\n",
       "    <tr>\n",
       "      <th>4613</th>\n",
       "      <td>0.605036</td>\n",
       "      <td>2.0</td>\n",
       "      <td>0.456729</td>\n",
       "      <td>0.77</td>\n",
       "      <td>49.24</td>\n",
       "      <td>0.0</td>\n",
       "      <td>7.0</td>\n",
       "      <td>6.0</td>\n",
       "      <td>187126500.0</td>\n",
       "    </tr>\n",
       "    <tr>\n",
       "      <th>4614</th>\n",
       "      <td>0.605036</td>\n",
       "      <td>0.0</td>\n",
       "      <td>0.485531</td>\n",
       "      <td>0.42</td>\n",
       "      <td>20.41</td>\n",
       "      <td>0.0</td>\n",
       "      <td>1.0</td>\n",
       "      <td>1.0</td>\n",
       "      <td>12416520.0</td>\n",
       "    </tr>\n",
       "    <tr>\n",
       "      <th>4615</th>\n",
       "      <td>0.605036</td>\n",
       "      <td>1.0</td>\n",
       "      <td>0.547038</td>\n",
       "      <td>0.50</td>\n",
       "      <td>23.51</td>\n",
       "      <td>0.0</td>\n",
       "      <td>1.0</td>\n",
       "      <td>1.0</td>\n",
       "      <td>37037460.0</td>\n",
       "    </tr>\n",
       "    <tr>\n",
       "      <th>4616</th>\n",
       "      <td>0.605036</td>\n",
       "      <td>2.0</td>\n",
       "      <td>1.032787</td>\n",
       "      <td>0.14</td>\n",
       "      <td>48.56</td>\n",
       "      <td>0.0</td>\n",
       "      <td>1.0</td>\n",
       "      <td>1.0</td>\n",
       "      <td>33949920.0</td>\n",
       "    </tr>\n",
       "    <tr>\n",
       "      <th>4617</th>\n",
       "      <td>0.605036</td>\n",
       "      <td>0.0</td>\n",
       "      <td>0.540373</td>\n",
       "      <td>0.95</td>\n",
       "      <td>33.24</td>\n",
       "      <td>0.0</td>\n",
       "      <td>1.0</td>\n",
       "      <td>1.0</td>\n",
       "      <td>6889920.0</td>\n",
       "    </tr>\n",
       "  </tbody>\n",
       "</table>\n",
       "<p>4618 rows × 9 columns</p>\n",
       "</div>"
      ],
      "text/plain": [
       "      pet_sale_id  condition  color_type  length(m)  height(cm)    X1   X2  \\\n",
       "0        0.605036        0.0    0.582160       0.26       38.43   7.0  1.0   \n",
       "1        0.605036        0.0    0.483019       0.00       46.77   0.0  1.0   \n",
       "2        0.605036        2.0    0.557098       0.61       36.41  13.0  9.0   \n",
       "3        0.605036        0.0    0.871413       0.87       14.74   0.0  1.0   \n",
       "4        0.605036        2.0    0.616625       0.81       30.79  18.0  4.0   \n",
       "...           ...        ...         ...        ...         ...   ...  ...   \n",
       "4613     0.605036        2.0    0.456729       0.77       49.24   0.0  7.0   \n",
       "4614     0.605036        0.0    0.485531       0.42       20.41   0.0  1.0   \n",
       "4615     0.605036        1.0    0.547038       0.50       23.51   0.0  1.0   \n",
       "4616     0.605036        2.0    1.032787       0.14       48.56   0.0  1.0   \n",
       "4617     0.605036        0.0    0.540373       0.95       33.24   0.0  1.0   \n",
       "\n",
       "      year_diff  datediff_listing_to_issue  \n",
       "0           1.0                 41447280.0  \n",
       "1           2.0                 34106040.0  \n",
       "2           5.0                159970140.0  \n",
       "3           2.0                 65978040.0  \n",
       "4          13.0                380629680.0  \n",
       "...         ...                        ...  \n",
       "4613        6.0                187126500.0  \n",
       "4614        1.0                 12416520.0  \n",
       "4615        1.0                 37037460.0  \n",
       "4616        1.0                 33949920.0  \n",
       "4617        1.0                  6889920.0  \n",
       "\n",
       "[4618 rows x 9 columns]"
      ]
     },
     "execution_count": 278,
     "metadata": {},
     "output_type": "execute_result"
    }
   ],
   "source": [
    "pd.DataFrame(X_test_imputed, columns=X_train.columns)"
   ]
  },
  {
   "cell_type": "code",
   "execution_count": 279,
   "metadata": {},
   "outputs": [],
   "source": [
    "scale = StandardScaler()\n",
    "\n",
    "X_train_scaled = scale.fit_transform(X_train_imputed)\n",
    "X_test_scaled = scale.transform(X_test_imputed)"
   ]
  },
  {
   "cell_type": "code",
   "execution_count": 280,
   "metadata": {},
   "outputs": [
    {
     "data": {
      "text/html": [
       "<div>\n",
       "<style scoped>\n",
       "    .dataframe tbody tr th:only-of-type {\n",
       "        vertical-align: middle;\n",
       "    }\n",
       "\n",
       "    .dataframe tbody tr th {\n",
       "        vertical-align: top;\n",
       "    }\n",
       "\n",
       "    .dataframe thead th {\n",
       "        text-align: right;\n",
       "    }\n",
       "</style>\n",
       "<table border=\"1\" class=\"dataframe\">\n",
       "  <thead>\n",
       "    <tr style=\"text-align: right;\">\n",
       "      <th></th>\n",
       "      <th>pet_sale_id</th>\n",
       "      <th>condition</th>\n",
       "      <th>color_type</th>\n",
       "      <th>length(m)</th>\n",
       "      <th>height(cm)</th>\n",
       "      <th>X1</th>\n",
       "      <th>X2</th>\n",
       "      <th>year_diff</th>\n",
       "      <th>datediff_listing_to_issue</th>\n",
       "    </tr>\n",
       "  </thead>\n",
       "  <tbody>\n",
       "    <tr>\n",
       "      <th>0</th>\n",
       "      <td>0.0</td>\n",
       "      <td>-1.222481</td>\n",
       "      <td>-0.127156</td>\n",
       "      <td>-0.827119</td>\n",
       "      <td>0.853233</td>\n",
       "      <td>0.178157</td>\n",
       "      <td>-1.079444</td>\n",
       "      <td>-0.456260</td>\n",
       "      <td>-0.343736</td>\n",
       "    </tr>\n",
       "    <tr>\n",
       "      <th>1</th>\n",
       "      <td>0.0</td>\n",
       "      <td>-1.222481</td>\n",
       "      <td>-0.682989</td>\n",
       "      <td>-1.719578</td>\n",
       "      <td>1.492144</td>\n",
       "      <td>-0.871034</td>\n",
       "      <td>-1.079444</td>\n",
       "      <td>-0.121895</td>\n",
       "      <td>-0.421882</td>\n",
       "    </tr>\n",
       "    <tr>\n",
       "      <th>2</th>\n",
       "      <td>0.0</td>\n",
       "      <td>1.458140</td>\n",
       "      <td>-0.267663</td>\n",
       "      <td>0.374268</td>\n",
       "      <td>0.698485</td>\n",
       "      <td>1.077463</td>\n",
       "      <td>1.194499</td>\n",
       "      <td>0.881199</td>\n",
       "      <td>0.917911</td>\n",
       "    </tr>\n",
       "    <tr>\n",
       "      <th>3</th>\n",
       "      <td>0.0</td>\n",
       "      <td>-1.222481</td>\n",
       "      <td>1.494546</td>\n",
       "      <td>1.266727</td>\n",
       "      <td>-0.961611</td>\n",
       "      <td>-0.871034</td>\n",
       "      <td>-1.079444</td>\n",
       "      <td>-0.121895</td>\n",
       "      <td>-0.082612</td>\n",
       "    </tr>\n",
       "    <tr>\n",
       "      <th>4</th>\n",
       "      <td>0.0</td>\n",
       "      <td>1.458140</td>\n",
       "      <td>0.066076</td>\n",
       "      <td>1.060775</td>\n",
       "      <td>0.267948</td>\n",
       "      <td>1.826885</td>\n",
       "      <td>-0.226715</td>\n",
       "      <td>3.556118</td>\n",
       "      <td>3.266777</td>\n",
       "    </tr>\n",
       "    <tr>\n",
       "      <th>...</th>\n",
       "      <td>...</td>\n",
       "      <td>...</td>\n",
       "      <td>...</td>\n",
       "      <td>...</td>\n",
       "      <td>...</td>\n",
       "      <td>...</td>\n",
       "      <td>...</td>\n",
       "      <td>...</td>\n",
       "      <td>...</td>\n",
       "    </tr>\n",
       "    <tr>\n",
       "      <th>4613</th>\n",
       "      <td>0.0</td>\n",
       "      <td>1.458140</td>\n",
       "      <td>-0.830380</td>\n",
       "      <td>0.923474</td>\n",
       "      <td>1.681366</td>\n",
       "      <td>-0.871034</td>\n",
       "      <td>0.626014</td>\n",
       "      <td>1.215564</td>\n",
       "      <td>1.206983</td>\n",
       "    </tr>\n",
       "    <tr>\n",
       "      <th>4614</th>\n",
       "      <td>0.0</td>\n",
       "      <td>-1.222481</td>\n",
       "      <td>-0.668907</td>\n",
       "      <td>-0.277913</td>\n",
       "      <td>-0.527243</td>\n",
       "      <td>-0.871034</td>\n",
       "      <td>-1.079444</td>\n",
       "      <td>-0.456260</td>\n",
       "      <td>-0.652761</td>\n",
       "    </tr>\n",
       "    <tr>\n",
       "      <th>4615</th>\n",
       "      <td>0.0</td>\n",
       "      <td>0.117830</td>\n",
       "      <td>-0.324063</td>\n",
       "      <td>-0.003311</td>\n",
       "      <td>-0.289759</td>\n",
       "      <td>-0.871034</td>\n",
       "      <td>-1.079444</td>\n",
       "      <td>-0.456260</td>\n",
       "      <td>-0.390678</td>\n",
       "    </tr>\n",
       "    <tr>\n",
       "      <th>4616</th>\n",
       "      <td>0.0</td>\n",
       "      <td>1.458140</td>\n",
       "      <td>2.399287</td>\n",
       "      <td>-1.239023</td>\n",
       "      <td>1.629272</td>\n",
       "      <td>-0.871034</td>\n",
       "      <td>-1.079444</td>\n",
       "      <td>-0.456260</td>\n",
       "      <td>-0.423544</td>\n",
       "    </tr>\n",
       "    <tr>\n",
       "      <th>4617</th>\n",
       "      <td>0.0</td>\n",
       "      <td>-1.222481</td>\n",
       "      <td>-0.361434</td>\n",
       "      <td>1.541330</td>\n",
       "      <td>0.455637</td>\n",
       "      <td>-0.871034</td>\n",
       "      <td>-1.079444</td>\n",
       "      <td>-0.456260</td>\n",
       "      <td>-0.711591</td>\n",
       "    </tr>\n",
       "  </tbody>\n",
       "</table>\n",
       "<p>4618 rows × 9 columns</p>\n",
       "</div>"
      ],
      "text/plain": [
       "      pet_sale_id  condition  color_type  length(m)  height(cm)        X1  \\\n",
       "0             0.0  -1.222481   -0.127156  -0.827119    0.853233  0.178157   \n",
       "1             0.0  -1.222481   -0.682989  -1.719578    1.492144 -0.871034   \n",
       "2             0.0   1.458140   -0.267663   0.374268    0.698485  1.077463   \n",
       "3             0.0  -1.222481    1.494546   1.266727   -0.961611 -0.871034   \n",
       "4             0.0   1.458140    0.066076   1.060775    0.267948  1.826885   \n",
       "...           ...        ...         ...        ...         ...       ...   \n",
       "4613          0.0   1.458140   -0.830380   0.923474    1.681366 -0.871034   \n",
       "4614          0.0  -1.222481   -0.668907  -0.277913   -0.527243 -0.871034   \n",
       "4615          0.0   0.117830   -0.324063  -0.003311   -0.289759 -0.871034   \n",
       "4616          0.0   1.458140    2.399287  -1.239023    1.629272 -0.871034   \n",
       "4617          0.0  -1.222481   -0.361434   1.541330    0.455637 -0.871034   \n",
       "\n",
       "            X2  year_diff  datediff_listing_to_issue  \n",
       "0    -1.079444  -0.456260                  -0.343736  \n",
       "1    -1.079444  -0.121895                  -0.421882  \n",
       "2     1.194499   0.881199                   0.917911  \n",
       "3    -1.079444  -0.121895                  -0.082612  \n",
       "4    -0.226715   3.556118                   3.266777  \n",
       "...        ...        ...                        ...  \n",
       "4613  0.626014   1.215564                   1.206983  \n",
       "4614 -1.079444  -0.456260                  -0.652761  \n",
       "4615 -1.079444  -0.456260                  -0.390678  \n",
       "4616 -1.079444  -0.456260                  -0.423544  \n",
       "4617 -1.079444  -0.456260                  -0.711591  \n",
       "\n",
       "[4618 rows x 9 columns]"
      ]
     },
     "execution_count": 280,
     "metadata": {},
     "output_type": "execute_result"
    }
   ],
   "source": [
    "pd.DataFrame(X_test_scaled, columns=X_test.columns)"
   ]
  },
  {
   "cell_type": "code",
   "execution_count": 281,
   "metadata": {},
   "outputs": [
    {
     "data": {
      "text/html": [
       "<div>\n",
       "<style scoped>\n",
       "    .dataframe tbody tr th:only-of-type {\n",
       "        vertical-align: middle;\n",
       "    }\n",
       "\n",
       "    .dataframe tbody tr th {\n",
       "        vertical-align: top;\n",
       "    }\n",
       "\n",
       "    .dataframe thead th {\n",
       "        text-align: right;\n",
       "    }\n",
       "</style>\n",
       "<table border=\"1\" class=\"dataframe\">\n",
       "  <thead>\n",
       "    <tr style=\"text-align: right;\">\n",
       "      <th></th>\n",
       "      <th>pet_sale_id</th>\n",
       "      <th>condition</th>\n",
       "      <th>color_type</th>\n",
       "      <th>length(m)</th>\n",
       "      <th>height(cm)</th>\n",
       "      <th>X1</th>\n",
       "      <th>X2</th>\n",
       "      <th>year_diff</th>\n",
       "      <th>datediff_listing_to_issue</th>\n",
       "    </tr>\n",
       "  </thead>\n",
       "  <tbody>\n",
       "    <tr>\n",
       "      <th>0</th>\n",
       "      <td>-0.961448</td>\n",
       "      <td>1.45814</td>\n",
       "      <td>-1.433910</td>\n",
       "      <td>0.957799</td>\n",
       "      <td>1.123659</td>\n",
       "      <td>-0.871034</td>\n",
       "      <td>-1.079444</td>\n",
       "      <td>-0.790625</td>\n",
       "      <td>-0.674744</td>\n",
       "    </tr>\n",
       "    <tr>\n",
       "      <th>1</th>\n",
       "      <td>0.627628</td>\n",
       "      <td>1.45814</td>\n",
       "      <td>-1.433910</td>\n",
       "      <td>1.472680</td>\n",
       "      <td>-0.486641</td>\n",
       "      <td>-0.871034</td>\n",
       "      <td>0.626014</td>\n",
       "      <td>-0.456260</td>\n",
       "      <td>-0.428485</td>\n",
       "    </tr>\n",
       "    <tr>\n",
       "      <th>2</th>\n",
       "      <td>-0.961448</td>\n",
       "      <td>1.45814</td>\n",
       "      <td>-0.221003</td>\n",
       "      <td>-0.724143</td>\n",
       "      <td>-1.206756</td>\n",
       "      <td>1.077463</td>\n",
       "      <td>1.194499</td>\n",
       "      <td>-0.790625</td>\n",
       "      <td>-0.744903</td>\n",
       "    </tr>\n",
       "    <tr>\n",
       "      <th>3</th>\n",
       "      <td>-0.961448</td>\n",
       "      <td>0.11783</td>\n",
       "      <td>-0.324063</td>\n",
       "      <td>0.992125</td>\n",
       "      <td>-0.868149</td>\n",
       "      <td>-0.871034</td>\n",
       "      <td>-1.079444</td>\n",
       "      <td>-0.121895</td>\n",
       "      <td>-0.257231</td>\n",
       "    </tr>\n",
       "    <tr>\n",
       "      <th>4</th>\n",
       "      <td>0.627628</td>\n",
       "      <td>1.45814</td>\n",
       "      <td>2.399287</td>\n",
       "      <td>-1.547951</td>\n",
       "      <td>0.533012</td>\n",
       "      <td>1.527116</td>\n",
       "      <td>1.194499</td>\n",
       "      <td>-0.456260</td>\n",
       "      <td>-0.678543</td>\n",
       "    </tr>\n",
       "    <tr>\n",
       "      <th>...</th>\n",
       "      <td>...</td>\n",
       "      <td>...</td>\n",
       "      <td>...</td>\n",
       "      <td>...</td>\n",
       "      <td>...</td>\n",
       "      <td>...</td>\n",
       "      <td>...</td>\n",
       "      <td>...</td>\n",
       "      <td>...</td>\n",
       "    </tr>\n",
       "    <tr>\n",
       "      <th>9368</th>\n",
       "      <td>-0.961448</td>\n",
       "      <td>0.11783</td>\n",
       "      <td>-0.324063</td>\n",
       "      <td>1.609981</td>\n",
       "      <td>0.356813</td>\n",
       "      <td>-0.871034</td>\n",
       "      <td>-1.079444</td>\n",
       "      <td>-0.456260</td>\n",
       "      <td>-0.422992</td>\n",
       "    </tr>\n",
       "    <tr>\n",
       "      <th>9369</th>\n",
       "      <td>-0.961448</td>\n",
       "      <td>0.11783</td>\n",
       "      <td>1.494546</td>\n",
       "      <td>0.236967</td>\n",
       "      <td>-0.099771</td>\n",
       "      <td>-0.871034</td>\n",
       "      <td>0.626014</td>\n",
       "      <td>-0.456260</td>\n",
       "      <td>-0.343735</td>\n",
       "    </tr>\n",
       "    <tr>\n",
       "      <th>9370</th>\n",
       "      <td>-0.961448</td>\n",
       "      <td>0.11783</td>\n",
       "      <td>-0.267663</td>\n",
       "      <td>0.957799</td>\n",
       "      <td>-0.069127</td>\n",
       "      <td>-0.871034</td>\n",
       "      <td>-1.079444</td>\n",
       "      <td>-0.456260</td>\n",
       "      <td>-0.456916</td>\n",
       "    </tr>\n",
       "    <tr>\n",
       "      <th>9371</th>\n",
       "      <td>-0.961448</td>\n",
       "      <td>1.45814</td>\n",
       "      <td>0.066076</td>\n",
       "      <td>-0.277913</td>\n",
       "      <td>-0.071426</td>\n",
       "      <td>1.527116</td>\n",
       "      <td>1.194499</td>\n",
       "      <td>-0.456260</td>\n",
       "      <td>-0.428661</td>\n",
       "    </tr>\n",
       "    <tr>\n",
       "      <th>9372</th>\n",
       "      <td>0.627628</td>\n",
       "      <td>1.45814</td>\n",
       "      <td>-0.221003</td>\n",
       "      <td>-0.174937</td>\n",
       "      <td>1.083823</td>\n",
       "      <td>1.077463</td>\n",
       "      <td>1.194499</td>\n",
       "      <td>-0.790625</td>\n",
       "      <td>-0.709011</td>\n",
       "    </tr>\n",
       "  </tbody>\n",
       "</table>\n",
       "<p>9373 rows × 9 columns</p>\n",
       "</div>"
      ],
      "text/plain": [
       "      pet_sale_id  condition  color_type  length(m)  height(cm)        X1  \\\n",
       "0       -0.961448    1.45814   -1.433910   0.957799    1.123659 -0.871034   \n",
       "1        0.627628    1.45814   -1.433910   1.472680   -0.486641 -0.871034   \n",
       "2       -0.961448    1.45814   -0.221003  -0.724143   -1.206756  1.077463   \n",
       "3       -0.961448    0.11783   -0.324063   0.992125   -0.868149 -0.871034   \n",
       "4        0.627628    1.45814    2.399287  -1.547951    0.533012  1.527116   \n",
       "...           ...        ...         ...        ...         ...       ...   \n",
       "9368    -0.961448    0.11783   -0.324063   1.609981    0.356813 -0.871034   \n",
       "9369    -0.961448    0.11783    1.494546   0.236967   -0.099771 -0.871034   \n",
       "9370    -0.961448    0.11783   -0.267663   0.957799   -0.069127 -0.871034   \n",
       "9371    -0.961448    1.45814    0.066076  -0.277913   -0.071426  1.527116   \n",
       "9372     0.627628    1.45814   -0.221003  -0.174937    1.083823  1.077463   \n",
       "\n",
       "            X2  year_diff  datediff_listing_to_issue  \n",
       "0    -1.079444  -0.790625                  -0.674744  \n",
       "1     0.626014  -0.456260                  -0.428485  \n",
       "2     1.194499  -0.790625                  -0.744903  \n",
       "3    -1.079444  -0.121895                  -0.257231  \n",
       "4     1.194499  -0.456260                  -0.678543  \n",
       "...        ...        ...                        ...  \n",
       "9368 -1.079444  -0.456260                  -0.422992  \n",
       "9369  0.626014  -0.456260                  -0.343735  \n",
       "9370 -1.079444  -0.456260                  -0.456916  \n",
       "9371  1.194499  -0.456260                  -0.428661  \n",
       "9372  1.194499  -0.790625                  -0.709011  \n",
       "\n",
       "[9373 rows x 9 columns]"
      ]
     },
     "execution_count": 281,
     "metadata": {},
     "output_type": "execute_result"
    }
   ],
   "source": [
    "pd.DataFrame(X_train_scaled, columns=X_train.columns)"
   ]
  },
  {
   "cell_type": "code",
   "execution_count": 282,
   "metadata": {},
   "outputs": [
    {
     "name": "stdout",
     "output_type": "stream",
     "text": [
      "Resampled dataset shape Counter({0: 4438, 1: 4438, 2: 4438})\n"
     ]
    }
   ],
   "source": [
    "from imblearn.over_sampling import SMOTE\n",
    "from collections import Counter\n",
    "\n",
    "smt = SMOTE()\n",
    "X_sm, y_sm = smt.fit_resample(X_train_scaled, y_train)\n",
    "\n",
    "print('Resampled dataset shape {}'.format(Counter(y_sm)))"
   ]
  },
  {
   "cell_type": "code",
   "execution_count": 295,
   "metadata": {},
   "outputs": [
    {
     "data": {
      "text/plain": [
       "0    4438\n",
       "1    4438\n",
       "2    4438\n",
       "Name: breed_category, dtype: int64"
      ]
     },
     "execution_count": 295,
     "metadata": {},
     "output_type": "execute_result"
    }
   ],
   "source": [
    "y_sm.value_counts()"
   ]
  },
  {
   "cell_type": "code",
   "execution_count": 285,
   "metadata": {},
   "outputs": [
    {
     "data": {
      "text/html": [
       "<style>#sk-container-id-13 {color: black;background-color: white;}#sk-container-id-13 pre{padding: 0;}#sk-container-id-13 div.sk-toggleable {background-color: white;}#sk-container-id-13 label.sk-toggleable__label {cursor: pointer;display: block;width: 100%;margin-bottom: 0;padding: 0.3em;box-sizing: border-box;text-align: center;}#sk-container-id-13 label.sk-toggleable__label-arrow:before {content: \"▸\";float: left;margin-right: 0.25em;color: #696969;}#sk-container-id-13 label.sk-toggleable__label-arrow:hover:before {color: black;}#sk-container-id-13 div.sk-estimator:hover label.sk-toggleable__label-arrow:before {color: black;}#sk-container-id-13 div.sk-toggleable__content {max-height: 0;max-width: 0;overflow: hidden;text-align: left;background-color: #f0f8ff;}#sk-container-id-13 div.sk-toggleable__content pre {margin: 0.2em;color: black;border-radius: 0.25em;background-color: #f0f8ff;}#sk-container-id-13 input.sk-toggleable__control:checked~div.sk-toggleable__content {max-height: 200px;max-width: 100%;overflow: auto;}#sk-container-id-13 input.sk-toggleable__control:checked~label.sk-toggleable__label-arrow:before {content: \"▾\";}#sk-container-id-13 div.sk-estimator input.sk-toggleable__control:checked~label.sk-toggleable__label {background-color: #d4ebff;}#sk-container-id-13 div.sk-label input.sk-toggleable__control:checked~label.sk-toggleable__label {background-color: #d4ebff;}#sk-container-id-13 input.sk-hidden--visually {border: 0;clip: rect(1px 1px 1px 1px);clip: rect(1px, 1px, 1px, 1px);height: 1px;margin: -1px;overflow: hidden;padding: 0;position: absolute;width: 1px;}#sk-container-id-13 div.sk-estimator {font-family: monospace;background-color: #f0f8ff;border: 1px dotted black;border-radius: 0.25em;box-sizing: border-box;margin-bottom: 0.5em;}#sk-container-id-13 div.sk-estimator:hover {background-color: #d4ebff;}#sk-container-id-13 div.sk-parallel-item::after {content: \"\";width: 100%;border-bottom: 1px solid gray;flex-grow: 1;}#sk-container-id-13 div.sk-label:hover label.sk-toggleable__label {background-color: #d4ebff;}#sk-container-id-13 div.sk-serial::before {content: \"\";position: absolute;border-left: 1px solid gray;box-sizing: border-box;top: 0;bottom: 0;left: 50%;z-index: 0;}#sk-container-id-13 div.sk-serial {display: flex;flex-direction: column;align-items: center;background-color: white;padding-right: 0.2em;padding-left: 0.2em;position: relative;}#sk-container-id-13 div.sk-item {position: relative;z-index: 1;}#sk-container-id-13 div.sk-parallel {display: flex;align-items: stretch;justify-content: center;background-color: white;position: relative;}#sk-container-id-13 div.sk-item::before, #sk-container-id-13 div.sk-parallel-item::before {content: \"\";position: absolute;border-left: 1px solid gray;box-sizing: border-box;top: 0;bottom: 0;left: 50%;z-index: -1;}#sk-container-id-13 div.sk-parallel-item {display: flex;flex-direction: column;z-index: 1;position: relative;background-color: white;}#sk-container-id-13 div.sk-parallel-item:first-child::after {align-self: flex-end;width: 50%;}#sk-container-id-13 div.sk-parallel-item:last-child::after {align-self: flex-start;width: 50%;}#sk-container-id-13 div.sk-parallel-item:only-child::after {width: 0;}#sk-container-id-13 div.sk-dashed-wrapped {border: 1px dashed gray;margin: 0 0.4em 0.5em 0.4em;box-sizing: border-box;padding-bottom: 0.4em;background-color: white;}#sk-container-id-13 div.sk-label label {font-family: monospace;font-weight: bold;display: inline-block;line-height: 1.2em;}#sk-container-id-13 div.sk-label-container {text-align: center;}#sk-container-id-13 div.sk-container {/* jupyter's `normalize.less` sets `[hidden] { display: none; }` but bootstrap.min.css set `[hidden] { display: none !important; }` so we also need the `!important` here to be able to override the default hidden behavior on the sphinx rendered scikit-learn.org. See: https://github.com/scikit-learn/scikit-learn/issues/21755 */display: inline-block !important;position: relative;}#sk-container-id-13 div.sk-text-repr-fallback {display: none;}</style><div id=\"sk-container-id-13\" class=\"sk-top-container\"><div class=\"sk-text-repr-fallback\"><pre>RandomForestClassifier()</pre><b>In a Jupyter environment, please rerun this cell to show the HTML representation or trust the notebook. <br />On GitHub, the HTML representation is unable to render, please try loading this page with nbviewer.org.</b></div><div class=\"sk-container\" hidden><div class=\"sk-item\"><div class=\"sk-estimator sk-toggleable\"><input class=\"sk-toggleable__control sk-hidden--visually\" id=\"sk-estimator-id-13\" type=\"checkbox\" checked><label for=\"sk-estimator-id-13\" class=\"sk-toggleable__label sk-toggleable__label-arrow\">RandomForestClassifier</label><div class=\"sk-toggleable__content\"><pre>RandomForestClassifier()</pre></div></div></div></div></div>"
      ],
      "text/plain": [
       "RandomForestClassifier()"
      ]
     },
     "execution_count": 285,
     "metadata": {},
     "output_type": "execute_result"
    }
   ],
   "source": [
    "model = RandomForestClassifier()\n",
    "\n",
    "model.fit(X_sm, y_sm)"
   ]
  },
  {
   "cell_type": "code",
   "execution_count": 286,
   "metadata": {},
   "outputs": [],
   "source": [
    "y_pred = model.predict(X_test_scaled)"
   ]
  },
  {
   "cell_type": "code",
   "execution_count": 287,
   "metadata": {},
   "outputs": [
    {
     "name": "stdout",
     "output_type": "stream",
     "text": [
      "Important feature:==========\n",
      "pet_sale_id                  0.615227\n",
      "condition                    0.243364\n",
      "X1                           0.052045\n",
      "X2                           0.040673\n",
      "datediff_listing_to_issue    0.020362\n",
      "color_type                   0.016341\n",
      "year_diff                    0.009792\n",
      "height(cm)                   0.001259\n",
      "length(m)                    0.000939\n",
      "dtype: float64\n"
     ]
    }
   ],
   "source": [
    "feature_scores = pd.Series(model.feature_importances_, index=X_train.columns).sort_values(ascending=False)\n",
    "\n",
    "print('Important feature:==========')\n",
    "print(feature_scores)"
   ]
  },
  {
   "cell_type": "code",
   "execution_count": 288,
   "metadata": {},
   "outputs": [
    {
     "name": "stdout",
     "output_type": "stream",
     "text": [
      "Accuracy: 0.4517106972715461\n",
      "F1 Score: 0.20743834526650753\n"
     ]
    }
   ],
   "source": [
    "# Calculate accuracy\n",
    "accuracy = accuracy_score(y_test, y_pred)\n",
    "print(\"Accuracy:\", accuracy)\n",
    "\n",
    "# Calculate f1_score\n",
    "f1 = f1_score(y_test,y_pred, average='macro')\n",
    "print(f'F1 Score: {f1}')"
   ]
  },
  {
   "cell_type": "code",
   "execution_count": 290,
   "metadata": {},
   "outputs": [
    {
     "name": "stdout",
     "output_type": "stream",
     "text": [
      "Accuracy: 0.45\n",
      "F1 Score: 0.20743834526650753\n"
     ]
    }
   ],
   "source": [
    "from sklearn.linear_model import LogisticRegression\n",
    "\n",
    "# Create a Logistic Regression model for multiclass classification\n",
    "model = LogisticRegression(max_iter=1000, multi_class='multinomial', solver='lbfgs', class_weight= cw)\n",
    "\n",
    "# Fit the model on the training data\n",
    "model.fit(X_sm, y_sm)\n",
    "\n",
    "# Make predictions on the test data\n",
    "y_pred = model.predict(X_test_scaled)\n",
    "\n",
    "# Calculate accuracy and print a classification report\n",
    "accuracy = accuracy_score(y_test, y_pred)\n",
    "print(f\"Accuracy: {accuracy:.2f}\")\n",
    "\n",
    "# Calculate f1_score\n",
    "f1 = f1_score(y_test,y_pred, average='macro')\n",
    "print(f'F1 Score: {f1}')"
   ]
  },
  {
   "cell_type": "code",
   "execution_count": 291,
   "metadata": {},
   "outputs": [
    {
     "name": "stdout",
     "output_type": "stream",
     "text": [
      "Accuracy: 0.48\n",
      "F1 Score: 0.2159102000976086\n"
     ]
    }
   ],
   "source": [
    "import xgboost as xgb\n",
    "\n",
    "\n",
    "# Create an XGBoost multiclass classification model\n",
    "model = xgb.XGBClassifier(objective='multi:softmax', num_class=len(y_train))\n",
    "\n",
    "# Fit the model on the training data\n",
    "model.fit(X_sm, y_sm)\n",
    "\n",
    "# Make predictions on the test data\n",
    "y_pred = model.predict(X_test_scaled)\n",
    "\n",
    "# Calculate accuracy and print a classification report\n",
    "accuracy = accuracy_score(y_test, y_pred)\n",
    "print(f\"Accuracy: {accuracy:.2f}\")\n",
    "\n",
    "# Calculate f1_score\n",
    "f1 = f1_score(y_test,y_pred, average='macro')\n",
    "print(f'F1 Score: {f1}')"
   ]
  },
  {
   "cell_type": "markdown",
   "metadata": {},
   "source": [
    "## Test 2"
   ]
  },
  {
   "cell_type": "code",
   "execution_count": 417,
   "metadata": {},
   "outputs": [
    {
     "name": "stdout",
     "output_type": "stream",
     "text": [
      "Shape of the Training and Val Data\n",
      "(9373, 9) (4618, 9)\n",
      "(9373,) (4618,)\n",
      "---------------------------\n",
      "Shape of the SCALED Training and Val Data\n",
      "(9373, 9) (4618, 9)\n",
      "(9373,) (4618,)\n",
      "---------------------------\n",
      "\n",
      "Accuracy: 0.9997834560415765\n",
      "F1 Score: 0.7999618393436367\n"
     ]
    },
    {
     "data": {
      "image/png": "[encoded data removed]",
      "text/plain": [
       "<Figure size 640x480 with 2 Axes>"
      ]
     },
     "metadata": {},
     "output_type": "display_data"
    },
    {
     "name": "stdout",
     "output_type": "stream",
     "text": [
      "\n",
      "\n",
      "Shape of the X_test_scaled (5997, 9)\n"
     ]
    }
   ],
   "source": [
    "Xtrain_pet = train_pet[['pet_sale_id', 'color_type', 'length(m)', 'height(cm)', 'X1', 'X2','condition_0.0', 'condition_1.0', 'condition_2.0']]\n",
    "ytrain_pet = train_pet['pet_category']\n",
    "\n",
    "Xtest_pet = test_pet[['pet_sale_id', 'color_type', 'length(m)', 'height(cm)', 'X1', 'X2','condition_0.0', 'condition_1.0', 'condition_2.0']]\n",
    "\n",
    "X_train, X_val, y_train, y_val = train_test_split(Xtrain_pet, ytrain_pet, test_size=0.33, random_state=42)\n",
    "\n",
    "\n",
    "print('Shape of the Training and Val Data')\n",
    "print(X_train.shape, X_val.shape)\n",
    "print(y_train.shape,y_val.shape)\n",
    "print(\"---------------------------\")\n",
    "\n",
    "\n",
    "scaler = StandardScaler()\n",
    "\n",
    "scaler.fit(X_train)\n",
    "X_train_scaled = scaler.transform(X_train)\n",
    "X_val_scaled = scaler.transform(X_val)\n",
    "X_test_scaled = scaler.transform(Xtest_pet)\n",
    "\n",
    "\n",
    "print('Shape of the SCALED Training and Val Data')\n",
    "print(X_train_scaled.shape, X_val_scaled.shape)\n",
    "print(y_train.shape,y_val.shape)\n",
    "print(\"---------------------------\\n\")\n",
    "\n",
    "\n",
    "# Model \n",
    "# Initialize and train the Random Forest classifier\n",
    "model_pet = RandomForestClassifier(n_estimators=100, random_state=42)\n",
    "model_pet.fit(X_train_scaled, y_train)\n",
    "\n",
    "# Make predictions on the test data\n",
    "y_pred = model_pet.predict(X_val_scaled)\n",
    "\n",
    "# Calculate accuracy\n",
    "accuracy = accuracy_score(y_val, y_pred)\n",
    "print(\"Accuracy:\", accuracy)\n",
    "\n",
    "# Calculate f1_score\n",
    "f1 = f1_score(y_val,y_pred, average='macro')\n",
    "print(f'F1 Score: {f1}')\n",
    "\n",
    "# Print classification report\n",
    "report = confusion_matrix(y_val, y_pred,)\n",
    "sns.heatmap(report,annot=True)\n",
    "plt.show()\n",
    "\n",
    "print('\\n')\n",
    "\n",
    "print(f\"Shape of the X_test_scaled {X_test_scaled.shape}\")\n"
   ]
  },
  {
   "cell_type": "code",
   "execution_count": 418,
   "metadata": {},
   "outputs": [
    {
     "data": {
      "text/plain": [
       "array([2])"
      ]
     },
     "execution_count": 418,
     "metadata": {},
     "output_type": "execute_result"
    }
   ],
   "source": [
    "pd.Series(model_pet.predict(X_test_scaled)).unique()"
   ]
  },
  {
   "cell_type": "code",
   "execution_count": 419,
   "metadata": {},
   "outputs": [
    {
     "data": {
      "text/plain": [
       "2    7957\n",
       "1    5226\n",
       "4     762\n",
       "0      43\n",
       "3       3\n",
       "Name: pet_category, dtype: int64"
      ]
     },
     "execution_count": 419,
     "metadata": {},
     "output_type": "execute_result"
    }
   ],
   "source": [
    "train['pet_category'].value_counts()"
   ]
  },
  {
   "cell_type": "markdown",
   "metadata": {},
   "source": [
    "Test for breed category"
   ]
  },
  {
   "cell_type": "code",
   "execution_count": 420,
   "metadata": {},
   "outputs": [
    {
     "name": "stdout",
     "output_type": "stream",
     "text": [
      "Shape of the Training and Val Data\n",
      "(9373, 9) (4618, 9)\n",
      "(9373,) (4618,)\n",
      "---------------------------\n",
      "Shape of the SCALED Training and Val Data\n",
      "(9373, 9) (4618, 9)\n",
      "(9373,) (4618,)\n",
      "---------------------------\n",
      "\n",
      "Accuracy: 1.0\n",
      "F1 Score: 1.0\n"
     ]
    },
    {
     "data": {
      "image/png": "[encoded data removed]",
      "text/plain": [
       "<Figure size 640x480 with 2 Axes>"
      ]
     },
     "metadata": {},
     "output_type": "display_data"
    },
    {
     "name": "stdout",
     "output_type": "stream",
     "text": [
      "\n",
      "\n",
      "Shape of the X_test_scaled (5997, 9)\n"
     ]
    }
   ],
   "source": [
    "Xtrain_breed = train_breed[['pet_sale_id', 'color_type', 'length(m)', 'height(cm)', 'X1', 'X2','condition_0.0', 'condition_1.0', 'condition_2.0']]\n",
    "ytrain_breed = train_breed['breed_category']\n",
    "\n",
    "Xtest_breed = test_breed[['pet_sale_id', 'color_type', 'length(m)', 'height(cm)', 'X1', 'X2','condition_0.0', 'condition_1.0', 'condition_2.0']]\n",
    "\n",
    "X_train, X_val, y_train, y_val = train_test_split(Xtrain_breed, ytrain_breed, test_size=0.33, random_state=42)\n",
    "\n",
    "\n",
    "print('Shape of the Training and Val Data')\n",
    "print(X_train.shape, X_val.shape)\n",
    "print(y_train.shape,y_val.shape)\n",
    "print(\"---------------------------\")\n",
    "\n",
    "\n",
    "scaler = StandardScaler()\n",
    "\n",
    "scaler.fit(X_train)\n",
    "X_train_scaled = scaler.transform(X_train)\n",
    "X_val_scaled = scaler.transform(X_val)\n",
    "X_test_scaled = scaler.transform(Xtest_breed)\n",
    "\n",
    "\n",
    "print('Shape of the SCALED Training and Val Data')\n",
    "print(X_train_scaled.shape, X_val_scaled.shape)\n",
    "print(y_train.shape,y_val.shape)\n",
    "print(\"---------------------------\\n\")\n",
    "\n",
    "\n",
    "# Model \n",
    "# Initialize and train the Random Forest classifier\n",
    "model_breed = RandomForestClassifier(n_estimators=100, random_state=42)\n",
    "model_breed.fit(X_train_scaled, y_train)\n",
    "\n",
    "# Make predictions on the test data\n",
    "y_pred = model_breed.predict(X_val_scaled)\n",
    "\n",
    "# Calculate accuracy\n",
    "accuracy = accuracy_score(y_val, y_pred)\n",
    "print(\"Accuracy:\", accuracy)\n",
    "\n",
    "# Calculate f1_score\n",
    "f1 = f1_score(y_val,y_pred, average='macro')\n",
    "print(f'F1 Score: {f1}')\n",
    "\n",
    "# Print classification report\n",
    "report = confusion_matrix(y_val, y_pred,)\n",
    "sns.heatmap(report,annot=True)\n",
    "plt.show()\n",
    "\n",
    "print('\\n')\n",
    "\n",
    "print(f\"Shape of the X_test_scaled {X_test_scaled.shape}\")\n"
   ]
  },
  {
   "cell_type": "code",
   "execution_count": 416,
   "metadata": {},
   "outputs": [
    {
     "data": {
      "text/plain": [
       "0    6650\n",
       "1    6285\n",
       "2    1056\n",
       "Name: breed_category, dtype: int64"
      ]
     },
     "execution_count": 416,
     "metadata": {},
     "output_type": "execute_result"
    }
   ],
   "source": [
    "ytrain_breed.value_counts()"
   ]
  },
  {
   "cell_type": "code",
   "execution_count": 423,
   "metadata": {},
   "outputs": [
    {
     "data": {
      "text/plain": [
       "1    3310\n",
       "0    2686\n",
       "2       1\n",
       "dtype: int64"
      ]
     },
     "execution_count": 423,
     "metadata": {},
     "output_type": "execute_result"
    }
   ],
   "source": [
    "pd.Series(model_breed.predict(X_test_scaled)).value_counts()"
   ]
  },
  {
   "cell_type": "code",
   "execution_count": null,
   "metadata": {},
   "outputs": [],
   "source": []
  }
 ],
 "metadata": {
  "kernelspec": {
   "display_name": "adv_ds",
   "language": "python",
   "name": "python3"
  },
  "language_info": {
   "codemirror_mode": {
    "name": "ipython",
    "version": 3
   },
   "file_extension": ".py",
   "mimetype": "text/x-python",
   "name": "python",
   "nbconvert_exporter": "python",
   "pygments_lexer": "ipython3",
   "version": "3.10.9"
  },
  "orig_nbformat": 4
 },
 "nbformat": 4,
 "nbformat_minor": 2
}
