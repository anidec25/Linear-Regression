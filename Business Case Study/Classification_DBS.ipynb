{
 "cells": [
  {
   "cell_type": "code",
   "execution_count": 2181,
   "metadata": {},
   "outputs": [],
   "source": [
    "import pandas as pd\n",
    "import numpy as np\n",
    "import matplotlib.pyplot as plt\n",
    "import seaborn as sns\n",
    "\n",
    "import warnings\n",
    "warnings.filterwarnings('ignore')\n",
    "\n",
    "\n",
    "import category_encoders as ce\n",
    "\n",
    "from sklearn.model_selection import train_test_split\n",
    "from sklearn.preprocessing import StandardScaler\n",
    "from sklearn.ensemble import RandomForestClassifier\n",
    "from sklearn.metrics import accuracy_score, classification_report\n"
   ]
  },
  {
   "cell_type": "code",
   "execution_count": 2108,
   "metadata": {},
   "outputs": [],
   "source": [
    "train = pd.read_csv('../data/dbs/train.csv')\n",
    "test = pd.read_csv('../data/dbs/test.csv')"
   ]
  },
  {
   "cell_type": "code",
   "execution_count": 2109,
   "metadata": {},
   "outputs": [
    {
     "data": {
      "text/html": [
       "<div>\n",
       "<style scoped>\n",
       "    .dataframe tbody tr th:only-of-type {\n",
       "        vertical-align: middle;\n",
       "    }\n",
       "\n",
       "    .dataframe tbody tr th {\n",
       "        vertical-align: top;\n",
       "    }\n",
       "\n",
       "    .dataframe thead th {\n",
       "        text-align: right;\n",
       "    }\n",
       "</style>\n",
       "<table border=\"1\" class=\"dataframe\">\n",
       "  <thead>\n",
       "    <tr style=\"text-align: right;\">\n",
       "      <th></th>\n",
       "      <th>pet_sale_id</th>\n",
       "      <th>issue_date</th>\n",
       "      <th>listing_date</th>\n",
       "      <th>condition</th>\n",
       "      <th>color_type</th>\n",
       "      <th>length(m)</th>\n",
       "      <th>height(cm)</th>\n",
       "      <th>X1</th>\n",
       "      <th>X2</th>\n",
       "      <th>breed_category</th>\n",
       "      <th>pet_category</th>\n",
       "    </tr>\n",
       "  </thead>\n",
       "  <tbody>\n",
       "    <tr>\n",
       "      <th>0</th>\n",
       "      <td>ANSL_36614</td>\n",
       "      <td>2011-01-12 00:00:00</td>\n",
       "      <td>2018-02-18 15:56:00</td>\n",
       "      <td>0.0</td>\n",
       "      <td>Torbie</td>\n",
       "      <td>0.11</td>\n",
       "      <td>9.51</td>\n",
       "      <td>13</td>\n",
       "      <td>9</td>\n",
       "      <td>1</td>\n",
       "      <td>1</td>\n",
       "    </tr>\n",
       "    <tr>\n",
       "      <th>1</th>\n",
       "      <td>ANSL_22109</td>\n",
       "      <td>2015-07-24 00:00:00</td>\n",
       "      <td>2015-10-14 12:06:00</td>\n",
       "      <td>2.0</td>\n",
       "      <td>Brown Tabby</td>\n",
       "      <td>0.42</td>\n",
       "      <td>48.74</td>\n",
       "      <td>0</td>\n",
       "      <td>2</td>\n",
       "      <td>0</td>\n",
       "      <td>1</td>\n",
       "    </tr>\n",
       "    <tr>\n",
       "      <th>2</th>\n",
       "      <td>ANSL_27582</td>\n",
       "      <td>2016-12-02 00:00:00</td>\n",
       "      <td>2017-02-11 14:24:00</td>\n",
       "      <td>2.0</td>\n",
       "      <td>Black</td>\n",
       "      <td>0.90</td>\n",
       "      <td>34.45</td>\n",
       "      <td>13</td>\n",
       "      <td>9</td>\n",
       "      <td>1</td>\n",
       "      <td>1</td>\n",
       "    </tr>\n",
       "    <tr>\n",
       "      <th>3</th>\n",
       "      <td>ANSL_637</td>\n",
       "      <td>2015-07-05 00:00:00</td>\n",
       "      <td>2015-10-13 17:40:00</td>\n",
       "      <td>1.0</td>\n",
       "      <td>Flame Point</td>\n",
       "      <td>0.94</td>\n",
       "      <td>48.91</td>\n",
       "      <td>7</td>\n",
       "      <td>1</td>\n",
       "      <td>0</td>\n",
       "      <td>1</td>\n",
       "    </tr>\n",
       "    <tr>\n",
       "      <th>4</th>\n",
       "      <td>ANSL_27541</td>\n",
       "      <td>2016-01-16 00:00:00</td>\n",
       "      <td>2017-08-31 18:06:00</td>\n",
       "      <td>1.0</td>\n",
       "      <td>Yellow Brindle</td>\n",
       "      <td>0.78</td>\n",
       "      <td>17.07</td>\n",
       "      <td>0</td>\n",
       "      <td>7</td>\n",
       "      <td>0</td>\n",
       "      <td>2</td>\n",
       "    </tr>\n",
       "  </tbody>\n",
       "</table>\n",
       "</div>"
      ],
      "text/plain": [
       "  pet_sale_id           issue_date         listing_date  condition  \\\n",
       "0  ANSL_36614  2011-01-12 00:00:00  2018-02-18 15:56:00        0.0   \n",
       "1  ANSL_22109  2015-07-24 00:00:00  2015-10-14 12:06:00        2.0   \n",
       "2  ANSL_27582  2016-12-02 00:00:00  2017-02-11 14:24:00        2.0   \n",
       "3    ANSL_637  2015-07-05 00:00:00  2015-10-13 17:40:00        1.0   \n",
       "4  ANSL_27541  2016-01-16 00:00:00  2017-08-31 18:06:00        1.0   \n",
       "\n",
       "       color_type  length(m)  height(cm)  X1  X2  breed_category  pet_category  \n",
       "0          Torbie       0.11        9.51  13   9               1             1  \n",
       "1     Brown Tabby       0.42       48.74   0   2               0             1  \n",
       "2           Black       0.90       34.45  13   9               1             1  \n",
       "3     Flame Point       0.94       48.91   7   1               0             1  \n",
       "4  Yellow Brindle       0.78       17.07   0   7               0             2  "
      ]
     },
     "execution_count": 2109,
     "metadata": {},
     "output_type": "execute_result"
    }
   ],
   "source": [
    "train.head()"
   ]
  },
  {
   "cell_type": "markdown",
   "metadata": {},
   "source": [
    "## Basic Exploration"
   ]
  },
  {
   "cell_type": "code",
   "execution_count": 2110,
   "metadata": {},
   "outputs": [
    {
     "name": "stdout",
     "output_type": "stream",
     "text": [
      "The number of records in train: (13991, 11)\n",
      "The number of records in test: (5997, 9)\n"
     ]
    }
   ],
   "source": [
    "print(f\"The number of records in train: {train.shape}\")\n",
    "print(f\"The number of records in test: {test.shape}\")"
   ]
  },
  {
   "cell_type": "code",
   "execution_count": 2111,
   "metadata": {},
   "outputs": [
    {
     "name": "stdout",
     "output_type": "stream",
     "text": [
      "<class 'pandas.core.frame.DataFrame'>\n",
      "RangeIndex: 13991 entries, 0 to 13990\n",
      "Data columns (total 11 columns):\n",
      " #   Column          Non-Null Count  Dtype  \n",
      "---  ------          --------------  -----  \n",
      " 0   pet_sale_id     13991 non-null  object \n",
      " 1   issue_date      13991 non-null  object \n",
      " 2   listing_date    13991 non-null  object \n",
      " 3   condition       12935 non-null  float64\n",
      " 4   color_type      13991 non-null  object \n",
      " 5   length(m)       13991 non-null  float64\n",
      " 6   height(cm)      13991 non-null  float64\n",
      " 7   X1              13991 non-null  int64  \n",
      " 8   X2              13991 non-null  int64  \n",
      " 9   breed_category  13991 non-null  int64  \n",
      " 10  pet_category    13991 non-null  int64  \n",
      "dtypes: float64(3), int64(4), object(4)\n",
      "memory usage: 1.2+ MB\n"
     ]
    }
   ],
   "source": [
    "train.info()"
   ]
  },
  {
   "cell_type": "markdown",
   "metadata": {},
   "source": [
    "### Missing value"
   ]
  },
  {
   "cell_type": "code",
   "execution_count": 2112,
   "metadata": {},
   "outputs": [
    {
     "data": {
      "text/plain": [
       "pet_sale_id          0\n",
       "issue_date           0\n",
       "listing_date         0\n",
       "condition         1056\n",
       "color_type           0\n",
       "length(m)            0\n",
       "height(cm)           0\n",
       "X1                   0\n",
       "X2                   0\n",
       "breed_category       0\n",
       "pet_category         0\n",
       "dtype: int64"
      ]
     },
     "execution_count": 2112,
     "metadata": {},
     "output_type": "execute_result"
    }
   ],
   "source": [
    "train.isnull().sum()"
   ]
  },
  {
   "cell_type": "markdown",
   "metadata": {},
   "source": [
    "There are some missing value in the 'condition' column. Need to impute with some value "
   ]
  },
  {
   "cell_type": "markdown",
   "metadata": {},
   "source": [
    "### Lets explore each column one by one"
   ]
  },
  {
   "cell_type": "code",
   "execution_count": 2113,
   "metadata": {},
   "outputs": [
    {
     "data": {
      "text/plain": [
       "Index(['pet_sale_id', 'issue_date', 'listing_date', 'condition', 'color_type',\n",
       "       'length(m)', 'height(cm)', 'X1', 'X2', 'breed_category',\n",
       "       'pet_category'],\n",
       "      dtype='object')"
      ]
     },
     "execution_count": 2113,
     "metadata": {},
     "output_type": "execute_result"
    }
   ],
   "source": [
    "train.columns"
   ]
  },
  {
   "cell_type": "code",
   "execution_count": 2114,
   "metadata": {},
   "outputs": [
    {
     "data": {
      "text/html": [
       "<div>\n",
       "<style scoped>\n",
       "    .dataframe tbody tr th:only-of-type {\n",
       "        vertical-align: middle;\n",
       "    }\n",
       "\n",
       "    .dataframe tbody tr th {\n",
       "        vertical-align: top;\n",
       "    }\n",
       "\n",
       "    .dataframe thead th {\n",
       "        text-align: right;\n",
       "    }\n",
       "</style>\n",
       "<table border=\"1\" class=\"dataframe\">\n",
       "  <thead>\n",
       "    <tr style=\"text-align: right;\">\n",
       "      <th></th>\n",
       "      <th>pet_sale_id</th>\n",
       "      <th>issue_date</th>\n",
       "      <th>listing_date</th>\n",
       "      <th>condition</th>\n",
       "      <th>color_type</th>\n",
       "      <th>length(m)</th>\n",
       "      <th>height(cm)</th>\n",
       "      <th>X1</th>\n",
       "      <th>X2</th>\n",
       "      <th>breed_category</th>\n",
       "      <th>pet_category</th>\n",
       "    </tr>\n",
       "  </thead>\n",
       "  <tbody>\n",
       "    <tr>\n",
       "      <th>0</th>\n",
       "      <td>ANSL_36614</td>\n",
       "      <td>2011-01-12 00:00:00</td>\n",
       "      <td>2018-02-18 15:56:00</td>\n",
       "      <td>0.0</td>\n",
       "      <td>Torbie</td>\n",
       "      <td>0.11</td>\n",
       "      <td>9.51</td>\n",
       "      <td>13</td>\n",
       "      <td>9</td>\n",
       "      <td>1</td>\n",
       "      <td>1</td>\n",
       "    </tr>\n",
       "    <tr>\n",
       "      <th>1</th>\n",
       "      <td>ANSL_22109</td>\n",
       "      <td>2015-07-24 00:00:00</td>\n",
       "      <td>2015-10-14 12:06:00</td>\n",
       "      <td>2.0</td>\n",
       "      <td>Brown Tabby</td>\n",
       "      <td>0.42</td>\n",
       "      <td>48.74</td>\n",
       "      <td>0</td>\n",
       "      <td>2</td>\n",
       "      <td>0</td>\n",
       "      <td>1</td>\n",
       "    </tr>\n",
       "    <tr>\n",
       "      <th>2</th>\n",
       "      <td>ANSL_27582</td>\n",
       "      <td>2016-12-02 00:00:00</td>\n",
       "      <td>2017-02-11 14:24:00</td>\n",
       "      <td>2.0</td>\n",
       "      <td>Black</td>\n",
       "      <td>0.90</td>\n",
       "      <td>34.45</td>\n",
       "      <td>13</td>\n",
       "      <td>9</td>\n",
       "      <td>1</td>\n",
       "      <td>1</td>\n",
       "    </tr>\n",
       "    <tr>\n",
       "      <th>3</th>\n",
       "      <td>ANSL_637</td>\n",
       "      <td>2015-07-05 00:00:00</td>\n",
       "      <td>2015-10-13 17:40:00</td>\n",
       "      <td>1.0</td>\n",
       "      <td>Flame Point</td>\n",
       "      <td>0.94</td>\n",
       "      <td>48.91</td>\n",
       "      <td>7</td>\n",
       "      <td>1</td>\n",
       "      <td>0</td>\n",
       "      <td>1</td>\n",
       "    </tr>\n",
       "    <tr>\n",
       "      <th>4</th>\n",
       "      <td>ANSL_27541</td>\n",
       "      <td>2016-01-16 00:00:00</td>\n",
       "      <td>2017-08-31 18:06:00</td>\n",
       "      <td>1.0</td>\n",
       "      <td>Yellow Brindle</td>\n",
       "      <td>0.78</td>\n",
       "      <td>17.07</td>\n",
       "      <td>0</td>\n",
       "      <td>7</td>\n",
       "      <td>0</td>\n",
       "      <td>2</td>\n",
       "    </tr>\n",
       "  </tbody>\n",
       "</table>\n",
       "</div>"
      ],
      "text/plain": [
       "  pet_sale_id           issue_date         listing_date  condition  \\\n",
       "0  ANSL_36614  2011-01-12 00:00:00  2018-02-18 15:56:00        0.0   \n",
       "1  ANSL_22109  2015-07-24 00:00:00  2015-10-14 12:06:00        2.0   \n",
       "2  ANSL_27582  2016-12-02 00:00:00  2017-02-11 14:24:00        2.0   \n",
       "3    ANSL_637  2015-07-05 00:00:00  2015-10-13 17:40:00        1.0   \n",
       "4  ANSL_27541  2016-01-16 00:00:00  2017-08-31 18:06:00        1.0   \n",
       "\n",
       "       color_type  length(m)  height(cm)  X1  X2  breed_category  pet_category  \n",
       "0          Torbie       0.11        9.51  13   9               1             1  \n",
       "1     Brown Tabby       0.42       48.74   0   2               0             1  \n",
       "2           Black       0.90       34.45  13   9               1             1  \n",
       "3     Flame Point       0.94       48.91   7   1               0             1  \n",
       "4  Yellow Brindle       0.78       17.07   0   7               0             2  "
      ]
     },
     "execution_count": 2114,
     "metadata": {},
     "output_type": "execute_result"
    }
   ],
   "source": [
    "train.head()"
   ]
  },
  {
   "cell_type": "markdown",
   "metadata": {},
   "source": [
    "1. PET SALE ID"
   ]
  },
  {
   "cell_type": "code",
   "execution_count": 2115,
   "metadata": {},
   "outputs": [
    {
     "data": {
      "text/plain": [
       "13991"
      ]
     },
     "execution_count": 2115,
     "metadata": {},
     "output_type": "execute_result"
    }
   ],
   "source": [
    "train['pet_sale_id'].nunique()"
   ]
  },
  {
   "cell_type": "code",
   "execution_count": 2116,
   "metadata": {},
   "outputs": [
    {
     "data": {
      "text/html": [
       "<div>\n",
       "<style scoped>\n",
       "    .dataframe tbody tr th:only-of-type {\n",
       "        vertical-align: middle;\n",
       "    }\n",
       "\n",
       "    .dataframe tbody tr th {\n",
       "        vertical-align: top;\n",
       "    }\n",
       "\n",
       "    .dataframe thead th {\n",
       "        text-align: right;\n",
       "    }\n",
       "</style>\n",
       "<table border=\"1\" class=\"dataframe\">\n",
       "  <thead>\n",
       "    <tr style=\"text-align: right;\">\n",
       "      <th></th>\n",
       "      <th>pet_sale_id</th>\n",
       "      <th>issue_date</th>\n",
       "      <th>listing_date</th>\n",
       "      <th>condition</th>\n",
       "      <th>color_type</th>\n",
       "      <th>length(m)</th>\n",
       "      <th>height(cm)</th>\n",
       "      <th>X1</th>\n",
       "      <th>X2</th>\n",
       "      <th>breed_category</th>\n",
       "      <th>pet_category</th>\n",
       "    </tr>\n",
       "  </thead>\n",
       "  <tbody>\n",
       "    <tr>\n",
       "      <th>4</th>\n",
       "      <td>ANSL_27541</td>\n",
       "      <td>2016-01-16 00:00:00</td>\n",
       "      <td>2017-08-31 18:06:00</td>\n",
       "      <td>1.0</td>\n",
       "      <td>Yellow Brindle</td>\n",
       "      <td>0.78</td>\n",
       "      <td>17.07</td>\n",
       "      <td>0</td>\n",
       "      <td>7</td>\n",
       "      <td>0</td>\n",
       "      <td>2</td>\n",
       "    </tr>\n",
       "  </tbody>\n",
       "</table>\n",
       "</div>"
      ],
      "text/plain": [
       "  pet_sale_id           issue_date         listing_date  condition  \\\n",
       "4  ANSL_27541  2016-01-16 00:00:00  2017-08-31 18:06:00        1.0   \n",
       "\n",
       "       color_type  length(m)  height(cm)  X1  X2  breed_category  pet_category  \n",
       "4  Yellow Brindle       0.78       17.07   0   7               0             2  "
      ]
     },
     "execution_count": 2116,
     "metadata": {},
     "output_type": "execute_result"
    }
   ],
   "source": [
    "train[train['pet_sale_id'] == 'ANSL_27541']"
   ]
  },
  {
   "cell_type": "code",
   "execution_count": 2117,
   "metadata": {},
   "outputs": [],
   "source": [
    "# Lets keep this column for now as this is going to be our input column for our final prediction. \n",
    "# Note: There is a little confusion here on how just the sale id going to predict"
   ]
  },
  {
   "cell_type": "markdown",
   "metadata": {},
   "source": [
    "2. Condition"
   ]
  },
  {
   "cell_type": "code",
   "execution_count": 2118,
   "metadata": {},
   "outputs": [
    {
     "data": {
      "text/plain": [
       "array([ 0.,  2.,  1., nan])"
      ]
     },
     "execution_count": 2118,
     "metadata": {},
     "output_type": "execute_result"
    }
   ],
   "source": [
    "train['condition'].unique()"
   ]
  },
  {
   "cell_type": "code",
   "execution_count": 2119,
   "metadata": {},
   "outputs": [
    {
     "data": {
      "text/plain": [
       "1.0    4997\n",
       "0.0    4611\n",
       "2.0    3327\n",
       "Name: condition, dtype: int64"
      ]
     },
     "execution_count": 2119,
     "metadata": {},
     "output_type": "execute_result"
    }
   ],
   "source": [
    "train['condition'].value_counts()"
   ]
  },
  {
   "cell_type": "code",
   "execution_count": 2120,
   "metadata": {},
   "outputs": [
    {
     "data": {
      "text/plain": [
       "0    1.0\n",
       "Name: condition, dtype: float64"
      ]
     },
     "execution_count": 2120,
     "metadata": {},
     "output_type": "execute_result"
    }
   ],
   "source": [
    "train['condition'].mode()"
   ]
  },
  {
   "cell_type": "markdown",
   "metadata": {},
   "source": [
    "Lets impute the null values with mode values of this columns"
   ]
  },
  {
   "cell_type": "code",
   "execution_count": 2121,
   "metadata": {},
   "outputs": [
    {
     "name": "stdout",
     "output_type": "stream",
     "text": [
      "1.0\n"
     ]
    }
   ],
   "source": [
    "value = train['condition'].mode()[0]\n",
    "\n",
    "print(value)\n",
    "\n",
    "train['condition'].fillna(value, inplace=True)"
   ]
  },
  {
   "cell_type": "code",
   "execution_count": 2122,
   "metadata": {},
   "outputs": [
    {
     "data": {
      "text/plain": [
       "1.0    6053\n",
       "0.0    4611\n",
       "2.0    3327\n",
       "Name: condition, dtype: int64"
      ]
     },
     "execution_count": 2122,
     "metadata": {},
     "output_type": "execute_result"
    }
   ],
   "source": [
    "train['condition'].value_counts()"
   ]
  },
  {
   "cell_type": "code",
   "execution_count": 2123,
   "metadata": {},
   "outputs": [
    {
     "data": {
      "text/plain": [
       "pet_sale_id       0\n",
       "issue_date        0\n",
       "listing_date      0\n",
       "condition         0\n",
       "color_type        0\n",
       "length(m)         0\n",
       "height(cm)        0\n",
       "X1                0\n",
       "X2                0\n",
       "breed_category    0\n",
       "pet_category      0\n",
       "dtype: int64"
      ]
     },
     "execution_count": 2123,
     "metadata": {},
     "output_type": "execute_result"
    }
   ],
   "source": [
    "train.isnull().sum()"
   ]
  },
  {
   "cell_type": "markdown",
   "metadata": {},
   "source": [
    "3. Color Type"
   ]
  },
  {
   "cell_type": "code",
   "execution_count": 2124,
   "metadata": {},
   "outputs": [
    {
     "data": {
      "text/plain": [
       "Black              3364\n",
       "White              1703\n",
       "Brown              1427\n",
       "Brown Tabby        1180\n",
       "Tan                 930\n",
       "Blue                624\n",
       "Orange Tabby        585\n",
       "Red                 417\n",
       "Brown Brindle       398\n",
       "Tricolor            390\n",
       "Blue Tabby          328\n",
       "Tortie              281\n",
       "Calico              260\n",
       "Chocolate           231\n",
       "Gray                225\n",
       "Torbie              178\n",
       "Sable               143\n",
       "Yellow              134\n",
       "Cream Tabby         131\n",
       "Cream               116\n",
       "Buff                 98\n",
       "Fawn                 94\n",
       "Lynx Point           89\n",
       "Seal Point           74\n",
       "Blue Merle           66\n",
       "Black Brindle        50\n",
       "Gold                 42\n",
       "Black Tabby          39\n",
       "Flame Point          37\n",
       "Blue Tick            32\n",
       "Gray Tabby           31\n",
       "Black Smoke          28\n",
       "Silver               26\n",
       "Red Merle            25\n",
       "Red Tick             25\n",
       "Brown Merle          24\n",
       "Orange               19\n",
       "Yellow Brindle       17\n",
       "Lilac Point          16\n",
       "Apricot              16\n",
       "Silver Tabby         14\n",
       "Tortie Point         13\n",
       "Calico Point         11\n",
       "Blue Tiger            9\n",
       "Chocolate Point       9\n",
       "Blue Point            9\n",
       "Blue Cream            8\n",
       "Liver                 7\n",
       "Green                 6\n",
       "Agouti                4\n",
       "Pink                  3\n",
       "Brown Tiger           2\n",
       "Blue Smoke            1\n",
       "Orange Tiger          1\n",
       "Liver Tick            1\n",
       "Name: color_type, dtype: int64"
      ]
     },
     "execution_count": 2124,
     "metadata": {},
     "output_type": "execute_result"
    }
   ],
   "source": [
    "train['color_type'].value_counts()"
   ]
  },
  {
   "cell_type": "markdown",
   "metadata": {},
   "source": [
    "4. length"
   ]
  },
  {
   "cell_type": "code",
   "execution_count": 2125,
   "metadata": {},
   "outputs": [
    {
     "data": {
      "text/plain": [
       "count    13991.000000\n",
       "mean         0.499457\n",
       "std          0.289461\n",
       "min          0.000000\n",
       "25%          0.250000\n",
       "50%          0.500000\n",
       "75%          0.750000\n",
       "max          1.000000\n",
       "Name: length(m), dtype: float64"
      ]
     },
     "execution_count": 2125,
     "metadata": {},
     "output_type": "execute_result"
    }
   ],
   "source": [
    "train['length(m)'].describe()"
   ]
  },
  {
   "cell_type": "markdown",
   "metadata": {},
   "source": [
    "5. height(cm)"
   ]
  },
  {
   "cell_type": "code",
   "execution_count": 2126,
   "metadata": {},
   "outputs": [
    {
     "data": {
      "text/plain": [
       "count    13991.000000\n",
       "mean        27.291664\n",
       "std         13.048867\n",
       "min          5.000000\n",
       "25%         16.025000\n",
       "50%         27.140000\n",
       "75%         38.535000\n",
       "max         50.000000\n",
       "Name: height(cm), dtype: float64"
      ]
     },
     "execution_count": 2126,
     "metadata": {},
     "output_type": "execute_result"
    }
   ],
   "source": [
    "train['height(cm)'].describe()"
   ]
  },
  {
   "cell_type": "markdown",
   "metadata": {},
   "source": [
    "6. X1"
   ]
  },
  {
   "cell_type": "code",
   "execution_count": 2127,
   "metadata": {},
   "outputs": [
    {
     "data": {
      "text/plain": [
       "[0, 1, 2, 3, 4, 5, 6, 7, 8, 9, 10, 11, 12, 13, 15, 16, 17, 18, 19]"
      ]
     },
     "execution_count": 2127,
     "metadata": {},
     "output_type": "execute_result"
    }
   ],
   "source": [
    "sorted(train['X1'].unique())"
   ]
  },
  {
   "cell_type": "code",
   "execution_count": 2128,
   "metadata": {},
   "outputs": [
    {
     "data": {
      "text/plain": [
       "count    13991.000000\n",
       "mean         5.803016\n",
       "std          6.690626\n",
       "min          0.000000\n",
       "25%          0.000000\n",
       "50%          0.000000\n",
       "75%         13.000000\n",
       "max         19.000000\n",
       "Name: X1, dtype: float64"
      ]
     },
     "execution_count": 2128,
     "metadata": {},
     "output_type": "execute_result"
    }
   ],
   "source": [
    "train['X1'].describe()"
   ]
  },
  {
   "cell_type": "markdown",
   "metadata": {},
   "source": [
    "7. X2"
   ]
  },
  {
   "cell_type": "code",
   "execution_count": 2129,
   "metadata": {},
   "outputs": [
    {
     "data": {
      "text/plain": [
       "[0, 1, 2, 3, 4, 5, 6, 7, 8, 9]"
      ]
     },
     "execution_count": 2129,
     "metadata": {},
     "output_type": "execute_result"
    }
   ],
   "source": [
    "sorted(train['X2'].unique())"
   ]
  },
  {
   "cell_type": "code",
   "execution_count": 2130,
   "metadata": {},
   "outputs": [
    {
     "data": {
      "text/plain": [
       "count    13991.000000\n",
       "mean         4.770281\n",
       "std          3.515977\n",
       "min          0.000000\n",
       "25%          1.000000\n",
       "50%          4.000000\n",
       "75%          9.000000\n",
       "max          9.000000\n",
       "Name: X2, dtype: float64"
      ]
     },
     "execution_count": 2130,
     "metadata": {},
     "output_type": "execute_result"
    }
   ],
   "source": [
    "train['X2'].describe()"
   ]
  },
  {
   "cell_type": "markdown",
   "metadata": {},
   "source": [
    "## Target columns "
   ]
  },
  {
   "cell_type": "code",
   "execution_count": 2131,
   "metadata": {},
   "outputs": [
    {
     "data": {
      "text/plain": [
       "array([1, 0, 2])"
      ]
     },
     "execution_count": 2131,
     "metadata": {},
     "output_type": "execute_result"
    }
   ],
   "source": [
    "train['breed_category'].unique()"
   ]
  },
  {
   "cell_type": "code",
   "execution_count": 2132,
   "metadata": {},
   "outputs": [
    {
     "data": {
      "text/plain": [
       "array([1, 2, 4, 0, 3])"
      ]
     },
     "execution_count": 2132,
     "metadata": {},
     "output_type": "execute_result"
    }
   ],
   "source": [
    "train['pet_category'].unique()"
   ]
  },
  {
   "cell_type": "markdown",
   "metadata": {},
   "source": [
    "## Data Transformation for Model"
   ]
  },
  {
   "cell_type": "code",
   "execution_count": 2133,
   "metadata": {},
   "outputs": [
    {
     "data": {
      "text/html": [
       "<div>\n",
       "<style scoped>\n",
       "    .dataframe tbody tr th:only-of-type {\n",
       "        vertical-align: middle;\n",
       "    }\n",
       "\n",
       "    .dataframe tbody tr th {\n",
       "        vertical-align: top;\n",
       "    }\n",
       "\n",
       "    .dataframe thead th {\n",
       "        text-align: right;\n",
       "    }\n",
       "</style>\n",
       "<table border=\"1\" class=\"dataframe\">\n",
       "  <thead>\n",
       "    <tr style=\"text-align: right;\">\n",
       "      <th></th>\n",
       "      <th>pet_sale_id</th>\n",
       "      <th>issue_date</th>\n",
       "      <th>listing_date</th>\n",
       "      <th>condition</th>\n",
       "      <th>color_type</th>\n",
       "      <th>length(m)</th>\n",
       "      <th>height(cm)</th>\n",
       "      <th>X1</th>\n",
       "      <th>X2</th>\n",
       "      <th>breed_category</th>\n",
       "      <th>pet_category</th>\n",
       "    </tr>\n",
       "  </thead>\n",
       "  <tbody>\n",
       "    <tr>\n",
       "      <th>0</th>\n",
       "      <td>ANSL_36614</td>\n",
       "      <td>2011-01-12 00:00:00</td>\n",
       "      <td>2018-02-18 15:56:00</td>\n",
       "      <td>0.0</td>\n",
       "      <td>Torbie</td>\n",
       "      <td>0.11</td>\n",
       "      <td>9.51</td>\n",
       "      <td>13</td>\n",
       "      <td>9</td>\n",
       "      <td>1</td>\n",
       "      <td>1</td>\n",
       "    </tr>\n",
       "    <tr>\n",
       "      <th>1</th>\n",
       "      <td>ANSL_22109</td>\n",
       "      <td>2015-07-24 00:00:00</td>\n",
       "      <td>2015-10-14 12:06:00</td>\n",
       "      <td>2.0</td>\n",
       "      <td>Brown Tabby</td>\n",
       "      <td>0.42</td>\n",
       "      <td>48.74</td>\n",
       "      <td>0</td>\n",
       "      <td>2</td>\n",
       "      <td>0</td>\n",
       "      <td>1</td>\n",
       "    </tr>\n",
       "    <tr>\n",
       "      <th>2</th>\n",
       "      <td>ANSL_27582</td>\n",
       "      <td>2016-12-02 00:00:00</td>\n",
       "      <td>2017-02-11 14:24:00</td>\n",
       "      <td>2.0</td>\n",
       "      <td>Black</td>\n",
       "      <td>0.90</td>\n",
       "      <td>34.45</td>\n",
       "      <td>13</td>\n",
       "      <td>9</td>\n",
       "      <td>1</td>\n",
       "      <td>1</td>\n",
       "    </tr>\n",
       "    <tr>\n",
       "      <th>3</th>\n",
       "      <td>ANSL_637</td>\n",
       "      <td>2015-07-05 00:00:00</td>\n",
       "      <td>2015-10-13 17:40:00</td>\n",
       "      <td>1.0</td>\n",
       "      <td>Flame Point</td>\n",
       "      <td>0.94</td>\n",
       "      <td>48.91</td>\n",
       "      <td>7</td>\n",
       "      <td>1</td>\n",
       "      <td>0</td>\n",
       "      <td>1</td>\n",
       "    </tr>\n",
       "    <tr>\n",
       "      <th>4</th>\n",
       "      <td>ANSL_27541</td>\n",
       "      <td>2016-01-16 00:00:00</td>\n",
       "      <td>2017-08-31 18:06:00</td>\n",
       "      <td>1.0</td>\n",
       "      <td>Yellow Brindle</td>\n",
       "      <td>0.78</td>\n",
       "      <td>17.07</td>\n",
       "      <td>0</td>\n",
       "      <td>7</td>\n",
       "      <td>0</td>\n",
       "      <td>2</td>\n",
       "    </tr>\n",
       "  </tbody>\n",
       "</table>\n",
       "</div>"
      ],
      "text/plain": [
       "  pet_sale_id           issue_date         listing_date  condition  \\\n",
       "0  ANSL_36614  2011-01-12 00:00:00  2018-02-18 15:56:00        0.0   \n",
       "1  ANSL_22109  2015-07-24 00:00:00  2015-10-14 12:06:00        2.0   \n",
       "2  ANSL_27582  2016-12-02 00:00:00  2017-02-11 14:24:00        2.0   \n",
       "3    ANSL_637  2015-07-05 00:00:00  2015-10-13 17:40:00        1.0   \n",
       "4  ANSL_27541  2016-01-16 00:00:00  2017-08-31 18:06:00        1.0   \n",
       "\n",
       "       color_type  length(m)  height(cm)  X1  X2  breed_category  pet_category  \n",
       "0          Torbie       0.11        9.51  13   9               1             1  \n",
       "1     Brown Tabby       0.42       48.74   0   2               0             1  \n",
       "2           Black       0.90       34.45  13   9               1             1  \n",
       "3     Flame Point       0.94       48.91   7   1               0             1  \n",
       "4  Yellow Brindle       0.78       17.07   0   7               0             2  "
      ]
     },
     "execution_count": 2133,
     "metadata": {},
     "output_type": "execute_result"
    }
   ],
   "source": [
    "train.head()"
   ]
  },
  {
   "cell_type": "code",
   "execution_count": 2134,
   "metadata": {},
   "outputs": [
    {
     "data": {
      "text/plain": [
       "Index(['pet_sale_id', 'issue_date', 'listing_date', 'condition', 'color_type',\n",
       "       'length(m)', 'height(cm)', 'X1', 'X2', 'breed_category',\n",
       "       'pet_category'],\n",
       "      dtype='object')"
      ]
     },
     "execution_count": 2134,
     "metadata": {},
     "output_type": "execute_result"
    }
   ],
   "source": [
    "train.columns"
   ]
  },
  {
   "cell_type": "code",
   "execution_count": 2135,
   "metadata": {},
   "outputs": [],
   "source": [
    "train_breed_category = train[['pet_sale_id', 'issue_date', 'listing_date', 'condition', 'color_type',\n",
    "       'length(m)', 'height(cm)', 'X1', 'X2', 'breed_category']]\n",
    "\n",
    "train_pet_category = train[['pet_sale_id', 'issue_date', 'listing_date', 'condition', 'color_type',\n",
    "       'length(m)', 'height(cm)', 'X1', 'X2', 'pet_category']]\n",
    "\n",
    "test_breed_category = test.copy()\n",
    "test_pet_category = test.copy()"
   ]
  },
  {
   "cell_type": "code",
   "execution_count": 2136,
   "metadata": {},
   "outputs": [
    {
     "data": {
      "text/plain": [
       "Index(['pet_sale_id', 'issue_date', 'listing_date', 'condition', 'color_type',\n",
       "       'length(m)', 'height(cm)', 'X1', 'X2'],\n",
       "      dtype='object')"
      ]
     },
     "execution_count": 2136,
     "metadata": {},
     "output_type": "execute_result"
    }
   ],
   "source": [
    "test.columns"
   ]
  },
  {
   "cell_type": "code",
   "execution_count": 2137,
   "metadata": {},
   "outputs": [
    {
     "data": {
      "text/html": [
       "<div>\n",
       "<style scoped>\n",
       "    .dataframe tbody tr th:only-of-type {\n",
       "        vertical-align: middle;\n",
       "    }\n",
       "\n",
       "    .dataframe tbody tr th {\n",
       "        vertical-align: top;\n",
       "    }\n",
       "\n",
       "    .dataframe thead th {\n",
       "        text-align: right;\n",
       "    }\n",
       "</style>\n",
       "<table border=\"1\" class=\"dataframe\">\n",
       "  <thead>\n",
       "    <tr style=\"text-align: right;\">\n",
       "      <th></th>\n",
       "      <th>pet_sale_id</th>\n",
       "      <th>issue_date</th>\n",
       "      <th>listing_date</th>\n",
       "      <th>condition</th>\n",
       "      <th>color_type</th>\n",
       "      <th>length(m)</th>\n",
       "      <th>height(cm)</th>\n",
       "      <th>X1</th>\n",
       "      <th>X2</th>\n",
       "    </tr>\n",
       "  </thead>\n",
       "  <tbody>\n",
       "    <tr>\n",
       "      <th>0</th>\n",
       "      <td>ANSL_1354</td>\n",
       "      <td>2015-06-19 00:00:00</td>\n",
       "      <td>2015-07-24 13:20:00</td>\n",
       "      <td>2.0</td>\n",
       "      <td>Black</td>\n",
       "      <td>0.27</td>\n",
       "      <td>22.75</td>\n",
       "      <td>13</td>\n",
       "      <td>9</td>\n",
       "    </tr>\n",
       "    <tr>\n",
       "      <th>1</th>\n",
       "      <td>ANSL_22102</td>\n",
       "      <td>2015-08-28 00:00:00</td>\n",
       "      <td>2015-12-05 14:13:00</td>\n",
       "      <td>1.0</td>\n",
       "      <td>Black</td>\n",
       "      <td>0.57</td>\n",
       "      <td>21.17</td>\n",
       "      <td>0</td>\n",
       "      <td>1</td>\n",
       "    </tr>\n",
       "    <tr>\n",
       "      <th>2</th>\n",
       "      <td>ANSL_12994</td>\n",
       "      <td>2015-06-21 00:00:00</td>\n",
       "      <td>2015-10-30 18:08:00</td>\n",
       "      <td>1.0</td>\n",
       "      <td>Orange Tabby</td>\n",
       "      <td>0.00</td>\n",
       "      <td>34.34</td>\n",
       "      <td>0</td>\n",
       "      <td>1</td>\n",
       "    </tr>\n",
       "    <tr>\n",
       "      <th>3</th>\n",
       "      <td>ANSL_35930</td>\n",
       "      <td>2010-04-14 00:00:00</td>\n",
       "      <td>2018-05-10 14:55:00</td>\n",
       "      <td>0.0</td>\n",
       "      <td>Tan</td>\n",
       "      <td>0.46</td>\n",
       "      <td>44.66</td>\n",
       "      <td>13</td>\n",
       "      <td>9</td>\n",
       "    </tr>\n",
       "    <tr>\n",
       "      <th>4</th>\n",
       "      <td>ANSL_41868</td>\n",
       "      <td>2016-08-16 00:00:00</td>\n",
       "      <td>2016-09-16 19:06:00</td>\n",
       "      <td>NaN</td>\n",
       "      <td>Black</td>\n",
       "      <td>0.89</td>\n",
       "      <td>14.72</td>\n",
       "      <td>13</td>\n",
       "      <td>9</td>\n",
       "    </tr>\n",
       "    <tr>\n",
       "      <th>...</th>\n",
       "      <td>...</td>\n",
       "      <td>...</td>\n",
       "      <td>...</td>\n",
       "      <td>...</td>\n",
       "      <td>...</td>\n",
       "      <td>...</td>\n",
       "      <td>...</td>\n",
       "      <td>...</td>\n",
       "      <td>...</td>\n",
       "    </tr>\n",
       "    <tr>\n",
       "      <th>5992</th>\n",
       "      <td>ANSL_9471</td>\n",
       "      <td>2015-10-06 00:00:00</td>\n",
       "      <td>2015-11-04 16:50:00</td>\n",
       "      <td>2.0</td>\n",
       "      <td>Orange Tabby</td>\n",
       "      <td>0.60</td>\n",
       "      <td>32.68</td>\n",
       "      <td>13</td>\n",
       "      <td>9</td>\n",
       "    </tr>\n",
       "    <tr>\n",
       "      <th>5993</th>\n",
       "      <td>ANSL_49040</td>\n",
       "      <td>2017-04-13 00:00:00</td>\n",
       "      <td>2017-07-08 19:00:00</td>\n",
       "      <td>1.0</td>\n",
       "      <td>Chocolate</td>\n",
       "      <td>0.40</td>\n",
       "      <td>48.06</td>\n",
       "      <td>0</td>\n",
       "      <td>1</td>\n",
       "    </tr>\n",
       "    <tr>\n",
       "      <th>5994</th>\n",
       "      <td>ANSL_16530</td>\n",
       "      <td>2015-11-21 00:00:00</td>\n",
       "      <td>2016-03-12 12:37:00</td>\n",
       "      <td>1.0</td>\n",
       "      <td>Black</td>\n",
       "      <td>0.53</td>\n",
       "      <td>10.97</td>\n",
       "      <td>7</td>\n",
       "      <td>1</td>\n",
       "    </tr>\n",
       "    <tr>\n",
       "      <th>5995</th>\n",
       "      <td>ANSL_42416</td>\n",
       "      <td>2016-09-07 00:00:00</td>\n",
       "      <td>2017-12-04 12:22:00</td>\n",
       "      <td>1.0</td>\n",
       "      <td>Red</td>\n",
       "      <td>0.13</td>\n",
       "      <td>19.53</td>\n",
       "      <td>0</td>\n",
       "      <td>1</td>\n",
       "    </tr>\n",
       "    <tr>\n",
       "      <th>5996</th>\n",
       "      <td>ANSL_14847</td>\n",
       "      <td>2007-09-10 00:00:00</td>\n",
       "      <td>2015-10-01 16:37:00</td>\n",
       "      <td>2.0</td>\n",
       "      <td>Black</td>\n",
       "      <td>0.96</td>\n",
       "      <td>38.94</td>\n",
       "      <td>18</td>\n",
       "      <td>4</td>\n",
       "    </tr>\n",
       "  </tbody>\n",
       "</table>\n",
       "<p>5997 rows × 9 columns</p>\n",
       "</div>"
      ],
      "text/plain": [
       "     pet_sale_id           issue_date         listing_date  condition  \\\n",
       "0      ANSL_1354  2015-06-19 00:00:00  2015-07-24 13:20:00        2.0   \n",
       "1     ANSL_22102  2015-08-28 00:00:00  2015-12-05 14:13:00        1.0   \n",
       "2     ANSL_12994  2015-06-21 00:00:00  2015-10-30 18:08:00        1.0   \n",
       "3     ANSL_35930  2010-04-14 00:00:00  2018-05-10 14:55:00        0.0   \n",
       "4     ANSL_41868  2016-08-16 00:00:00  2016-09-16 19:06:00        NaN   \n",
       "...          ...                  ...                  ...        ...   \n",
       "5992   ANSL_9471  2015-10-06 00:00:00  2015-11-04 16:50:00        2.0   \n",
       "5993  ANSL_49040  2017-04-13 00:00:00  2017-07-08 19:00:00        1.0   \n",
       "5994  ANSL_16530  2015-11-21 00:00:00  2016-03-12 12:37:00        1.0   \n",
       "5995  ANSL_42416  2016-09-07 00:00:00  2017-12-04 12:22:00        1.0   \n",
       "5996  ANSL_14847  2007-09-10 00:00:00  2015-10-01 16:37:00        2.0   \n",
       "\n",
       "        color_type  length(m)  height(cm)  X1  X2  \n",
       "0            Black       0.27       22.75  13   9  \n",
       "1            Black       0.57       21.17   0   1  \n",
       "2     Orange Tabby       0.00       34.34   0   1  \n",
       "3              Tan       0.46       44.66  13   9  \n",
       "4            Black       0.89       14.72  13   9  \n",
       "...            ...        ...         ...  ..  ..  \n",
       "5992  Orange Tabby       0.60       32.68  13   9  \n",
       "5993     Chocolate       0.40       48.06   0   1  \n",
       "5994         Black       0.53       10.97   7   1  \n",
       "5995           Red       0.13       19.53   0   1  \n",
       "5996         Black       0.96       38.94  18   4  \n",
       "\n",
       "[5997 rows x 9 columns]"
      ]
     },
     "execution_count": 2137,
     "metadata": {},
     "output_type": "execute_result"
    }
   ],
   "source": [
    "test_breed_category"
   ]
  },
  {
   "cell_type": "code",
   "execution_count": 2138,
   "metadata": {},
   "outputs": [],
   "source": [
    "def data_transformation():\n",
    "\n",
    "    # Dropping the issue date and listing date from the data\n",
    "    train_breed_category.drop(columns = ['issue_date','listing_date'], inplace=True)\n",
    "    train_pet_category.drop(columns = ['issue_date','listing_date'], inplace=True)\n",
    "\n",
    "    test_breed_category.drop(columns = ['issue_date','listing_date'], inplace=True)\n",
    "    test_pet_category.drop(columns = ['issue_date','listing_date'], inplace=True)\n",
    "\n",
    "\n",
    "    #Imputing the null values in condition columns\n",
    "    breed_condition_value = train_breed_category['condition'].mode()[0]\n",
    "    pet_condition_value = train_pet_category['condition'].mode()[0]\n",
    "\n",
    "    test_breed_condition_value = test_breed_category['condition'].mode()[0]\n",
    "    test_pet_condition_value = test_pet_category['condition'].mode()[0]\n",
    "    \n",
    "    train_breed_category['condition'].fillna(breed_condition_value, inplace=True)\n",
    "    train_pet_category['condition'].fillna(pet_condition_value, inplace=True)\n",
    "\n",
    "    test_breed_category['condition'].fillna(test_breed_condition_value, inplace=True)\n",
    "    test_pet_category['condition'].fillna(test_pet_condition_value, inplace=True)\n",
    "\n",
    "\n",
    "    traget_encoding_cols = ['pet_sale_id', 'color_type']\n",
    "\n",
    "    for items in traget_encoding_cols:\n",
    "\n",
    "        # Initialize the TargetEncoder for pet_sale_id\n",
    "        encoder_breed = ce.TargetEncoder(cols=[items])\n",
    "        encoder_pet = ce.TargetEncoder(cols=[items])\n",
    "\n",
    "        # Fit the encoder on the data (pet_sale_id) and target (breed_category)\n",
    "        encoder_breed.fit(train_breed_category[items], train_breed_category['breed_category'])\n",
    "        encoder_pet.fit(train_pet_category[items], train_pet_category['pet_category'])\n",
    "        \n",
    "\n",
    "        # Transform the 'pet_sale_id' column to target-encoded values\n",
    "        train_breed_category[items] = encoder_breed.transform(train_breed_category[items])\n",
    "        test_breed_category[items] = encoder_breed.transform(test_breed_category[items])\n",
    "\n",
    "        train_pet_category[items] = encoder_pet.transform(train_pet_category[items])\n",
    "        test_pet_category[items] = encoder_pet.transform(test_pet_category[items])\n",
    "\n",
    "\n",
    "\n",
    "    # Perform one-hot encoding\n",
    "    train_breed = pd.get_dummies(train_breed_category, columns=['condition'], prefix=['condition'])\n",
    "    test_breed = pd.get_dummies(test_breed_category, columns=['condition'], prefix=['condition'])\n",
    "    train_pet = pd.get_dummies(train_pet_category, columns=['condition'], prefix=['condition'])\n",
    "    test_pet = pd.get_dummies(test_pet_category, columns=['condition'], prefix=['condition'])\n",
    "    \n",
    "\n",
    "\n",
    "    return train_breed,test_breed,train_pet,test_pet\n",
    "\n",
    "\n",
    "train_breed,test_breed,train_pet,test_pet = data_transformation()\n",
    "\n"
   ]
  },
  {
   "cell_type": "code",
   "execution_count": 2149,
   "metadata": {},
   "outputs": [
    {
     "data": {
      "text/plain": [
       "Index(['pet_sale_id', 'color_type', 'length(m)', 'height(cm)', 'X1', 'X2',\n",
       "       'breed_category', 'condition_0.0', 'condition_1.0', 'condition_2.0'],\n",
       "      dtype='object')"
      ]
     },
     "execution_count": 2149,
     "metadata": {},
     "output_type": "execute_result"
    }
   ],
   "source": [
    "train_breed.columns"
   ]
  },
  {
   "cell_type": "code",
   "execution_count": 2179,
   "metadata": {},
   "outputs": [],
   "source": [
    "def get_variable_name(variable):\n",
    "    for name in globals():\n",
    "        if id(globals()[name]) == id(variable):\n",
    "            return name\n",
    "    for name in locals():\n",
    "        if id(locals()[name]) == id(variable):\n",
    "            return name\n",
    "    return None"
   ]
  },
  {
   "cell_type": "markdown",
   "metadata": {},
   "source": [
    "## Model building (Breed Category/Pet Category)"
   ]
  },
  {
   "cell_type": "code",
   "execution_count": 2162,
   "metadata": {},
   "outputs": [],
   "source": [
    "X_breed = train_breed[['pet_sale_id', 'color_type', 'length(m)', 'height(cm)', 'X1', 'X2','condition_0.0', 'condition_1.0', 'condition_2.0']]\n",
    "y_breed = train_breed['breed_category']\n",
    "\n",
    "X_pet = train_pet[['pet_sale_id', 'color_type', 'length(m)', 'height(cm)', 'X1', 'X2','condition_0.0', 'condition_1.0', 'condition_2.0']]\n",
    "y_pet = train_pet['pet_category']\n"
   ]
  },
  {
   "cell_type": "code",
   "execution_count": 2182,
   "metadata": {},
   "outputs": [
    {
     "name": "stdout",
     "output_type": "stream",
     "text": [
      "X_breed\n",
      "Shape of the Training and Test Data\n",
      "(9373, 9) (4618, 9)\n",
      "(9373,) (4618,)\n",
      "---------------------------\n",
      "Shape of the SCALED Training and Test Data\n",
      "(9373, 9) (4618, 9)\n",
      "(9373,) (4618,)\n",
      "---------------------------\n",
      "\n",
      "Accuracy: 1.0\n",
      "Classification Report:\n",
      "               precision    recall  f1-score   support\n",
      "\n",
      "           0       1.00      1.00      1.00      2212\n",
      "           1       1.00      1.00      1.00      2086\n",
      "           2       1.00      1.00      1.00       320\n",
      "\n",
      "    accuracy                           1.00      4618\n",
      "   macro avg       1.00      1.00      1.00      4618\n",
      "weighted avg       1.00      1.00      1.00      4618\n",
      "\n",
      "X_pet\n",
      "Shape of the Training and Test Data\n",
      "(9373, 9) (4618, 9)\n",
      "(9373,) (4618,)\n",
      "---------------------------\n",
      "Shape of the SCALED Training and Test Data\n",
      "(9373, 9) (4618, 9)\n",
      "(9373,) (4618,)\n",
      "---------------------------\n",
      "\n",
      "Accuracy: 0.9997834560415765\n",
      "Classification Report:\n",
      "               precision    recall  f1-score   support\n",
      "\n",
      "           0       1.00      1.00      1.00        13\n",
      "           1       1.00      1.00      1.00      1723\n",
      "           2       1.00      1.00      1.00      2620\n",
      "           3       0.00      0.00      0.00         1\n",
      "           4       1.00      1.00      1.00       261\n",
      "\n",
      "    accuracy                           1.00      4618\n",
      "   macro avg       0.80      0.80      0.80      4618\n",
      "weighted avg       1.00      1.00      1.00      4618\n",
      "\n"
     ]
    }
   ],
   "source": [
    "X = [X_breed, X_pet]\n",
    "y = [y_breed, y_pet]\n",
    "\n",
    "def model_building(X,y):\n",
    "\n",
    "\n",
    "    for input, target in zip(X,y):\n",
    "\n",
    "        print(get_variable_name(input))\n",
    "        \n",
    "        X_train, X_test, y_train, y_test = train_test_split(input, target, test_size=0.33, random_state=42)\n",
    "\n",
    "\n",
    "        print('Shape of the Training and Test Data')\n",
    "        print(X_train.shape, X_test.shape)\n",
    "        print(y_train.shape,y_test.shape)\n",
    "        print(\"---------------------------\")\n",
    "        \n",
    "\n",
    "        scaler = StandardScaler()\n",
    "\n",
    "        scaler.fit(X_train)\n",
    "        X_train_scaled = scaler.transform(X_train)\n",
    "        X_test_scaled = scaler.transform(X_test)\n",
    "\n",
    "\n",
    "        print('Shape of the SCALED Training and Test Data')\n",
    "        print(X_train_scaled.shape, X_test_scaled.shape)\n",
    "        print(y_train.shape,y_test.shape)\n",
    "        print(\"---------------------------\\n\")\n",
    "\n",
    "\n",
    "        # Model \n",
    "        # Initialize and train the Random Forest classifier\n",
    "        clf = RandomForestClassifier(n_estimators=100, random_state=42)\n",
    "        clf.fit(X_train_scaled, y_train)\n",
    "\n",
    "        # Make predictions on the test data\n",
    "        y_pred = clf.predict(X_test_scaled)\n",
    "\n",
    "        # Calculate accuracy\n",
    "        accuracy = accuracy_score(y_test, y_pred)\n",
    "        print(\"Accuracy:\", accuracy)\n",
    "\n",
    "        # Print classification report\n",
    "\n",
    "        report = classification_report(y_test, y_pred)\n",
    "        print(\"Classification Report:\\n\", report)\n",
    "\n",
    "\n",
    "model_building(X,y)"
   ]
  },
  {
   "cell_type": "code",
   "execution_count": null,
   "metadata": {},
   "outputs": [],
   "source": []
  }
 ],
 "metadata": {
  "kernelspec": {
   "display_name": "adv_ds",
   "language": "python",
   "name": "python3"
  },
  "language_info": {
   "codemirror_mode": {
    "name": "ipython",
    "version": 3
   },
   "file_extension": ".py",
   "mimetype": "text/x-python",
   "name": "python",
   "nbconvert_exporter": "python",
   "pygments_lexer": "ipython3",
   "version": "3.10.9"
  },
  "orig_nbformat": 4
 },
 "nbformat": 4,
 "nbformat_minor": 2
}
