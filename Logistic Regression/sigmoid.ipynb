{
 "cells": [
  {
   "cell_type": "code",
   "execution_count": 1,
   "metadata": {},
   "outputs": [],
   "source": [
    "import numpy as np"
   ]
  },
  {
   "cell_type": "code",
   "execution_count": 2,
   "metadata": {},
   "outputs": [],
   "source": [
    "def Ver001(x):\n",
    "    return [1/(1 + np.exp(-ele)) for ele in x]\n",
    "\n",
    "def Ver002(x):\n",
    "    return 1 / (1 + (np.exp(-x)))\n",
    "\n",
    "min_limit = 709\n",
    "def Ver003(x):\n",
    "    return 1 / (1 + np.exp(-(np.clip(x,-min_limit,None))))"
   ]
  },
  {
   "cell_type": "code",
   "execution_count": 5,
   "metadata": {},
   "outputs": [
    {
     "data": {
      "text/plain": [
       "[0.7310585786300049]"
      ]
     },
     "execution_count": 5,
     "metadata": {},
     "output_type": "execute_result"
    }
   ],
   "source": [
    "Ver001([1])"
   ]
  },
  {
   "cell_type": "code",
   "execution_count": 8,
   "metadata": {},
   "outputs": [
    {
     "data": {
      "text/plain": [
       "0.7310585786300049"
      ]
     },
     "execution_count": 8,
     "metadata": {},
     "output_type": "execute_result"
    }
   ],
   "source": [
    "Ver002(1)"
   ]
  },
  {
   "cell_type": "code",
   "execution_count": 7,
   "metadata": {},
   "outputs": [
    {
     "data": {
      "text/plain": [
       "array([0.73105858])"
      ]
     },
     "execution_count": 7,
     "metadata": {},
     "output_type": "execute_result"
    }
   ],
   "source": [
    "Ver003([1])"
   ]
  },
  {
   "cell_type": "markdown",
   "metadata": {},
   "source": [
    "Convert a given numpy array to its sigmoid and its associated derivative"
   ]
  },
  {
   "cell_type": "code",
   "execution_count": 24,
   "metadata": {},
   "outputs": [],
   "source": [
    "# input array\n",
    "x = [[3, 1], [0, 4]] \n",
    "\n",
    "#Sample output\n",
    "# [[0.95 0.73]\n",
    "#  [0.5 0.98]] \n",
    "# [[0.05 0.2 ]\n",
    "#  [0.25 0.02]]"
   ]
  },
  {
   "cell_type": "code",
   "execution_count": 25,
   "metadata": {},
   "outputs": [
    {
     "name": "stdout",
     "output_type": "stream",
     "text": [
      "[[0.95 0.73]\n",
      " [0.5  0.98]]\n",
      "[[0.05 0.2 ]\n",
      " [0.25 0.02]]\n"
     ]
    }
   ],
   "source": [
    "import numpy as np\n",
    "import warnings as war\n",
    "war.filterwarnings('ignore')\n",
    "\n",
    "def sigmoid(x):\n",
    "    '''x is a list\n",
    "       Output -> Two numpy arrays are expected to be returned both with the same dimensions as of x'''\n",
    "    \n",
    "    x = np.asarray(x)\n",
    "\n",
    "    sigmoid  = 1 / (1 + (np.exp(-x)))\n",
    "    sigmoid_dev = sigmoid * (1 - sigmoid)\n",
    "    print(sigmoid.round(2))\n",
    "    print(sigmoid_dev.round(2))\n",
    "           \n",
    "#Driver function\n",
    "sigmoid(x)"
   ]
  },
  {
   "cell_type": "markdown",
   "metadata": {},
   "source": [
    "Q) Log loss and derivative"
   ]
  },
  {
   "cell_type": "code",
   "execution_count": 26,
   "metadata": {},
   "outputs": [],
   "source": [
    "# input\n",
    "z = [3.11, 0.08, 0.76, 5.98, 3.05, 0.12, 8.99, 1.69, 1.75, 1.54] \n",
    "y_true = [1, 0, 1, 0, 0, 0, 1, 1, 0, 1]  \n",
    "x = [[11, 22], [39, 0], [33, 39], [1, 28], [9, 24], [19, 14], [6, 7], [28, 3], [4, 17], [35, 15]]"
   ]
  },
  {
   "cell_type": "code",
   "execution_count": 54,
   "metadata": {},
   "outputs": [
    {
     "data": {
      "text/plain": [
       "(array([0.04, 0.73, 0.38, 5.98, 3.1 , 0.75, 0.  , 0.17, 1.91, 0.19]),\n",
       " array([ -0.47,  20.28, -10.52,   1.  ,   8.59,  10.07,  -0.  ,  -4.36,\n",
       "          3.41,  -6.18]))"
      ]
     },
     "execution_count": 54,
     "metadata": {},
     "output_type": "execute_result"
    }
   ],
   "source": [
    "import numpy as np\n",
    "def logloss(z, y_true, x):\n",
    "    '''z, y_true and x are lists\n",
    "       output -> Two numpy arrays are expected to be returned'''\n",
    "    \n",
    "    z = np.asarray(z)\n",
    "    y_true = np.asarray(y_true)\n",
    "    x = np.asarray(x)\n",
    "    \n",
    "    # YOUR CODE GOES HERE\n",
    "\n",
    "    y_hat = 1 / (1 + (np.exp(-z)))\n",
    "    #y_hat = y_hat.round(2)\n",
    "\n",
    "    logloss = (-1 * y_true * np.log(y_hat)) - ((1 - y_true) * np.log(1 - y_hat))\n",
    "    logloss = logloss.round(2)\n",
    "    \n",
    "    logloss_dev = (y_hat - y_true) * [x[0] for x in x]\n",
    "    logloss_dev = logloss_dev.round(2)\n",
    "\n",
    "    return logloss,logloss_dev\n",
    "\n",
    "\n",
    "\n",
    "logloss(z, y_true, x)"
   ]
  },
  {
   "cell_type": "code",
   "execution_count": 53,
   "metadata": {},
   "outputs": [
    {
     "data": {
      "text/plain": [
       "[11, 39, 33, 1, 9, 19, 6, 28, 4, 35]"
      ]
     },
     "execution_count": 53,
     "metadata": {},
     "output_type": "execute_result"
    }
   ],
   "source": [
    "[x[0] for x in x]"
   ]
  },
  {
   "cell_type": "code",
   "execution_count": 55,
   "metadata": {},
   "outputs": [
    {
     "ename": "TypeError",
     "evalue": "list indices must be integers or slices, not tuple",
     "output_type": "error",
     "traceback": [
      "\u001b[1;31m---------------------------------------------------------------------------\u001b[0m",
      "\u001b[1;31mTypeError\u001b[0m                                 Traceback (most recent call last)",
      "\u001b[1;32m<ipython-input-55-879a04ce8a40>\u001b[0m in \u001b[0;36m<module>\u001b[1;34m\u001b[0m\n\u001b[1;32m----> 1\u001b[1;33m \u001b[0mx\u001b[0m\u001b[1;33m[\u001b[0m\u001b[1;33m:\u001b[0m\u001b[1;33m,\u001b[0m\u001b[1;36m0\u001b[0m\u001b[1;33m]\u001b[0m\u001b[1;33m\u001b[0m\u001b[1;33m\u001b[0m\u001b[0m\n\u001b[0m",
      "\u001b[1;31mTypeError\u001b[0m: list indices must be integers or slices, not tuple"
     ]
    }
   ],
   "source": [
    "x[:,0]"
   ]
  },
  {
   "cell_type": "code",
   "execution_count": null,
   "metadata": {},
   "outputs": [],
   "source": []
  }
 ],
 "metadata": {
  "kernelspec": {
   "display_name": "Python 3.8.8 ('base')",
   "language": "python",
   "name": "python3"
  },
  "language_info": {
   "codemirror_mode": {
    "name": "ipython",
    "version": 3
   },
   "file_extension": ".py",
   "mimetype": "text/x-python",
   "name": "python",
   "nbconvert_exporter": "python",
   "pygments_lexer": "ipython3",
   "version": "3.8.8"
  },
  "orig_nbformat": 4,
  "vscode": {
   "interpreter": {
    "hash": "1e287c795756e004cbc239a0cd2370360bfb1c5c74b3b718d3796ac64793fd0d"
   }
  }
 },
 "nbformat": 4,
 "nbformat_minor": 2
}
