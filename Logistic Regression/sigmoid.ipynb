{
 "cells": [
  {
   "cell_type": "code",
   "execution_count": 1,
   "metadata": {},
   "outputs": [],
   "source": [
    "import numpy as np"
   ]
  },
  {
   "cell_type": "code",
   "execution_count": 2,
   "metadata": {},
   "outputs": [],
   "source": [
    "def Ver001(x):\n",
    "    return [1/(1 + np.exp(-ele)) for ele in x]\n",
    "\n",
    "def Ver002(x):\n",
    "    return 1 / (1 + (np.exp(-x)))\n",
    "\n",
    "min_limit = 709\n",
    "def Ver003(x):\n",
    "    return 1 / (1 + np.exp(-(np.clip(x,-min_limit,None))))"
   ]
  },
  {
   "cell_type": "code",
   "execution_count": 5,
   "metadata": {},
   "outputs": [
    {
     "data": {
      "text/plain": [
       "[0.7310585786300049]"
      ]
     },
     "execution_count": 5,
     "metadata": {},
     "output_type": "execute_result"
    }
   ],
   "source": [
    "Ver001([1])"
   ]
  },
  {
   "cell_type": "code",
   "execution_count": 8,
   "metadata": {},
   "outputs": [
    {
     "data": {
      "text/plain": [
       "0.7310585786300049"
      ]
     },
     "execution_count": 8,
     "metadata": {},
     "output_type": "execute_result"
    }
   ],
   "source": [
    "Ver002(1)"
   ]
  },
  {
   "cell_type": "code",
   "execution_count": 7,
   "metadata": {},
   "outputs": [
    {
     "data": {
      "text/plain": [
       "array([0.73105858])"
      ]
     },
     "execution_count": 7,
     "metadata": {},
     "output_type": "execute_result"
    }
   ],
   "source": [
    "Ver003([1])"
   ]
  },
  {
   "cell_type": "markdown",
   "metadata": {},
   "source": [
    "Convert a given numpy array to its sigmoid and its associated derivative"
   ]
  },
  {
   "cell_type": "code",
   "execution_count": 2,
   "metadata": {},
   "outputs": [],
   "source": [
    "# input array\n",
    "x = [[3, 1], [0, 4]] \n",
    "\n",
    "#Sample output\n",
    "# [[0.95 0.73]\n",
    "#  [0.5 0.98]] \n",
    "# [[0.05 0.2 ]\n",
    "#  [0.25 0.02]]"
   ]
  },
  {
   "cell_type": "code",
   "execution_count": 15,
   "metadata": {},
   "outputs": [
    {
     "name": "stdout",
     "output_type": "stream",
     "text": [
      "[[0.95 0.73]\n",
      " [0.5  0.98]]\n",
      "[[0.05 0.2 ]\n",
      " [0.25 0.02]]\n"
     ]
    }
   ],
   "source": [
    "import numpy as np\n",
    "\n",
    "def sigmoid(x):\n",
    "    '''x is a list\n",
    "       Output -> Two numpy arrays are expected to be returned both with the same dimensions as of x'''\n",
    "    \n",
    "    x = np.asarray(x)\n",
    "\n",
    "    sigmoid  = 1 / (1 + (np.exp(-x)))\n",
    "    sigmoid_dev = sigmoid * (1 - sigmoid)\n",
    "    print(sigmoid.round(2))\n",
    "    print(sigmoid_dev.round(2))\n",
    "           \n",
    "#Driver function\n",
    "sigmoid(x)"
   ]
  },
  {
   "cell_type": "code",
   "execution_count": null,
   "metadata": {},
   "outputs": [],
   "source": []
  }
 ],
 "metadata": {
  "kernelspec": {
   "display_name": "Python 3.8.8 ('base')",
   "language": "python",
   "name": "python3"
  },
  "language_info": {
   "codemirror_mode": {
    "name": "ipython",
    "version": 3
   },
   "file_extension": ".py",
   "mimetype": "text/x-python",
   "name": "python",
   "nbconvert_exporter": "python",
   "pygments_lexer": "ipython3",
   "version": "3.8.8"
  },
  "orig_nbformat": 4,
  "vscode": {
   "interpreter": {
    "hash": "1e287c795756e004cbc239a0cd2370360bfb1c5c74b3b718d3796ac64793fd0d"
   }
  }
 },
 "nbformat": 4,
 "nbformat_minor": 2
}
